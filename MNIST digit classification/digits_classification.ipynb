{
 "cells": [
  {
   "cell_type": "markdown",
   "metadata": {
    "slideshow": {
     "slide_type": "slide"
    }
   },
   "source": [
    "# MNIST digits classification with TensorFlow"
   ]
  },
  {
   "cell_type": "markdown",
   "metadata": {},
   "source": [
    "<img src=\"images/mnist_sample.png\" style=\"width:30%\">"
   ]
  },
  {
   "cell_type": "code",
   "execution_count": 1,
   "metadata": {},
   "outputs": [
    {
     "name": "stdout",
     "output_type": "stream",
     "text": [
      "WARNING:tensorflow:From C:\\ProgramData\\Anaconda3\\lib\\site-packages\\tensorflow_core\\python\\compat\\v2_compat.py:88: disable_resource_variables (from tensorflow.python.ops.variable_scope) is deprecated and will be removed in a future version.\n",
      "Instructions for updating:\n",
      "non-resource variables are not supported in the long term\n",
      "We're using TF 2.1.0\n"
     ]
    }
   ],
   "source": [
    "import numpy as np\n",
    "from sklearn.metrics import accuracy_score\n",
    "from matplotlib import pyplot as plt\n",
    "%matplotlib inline\n",
    "import tensorflow.compat.v1 as tf\n",
    "tf.disable_v2_behavior()\n",
    "print(\"We're using TF\", tf.__version__)"
   ]
  },
  {
   "cell_type": "code",
   "execution_count": 13,
   "metadata": {},
   "outputs": [],
   "source": [
    "from Utils import matplotlib_utils\n",
    "from importlib import reload\n",
    "reload(matplotlib_utils)\n",
    "\n",
    "from Utils.keras_utils import reset_tf_session"
   ]
  },
  {
   "cell_type": "markdown",
   "metadata": {},
   "source": [
    "# Look at the data\n",
    "\n",
    "In this task we have 50000 28x28 images of digits from 0 to 9.\n",
    "We will train a classifier on this data."
   ]
  },
  {
   "cell_type": "code",
   "execution_count": 3,
   "metadata": {},
   "outputs": [
    {
     "name": "stderr",
     "output_type": "stream",
     "text": [
      "Using TensorFlow backend.\n"
     ]
    },
    {
     "name": "stdout",
     "output_type": "stream",
     "text": [
      "(60000, 28, 28) (10000, 28, 28) (60000,) (10000,)\n"
     ]
    }
   ],
   "source": [
    "from Utils import preprocessed_mnist\n",
    "X_train, y_train, X_val, y_val, X_test, y_test = preprocessed_mnist.laod_dataset()"
   ]
  },
  {
   "cell_type": "code",
   "execution_count": 4,
   "metadata": {},
   "outputs": [
    {
     "name": "stdout",
     "output_type": "stream",
     "text": [
      "X_train [shape (50000, 28, 28)] sample patch:\n",
      " [[0.         0.29803922 0.96470588 0.98823529 0.43921569]\n",
      " [0.         0.33333333 0.98823529 0.90196078 0.09803922]\n",
      " [0.         0.33333333 0.98823529 0.8745098  0.        ]\n",
      " [0.         0.33333333 0.98823529 0.56862745 0.        ]\n",
      " [0.         0.3372549  0.99215686 0.88235294 0.        ]]\n",
      "A closeup of a sample patch:\n"
     ]
    },
    {
     "data": {
      "image/png": "[encoded data removed]",
      "text/plain": [
       "<Figure size 432x288 with 1 Axes>"
      ]
     },
     "metadata": {
      "needs_background": "light"
     },
     "output_type": "display_data"
    },
    {
     "name": "stdout",
     "output_type": "stream",
     "text": [
      "And the whole sample:\n"
     ]
    },
    {
     "data": {
      "image/png": "[encoded data removed]",
      "text/plain": [
       "<Figure size 432x288 with 1 Axes>"
      ]
     },
     "metadata": {
      "needs_background": "light"
     },
     "output_type": "display_data"
    },
    {
     "name": "stdout",
     "output_type": "stream",
     "text": [
      "y_train [shape (50000,)] 10 samples:\n",
      " [5 0 4 1 9 2 1 3 1 4]\n"
     ]
    }
   ],
   "source": [
    "# X contains rgb values divided by 255\n",
    "print(\"X_train [shape %s] sample patch:\\n\" % (str(X_train.shape)), X_train[1, 15:20, 5:10])\n",
    "print(\"A closeup of a sample patch:\")\n",
    "plt.imshow(X_train[1, 15:20, 5:10], cmap=\"Greys\")\n",
    "plt.show()\n",
    "print(\"And the whole sample:\")\n",
    "plt.imshow(X_train[1], cmap=\"Greys\")\n",
    "plt.show()\n",
    "print(\"y_train [shape %s] 10 samples:\\n\" % (str(y_train.shape)), y_train[:10])"
   ]
  },
  {
   "cell_type": "markdown",
   "metadata": {},
   "source": [
    "# Linear model\n",
    "\n",
    "Our task is to train a linear classifier $\\vec{x} \\rightarrow y$ with SGD using TensorFlow.\n",
    "\n",
    "We will need to calculate a logit (a linear transformation) $z_k$ for each class: \n",
    "$$z_k = \\vec{x} \\cdot \\vec{w_k} + b_k \\quad k = 0..9$$\n",
    "\n",
    "And transform logits $z_k$ to valid probabilities $p_k$ with softmax: \n",
    "$$p_k = \\frac{e^{z_k}}{\\sum_{i=0}^{9}{e^{z_i}}} \\quad k = 0..9$$\n",
    "\n",
    "We will use a cross-entropy loss to train our multi-class classifier:\n",
    "$$\\text{cross-entropy}(y, p) = -\\sum_{k=0}^{9}{\\log(p_k)[y = k]}$$ \n",
    "\n",
    "where \n",
    "$$\n",
    "[x]=\\begin{cases}\n",
    "       1, \\quad \\text{if $x$ is true} \\\\\n",
    "       0, \\quad \\text{otherwise}\n",
    "    \\end{cases}\n",
    "$$\n",
    "\n",
    "Cross-entropy minimization pushes $p_k$ close to 1 when $y = k$, which is what we want.\n",
    "\n",
    "Here's the plan:\n",
    "* Flatten the images (28x28 -> 784) with `X_train.reshape((X_train.shape[0], -1))` to simplify our linear model implementation\n",
    "* Use a matrix placeholder for flattened `X_train`\n",
    "* Convert `y_train` to one-hot encoded vectors that are needed for cross-entropy\n",
    "* Use a shared variable `W` for all weights (a column $\\vec{w_k}$ per class) and `b` for all biases.\n",
    "* Aim for ~0.93 validation accuracy"
   ]
  },
  {
   "cell_type": "code",
   "execution_count": 5,
   "metadata": {},
   "outputs": [
    {
     "name": "stdout",
     "output_type": "stream",
     "text": [
      "(50000, 784)\n",
      "(10000, 784)\n"
     ]
    }
   ],
   "source": [
    "X_train_flat = X_train.reshape((X_train.shape[0], -1))\n",
    "print(X_train_flat.shape)\n",
    "\n",
    "X_val_flat = X_val.reshape((X_val.shape[0], -1))\n",
    "print(X_val_flat.shape)"
   ]
  },
  {
   "cell_type": "code",
   "execution_count": 6,
   "metadata": {},
   "outputs": [
    {
     "name": "stdout",
     "output_type": "stream",
     "text": [
      "(50000, 10)\n",
      "[[0. 0. 0. 0. 0. 1. 0. 0. 0. 0.]\n",
      " [1. 0. 0. 0. 0. 0. 0. 0. 0. 0.]\n",
      " [0. 0. 0. 0. 1. 0. 0. 0. 0. 0.]] [5 0 4]\n"
     ]
    }
   ],
   "source": [
    "import keras\n",
    "\n",
    "y_train_oh = keras.utils.to_categorical(y_train, 10)\n",
    "y_val_oh = keras.utils.to_categorical(y_val, 10)\n",
    "\n",
    "print(y_train_oh.shape)\n",
    "print(y_train_oh[:3], y_train[:3])"
   ]
  },
  {
   "cell_type": "code",
   "execution_count": 7,
   "metadata": {},
   "outputs": [
    {
     "name": "stdout",
     "output_type": "stream",
     "text": [
      "WARNING:tensorflow:From C:\\Users\\MRUTYUNJAY BISWAL\\Desktop\\ML Opensource\\machine-learning-projects\\MNIST digit classification\\Utils\\keras_utils.py:21: The name tf.keras.backend.set_session is deprecated. Please use tf.compat.v1.keras.backend.set_session instead.\n",
      "\n"
     ]
    }
   ],
   "source": [
    "# run this again if you remake your graph\n",
    "s = reset_tf_session()"
   ]
  },
  {
   "cell_type": "code",
   "execution_count": 8,
   "metadata": {},
   "outputs": [],
   "source": [
    "# Model parameters: W and b\n",
    "W = tf.get_variable(name='W', shape=(X_train_flat.shape[1], y_train_oh.shape[1]), dtype=tf.float32)### YOUR CODE HERE ### tf.get_variable(...) with shape[0] = 784\n",
    "b = tf.get_variable(name='b', shape=(y_train_oh.shape[1], ), dtype=tf.float32)### YOUR CODE HERE ### tf.get_variable(...)"
   ]
  },
  {
   "cell_type": "code",
   "execution_count": 9,
   "metadata": {},
   "outputs": [],
   "source": [
    "# Placeholders for the input data\n",
    "input_X = tf.placeholder('float32', shape=(None, X_train_flat.shape[1]), name='input_x')### YOUR CODE HERE ### tf.placeholder(...) for flat X with shape[0] = None for any batch size\n",
    "input_y = tf.placeholder('float32', shape=(None, y_train_oh.shape[1]), name='input_y')### YOUR CODE HERE ### tf.placeholder(...) for one-hot encoded true labels"
   ]
  },
  {
   "cell_type": "code",
   "execution_count": 10,
   "metadata": {},
   "outputs": [
    {
     "name": "stdout",
     "output_type": "stream",
     "text": [
      "WARNING:tensorflow:From <ipython-input-10-3c1e0d9d706a>:9: softmax_cross_entropy_with_logits (from tensorflow.python.ops.nn_ops) is deprecated and will be removed in a future version.\n",
      "Instructions for updating:\n",
      "\n",
      "Future major versions of TensorFlow will allow gradients to flow\n",
      "into the labels input on backprop by default.\n",
      "\n",
      "See `tf.nn.softmax_cross_entropy_with_logits_v2`.\n",
      "\n"
     ]
    }
   ],
   "source": [
    "# Compute predictions\n",
    "logits = input_X @ W + b### YOUR CODE HERE ### logits for input_X, resulting shape should be [input_X.shape[0], 10]\n",
    "probas = tf.nn.softmax(logits)### YOUR CODE HERE ### apply tf.nn.softmax to logits\n",
    "classes = tf.argmax(probas, 1)### YOUR CODE HERE ### apply tf.argmax to find a class index with highest probability\n",
    "\n",
    "# Loss should be a scalar number: average loss over all the objects with tf.reduce_mean().\n",
    "# Use tf.nn.softmax_cross_entropy_with_logits on top of one-hot encoded input_y and logits.\n",
    "# It is identical to calculating cross-entropy on top of probas, but is more numerically friendly (read the docs).\n",
    "loss = tf.reduce_mean(tf.nn.softmax_cross_entropy_with_logits(labels=input_y, logits=logits))### YOUR CODE HERE ### cross-entropy loss\n",
    "\n",
    "# Use a default tf.train.AdamOptimizer to get an SGD step\n",
    "step = tf.train.AdamOptimizer(learning_rate=0.01).minimize(loss)### YOUR CODE HERE ### optimizer step that minimizes the loss"
   ]
  },
  {
   "cell_type": "code",
   "execution_count": 11,
   "metadata": {},
   "outputs": [
    {
     "name": "stdout",
     "output_type": "stream",
     "text": [
      "(?, 10)\n"
     ]
    }
   ],
   "source": [
    "print(logits.shape)"
   ]
  },
  {
   "cell_type": "code",
   "execution_count": 14,
   "metadata": {
    "scrolled": false
   },
   "outputs": [
    {
     "data": {
      "text/html": [
       "<img src=\"data:image/png;base64,iVBORw0KGgoAAAANSUhEUgAAA2AAAAEgCAYAAADSVRDhAAAABHNCSVQICAgIfAhkiAAAAAlwSFlzAAALEgAACxIB0t1%2B/AAAADh0RVh0U29mdHdhcmUAbWF0cGxvdGxpYiB2ZXJzaW9uMy4xLjIsIGh0dHA6Ly9tYXRwbG90bGliLm9yZy8li6FKAAAgAElEQVR4nOzdeVhV1frA8e%2BRAyKjMgmIioo5gAKCU86as9ccuEqaEw7ZcFPr3rS8lVam3fJXNy1NU0xN0SwyDU0TLW%2BDiDkhDmiAgIKAgoKADOv3x4mtxCCmggffz/Ps5wx77b3XOug55z1rrXfplFIKIYQQQgghhBD3Xa3qroAQQgghhBBCPCwkABNCCCGEEEKIKiIBmBBCCCGEEEJUEQnAhBBCCCGEEKKKSAAmhBBCCCGEEFVEAjAhhBBCCCGEqCISgAkhhBBCCCFEFZEATAghhBBCCCGqiARgQgghhBBCCFFFJAATQgghhBBCiCoiAZgQQgghhBBCVBEJwIQQQgghhBCiikgAJoQQQgghhBBVRAIwIYQQQgghhKgiEoAJIYQQQgghRBWRAEwIIYQQQgghqogEYEIIIYQQQghRRSQAE0IIIYQQQogqIgGYEEIIIYQQQlQRCcCEEHdMp9Nx9uzZ6q6GEEIIIYTRkQBMiAdMQUFBdVfhrtWENgghhDFSSlFUVFTd1RBCVEACMCGqUEJCAiNGjMDR0RF7e3uee%2B451qxZQ5cuXZg1axZ2dnbMmzePoqIi3nrrLRo3boyTkxPjx48nMzMTgNzcXJ588kns7e2pW7cu7du3JyUlBYA1a9bQtGlTrK2tadKkCZ9//nm5dTl16hR9%2B/bFzs6OFi1asHnzZm3fxIkTefbZZxk8eDDW1tZ07NiRc%2BfOAdC9e3cAvL29sbKyYtOmTezbtw83NzfeeecdnJ2dmTRpEgArV67Ew8MDOzs7hg4dyoULF7Rr6HQ6PvzwQ5o2bYqDgwP/%2Bte/KCoqIi8vDzs7O44fP66VvXTpEnXq1CE1NfUe/SWEEOL%2BWrRoEc2aNcPa2prWrVsTGhqq7Vu5ciWtWrXS9v32229A2Z8RAPPmzePJJ5/Ujo%2BLi0On02k/dvXs2ZO5c%2BfSpUsXLCws%2BP333wkODtau0bRpUz755JMS9du6dSs%2BPj7Y2NjQrFkzdu7cyRdffIGfn1%2BJcosXL2bYsGH35TUS4qGlhBBVoqCgQLVt21bNnDlTZWVlqZycHLV//34VHBysTExM1Icffqjy8/PV9evX1apVq1SzZs3UuXPn1LVr19Tw4cPVk08%2BqZRSavny5WrIkCEqOztbFRQUqMjISJWZmamysrKUtbW1OnXqlFJKqQsXLqioqKgy65KVlaXc3NzU6tWrVX5%2Bvjp06JCyt7fXyk%2BYMEHVq1dPHThwQOXn56sxY8ao0aNHa8cDKiYmRnu8d%2B9eZWJiol566SWVm5urrl%2B/rvbs2aPs7e3VoUOHVG5urnruuedUt27dSpyjZ8%2BeKj09XcXHx6vmzZurlStXKqWUevrpp9VLL72klf3ggw/UkCFD7tFfQggh7r/NmzerpKQkVVhYqEJCQpSFhYW6cOGC2rx5s3J1dVURERGqqKhIxcTEqLi4uHI/I5RS6vXXX1djx47Vzh0bG6sAlZ%2Bfr5RSqkePHqphw4YqKipK5efnqxs3bqjt27ers2fPqqKiIrVv3z5Vp04ddejQIaWUUgcOHFA2NjZq165dqrCwUCUmJqqTJ0%2Bq3NxcVa9ePRUdHa1dy8fHR23ZsqUKXzkhaj4JwISoIj///LNycHDQPjCLBQcHq4YNG5Z4rnfv3uqjjz7SHp86dUrp9XqVn5%2BvVq1apTp37qyOHj1a4pisrCxla2urtmzZoq5fv15hXUJCQlTXrl1LPDdt2jQ1b948pZQhAJs8ebK279tvv1UtWrTQHpcVgJmamqqcnBztuaCgIPWvf/1Le3zt2jWl1%2BtVbGysdo4dO3Zo%2Bz/66CPVu3dvpZRSv/76q3Jzc1OFhYVKKaX8/PzUpk2bKmyTEEI8yLy9vdXXX3%2Bt%2BvXrpz744INS%2B8v7jFCqcgHYq6%2B%2BWuH1H3/8ce2606ZNUzNnziyz3PTp09Urr7yilFIqKipK1a1bV%2BXm5laukUKISpEhiEJUkYSEBBo3boxery%2B1r2HDhiUeX7hwgcaNG2uPGzduTEFBASkpKYwbN47%2B/fsTGBiIq6srL730Evn5%2BVhaWrJp0yaWL1%2BOi4sLgwcP5tSpUwB4enpiZWWFlZUV%2B/fvJz4%2BngMHDlC3bl1t%2B/zzz0lOTtau6ezsrN23sLAgKyurwvY5Ojpibm5ebhusrKywt7cnKSmpzHY3btxYG6LYsWNHLC0t%2BeGHHzh16hRnz55l6NChFV5fCCEeJGvXrsXHx0d7j42KiiItLY2EhASaNWtWqnxFnxGV8efPkR07dtCpUyfs7OyoW7cuYWFhpKWladcqqw4AEyZMYMOGDSilWLduHaNGjaJ27dp/qU5CiLJJACZEFWnYsCHnz58vM0GFTqcr8djV1ZX4%2BHjt8fnz59Hr9dSvXx9TU1Nef/11oqOj%2Bfnnn9m%2BfTtr164FoH///uzevZuLFy/SsmVLpk6dCsCJEyfIysoiKyuLbt260bBhQ3r06EFGRoa2ZWVlsWzZsr/cvtu1ITs7m/T0dBo0aKA9l5CQUKKNrq6u2uMJEyawfv161q1bR0BAQIngTgghHmTx8fFMnTqVpUuXkp6eTkZGBl5eXiilaNiwoTan9lYVfUZYWlpy/fp17fGtP5YVu/U9OC8vj5EjR/LPf/6TlJQUMjIyGDRoEEop7Vpl1QGgU6dOmJmZsX//fjZs2MC4cePuuP1CiIpJACZEFenQoQMuLi7MmTOH7OxscnNz%2Bemnn8os%2B8QTT/D%2B%2B%2B8TGxtLVlYWr7zyCqNHj0av17N3716OHz9OYWEhNjY2mJqaYmJiQkpKCt988w3Z2dnUrl0bKysrTExMyjz/kCFDOHPmDOvWrSM/P5/8/HwOHjzIyZMnK9WW%2BvXr8/vvv1dYZsyYMQQHB3PkyBHy8vJ45ZVX6NixI%2B7u7lqZd999lytXrpCQkMB///tfRo8ere0bN24coaGhrF%2B/nvHjx1eqXkII8SDIzs5Gp9Ph6OgIQHBwMFFRUQBMmTKF9957j0OHDqGU4uzZs8THx1f4GeHj48OPP/7I%2BfPnyczMZOHChRVe/8aNG%2BTl5eHo6Iher2fHjh3s2rVL2z958mSCg4PZs2cPRUVFJCUlaSMmAMaPH89zzz2HXq%2Bna9eu9/rlEeKhJwGYEFXExMSEbdu2cfbsWRo1aoSbmxubNm0qs2xQUBDjxo2je/fuNGnSBHNzc5YsWQIYfvkMCAjAxsaGVq1a0aNHD5588kmKiopYvHgxrq6u2NnZ8cMPP/Dxxx%2BXeX5ra2t27dpFSEgIrq6uODs7M3v2bPLy8irVlnnz5jFhwgTq1q1bInvirfr06cObb77JyJEjcXFx4dy5c4SEhJQo8/jjj%2BPn54ePjw%2BDBw9m8uTJ2j43NzfatWuHTqejW7dulaqXEEI8CFq3bs2LL75I586dqV%2B/PsePH6dLly4A/P3vf2fu3LmMGTMGa2trhg0bxuXLlyv8jOjbty%2BjR4%2Bmbdu2%2BPn5MWTIkAqvb21tzYcffsioUaOoV68eGzZsKDGMu0OHDgQHBzNr1ixsbW3p0aNHiREL48aNIyoqSnq/hLhPdKq4P1oIIaqQTqcjJiYGDw%2BPcssEBQXh6urKW2%2B9VYU1E0KIh1tOTg5OTk789ttvNG/evLqrI0SN89dmegohxH0WFxfHV199xeHDh6u7KkII8VBZtmwZ7du3l%2BBLiPtEAjAhxAPn1Vdf5f333%2Bfll1%2BmSZMm1V0dIYR4aLi7u6OU4uuvv67uqghRY8kQRCGEEEIIIYSoIpKE4y7t3LmTFi1a4OHhwaJFi0rt37dvH7a2tvj4%2BODj48Mbb7xR6WOFEEIIIYQQNYsMQbwLhYWFPPvss%2BzevRs3Nzfat2/P0KFDad26dYly3bp1Y/v27X/pWCGEEEIIIUTNIQHYXYiIiMDDw4OmTZsCEBgYyNatWysVRP3VYx0cHEqsoySEEMYiLi6OtLS06q5GlZL3bCGEMXsY37erggRgdyEpKYmGDRtqj93c3Dhw4ECpcr/88gve3t64urry3nvv4enpWelj/8zd3Z3IyMh70wAhhKhC/v7%2B1V2FKifv2UIIY/Ywvm9XBQnA7kJZ%2BUt0Ol2Jx%2B3atSM%2BPh4rKyvCwsIYNmwYMTExlTq22IoVK1ixYgUAqamp96DmQgghhBBCiOogSTjugpubGwkJCdrjxMREXF1dS5SxsbHBysoKgEGDBpGfn09aWlqlji02bdo0IiMjiYyMxNHR8T60RAghhBBCCFEVJAC7C%2B3btycmJobY2Fhu3LhBSEgIQ4cOLVEmOTlZ6%2B2KiIigqKgIe3v7Sh0rhBBCCCGEqFlkCOJd0Ov1LF26lP79%2B1NYWEhQUBCenp4sX74cgOnTp7NlyxaWLVuGXq%2BnTp06hISEoNPpyj1WPFzy8/NJTEwkNze3uqsixD1jbm6Om5sbpqam1V0VIYQQ4oEjCzEbGX9/f5nQXYPExsZibW2Nvb19uXMAhTAmSinS09O5du0aTZo0KbHvYXz/ehjbLISoOeQ97P6QIYhCVKPc3FwJvkSNotPpsLe3l15dIYQQohwyBNHY3JK4Q9QMEnyJmkb%2BTQshxANCKcjKgsxMuHrVcHvr/dxcKCiA/PzSW0FBdde%2BxpIAzNhcugSFhWBiUt01ETVARkYGGzZs4JlnnrnjYwcNGsSGDRuoW7fuX7r2woULWbVqFSYmJnz44Yf079%2B/VJl//etfbNu2DTMzM5o1a0ZwcDB169YlIiKCadOmAYYhb/PmzWP48OEAbNy4kbfffhudToerqyvr16/HwcGBvLw8xo8fz6FDh7C3t2fTpk24u7uzd%2B9eZs2apV3z1KlThISEMGzYMCZPnkxkZCRKKR555BHWrFmjZTXdt28fM2fOJD8/HwcHB3744QcAgoKC2L59O05OTkRFRWnnHT16NKdPnwYMr3vdunU5cuQIu3fvZs6cOdy4cQMzMzPeffddevfuDcDcuXNZu3YtV65cISsrSztXfHw8QUFBpKamYmdnx/r163FzcwNg9uzZfPvttwC8%2BuqrjB49GoCxY8cSGRmJqakpHTp04JNPPikxR%2BvgwYN06tSJTZs2ERAQAMB///tfVq5ciVKKqVOnMnPmTO28W7dupVatWjg5ObFmzZpys7gKIYS4A4WFhu96ycmGLT3d8J3P1LTs7caNm2UvXix9e/myIQj7q/z87l3bhEbmgBkZf52OyCtX4C9%2B6RUPlpMnT9KqVatqu35cXBxDhgwpESgUKywsxOQ%2BBfrR0dE88cQTREREcOHCBR577DHOnDlT6nq7du2id%2B/e6PV6Zs%2BeDcA777zD9evXMTMzQ6/Xc/HiRby9vblw4QIArq6uREdH4%2BDgwEsvvYSFhQXz5s3j448/5tixYyxfvpyQkBBCQ0PZtGlTietdvnwZDw8PEhMTsbCw4OrVq9jY2ADwwgsv4OTkxJw5c8jIyODRRx9l586dNGrUiEuXLuHk5ATAjz/%2BiJWVFePHjy/zdQV48cUXsbW15bXXXuPw4cPUr18fV1dXoqKi6N%2B/P0lJSQD8%2BuuvNG7cmObNm5cIwP7%2B978zZMgQJkyYQHh4OMHBwaxbt45vv/2WDz74gB07dpCXl0ePHj0IDw/HxsaGsLAwBg4cCMCYMWPo3r07Tz/9NGD4W/ft2xdzc3OCgoIICAggKiqKwMBAIiIiMDMzY8CAASxbtozmzZuXeF0%2B/PBDoqOjteRDxcr6t/0wziV4GNsshChDdnbZAdKfb1NToajo3l7bwgJsbQ2bjU3J%2B%2Bbm5Qd3pqb4b9gg72H3gfSAGaOrVyUAE/fEnDlzOHfuHD4%2BPvTt25fBgwczf/58XFxcOHLkCNHR0QwbNoyEhARyc3OZMWOG1vPk7u5OZGQkWVlZDBw4kK5du/Lzzz/ToEEDtm7dSp06dcq97tatWwkMDKR27do0adIEDw8PIiIi6Ny5c4ly/fr10%2B536tSJLVu2AGBhYaE9n5ubqw15U0qhlCI7Oxt7e3uuXr2Kh4eHds158%2BYBEBAQwHPPPYdSqsRwuS1btjBw4EDt/MVBhlKKnJwcreyGDRsYMWIEjRo1AtCCL4Du3bsTFxdXbtuVUmzevJnw8HAAfH19tX2enp7k5uaSl5dH7dq16dSpU5nniI6O5v333wegV69eDBs2THu%2BR48e6PV69Ho93t7e7Ny5k1GjRjFo0CDt%2BA4dOpCYmKg9XrJkCSNHjuTgwYPacydPnqRTp07aa9GjRw9CQ0N56aWXtNcFIDs7W4YcCiFqJqXgzBk4fx70esNWVqCSlVV%2BL1Tx/Vt%2BRLstR0dwdgYXF7C3NwRkZQ0RzM831MnZ%2BWb5W2%2BdnQ3H301G2g0b/vqxolwSgBmjzMzqroG4H%2B7Xl9gKOrkXLVpEVFQUR44cAQzD6iIiIoiKitIy2K1evRo7OztycnJo3749I0eOxN7evsR5YmJi2LhxIytXrmTUqFF8%2BeWXPPnkkyWWZLhVUlJSieDCzc1N6/Upz%2BrVq7XhdAAHDhwgKCiI%2BPh41q1bh15veDtbtmwZbdq0wdLSkubNm/PRRx9p12zYsCFgWELC1taW9PR0HBwctHOGhITwwgsvlLjupEmTCAsLo3Xr1ixevBiAM2fOkJ%2BfT8%2BePbl27RozZsxg/PjxFda/2P79%2B6lfvz7Nmzcvte/LL7/E19eX2rVrV3gOb29vvvzyS2bMmEFoaCjXrl0jPT0db29v5s%2BfzwsvvMD169fZu3cvrVu3LnFsfn4%2B69at47///a/2uoSGhhIeHl4iAPPy8mLu3Lmkp6dTp04dwsLC8Pf31/YXD4%2B0tbVl7969lWq7EEI80HJzITISfvrJsP38s2EI4L1gbl46OHJxgfr1DbfFm5PT3QVMwihIAGaMrl6t7hqIGqxDhw4l0od/%2BOGHhIaGApCQkEBMTEypAKxJkyb4%2BPgA4Ofnp/UA/TnwKlbWyOeKelEWLFiAXq9n7Nix2nMdO3bkxIkTnDx5kgkTJjBw4EBMTExYtmwZhw8fpmnTpvzjH/9g4cKF/Pvf/77tNS9evMjx48dLzUULDg6msLCQf/zjH2zatIlJkyZRUFDAoUOH2LNnDzk5OXTu3JlOnTrxyCOPlNuGYhs3buSJJ54o9fyJEyeYPXs2u3btuu053nvvPZ577jnWrFlD9%2B7dadCgAXq9nn79%2BnHw4EEeffRRHB0d6dy5sxaYFnvmmWfo3r073bp1A2DmzJm88847pYZ/tmrVitmzZ9O3b1%2BsrKzw9vYuca4FCxawYMECFi5cyNKlS5k/f/5t6y2EENUiJwcyMkonoCi%2Bn5hoCLYOHTL0Kt3K2RlatbrZC1VWwoo6dW4GUGX1RLm4GIb7yWgB8QcJwIyR9IDVTA/IdExLS0vt/r59%2B/j%2B%2B%2B/55ZdfsLCwoGfPnmWmF7%2B1x8bExIScnJwKr%2BHm5kbCLRk9ExMTy03i8Nlnn7F9%2B3b27NlTZpDWqlUrLC0tiYqK0oKsZs2aATBq1CgWLVpU4ppubm4UFBSQmZmJnZ2ddp7NmzczfPjwMhcPNjExYfTo0bz77rtMmjQJNzc3HBwcsLS0xNLSku7du3P06NHbBmAFBQV89dVXHDp0qMTziYmJDB8%2BnLVr12p1r4irqytfffUVAFlZWXz55ZfY2toChp6puXPnAoa5Xrf2tM2fP5/U1FQ%2B%2BeQT7bnIyEgCAwMBSEtLIywsDL1eryUhmTx5MgCvvPKKlujjVmPGjNGGrgohHmK3Jo8oaxjelSs3k0mUNZQP4Pp1w5aTc/N%2B8WZrCy1alN7%2BeO8DDD1Yp05BVNTN7fhxwxDCytDpoE0b6NLFsD36KDRpIoGTuOckADNGEoCJe8Ta2ppr166Vuz8zM5N69ephYWHBqVOn%2BPXXX%2B/JdYcOHcqYMWN44YUXuHDhAjExMXTo0KFUuZ07d/LOO%2B/www8/lJj3FRsbS8OGDdHr9cTHx3P69Gnc3d25ceMG0dHRpKam4ujoyO7du7VEEEOHDuWzzz6jc%2BfObNmyhd69e5cI6DZu3MjChQu1x0opzp07h4eHB0optm3bRsuWLQF4/PHHee655ygoKODGjRscOHCgRCbF8nz//fe0bNmyRCCTkZHB4MGDWbhwIV26dKnU65eWloadnR21atVi4cKFBAUFAYZkGhkZGdjb23Ps2DGOHTumzaP79NNP%2Be6779izZw%2B1at1cAjI2Nla7P3HiRIYMGaLNKStOLnL%2B/Hm%2B%2BuorfvnlF8Aw5LQ4sPvmm2%2B010UI8RApKICICPj%2Be9i9G3799f6nLT9%2BvPRz9etD8%2BaG5BUxMWUnsDA1BTu7spNQ2Noa5kl16ACdOpUM6IS4TyQAM0YyBFHcI/b29nTp0gUvLy8GDhzI4MGDS%2BwfMGAAy5cvp23btrRo0aLcpBDlKW8OmKenJ6NGjaJ169bo9Xo%2B%2BugjbQjclClTmD59Ov7%2B/jz33HPk5eXRt29fwJCIY/ny5fzvf/9j0aJFmJqaUqtWLT7%2B%2BGNtLtfrr79O9%2B7dMTU1pXHjxqxZswaAyZMnM27cODw8PLCzsyMkJESrT1xcHAkJCfTo0UN7TinFhAkTuHr1KkopvL29WbZsGWDodRswYABt27alVq1aTJkyBS8vLwCeeOIJ9u3bR1paGm5ubsyfP1/rRQoJCSk1/HDp0qWcPXuWN998kzfffBMwZH90cnLipZdeYsOGDVy/fh03NzemTJnCvHnz2LdvHy%2B//DI6nY7u3btr89zy8/O1oYU2NjasX79eGzY4ffp0GjdurCU6GTFiBK%2B99lqFf7%2BRI0eSnp6OqakpH330EfXq1QMMyVtOnz5NrVq1aNy4cakMiEKIGkgpOH36ZsC1b1/p7yMODuUPxbOzqziZBBiy9RVvdeqUvJ%2BWZrj%2BrduZM5CSYtjA0MPWsiV4eZXcmjUz9LoJ8YCQNPRGxl%2BnI/Kdd%2BCll6q7KuIeqO409ELcL5KG3uBhbLOoAZSC%2BHg4fPjmduiQYUjhrZo3h7594bHHoFevqs/QXFQECQlw9qwh%2BGvRwpDsQtwz8h52f8jPAcZIesCEEEIIcbeuXzcEMAkJhnlSJ04Ygq0jRwxztv7MwcEQbBVvjRtXfZ1vVauWoQ7VXQ8h7pAEYMZI5oAJIYQQ4naUMiTGKE5IERNzM9hKSKg4xbqDA/j6ltyaNzcEPUKIuyIBmDGSAEwIIYQQYAiysrIMwVRioqEX69YsgGlp5R9ragoNG97cHnnkZrDl6irZ/4S4TyQAM0YyBFEIIYSo%2BTIy4Pffb25xcYZsf2lphoCr%2BPbGjfLPYWt7MxlFixbQqJFha9jQsOiv9GgJUeUkADNG0gMmhBBC1CwxMfD553DypCHYOneu7HlYZbGwMAwZrF8fWrcumQGwQQPpyRLiASMBmDGSHjAhhBDC%2BN24AV9/DZ98AuHhpfdbWBhSqDdtatjc3Q1BloODYbO3N2x16lR51YUQf530Oxsj6QET1cjKygqACxcuEBAQUGaZnj173jZtbV5eHqNHj8bDw4OOHTsSFxdXqsz169cZPHgwLVu2xNPTkzlz5mj7zp8/T69evfD19aVt27aEhYVp%2B2bPno2XlxdeXl5s2rRJe75bt274%2BPjg4%2BODq6urtuDwvn37sLW11fa98cYb2jEZGRkEBATQsmVLWrVqpS1GDLBkyRJatGiBp6cnL/2xNERcXBx16tTRznXrGmg9e/akRYsW2r5Lly5p%2BzZv3kzr1q3x9PRkzJgxt23L5MmT8fb2pm3btgQEBJCVlQUY1i97/vnn8fDwoG3btvz222/aMe7u7rRp0wYfHx/8/f1Lvd7vvfceOp2OtD/mjOzevRs/Pz/atGmDn58f4WV9QRRC3LmzZ2H2bHBzg9GjDcFXnTowaRKsXw8//wzJyYa5XceOGYK0//s/eP55Q/k%2BfcDb23C8BF9CGB8ljIofKOXgUN3VEPdIdHR0dVfhjllaWt62TI8ePdTBgwcrLPPRRx%2Bpp556Siml1MaNG9WoUaNKlcnOzlbh4eFKKaXy8vJU165dVVhYmFJKqalTp6qPP/5YKaXUiRMnVOPGjZVSSm3fvl099thjKj8/X2VlZSk/Pz%2BVmZlZ6twjRoxQn332mVJKqb1796rBgweXWc/x48erlStXanW4cuWKUkqp8PBw1adPH5Wbm6uUUiolJUUppVRsbKzy9PS8o9flzJkzysfHR12%2BfLnEuSpqy61tmjVrllq4cKFSSqlvv/1WDRgwQBUVFalffvlFdejQQSvXuHFjlZqaWmbdzp8/r/r166caNWqklfntt99UUlKSUkqp48ePK1dX1zKPLUtZ/7b9/PwqfXxN8TC2WfzJ9etKnTmj1PffK7VypVKPPaaUIXWGYWvTRqmlS5X6471FiAeJvIfdH9IDZoxkCKK4R2bPns3HH3%2BsPZ43bx6LFy8mKyuLPn360K5dO9q0acPWrVtLHRsXF4eXlxcAOTk5BAYG0rZtW0aPHk1OTs5tr71161YmTJgAQEBAAHv27EH9aV14CwsLevXqBYCZmRnt2rUjMTERAJ1Ox9U//i9kZmbi6uoKQHR0ND169ECv12NpaYm3tzc7d%2B4scd5r164RHh6u9YCV5%2BrVq/z4449MnjxZq0PdPxYaXbZsGXPmzKF27doAODk53bbN5Vm5ciXPPvss9erVK3GuitpiY2MDGHq8cnJy0P0xx2Pr1q2MHz8enU5Hp06dyMjI4OKfF08tw6xZs/jPf/6jnQfA19dXe109PT3Jzc0lLy/vL7dTiBqpsNAwXyssDN5/39BLNWwY%2BPmBo6NhGOEjjxjWzZo6Fb7/3rBY8IQJhp6uo0fh2WerfhFjIUS1kTlgxkanM4wZz82V1d5rGN38%2BzNJWr2uyt0XGBjIzJkzeeaZZwDDMLidO3dibm5OaGgoNjY2pKWl0alTJ4YOHVriy/mtli1bhoWFBceOHePYsWO0a9dO2zdlyhSmT59eashbUlISDRs2BECv12Nra0t6ejoODg5lXsLS6sAAACAASURBVCMjI4Nt27YxY8YMwBAs9uvXjyVLlpCdnc33338PgLe3N/Pnz%2BeFF17g%2BvXr7N27l9atW5c4V2hoKH369NGCGIBffvkFb29vXF1dee%2B99/D09OT333/H0dGRSZMmcfToUfz8/Pjvf/%2BLpaUlZ86cYf/%2B/cydOxdzc3Pee%2B892rdvD0BsbCy%2Bvr7Y2Njw1ltv0a1bN%2B06kyZNwsTEhJEjR/Lvf/8bnU7HmTNnAOjSpQuFhYXMmzePAQMG3LYtkyZNIiwsjNatW7N48eJSryuAm5sbSUlJuLi4oNPp6NevHzqdjqeeeopp06YB8M0339CgQQO8vb3LfO0BvvzyS3x9fbWAU4gaKy8PsrMNixTn5Bhub93S0%2BH06Zvb2bMVZyE0NTUkwijOPNipE4wdC3/84CKEePhIAGZsTEygoMDQCyYBmLhLvr6%2BXLp0iQsXLpCamkq9evVo1KgR%2Bfn5vPLKK/z444/UqlWLpKQkUlJScHZ2LvM8P/74I88//zwAbdu2pW3bttq%2BTz/9tMxj/tzbBZQb4BUUFPDEE0/w/PPP07RpUwA2btzIxIkTefHFF/nll18YN24cUVFR9OvXj4MHD/Loo4/i6OhI586d0etLvtVt3LiRKVOmaI/btWtHfHw8VlZWhIWFMWzYMGJiYigoKOC3335jyZIldOzYkRkzZrBo0SLefPNNCgoKuHLlCr/%2B%2BisHDx5k1KhR/P7777i4uHD%2B/Hns7e05dOgQw4YN48SJE9jY2PD555/ToEEDrl27xsiRI1m3bh3jx4%2BnoKCAmJgY9u3bR2JiIt26datUW4KDgyksLOQf//gHmzZtYtKkSRW%2Brj/99BOurq5cunSJvn370rJlS/z9/VmwYAG7du0q87UHOHHiBLNnz66wjBBG6eJFOHz45nbkiKE36041aGBI8d6iBXh43Ay2GjUyJM2QVO9CiFtIAGZsigOwzEzD%2Bh2ixqiop%2Bp%2BCggIYMuWLSQnJxMYGAjA559/TmpqKocOHcLU1BR3d3dyc3MrPE95wVN53NzcSEhIwM3NjYKCAjIzM7Gzsyuz7LRp02jevDkzZ87Unlu1apU2HK9z587k5uaSlpaGk5MTc%2BfOZe7cuQCMGTOG5s2ba8elp6cTERFBaGio9tytPWGDBg3imWeeIS0tDTc3N9zc3OjYsSNgeK0WLVqk1X/EiBHodDo6dOhArVq1SEtLw9HRUesl8vPzo1mzZpw5cwZ/f38aNGgAgLW1NWPGjCEiIoLx48fj5uZGp06dMDU1pUmTJrRo0YKYmBjat29fYVsATExMGD16NO%2B%2B%2By6TJk3SXtdiiYmJ2jDC4lsnJyeGDx9OREQE9erVIzY2Vuv9SkxMpF27dkRERODs7ExiYiLDhw9n7dq1NGvWrBJ/WSEeUEoZhvt99RUcPGgIuFJSSpczMQFra8PQwVu3OnUMtzY20Lw5tGxpCLgeeQT%2BSE4khBCVIQGYsSn%2BFU0yIYp7JDAwkKlTp5KWlsYPP/wAGOZUOTk5YWpqyt69e4mPj6/wHN27d%2Bfzzz%2BnV69eREVFcezYsdted%2BjQoXz22Wd07tyZLVu20Lt37zKDuH//%2B99kZmaW6klr1KgRe/bsYeLEiZw8eZLc3FwcHR0pLCwkIyMDe3t7bUhkv379tOO%2B%2BOILhgwZgvktPcjJycnUr18fnU5HREQERUVF2Nvbo9PpaNiwIadPn6ZFixbs2bNHGwI4bNgwwsPD6dmzJ2fOnOHGjRs4ODiQmpqKnZ0dJiYm/P7778TExNC0aVMKCgrIyMjAwcGB/Px8tm/fzmOPPaadq7hHLy0tjTNnztC0adNy26KU4ty5c3h4eKCUYtu2bbRs2VJ7XZcuXUpgYCAHDhzA1tYWFxcXsrOzKSoqwtramuzsbHbt2sVrr71GmzZtSmRjdHd3JzIyEgcHBzIyMhg8eDALFy6kS5cut/2bCvFAOnkSNm2CkBDDkMFb2diAjw/4%2Bt7cWrUyDBsUQoj7RAIwY2NiYriVRBziHvH09OTatWs0aNAAFxcXAMaOHcvf/vY3/P398fHx0b7cl%2Bfpp59m0qRJtG3bFh8fHzp06KDtK28O2OTJkxk3bhweHh7Y2dkREhKi7fPx8eHIkSMkJiayYMECWrZsqc0re%2B6555gyZQqLFy9m6tSpvP/%2B%2B%2Bh0OtasWYNOpyM/P1%2Bbc2VjY8P69etLDNsLCQkpkc4eYMuWLSxbtgy9Xk%2BdOnUICQnRgsElS5YwduxYbty4QdOmTQkODgYgKCiIoKAgvLy8MDMz47PPPkOn0/Hjjz/y2muvodfrMTExYfny5djZ2ZGdnU3//v3Jz8%2BnsLCQxx57jKlTpwLQv39/du3aRevWrTExMeHdd9/F3t6e3NzcMttSVFTEhAkTuHr1KkopvL29WbZsGWDowQsLC8PDwwMLCwutvikpKQwfPhwwDOkcM2YMAwYMqPDvunTpUs6ePcubb77Jm2%2B%2BCcCuXbvuKuGIEFUiNvZm0HX06M3nHRwgIMCQxt3XF5o0keGBQogqp1NlTRgQDyz/unWJzMw0DKH448uUMF4nT56kVatW1V0NIe65sv5t%2B/v733Z9uHtl586dzJgxg8LCQqZMmVIq6L5y5QpBQUGcO3cOc3NzVq9ejZeXF7m5uXTv3p28vDwKCgoICAhg/vz5AFy%2BfJnRo0cTFxeHu7s7mzdv1jJXlqcq2/zQKyqC7dvhP/%2BBn366%2BbytLYwYAYGB0Ls36OW3ZyEqS97D7g/52cfYSA%2BYEEJUqLCwkGeffZYdO3YQHR3Nxo0biY6OLlHm7bffxsfHh2PHjrF27Votu2bt2rUJDw/n6NGjHDlyhJ07d/Lrr78CsGjRIvr06UNMTAx9%2BvTR5gOKalZQABs3GhYmfvxxQ/BlYQFPPAFbtxrmea1eDf36SfAlhHggSABmbIoDMJkDJoQQZYqIiMDDw4OmTZtiZmZGYGBgqbXsoqOj6dOnDwAtW7YkLi6OlJQUdDodVn8kVMjPzyc/P7/EGmvFa9dNmDCBr7/%2BugpbJUrJy4OVKw3JMMaMgagoQzbC9983BF0bNsDQoSBLJwghHjASgBkbCcCEEKJC5a2Fditvb2%2B%2B%2BuorwBCwxcfHa4t8FxYW4uPjg5OTE3379tWyYKakpGjzJF1cXEokLxFVKDsbPvgAmjWDadMMaeObNTMEY%2BfOwcyZkpVQCPFAkwDM2MgQxBpHpmGKmqa6/01XZo25OXPmcOXKFXx8fFiyZAm%2Bvr5ashYTExMtCUxERARRUVF3dP0VK1bg7%2B%2BPv78/qampf70hoqTcXEPvVpMmMGsWJCWBl5ehp%2BvUKZgyRXq7hBBGQQKwu7Rz505atGiBh4dHhfMBDh48iImJCVu2bNGec3d3p02bNvj4%2BJTKEFcu6QGrUczNzUlPT6/2L6xC3CtKKdLT00uk%2Ba9qFa2FVszGxobg4GCOHDnC2rVrSU1NpUmTJiXK1K1bl549e2rrzdWvX5%2BLFy8CcPHixXKzQU6bNo3IyEgiIyNxdHS8l017ON24AcuXGxY4fuEFSE2F9u0N87uOHjXM9ZK5XUIIIyLvWHeheKL37t27cXNzo3379gwdOlRbJ%2BjWcrNnz6Z///6lzrF3714cHBwqf1HpAatR3NzcSExMlF/JRY1ibm6Om5tbtV2/ffv2xMTEEBsbS4MGDQgJCWHDhg0lymRkZGBhYYGZmRmffvop3bt3x8bGhtTUVExNTalbty45OTl8//33zJ49G7i5dt2cOXP47LPPePzxx6ujeQ%2BPggJYvx7mz4e4OMNzPj7w5psweDDc4eLvQgjxoJAA7C7cOtEb0CZ6/zkAW7JkCSNHjuTgwYN3f1HpAatRTE1NS/3qLoS4O3q9nqVLl9K/f38KCwsJCgrC09OT5cuXAzB9%2BnROnjzJ%2BPHjMTExoXXr1qxatQow9GxNmDCBwsJCioqKGDVqFEOGDAEMwxZHjRrFqlWraNSoEV988UW1tbFGKyqCzZvh9dfhzBnDc61awRtvGNLJy7pdQggjJwHYXShroveBAwdKlQkNDSU8PLxUAKbT6ejXrx86nY6nnnqKadOm3f6iEoAJIcRtDRo0iEGDBpV4bvr06dr9zp07ExMTU%2Bq4tm3bcvjw4TLPaW9vz549e%2B5tRcVN8fGwZo1hK%2B7xatYM5s0zDDMs/vwTQggjJwHYXajMRO%2BZM2fyzjvvYFLGB8dPP/2Eq6srly5dom/fvrRs2ZLu3buXKrdixQpWrFgBwJXioYcyBFEIIYSxy8mB0FAIDoY9e6D4c9XdHebOhQkTwNS0WqsohBD3mgRgd6EyE70jIyMJDAwEIC0tjbCwMPR6PcOGDdPKOjk5MXz4cCIiIsoMwKZNm6b1jvm3bQsXL0oPmBBCCOMVGWlYHHnDhpufZ7Vrw8iRMGkS9O4tQw2FEDWWBGB3oTITvWNjY7X7EydOZMiQIQwbNozs7GyKioqwtrYmOzubXbt28dprr93%2BopKEQwghhLG6fh2efhrWrr35nL8/BAVBYCDUq1d9dRNCiCoiAdhdqMxE7/KkpKQwfPhwAAoKChgzZgwDBgy4/UWLA7Br1wwTleUXQiGEEMbg998NSTSOHgULC8MiypMmQdu21V0zIYSoUjolCxAZFX9/fyJPn4asLMjIAFvb6q6SEEJUir%2B/P5GRkdVdjSr1MLa5TGFhMHas4XPLwwO%2B%2BgratKnuWgkhbkPew%2B4P6T4xRsVBlwxDFEII8SArKjJkMRwyxBB8/e1vcPCgBF9CiIeaBGDGyMbGcCuJOIQQQjyoLl82BF7z5xsev/UWfP011K1bvfUSQohqJnPAjJH0gAkhhHiQHT5syGgYGwt2drBxI/TrV921EkKIB4L0gBkj6QETQgjxIFIKPvkEHn3UEHz5%2BcGhQxJ8CSHELSQAM0bFPWASgAkhhHhQXL4MAQEwfTrk5sLkyfC//xkWVRZCCKGRIYjGSIYgCiGEeJDs32/IcpiQANbWsHw5jBlT3bUSQogHkvSAGSMZgiiEEOJBUFBgSLLRs6ch%2BOrQAY4ckeBLCCEqID1gxkh6wIQQQlS38%2BfhyScNvV86HcyZA2%2B8Aaam1V0zIYR4oEkAZoykB0wIIUR1Cg01zPG6cgVcXGDdOujTp7prJYQQRkGGIBojScIhhBCiuqxYASNGGIKvwYPh6FEJvoQQ4g5IAGaMZAiiEEKI6rBqFTz1lOH%2BwoWwbRs4OlZvnYQQwsjIEERjJEMQhRBCVLU1a2DqVMP9996DF1%2Bs1uoIIYSxkgDMGEkPmBBCiKq0bh0EBRkWWl60yGiCL6UUl3Muk5yVzMWsiyRnJZN2PY32ru15tOGj6HS66q6iEOIhJAGYMZIeMCGEEFVlwwaYONEQfC1YALNnV3eNypWRm8Ere14h8kIkyVnJJGclk1%2BUX2bZR%2BwfIcgniHHe43C1dq3imgohHmYSgBkjScIhhBCiKoSEwLhxUFRkSDH/yivVXaNyHb54mIAvAvj9yu8lnretbYuLtQvOVs64WLlgaWrJtzHfcib9DHP2zOGV8FcY6DGQIN8ghjwyBDMTs2pqQWlKKU6nn2ZHzA7Czobxc8LP5BeWHVACmOvNaVO/DT71ffB18cXX2RcvJy9q62tXYa2FELcjAZgxkiGIQggh7rcvvjCs81VUBK%2B/Dq%2B%2BWt01KpNSipW/reT5Hc%2BTV5hHO5d2LO63mMa2jXG2cqaOaZ1SxxQUFfDd2e9YfWQ135z%2Bhm9jvuXbmG9xsHDgyTZPMqLVCDo37Iy%2B1r35mnQ17ypHk49yNOUoBUUFuFj9ERD%2BERham1lrwyGzb2SzN26vFnTFZcRV%2Bjr5N/L5OeFnfk74WXtOX0tPa8fW%2BDr70tmtM6M8R1GvTr170i4hxF%2BjU0qp6q6EqDx/f38iDx4EMzMoKIDcXKgtv2wJIR58/v7%2BREZGVnc1qpTRtvmrr2DUKCgshH//29D7dRfzpfIK8jiReoLDFw9zOPkwSdeSGNFyBIFegZia/PWFm7NvZPP0t0%2Bz7tg6AJ7ye4oPBnyAud680udIzU5l/bH1rD6ymqhLUdrztrVt6dusL4M8BjHAYwAu1i6VOl9yVrLWzsPJhzmSfISzl89WeIyFqQXOVs7UM69H1KUo8grztH0OFg70b9afgR4D6dusL3XN65Z7nszcTI6mHC1x/dNpp1Hc/KpX26Q2w1sNJ8gniD5N%2B1BLJwmxRfmM9j3sAScBmJHR/iM4OEB6Oly6JCmAhRBG4WH8IDfKNm/bZljnq6AAXn7ZMO/rDoKv4t6e4gDg8MXDRKdGlzkXy72uO7O7zGaiz8Q7CpoATqWdImBzACdST2BhasEnQz7hybZP3tE5bqWU4tDFQ2w4voGwmDBOp58usd/H2YdBHoPo6NaRKzlXSiT2KL5Nzkrmal7p0SlmJmZ4OXnh6%2BxLHX0dkrOTuXjt5rHX869rZXXo8Hf1Z1DzQQz0GIi/qz8mtUz%2Bcruyb2RzLOUYv138ja2nt/L9799rAVkj20ZM8J7ARJ%2BJNK3X9C9fQ9RcRvkeZgQkADMy2n%2BEpk0hNhZiYsDDo7qrJYQQt/UwfpAbXZu/%2Bw6GDoUbN%2BCf/4T//KfC4KuyvT06dDxi/wg%2Bzj74OvtiaWbJhwc%2BJOZyDADOVs682PlFpvtPx8rM6rbVDIkKYeq2qWTdyKKlQ0u2/H0Lnk6ef73dZYi9EsuOszsIiwkjPDacnIKcSh1nbWattbN4HlYrx1blzi1TSpF1I4vkrGQuZV%2BiuX1znCyd7mVTSojPiOezo58RfCS4xPDGXu69eMrvKQJaB9xVwCdqFqN7DzMSEoAZGe0/gq8vHDkCkZHg51fd1RJCiNt6GD/IH7Q2F88vCosJ40TqCUp8BcjIgBNRUKTA1RWaNSv3PEWqiHNXzpGclVxq3629PcVBSNv6bUsFVoVFhXx58kve3v82R1OOAlDPvB4zOs5gqt9UcvJzSvQsFfcYxWXGER4bDkCgVyAr/7ayUkHb3cgtyOXH%2BB8JiwnjZNpJHC0cS83jKn5c17yuUaS3L1JF/BD3A6uPrGZL9BZyC3IB8LDzYE6XOYzzHvdAJSQR1eNBew%2BrKSQAMzLaf4QePeDHHyE8HHr1qu5qCSHEbT2MH%2BTV3WalFGfSzxAWE8aOszv4If4HbhTeuGfnt6ltc7O3x9kXH2cfWju2vqN5XUopwmLCWLB/Ab8k/lKpY0xrmfLBgA942v9powh2HnSZuZl8fvxzFv%2ByWMsi6Wbjxj87/5Mp7aZgaWZZzTUU1aW638NqKsmCaKwkFb0QQohyXLh2gYX7F/JtzLfEZsRqz%2BvQ0aFBBwZ6DKRro66GHo6TJ2HWLMjJgQH9YfYcqHX7xAwNrBvQpF6Tu07ioNPpGPzIYAY1H8SP8T/y9v/e5ueEn3GwcMDZyrlE71LxrbezN41sG93VdcVNtua2PNP%2BGab5TWPzic28vf9tTqSeYOZ3M3lr/1vM6jSLZ9o/U2ECECFE5UkAZqwkFb0QQogyXMm5wmNrH%2BNk2kkA7OvY09%2BjP4M8BtGvWT8cLW9J3PTbb/DEHMjIgcBA%2BGg9mFTP/B%2BdTkcP9x70cO9RLdcXhpT1Y9qMIdArkG2nt7Fg/wIOXjjI3PC5vPPTOzza8NFSwXCJNdakp0yISpEAzFjZ2BhupQdMCCHEH/IK8hixeQQn007i6ejJqqGrys%2Bid/w49OtnmPs1YgSsXVttwZd4sNTS1eLxlo8ztMVQwmPDWbB/AXvj9rLz7M4Kj3Ov615i7p%2Bvsy%2Bu1q7lDhO9nn9dm9uXV5inBXLGMo9OiL9KAjBjJUMQhRCiXDt37mTGjBkUFhYyZcoU5syZU2L/lStXCAoK4ty5c5ibm7N69Wq8vLxISEhg/PjxJCcnU6tWLaZNm8aMGTMAmDdvHitXrsTxj6U/3n77bQYNGlTlbSuPUorJ30xmX9w%2BXKxcCBsbVv4wvVOn4LHHDMuZDB4MGzeC6V9fj0vUTDqdjj5N%2B9CnaR9Opp7k7OWzN5Oi/CkF/4VrF4jLiCMuI47QU6HaORwtHPF18aVZvWak56SXSKhy7ca1Mq9b26T2zeGn1i44WzqXmfCkvlV9SRQijJIEYMaquAdMhiAKIUQJhYWFPPvss%2BzevRs3Nzfat2/P0KFDad26tVbm7bffxsfHh9DQUE6dOsWzzz7Lnj170Ov1LF68mHbt2nHt2jX8/Pzo27evduysWbP45z//WV1Nq9Cre1/l8%2BOfY2Vmxbdjvi0/%2BDp/Hvr2Nawj2a8fbNkCZvIlVlSslWMrWjm2Knd/QVEBp9NOa2u/FS9NkHo9lV3ndpV5THGg5WLtgpmJWYm11OIz44nPjL9tvezr2FPfqj519HXKLaOvpadDgw4Maj6IHo17UMe0/LJ/ppSiSBVJan5xT0kAZqykB0wIIcoUERGBh4cHTZsaFpYNDAxk69atJQKw6OhoXn75ZQBatmxJXFwcKSkpuLi44OLiAoC1tTWtWrUiKSmpxLEPok9/%2B5QF%2BxdgojNhc8BmfF18yy6YmmoIuhIToWtXCA0F8ztbAFmIsuhr6fF08sTTyVNbEFspRXxmPIcvHuZ85nkcLW%2Bm768oZf/1/Osllh%2B4dTmCW3vdUrJSSM9JJz0n/bb1O5B0gCURS6ijr0NP957aQtfN7G4ut5BfmM/JtJOl1ra7UXiDXu69GOgxkEHNB5U4Roi/QgIwYyVJOIQQokxJSUk0bNhQe%2Bzm5saBAwdKlPH29uarr76ia9euREREEB8fT2JiIvXr19fKxMXFcfjwYTp27Kg9t3TpUtauXYu/vz%2BLFy%2BmXr16979Bt/Hd2e%2BYvn06AB8P/piBzQeWXfDaNRg0CE6fBm9v2LYNLCyqsKbiYaPT6XCv6457Xfc7Os7C1IKm9ZrStF7TCssVFhVqwxorWl7hWt41wmPDCTsbxm8Xf2PH2R3sOLsDgOZ2zWnfoD2n004TdSmKvMK8Ms9RfMzzO5%2BnuV1zLRjr4d4Dc705Siky8zK14ZXFgWJKVgr1repryzTUq1P97xmi%2BkkAZqwkCYcQQpSprOUt//wr%2B5w5c5gxYwY%2BPj60adMGX19f9PqbH4lZWVmMHDmSDz74AJs/3m%2BffvppXn31VXQ6Ha%2B%2B%2Biovvvgiq1evLnWtFStWsGLFCgBSU1PvZdNKOZJ8hIAvAihUhbzc9WWm%2BU0ru2BeHgwbBpGR0LQp7NwJdSWluDBuJrVMcLJ0wsnS6bZlezXpxZu93yQ5K5mdZ3ey4%2BwOvjv7HTGXY4i5HKOVa1avmZZApDiZCBh%2B6Ag7G8auc7sMx0TE8GHEh9TR16G%2BVX2Ss5K1xawr8udEJe1c2uFq7frXXwRhlCQAM1YyBFEIIcrk5uZGQkKC9jgxMRFX15JfcGxsbAgODgYMAVuTJk1o0qQJAPn5%2BYwcOZKxY8cyYsQI7Zhbe8emTp3KkCFDyrz%2BtGnTmDbNEAj5%2B/vfm0aVISEzgcEbBpN1I4snvJ7grd5vlV2wsBDGjoXwcKhfH3btAmfn%2B1YvIR5kzlbOTPSZyESfiRQUFfBr4q9Ep0bT0qEl3vW9sTW3LfO4CT4TmOAzgYKiAg4kHtAWNz%2BcfJi4jDgArM2sSyQLcbZ0xsnSifOZ5zmcfJjjl46XmahkyCNDWNxvMY/YP1IVL4F4AEgAdpdul2mr2MGDB%2BnUqRObNm0iICDgjo4tkyThEEKIMrVv356YmBhiY2Np0KABISEhbNiwoUSZjIwMLCwsMDMz49NPP6V79%2B7Y2NgYMglOnkyrVq144YUXShxz8eJFbX5YaGgoXl5eVdamP8vIzWDwhsFcuHaBHo17EPx4cNkLIisFzzwDX35p%2BOHuu%2B%2BgmcxfEQIM89a6NupK10Zd7%2BiYLo260KVRFxb0WUBKVgrXblyr1DpoBUUFnEo7pc0xO5J8hANJB9h%2BZjvfnf2Of3T4B6/2eFUWvH4ISAB2FyqTaau43OzZs%2Bnfv/8dH1su6QETQogy6fV6li5dSv/%2B/SksLCQoKAhPT0%2BWL18OwPTp0zl58iTjx4/HxMSE1q1bs2rVKgB%2B%2Bukn1q1bR5s2bfDx8QFuppt/6aWXOHLkiGFei7s7n3zySbW0LzU7lX7r%2B3H80nFaOrQkdHQotfW1yy786quwYoUh0ca2bYa5X0KIe6a%2BVX3qU//2BTEEb15OXng5eTHOexwAyVnJzN0zl%2BAjwfzfr//H2mNrebPXm0xtN1UyL9ZgEoDdhcpk2gJYsmQJI0eO5ODBg3d8bLkkCYcQQpRr0KBBpdbomj59una/c%2BfOxMTE/PkwunbtWuYcMoB169bd20r%2BBReuXaDvur5Ep0bT3K45u57cVf6k/g8%2BgAULDIsrb94M3bpVbWWFELflbOXMqsdX8WyHZ5m5cyb7z%2B/n6W%2Bf5uODH/PBgA/o3aR3dVdR3AcSgN2FymTaSkpKIjQ0lPDw8BIBWGWOrZC1teH26lUoKoJaZQw9EUIIUWPEZ8TTZ20fzl05h5eTF7vH7cbZqpy5XBs3wqxZhvurVsHf/lZ1FRVC3LF2Lu34YeIPbInewr92/4vjl47TZ20f%2BjfrT2PbxuUeZ2VmhbezN77OvrR0aImpiSyobgwkALsLlcm0NXPmTN555x1MTEp2I1fm2GJlZtTS68HSErKzISvr5pwwIYQQNU5Megx91vYh4WoCfi5%2BfPfkd9hb2Jdd%2BMABmDTJcP/dd2HChKqrqBDiL9PpdPzd8%2B/8rcXf%2BL9f/o%2B397/Nd%2Be%2Bq/TxtU1q4%2BXkpWVY9HX2xdbcVltP7dY11Iq3itL3A9gg3y/vBwnA7kJlMm1FRkYSGBgIQFpaGmFhYej1%2BkodW6zcjFo2NoYA7OpVCcCEEKKGiroUxWNrHyMlO4VHGz5K2JiwcjO1kZBgSDeflwdPPQUvvli1lRVC3DVzvTmvdHuFST6T2HF2B/mF%2BeWWTbuepi0a/fuV3zl08RCHLh6Cw/emLn743ZsTiRIkQ5kPBAAAIABJREFUALsLlcm0FRsbq92fOHEiQ4YMYdiwYRQUFNz22NuytYWLFw2JONzc7kWThBBCPEAOXThEv/X9uJxzmd5NevNN4DflZ1rLzobHH4fkZOjVC5YsgXJGVgghHnwu1i4E%2BQZVunxmbiZHU45qWRYPJx8mJz9HS4vvYlXy1tnKmTqmdSo855htY%2B62GaIMEoDdhcpk2rrTY%2B%2BIJOIQQoga66fzPzFowyCu5l1lcPPBfPH3L8r/slRUBBMnwuHDhjTzX3wBpjIXRIiHia25Ld0bd6d74%2B7VXRVxGxKA3aXbZdq61Zo1a2577B0pHnYoqeiFEKJGSclKYcDnA8i6kUVA6wA%2BH/E5ZiZm5R8wfz5s2WL4XNi2DezLmR8mhBCi2kkAZsxkLTAhhKiRvoj%2BgqwbWfR078nGkRvR16rg43rTJnjjDUM23E2boFWrqquoEEKIOya5y41ZcQ%2BYDEEUQogaZdOJTQBMbTe14uArMtIw9BBg8WIYMOD%2BV04IIcRdkQDMmEkPmBBC1DhJV5P43/n/Ya4352%2BPVLB%2BV1KSIelGbi5MmQIzZlRdJYUQQvxlEoAZM0nCIYQQNc4X0V8AMKj5IKxrW5ddKCfHkG7%2BwgXo3h0%2B%2BkgyHv5/e/ceV1Wd73/8tWGDgFxFMHRnSqggiphol%2Bk4lXnJEofsGDXTRTPT7OTM9Kj8zUwzzjldmGluTVqORy1tTG0yZc6UjFam1dQQlpp3MjVRQ0BERZDb%2Bv2x3Bs2bAhB9wXez8djPdZlf9fen718uODD9/v9LBERH6EEzJepCIeISIfzxs43AJg8cHLzjRYtMocf9u0Lq1dDYAsFOkRExKsoAfNlGoIoItKhfFP2DZ8UfEKwNZjb%2Bt/mupFhmAkYQFYWdO/uvgBFRKTdlID5MhXhEBHpUP620xx%2BeFv/25p/4PLnn8P27Wap%2BYkT3RidiIhcDErAfJl6wEREOhR79cM7k%2B9svtGSJeb6Rz%2BCLl3cEJWIiFxMSsB8mYpwiIh0GAdKD/DZ0c/oGtCVW/rd4rpRRQUsX25uT53qvuBEROSiUQLmy1SEQ0Skw7AX30gfkE5IQIjrRmvWmPf8tDRISXFjdCIicrEoAfNlGoIoItJhvLHrfPXD5BaqHy5ebK7V%2ByUi4rOUgPkyFeEQEekQvjrxFZ8f%2B5ywwDDGJYxz3ejAAXj/fQgKgrvucm%2BAIiJy0SgB82UhIeDvD5WVUFXl6WhERKSN7MMPJyZOJMga5LrRK6%2BY6zvugMhIN0UmIiIXmxIwX2axqBdMRKQD%2BM7qh7W19QmYhh%2BKiPg0JWC%2BTvPARER82p7iPWwv3E5ElwhGx4923ejdd6GgAOLj4fvfd2%2BAIiJyUSkB83VKwEREfJp9%2BGFGUgZdrM0818tefGPKFPDTj24REV%2Bmu7iv0xBEERGfZk/AJg9spvphcTGsXWsOO7//fvcFJiIil4QSMF%2BnHjAREZ%2B18/hOdhbtJCooipvjb3bdaPlyqK6GsWPBZnNvgCIictEpAfN16gETEfFZ9t6v25NuJ8A/oGkDw6gffvjAA26MTERELhUlYL5OPWAiIj7JMAzHw5ebrX64ZQt8%2BSVER8OECW6MTkRELhUlYL5OCZiIiE/68viX7CneQ/eQ7tzY90bXjZYsMdf33ANdminQISIiPkUJmK/TEEQREZ9kH344KWkSVj9r0wYVFfD66%2Ba2hh%2BKiHQYSsB8nXrARESayMnJYcCAASQkJJCVldXk9dLSUjIyMkhJSWHEiBHs2LEDgMOHD3PjjTeSlJREcnIyL7zwguOcEydOMHr0aPr168fo0aMpLS1tV4x/2/U3ACYnN1P9cPVq894%2BfDgMGtSuzxIREe%2BhBMzXqQdMRMRJbW0ts2bNYt26dezatYsVK1awa9cupzbPPvssqampbN%2B%2BnWXLljF79mwArFYrv//979m9ezeffvop8%2BfPd5yblZXFqFGjyM/PZ9SoUS4Tu9Y6de4U%2B0r2EWQNYuQVI103sg8/VO%2BXiEiHogTM16kHTETESW5uLgkJCcTHxxMYGEhmZibZ2dlObXbt2sWoUaMASExM5ODBgxQWFhIXF8dVV10FQFhYGElJSRw5cgSA7Oxs7rvvPgDuu%2B8%2B1q5d2%2BYY9xbvBaBft36uhx8ePgwbN0JwMGRmtvlzRETE%2BygB83VKwEREnBw5coTLL7/csW%2Bz2RxJlN2QIUN46623ADNhO3ToEAUFBU5tDh48yBdffMHVV18N4EjQAOLi4jh%2B/HibY9xbYiZgA7oPcN1gwwZzPWZM/X1eREQ6BCVgvk5DEEVEnBiG0eSYxWJx2p8zZw6lpaWkpqby4osvMnToUKzW%2Bp6oM2fOMGnSJP70pz8Rbr/PttLChQtJS0sjLS2NoqIil232lewDYEB0MwnY%2B%2B%2Bb6/O9dCIi0nG4GPcgPkU9YCIiTmw2G4cPH3bsFxQU0LNnT6c24eHhvPLKK4CZsPXt25e%2BffsCUF1dzaRJk/jhD3/I7bff7jinR48eHDt2jLi4OI4dO0ZsbKzLz58%2BfTrTp08HIC0tzWUbew9Y/%2Bj%2BTV80jPoE7KabWvGNRUTEl6gHzNepB0xExMnw4cPJz8/nwIEDVFVVsXLlStLT053anDx5kqqqKgAWLVrEyJEjCQ8PxzAMHnjgAZKSkvjpT3/qdE56ejpLly4FYOnSpUycOLHNMdrngLnsAduzB44dgx49YODANn%2BGiIh4JyVgvq5hAuZi2I2ISGdjtVqZN28eY8eOJSkpicmTJ5OcnMyCBQtYsGABALt37yY5OZnExETWrVvnKDf/8ccf89prr/H%2B%2B%2B%2BTmppKamoq77zzDmAOW9ywYQP9%2BvVjw4YNzJkzp03x1Rl19UMQXc0Ba9j71WjopIiI%2BD4NQWynnJwcZs%2BeTW1tLdOmTWvyAzk7O5unnnoKPz8/rFYrf/rTn7j%2B%2BusB6NOnD2FhYfj7%2B2O1WsnLy7vwAAICICQEzp6FM2cgLOxifC0REZ82fvx4xo8f73RsxowZju1rr72W/Pz8Juddf/31LueQAURHR/Pee%2B%2B1O7aCUwVU1FQQ2zWWyKDIpg00/FBEpENTAtYO9mfNbNiwAZvNxvDhw0lPT2dggyEjo0aNIj09HYvFwvbt25k8eTJ79uxxvL5x40a6d%2B/evkDCw80E7NQpJWAiIl6uxeGHtbVm%2BXlQAiYi0kFpCGI7tOZZM6GhoY7qW%2BXl5U0qcV0UKsQhIuIzWqyAuG0blJZCnz4QH%2B/ewERExC2UgLVDa541A7BmzRoSExO59dZbWbJkieO4xWJhzJgxDBs2jIULF7Y9EBXiEBHxGS1WQNTwQxGRDk8JWDu05lkzABkZGezZs4e1a9fy1FNPOY5//PHHfP7556xbt4758%2BezefNml5/znc%2BUUQ%2BYiIjPaPEhzPY5ZkrAREQ6LCVg7dCaZ800NHLkSPbv309xcTGAo21sbCwZGRnk5ua6PG/69Onk5eWRl5dHTExM0wZKwEREfEazc8CqquDDD81tJWAiIh2WErB2aM2zZr766itHT9nnn39OVVUV0dHRlJeXc/r0acCcG7Z%2B/XoGDRrUtkA0BFFExCdUVFfwTdk3WP2sxEc1muP12WdQXg5JSRAX55kARUTkklMVxHZo%2BKyZ2tpapk6d6njWDJglj1evXs2yZcsICAggODiYVatWYbFYKCwsJCMjA4Camhruvvtuxo0b17ZA1AMmIuIT8k/kY2AQHxVPgH%2BA84ua/yUi0ikoAWun73rWzJNPPsmTTz7Z5Lz4%2BHi2bdt2cYJQD5iIiE9osQKiff7XqFFujEhERNxNQxA7AvWAiYj4hGbnf509C598AhYLfP/7HohMRETcRQlYR6AETETEJzRbgv5f/zKLcAwdCt26eSAyERFxFyVgHYGGIIqI%2BIRmS9Br%2BKGISKehBKwjUA%2BYiIjXMwyj%2BSGIKsAhItJpKAHrCNQDJiLi9Y6XH6fsXBkRXSKI7Rpb/0JZGeTlgdUK11/vuQBFRMQtlIB1BOoBExHxeg2HH1oslvoXNm2Cujq45hoIDfVQdCIi4i5KwDoCew%2BYEjAREa/VbAl6DT8UEelUlIB1BPYeMA1BFBHxWpr/JSIioASsY%2BjaFfz8oKICqqs9HY2IiLjgsgT98ePw5ZcQHGwOQRQRkQ5PCVhHYLGoEIeIiJdzWYJ%2B40Zzff310KWLB6ISERF3UwLWUagQh4iI16qurebr0q%2BxYKFft371L2j4oYhIp6MErKNQIQ4REa/1denX1NTV0DuiN8EBwfUv2B/ArARMRKTTUALWUagQh4iI13JUQGw4/PDQIdi/37x/X3WVhyITERF3UwLWUWgIooiI13LM/4p2Mf/r%2B983H8IsIiKdghKwjkJFOEREvJa9BL1TBUQNPxQR6ZSUgHUU6gETEfFaLnvAPvjAXI8a5f6ARETEY5SAdRQqwiEi4rWalKAvL4eCAggMhIEDPRiZiIi4mxKwjkJFOEREvNLJypMcLz9OsDUYW7jNPHj4sLm%2B/HLw049iEZHORHf9jkJDEEVEvJK9AmL/6P74Wc7/2P3mG3Pdu7eHohIREU9RAtZRqAiHiIhXshfgcCpB37AHTEREOhUlYB2FesBERBxycnIYMGAACQkJZGVlNXm9tLSUjIwMUlJSGDFiBDt27HC8NnXqVGJjYxk0aJDTOXPnzqVXr16kpqaSmprKO%2B%2B806pYXBbgUA%2BYiEinpQSso1ARDhERAGpra5k1axbr1q1j165drFixgl27djm1efbZZ0lNTWX79u0sW7aM2bNnO167//77ycnJcfneP/nJT9i6dStbt25l/PjxrYrHnoA5laBXAiYi0mkpAesoevUy19u3w8mTno1FRMSDcnNzSUhIID4%2BnsDAQDIzM8nOznZqs2vXLkadL/%2BemJjIwYMHKSwsBGDkyJF069btosXjGIKoHjAREUEJWMfRrx/ceKM5B2z%2BfE9HIyLiMUeOHOHyBnOrbDYbR44ccWozZMgQ3nrrLcBM2A4dOkRBQcF3vve8efNISUlh6tSplJaWtiqe/BP5gOaAiYiISQlYR/Lzn5vrP/7RfMaMiEgnZBhGk2MWi8Vpf86cOZSWlpKamsqLL77I0KFDsVqtLb7vzJkz2b9/P1u3biUuLo7HHnvMZbuFCxeSlpZGWloa3xZ9S2VNJZeFXkZ4l3B7gPU9YErAREQ6HSVgHclNN8HVV0NJCSxc6OloREQ8wmazcdjewwQUFBTQs2dPpzbh4eG88sorbN26lWXLllFUVETfvn1bfN8ePXrg7%2B%2BPn58fDz74ILm5uS7bTZ8%2Bnby8PPLy8ggJDwEaDT8sKoJz5yAqCsLC2vgtRUTEVykB8zF1Rl3zL1os9b1gv/ud%2BQNeRKSTGT58OPn5%2BRw4cICqqipWrlxJenq6U5uTJ09SVVUFwKJFixg5ciTh9mJGzTh27Jhje82aNU2qJLpSWVMJNErANPxQRKRTUwLmY/YU73E5vMbhttsgJQWOHoVXX3VbXCIi3sJqtTJv3jzGjh1LUlISkydPJjk5mQULFrBgwQIAdu/eTXJyMomJiaxbt44XXnjBcf5dd93Ftddey969e7HZbCxevBiAJ554gsGDB5OSksLGjRv54x//%2BJ2x2BMwVUAUERE7i9Hib/PibSw9LXz06Ud8r/f3mm%2B0ahVkZkLfvrBvH3zHvAYREXdIS0sjLy/P02G4VXjfcE7ff5r/u%2Bv/uK3/bebBF16AH/8YHn5YRZNExKt1xvu2O6gHzAe9nPdyyw3uuAP694cDB2DFCvcEJSIiTbgcgqgeMBGRTk0JWDvl5OQwYMAAEhISyMrKavJ6dnY2KSkppKamkpaWxkcffdTqc5vzt11/o6i8qPkG/v4wZ465/dxzUNfCvDEREblkqmurCfALoG9UgwIfmgMmItKpKQFrh9raWmbNmsW6devYtWsXK1asYNeuXU5tRo0axbZt29i6dStLlixh2rRprT7XlYigCKpqq1jyxZKWG/7oR%2BZfV3fvhjVr2vwdRUSkfa7sdiVWvwZDwdUDJiLSqSkBa4fc3FwSEhKIj48nMDCQzMxMsrOzndqEhoY6nj9TXl7u2G7Nua7EdI0B4C9b/tJyRcSAAHjiCXP7mWfM586IiIjbOQ0/BCVgIiKdnBKwdjhy5AiXNxhCYrPZOHLkSJN2a9asITExkVtvvZUlS5Zc0LmNRXSJoE9kHw6cPMA/v/pny42nToUePeCLLyAnp5XfSkRELianBKyqCr79Fvz8oNGzyUREpHNQAtYOrgpI2nu4GsrIyGDPnj2sXbuWp5566oLOBVi4cCFpaWmkpaVRVFTEjGEzAHgp76WWAwwOhsceM7fVCyYi4hFOJeiPHDHvxT17qkKtiEgnpQSsHWw2G4ftk6mBgoICerbwF82RI0eyf/9%2BiouLL%2Bjc6dOnk5eXR15eHjExMUwdOpVA/0De3vc2B08ebDnIGTMgKgo%2B/hg2b76g7yciIu03oLsqIIqISD0lYO0wfPhw8vPzOXDgAFVVVaxcuZL09HSnNl999ZWjt%2Bvzzz%2BnqqqK6OjoVp3bnJiuMdwx8A4MDBZuWdhy47AwmD3b3H7mmQv%2BjiIi0na9wnuRHJNcf0AJmIhIp6cErB2sVivz5s1j7NixJCUlMXnyZJKTk1mwYAELFiwAYPXq1QwaNIjU1FRmzZrFqlWrsFgszZ7bWg%2BnPQzA4i8WU1Vb1XLj//ovCA2FDRsgN7fN31dERC7MZaGXERUcVX9AJehFRDo9i%2BFqMpJ4LfsTyQ3DYMiCIXx5/EtWTFpB5qDMlk988kn47W8hKckciti9u3sCFhE5z37/6kyafOcZM%2BAvf4EXX4RHHvFcYCIirdAZ79vuoB4wH2WxWJiZNhOAlz77jmIcAP/v/8GgQeZzwW65BU6fvsQRiohIExqCKCLS6SkB82E/SvkRoYGhfPjNh%2Bw4vqPlxpGR8M9/Qt%2B%2BkJcHEydCZaV7AhWRTs0wDCqqKzwdhnewD0FUAiYi0mmpBq4PC%2BsSxj0p9/By3sssyFvAvPHzWj6hZ09zHtj118PGjZCZCW%2B%2BqVLIIuKSYRhU1lRy6twpTp07Rdm5MnNdWdbkWOPtxktNXQ3DGObpr%2BR59h4wzQETEem09Ju3j5uZNpOX815m2bZlZN2cRWhgaMsnXHklrF8PI0dCdjZMmwZLlpgPBRWRDqO2rpbTVacpqyxzSpzKzpU5Eij7tuN1FwlWdV31RYmni3%2BXi/I%2BPq2sDE6dgpAQ6NbN09GIiIiHKAHzcYN7DOb63tfz0TcfsXz7ch5Ke6gVJw2Gd96Bm2%2BGpUvN4Yl//CM08yBoEXGv2rraJgnSycqTTgmU09rFsTNVZy5KLIH%2BgUR0iSC8SzjhXcKJCIpw3m%2BwbX%2B94X54l3DCAsPoYu1C2tq0ixKTz2o4/0v3WxGRTksJWAcwM20mH33zES/lvcT0YdOxtOYH%2B7XXwtq1cOut8MILEB0NTz116YMV6QQqayopqzSTJvtiT6LsidTJypOcPFe/3TDJOl11cYrkNEyQGiZOEV0iHIlS4%2B2GSVRElwi6WNVzddFo/peIiKAErEOYlDSJH4f8mO2F2/mk4BOuu/y61p04ejS8/jrceSf88pcQFaWyyCJAVW0VpRWlTglUaaXzfkvLudpz7Y6hYXLktO4SQWRQZNPjjdZhXcLws2hosVfR/C8REUEJWIfQxdqFB4Y%2BQNbHWfzP5v8hOzObQP/A1p18xx2wcKE5F%2By//guKi%2BHnP4eAgEsbtMglZBgGp6tOO5Ko0spSSitKHevGCZV92/5aRU37KvYF%2BAUQGRTpWCKCzKQpskuD7aBIp2TKvm/vfVLy1AGpBL2IiKAErMOYOXwmL%2Ba%2BSM5XOYx5bQyrJ68mOiS6dSc/8IA5Mfyxx%2BDXv4Z16%2BC116B//0sbtEgLDMPgbPVZSitLOVFxgtKK8%2BvzSZRju/H%2B%2BSSq1qht82db/axEBkUSFRTllEjZ9yOCIpq81nAJsga1biiwdC5KwEREBCVgHUbviN5sun8TE1ZMYNOhTVy7%2BFrevvtt%2BkX3a90b/OQnMHQo3Hsv5Oaa27//PTz0kCaLS7vU1tVSdq6MExUnXC6lFaWcqDzhlGTZk6mq2qo2f27XgK5EBUc5Eqeo4ChzfT5xsu87kqsGbUMCQpRAycVnnwOmIYgiIp2aErAOZFjPYeQ%2BmMuEFRPY%2Bu1Wrl50NW/d%2BRY39LmhdW9www2wfbs5D2z5cpg5E/7xD1i8GHr0uJShiw8wDIOyc2WUnC3hRMUJSirOrxvvn183TLAMjDZ9ZpA1iKigKLoFdyMq%2BPw6qH7tSKrOr%2B3tIoMiWz8MV8Rd1AMmIiIoAetwbOE2PpzyIXevvpv/2/d/jHltDH%2B57S9MGTqldW8QGQl//StMmAAzZsDbb8OgQbBoEUyceGmDF7eprq2mpKKE4rPFlJwtoaSixLEuPlvstG9PsE5UnGjzsL6ILhF0C%2B7mtEQFRREdEu2UVDVOtIIDgi/yNxfxkNpaKCgwt202z8YiIiIepQSsAwoNDGXNnWt4fMPj/PHTPzL171PZV7KPZ0Y90/qJ/XfeCd/7Htx/P7z3HvzgBzBlCjzzDMTFXdL45cJU1VZRctZMnFwtJRUlTslW8dniNpc5Dw0MJTo42pE4RQdHEx18frvBMXsyFR0STWRQJFY/3WqkkysshJoaiI2FYP1hQUSkM9NvRR2Uv58/fxj7B/pH9%2BeRdx4h6%2BMs8k/ks2TiEsK7hLfuTWw2WL8eXnwRnnwSXnkFVqyAhx%2BGJ57QsMRLoLaulhMVJyg%2BW0zR2aJmk6qGS1uSKX%2BLP9Eh0Y5kyp5INTzWPaR7fZJ1PrnSsD6RNlIJehEROU8JWAc3I20GV0ZdyR1/u4PVu1ez7qt1TE6ezJTUKfxH7//47kIDfn4wezaMGQO/%2BAW89Rb84Q%2BwYAHMmgWPPw4xMe75Mj7GMAzKq8vNZKq8yCmparxv327LfCl/iz/dQ7rTPaS7I3HqHuy8Hx0c7bSvMucibqb5XyIicp4SsE5g9JWj%2BeSBT5j59kw2H9rMq1tf5dWtr5LQLYEpqVO4d8i92MK/Y05CUhKsXg1ffAFz58Lf/w7PPw8vvQSPPmqWsI9uZdl7H1VTV0PJ2RLnpKmZRMq%2BXVlTecGf0y24myOh6h7SnZiQGKf9xktElwhV7BPxdkrARETkPCVgncTAmIFsun8T%2B0r28erWV1m6bSlfnfiKn7//c57a%2BBRjrhzDfUPu47rLr%2BPy8Mub/4V%2B6FDIzoa8PDMRe/tteO45mDfPHJr44INw5ZVu/W5tUV1b7ajY17D4hGOeVEWx05yporNFnKw8ecGfE2wNNpOorjFNkimn7fOvdwvupvlSIh1RgxL01dXVFBQUUFl54X%2BgkYsvKCgIm81GQECAp0MRkU7CYhhG2%2BpDi0ekpaWRl5fX7vepratl/f71LNm6hOw92VTXVTteiwyKJKVHCimxKea6RwqDYgfRNbBr0zfKzYVf/QpycuqP3XQTTJsGGRkQFNTuWJtjH%2BJXVlnGycqTLh/Ya183rvR36typC/48P4ufYyhf4yUmJKZJkhXTNYaQgJBL8M1FfNPFun/5Esd3zsiAtWvhjTc4kJZGWFgY0dHR6r32MMMwKCkp4fTp0/Tt29fT4Yh4nc5433YH/am9k/L38%2BeWfrdwS79bKD5bzOtfvk723my2fbuNkooSNh/azOZDmx3tLVjoHdGbmK4xTklIdHA03f87neiHrifsnxuxbvoQ69fvY53zPtanw7COG481YxLWfonUGXVU1VZRVVtFdV21ua6tdhw7W32W8upyzlSdobyqvH77/Lqssoyyc2VO67aWRfez%2BDnKoDdOqprsh0QTExJDZFAk/n7%2BF%2BufQEQ6kwZDECsrK%2BnTp4%2BSLy9gsViIjo6mqKjI06GISCeiBEzoHtKdR69%2BlEevfhTDMPj2zLdsK9zG9sLtjmV38W4OlR3iUNmh5t/oMuDOhgdOA6vgvVXw3qWJPdgaTERQhNNzpqKCo%2BgWVP88qYbPnLJX9IsMilQRCpEOLCcnh9mzZ1NbW8u0adOYM2eO0%2BulpaVMnTqV/fv3ExQUxJIlSxg0aBAAU6dO5R//%2BAexsbHs2LHDcc6JEye48847OXjwIH369OGNN94gKiqqdQHZhyD27g0nTyr58iL6txARd1MCJk4sFgtxYXHEhcUxLmGc4/i5mnMcPnXYMSfKPpzPvl18tpjy6nJq6mrql9Nl1Bz/lprSEqqpw78OAuogMDiUgG4xBMbGERAWQaB/IAH%2BAXQN6GougV0JDQyla8D5daB53J5oRQZFEhEUQXiXcJVFF5EmamtrmTVrFhs2bMBmszF8%2BHDS09MZOHCgo82zzz5Lamoqa9asYc%2BePcyaNYv33jP/UnT//ffzyCOPcO%2B99zq9b1ZWFqNGjWLOnDlkZWWRlZXFb37zm%2B8OqKICioogIMB8fMfJC59PejGdPHmS119/nYcffviCzx0/fjyvv/46kZGRbfrs5557jsWLF%2BPv78%2Bf//xnxo4d26TNtm3bmDFjBmfOnKFPnz4sX76c8PBwcnNzmT59OmAOHZw7dy4ZGRkAjBs3jmPHjlFTU8N//Md/MH/%2BfPz9zRELb7zxBnPnzsVisTBkyBBef/31NsUuInLRGOJThg0b5ukQLlx5uWEsW2YYEycaRlCQYUD9kpRkGD/7mWF89plh1NZ6OlIRuYTcdf/617/%2BZYwZM8ax/%2ByzzxrPPvusU5vx48cbH374oWM/Pj7e%2BPbbbx37Bw4cMJKTk53O6d%2B/v3H06FHDMAzj6NGjRv/%2B/b8zlmHDhhnG3r3m/a5vX8MwDGPXrl0X/qUuIlffza6mpuaSfe7OnTuNlJQUo7Ky0vj666%2BN%2BPh4l5%2BXlpZmfPDBB4ZhGMbixYuNX/ziF4ZhGEZ5eblRXV1tGIZ5/WNiYhz7ZWVlhmEYRl1dnXH77bc5VodMAAAXz0lEQVQbK1asMAzDMPbt22ekpqYaJ06cMAzDMAoLC13G5ul/ExFv5ZO/d/oAjcGSSy8kBO65x5yAXlxsPkvsnnsgMhJ274Znn4Xhw%2BGyy%2BCuu2DRIjhwwNNRi4iPOnLkCJc3eOCxzWbjyJEjTm2GDBnCW2%2B9BUBubi6HDh2ioKCgxfctLCwkLi4OgLi4OI4fP966gLysBP2cOXPYv38/qampPP7443zwwQfceOON3H333QwePBiAH/zgBwwbNozk5GQWLlzoOLdPnz4UFxdz8OBBkpKSePDBB0lOTmbMmDFUVFS0%2BLnZ2dlkZmbSpUsX%2BvbtS0JCArm5uU3a7d27l5EjRwIwevRoVq9eDUBISAhWqzlwp7Ky0mnoYHh4OAA1NTVUVVU5Xvvf//1fZs2a5RgqGhsb26ZrJiJyMSkBE/fq2tWsBrZsGRw/Dhs2mOXrbTZziM7KlWYp%2B/h4c3nwQVi1ynxNRKQVDBfFfRvP85kzZw6lpaWkpqby4osvMnToUMcv9%2B21cOFC0tLSSEtLM4s7NJz/5QWysrK48sor2bp1K88//zxgJqHPPPMMu3btAmDJkiVs2bKFvLw8/vznP1NSUtLkffLz85k1axY7d%2B4kMjLSkSgtWLCABQsWNGnfmsQYYNCgQfz9738H4G9/%2BxuH7dcP%2BPe//01ycjKDBw9mwYIFTv9mY8eOJTY2lrCwMO644w4A9u3bx759%2B/je977HNddcQ07Dir0iIh6iBEw8JyAAbr4Z5s83/0K8Z4%2B5nZFh9o4dOGD2hmVmQmwsDBgA998Pf/kLbN8OtW2rgCgiHZvNZnP6pb2goICePXs6tQkPD%2BeVV15h69atLFu2jKKiou8sQ96jRw%2BOHTsGwLFjx5rtTZk%2BfTp5eXnk5eURExNT3wPWIPlwsFguzXKBRowY4fT9//znPzNkyBCuueYaDh8%2BTH5%2BfpNz%2BvbtS2pqKgDDhg3j4MGDAMyYMYMZM2Y0ad%2BaxBjM5G/%2B/PkMGzaM06dPExhYP9f36quvZufOnXz22Wc899xzTs9S%2B%2Bc//8mxY8c4d%2B4c77//PmD2iOXn5/PBBx%2BwYsUKpk2bxkkPz8ETEVECJt7BYjETrIcfNocoFhfDZ59BVhaMHg3BwbBvHyxdCjNmwJAhEBVlJnC/%2BAX84x9w/hcjEenchg8fTn5%2BPgcOHKCqqoqVK1eSnp7u1ObkyZNUVVUBsGjRIkaOHOkYxtac9PR0li5dCsDSpUuZOHFi6wLysiGIrnTtWv%2Bcxw8%2B%2BIB3332XTz75hG3btjF06FCXD43u0qWLY9vf35%2BampoWP6M1iTFAYmIi69evZ8uWLdx1111ceeWVTdokJSXRtWtXpyqVYD5UOT09nezsbMdnTpw4kYCAAPr27cuAAQNcJpMiIu6kBEy8k78/pKXBk0/C%2BvVQVgZ5efDii3D33dC3L5w%2BDe%2B9B888AxMmQM%2Be5jyyW26Bn/8c3nwT9u83y32ISKdhtVqZN28eY8eOJSkpicmTJ5OcnOw0NG737t0kJyeTmJjIunXreOGFFxzn33XXXVx77bXs3bsXm83G4sWLAXPY4oYNG%2BjXrx8bNmxoUtq%2BWS0NQXQuS3TxlhaEhYVx%2BvTpZl8vKysjKiqKkJAQ9uzZw6efftq67/kd0tPTWblyJefOnePAgQPk5%2BczYsSIJu3sc%2Bvq6up4%2BumnHb1pBw4ccCR5hw4dYu/evfTp04czZ844eiZramp45513SExMBMy5bBs3bgSguLiYffv2ER8ff1G%2Bj4hIW6kMvfiGgAAYNsxcHnnEPPbtt/Dpp/DJJ5CbC198AYWFkJNjLnYREZCSAsnJMGiQuU5OhpgYz3wXEbnkxo8fz/jx452ONRwWd%2B211zbbE7JixQqXx6Ojox2l6i9IS0MQPSA6Oprvfe97DBo0iFtuuYVbb73V6fVx48axYMECUlJSGDBgANdcc80Fvb89yW08DDE5OZnJkyczcOBArFarU6n4adOmMWPGDNLS0lixYgXz588H4Pbbb2fKlCkAfPTRR2RlZREQEICfnx8vvfQS3bt3p7CwkPT0dM6dO0dtbS033XST47PHjh3L%2BvXrGThwIP7%2B/jz//PNER0df%2BEUTEbmILIarQdnitdLS0sjLy/N0GN7JMMx5Y198AZ9/Xr8uLHTdPiamPhlLSjKHQPbvbxYE8VPnsMjF1hnvX2lpaeTt2mU%2BC6ysDMLD2b17N0lJSZ4OTRrQv4mIa53xvu0O6gGTjsNiqa%2BeOGlS/fFjx%2BDLL2HHDti5s34pKoIPPjCXhoKDoV8/MxmzJ2UJCeb79ujRpgnuItJJ1dSYyVdEBHzHHDMREekclIBJxxcXZy5jxtQfMwxzXoY9Kdu71yzysXevWR5/%2B3ZzaSwkpD7Ju/LK%2Bu0%2BfeCKK8wy%2ByIiducLfXhzAQ4REXEvJWDtlJOTw%2BzZs6mtrWXatGlNJmUvX76c3/zmNwCEhoby8ssvM2TIEMB8oGVYWBj%2B/v5YrVZ18bqTxWL%2BQtS7NzSaJ8LJk5CfX5%2BU7dtnFvP4%2Bms4ccJM2hpV3nKIjjYTscaLzWbO/4iN1fBGkc7EnoB5yfwvERHxPCVg7VBbW8usWbPYsGEDNpuN4cOHk56ezsCBAx1t%2Bvbty6ZNm4iKimLdunVMnz6df//7347XN27cSPfu3T0RvjQnMhKGDzeXxk6eNBOxr7%2BuT8q%2B/hoOHTKXkhJz%2Bfxz1%2B9ttUKvXuYvYzZb/dKzZ/0SFwdBQZf2O4qIe6gHTEREGlEC1g65ubkkJCQ4StpmZmaSnZ3tlIBdd911ju1rrrmGgoICt8cpF1FkJFx1lbk0VldnFvywJ2P25ZtvoKDAHPJYUlJ/vCXdujknZJddVr9uuISHa06aiDdTAiYiIo0oAWuHI0eOcHmDYSU2m82pd6uxxYsXc8sttzj2LRYLY8aMwWKx8NBDDzF9%2BvRLGq9cYn5%2B9fPNmivbXFFhJmP25fBhOHIEjh6tX44dM4c62oc7tiQoyCwMEhtrLq62Y2Kge3dzHRh48b%2B3iDRPCZiIiDSiBKwdXFXwtzTTG7Fx40YWL17MRx995Dj28ccf07NnT44fP87o0aNJTExk5MiRTc5duHAhCxcuBKCoqOgiRS8eYa%2Bw2K9f823q6swKjfaE7NtvXS/HjkF5eet61OzCw81ErGFS1r27OXete3fn7ehosyfu/HN6RKQNOsgcsNDQUM6cOcPRo0d59NFHefPNN5u0ueGGG/jd735HWlpas%2B9z7tw57r33XrZs2UJ0dDSrVq2iT58%2BTdqtWrWKZ555htraWm699VZ%2B%2B9vfAvCHP/yBRYsWYbVaiYmJYcmSJVxxxRWO806dOkVSUhIZGRnMmzev/V9cROQSUALWDjabjcOHDzv2CwoK6NmzZ5N227dvZ9q0aaxbt87pAZD2trGxsWRkZJCbm%2BsyAZs%2Bfbqjd6ylH2zSQfj5mb1XPXrA0KEttz1zxqzaePy4OfzR1XZRkbkUF8OpU%2Bayf3/r44mMNBMxe0LWeDsqqn5puK95bCIdrgesZ8%2BeLpOv1lq8eDFRUVF89dVXrFy5kieffJJVq1Y5tSkpKeHxxx9ny5YtxMTEcN999/Hee%2B8xatQohg4dSl5eHiEhIbz88ss88cQTTuc/9dRTfP/7329zfCIi7qAErB2GDx9Ofn4%2BBw4coFevXqxcuZLXX3/dqc0333zD7bffzmuvvUb//v0dx8vLy6mrqyMsLIzy8nLWr1/PL3/5S3d/BfF1oaHmcn4eYovq6swiIvZkzJ6YlZSY%2B/YCIvbt4mIoLTXPsRcfuRDBwWbyFhXlem1fIiJcrzVcUjqC6mpznmavXp6OxOHJJ5/kiiuu4OGHHwZg7ty5hIWF8dBDDzFx4kRKS0uprq7m6aefZuLEiU7nHjx4kNtuu40dO3ZQUVHBlClT2LVrF0lJSVRUVHznZ2dnZzN37lwA7rjjDh555BEMw3AaPfL111/Tv39/YmJiALj55ptZvXo1o0aN4sYbb3S0u%2Baaa/jrX//q2N%2ByZQuFhYWMGzdOVYVFxKspAWsHq9XKvHnzGDt2LLW1tUydOpXk5GQWLFgAwIwZM/jv//5vSkpKHD/o7OXmCwsLycjIAKCmpoa7776bcePGeey7SCfg51ffazVgQOvOqa2FsjIzITtxon7dcLu01FwabpeWmvPdKirMoZJtERRkJmP2B9jatxvuh4c33W64hIaalSdFPCkuDgICPB2FQ2ZmJj/%2B8Y8dP5feeOMNcnJyCAoKYs2aNYSHh1NcXMw111xDenp6s0PrX375ZUJCQti%2BfTvbt2/nqgbFiaZNm8aMGTOajNpoOHfaarUSERFBSUmJUzXghIQE9uzZw8GDB7HZbKxdu5Yqe09iAw3nVdfV1fHYY4/x2muv8d5777XvAomIXGL6zaSdxo8fz/hGz5GaMWOGY3vRokUsWrSoyXnx8fFs27btkscn0i7%2B/vVJ24UwDHN%2Bmr33zN6T1rBHrbTUTO5OnnS9rqw0l8LC9n2H4GAzGQsLa7oODTXXDZeGx%2Bw9jPbtrl01J04uXAvDDy2/vjRVTI1fNZ2jbDd06FCOHz/O0aNHKSoqIioqit69e1NdXc3PfvYzNm/ejJ%2BfH0eOHKGwsJDLLrvM5fts3ryZRx99FICUlBRSUlIcr7n6uQetmzsdFRXFyy%2B/zJ133omfnx/XXXcdXzfqgf/rX/9KXl4emzZtAuCll15i/PjxToWxRES8lRIwEbn4LJb65MVmu/DzDQPOnjXnq5WV1S%2BN90%2Bfrp/X1nBp%2BJq9J669iZxdSEj9d7MnZa72u3Ztedu%2BhISYaw257Li8cP7XHXfcwZtvvsm3335LZmYmAMuXL6eoqIgtW7YQEBBAnz59qKysbPF9musda4597rTNZqOmpoaysjK6ufgDz4QJE5gwYQJgFqLyb/CHj3fffZdnnnmGTZs20aVLFwA%2B%2BeQTPvzwQ1566SXOnDlDVVUVoaGhZGVlXVB8IiLuoARMRLyPxVKfoMTFtf19GiZy9oSs4frMGXPdcLEfa7huuH32rLkcP37xvi%2BYQyVdJWYhIS1vN1y6djV7/Oz7jbcDA/XcOE9oIQFrqafqUsrMzOTBBx%2BkuLjY0YtUVlZGbGwsAQEBbNy4kUPfUV115MiRLF%2B%2BnBtvvJEdO3awffv27/zc9PR0li5dyrXXXsubb77JTTfd5DKJO378OLGxsZSWlvLSSy/xxhtvAPDFF1/w0EMPkZOTQ2xsrKP98uXLHduvvvoqeXl5Sr5ExGspARORjutiJXJ2dXVmb9rp0%2BYQS3ty1nC74TH70nC/4fbZs/XbNTX1PXuXip%2BfmYjZE7OG68bb9iUoqOmx5l6z7zdca8imV5agT05O5vTp0/Tq1Yu48/83fvjDHzJhwgTS0tJITU0lMTGxxfeYOXMmU6ZMISUlhdTUVEaMGOF4rbk5YA888AD33HMPCQkJdOvWjZUrVzpeS01NZevWrQDMnj3bMUz/l7/8paOI1eOPP86ZM2f4z//8TwB69%2B7N3//%2B93ZeDRER97IYrgZki9dKS0tTdSeRjqiqqmli1ty6oqK%2BJ67x0vj1htvV1e7/XlarIxlL6927092/0iwW8tasgR/8wHFs9%2B7dJCUleTAqaUz/JiKu6ffOS0M9YCIi3iAw0Fyioi7dZ9TU1CdlDRdXx5o7XlnZdLvxsYb7NTX1wzu9cC6UW3TW7y0iIi4pARMR6Sys1voS/e5gGGavmz0hu/VW93yuN0lOhoEDPR2FiIh4ESVgIiJyaVgs9T177kr6vE1QkLmIiIic5%2BfpAERERDobTb/2Hvq3EBF3UwImIiLiRkFBQZSUlOgXfy9gGAYlJSUEqZdSRNxIQxBFRETcyGazUVBQQFFRkadDEcyE2NaWB8aLiLSREjARERE3CggIoG/fvp4OQ0REPERDEEVERERERNxECZiIiIiIiIibKAETERERERFxE4uhMkw%2BJTQ0lMTERE%2BH4VJRURExMTGeDsMlxdY2iq1tFJtrBw8epLi42COf7Sm6Z7eNYmsbxdY2iq15nfG%2B7Q4qwuFjEhMTycvL83QYLqWlpSm2NlBsbaPY2sabY%2BuIdM9uG8XWNoqtbRSbuJuGIIqIiIiIiLiJEjARERERERE38Z87d%2B5cTwchF2bYsGGeDqFZiq1tFFvbKLa28ebYOiJvvt6KrW0UW9sotrbx5tikbVSEQ0RERERExE00BFFERERERMRNlID5iJycHAYMGEBCQgJZWVmeDqeJPn36MHjwYFJTU0lLS/NoLFOnTiU2NpZBgwY5jp04cYLRo0fTr18/Ro8eTWlpqdfENnfuXHr16kVqaiqpqam88847bo/r8OHD3HjjjSQlJZGcnMwLL7wAeMd1ay42b7hulZWVjBgxgiFDhpCcnMyvfvUrwDuuW0vxecO16wy8%2Bb6te3bbY/OW/z%2B6b7eNN9%2B3dc/uRAzxejU1NUZ8fLyxf/9%2B49y5c0ZKSoqxc%2BdOT4fl5IorrjCKioo8HYZhGIaxadMmY8uWLUZycrLj2OOPP24899xzhmEYxnPPPWc88cQTXhPbr371K%2BP555/3SDx2R48eNbZs2WIYhmGcOnXK6Nevn7Fz506vuG7NxeYN162urs44ffq0YRiGUVVVZYwYMcL45JNPvOK6tRSfN1y7js7b79u6Z7c9Nm/5/6P7dtt4831b9%2BzOQz1gPiA3N5eEhATi4%2BMJDAwkMzOT7OxsT4fltUaOHEm3bt2cjmVnZ3PfffcBcN9997F27VpPhOYyNm8QFxfHVVddBUBYWBhJSUkcOXLEK65bc7F5A4vFQmhoKADV1dVUV1djsVi84rq1FJ9cerpvt57u2W2j%2B3bbePN9W/fszkMJmA84cuQIl19%2BuWPfZrN5zY3MzmKxMGbMGIYNG8bChQs9HU4ThYWFxMXFAeYPhuPHj3s4Imfz5s0jJSWFqVOnemyojd3Bgwf54osvuPrqq73uujWMDbzjutXW1pKamkpsbCyjR4/2uuvmKj7wjmvXkXn7fVv37Pbxtv8/um9fGG%2B%2Bb%2Bue3TkoAfMBhotCld72F5GPP/6Yzz//nHXr1jF//nw2b97s6ZB8xsyZM9m/fz9bt24lLi6Oxx57zGOxnDlzhkmTJvGnP/2J8PBwj8XhSuPYvOW6%2Bfv7s3XrVgoKCsjNzWXHjh0eiaM5ruLzlmvXkXn7fVv37Lbztv8/um9fOG%2B%2Bb%2Bue3TkoAfMBNpuNw4cPO/YLCgro2bOnByNqyh5PbGwsGRkZ5ObmejgiZz169ODYsWMAHDt2jNjYWA9HVK9Hjx74%2B/vj5%2BfHgw8%2B6LFrV11dzaRJk/jhD3/I7bff7ojNG65bc7F5w3Wzi4yM5IYbbiAnJ8drrltDjePzpmvXEXn7fVv37Lbzpv8/um%2B3jzfft3XP7tiUgPmA4cOHk5%2Bfz4EDB6iqqmLlypWkp6d7OiyH8vJyTp8%2B7dhev369U8Uob5Cens7SpUsBWLp0KRMnTvRwRPXsN3yANWvWeOTaGYbBAw88QFJSEj/96U8dx73hujUXmzdct6KiIk6ePAlARUUF7777LomJiV5x3VqKzxuuXUfnzfdt3bPbx1v%2B/%2Bi%2B3TbefN/WPbsT8WQFEGm9t99%2B2%2BjXr58RHx9vPP30054Ox8n%2B/fuNlJQUIyUlxRg4cKDH48vMzDQuu%2Bwyw2q1Gr169TIWLVpkFBcXGzfddJORkJBg3HTTTUZJSYnXxPajH/3IGDRokDF48GBjwoQJxtGjR90e14cffmgAxuDBg40hQ4YYQ4YMMd5%2B%2B22vuG7NxeYN123btm1GamqqMXjwYCM5Odn49a9/bRiG4RXXraX4vOHadQbeet/WPbt9sXnL/x/dt9vGm%2B/bumd3HhbDcDFQXURERERERC46DUEUERERERFxEyVgIiIiIiIibqIETERERERExE2UgImIiIiIiLiJEjARERERERE3UQImIiIiIiLiJkrARERERERE3EQJmIiIiIiIiJsoARMREREREXETJWAiIiIiIiJuogRMRERERETETZSAiYiIiIiIuIkSMBERERERETdRAiYiIiIiIuImSsBERERERETcRAmYiIiIiIiImygBExERERERcRMlYCIiIiIiIm6iBExERERERMRNlICJiIiIiIi4yf8HblkT3u1gQDIAAAAASUVORK5CYII%3D\">"
      ]
     },
     "metadata": {},
     "output_type": "display_data"
    }
   ],
   "source": [
    "s.run(tf.global_variables_initializer())\n",
    "\n",
    "BATCH_SIZE = 512\n",
    "EPOCHS = 40\n",
    "\n",
    "# for logging the progress right here in Jupyter (for those who don't have TensorBoard)\n",
    "simpleTrainingCurves = matplotlib_utils.SimpleTrainingCurves(\"cross-entropy\", \"accuracy\")\n",
    "\n",
    "for epoch in range(EPOCHS):  # we finish an epoch when we've looked at all training samples\n",
    "    \n",
    "    batch_losses = []\n",
    "    for batch_start in range(0, X_train_flat.shape[0], BATCH_SIZE):  # data is already shuffled\n",
    "        _, batch_loss = s.run([step, loss], {input_X: X_train_flat[batch_start:batch_start+BATCH_SIZE], \n",
    "                                             input_y: y_train_oh[batch_start:batch_start+BATCH_SIZE]})\n",
    "        # collect batch losses, this is almost free as we need a forward pass for backprop anyway\n",
    "        batch_losses.append(batch_loss)\n",
    "\n",
    "    train_loss = np.mean(batch_losses)\n",
    "    val_loss = s.run(loss, {input_X: X_val_flat, input_y: y_val_oh})  # this part is usually small\n",
    "    train_accuracy = accuracy_score(y_train, s.run(classes, {input_X: X_train_flat}))  # this is slow and usually skipped\n",
    "    valid_accuracy = accuracy_score(y_val, s.run(classes, {input_X: X_val_flat}))  \n",
    "    simpleTrainingCurves.add(train_loss, val_loss, train_accuracy, valid_accuracy)"
   ]
  },
  {
   "cell_type": "markdown",
   "metadata": {},
   "source": [
    "# MLP with hidden layers"
   ]
  },
  {
   "cell_type": "markdown",
   "metadata": {},
   "source": [
    "Previously we've coded a dense layer with matrix multiplication by hand. \n",
    "But this is not convenient, you have to create a lot of variables and your code becomes a mess. \n",
    "In TensorFlow there's an easier way to make a dense layer:\n",
    "```python\n",
    "hidden1 = tf.layers.dense(inputs, 256, activation=tf.nn.sigmoid)\n",
    "```\n",
    "\n",
    "That will create all the necessary variables automatically.\n",
    "Here you can also choose an activation function (remember that we need it for a hidden layer!).\n",
    "\n",
    "Now define the MLP with 2 hidden layers and restart training with the cell above.\n",
    "\n"
   ]
  },
  {
   "cell_type": "code",
   "execution_count": 15,
   "metadata": {},
   "outputs": [
    {
     "data": {
      "text/html": [
       "<img src=\"data:image/png;base64,iVBORw0KGgoAAAANSUhEUgAAA2AAAAEgCAYAAADSVRDhAAAABHNCSVQICAgIfAhkiAAAAAlwSFlzAAALEgAACxIB0t1%2B/AAAADh0RVh0U29mdHdhcmUAbWF0cGxvdGxpYiB2ZXJzaW9uMy4xLjIsIGh0dHA6Ly9tYXRwbG90bGliLm9yZy8li6FKAAAgAElEQVR4nOzdeVxV1fr48c%2BRQQVBBNHAwyiKggwKjilappbzQE45T9fSbtlgVter3bpl3%2BpXmaZXMzRL0SzTyjEcG5xTMydQQAZTQEDmcf3%2B2LGVAKdkOPq8X6/zOmfPa2/OPpznrLWeZVBKKYQQQgghhBBCVLpa1V0AIYQQQgghhLhfSAAmhBBCCCGEEFVEAjAhhBBCCCGEqCISgAkhhBBCCCFEFZEATAghhBBCCCGqiARgQgghhBBCCFFFJAATQgghhBBCiCoiAZgQQgghhBBCVBEJwIQQQgghhBCiikgAJoQQQgghhBBVRAIwIYQQQgghhKgiEoAJIYQQQgghRBWRAEwIIYQQQgghqogEYEIIIYQQQghRRSQAE0IIIYQQQogqIgGYEEIIIYQQQlQRCcCEEEIIIYQQoopIACaEEEIIIYQQVUQCMCGEEEIIIYSoIhKACSFum8FgICoqqrqLIYQQQghhciQAE6KGKSwsrO4i/G33wjkIIYQpUkpRXFxc3cUQQtyABGBCVKG4uDgGDx6Mo6MjDg4OTJ8%2BneXLl/Pggw8yY8YM7O3tmTt3LsXFxbzxxhu4ubnRqFEjxowZQ3p6OgC5ubmMGjUKBwcH7OzsaNu2LZcuXQJg%2BfLleHp6YmNjg4eHB1988UWFZTl9%2BjQ9evTA3t4eb29v1q5dqy8bN24c06ZNo0%2BfPtjY2NC%2BfXvOnTsHQEhICAABAQHUq1ePNWvWsGvXLoxGI2%2B//TYPPPAA48ePB2Dp0qV4eXlhb29P//79SUxM1I9hMBiYP38%2Bnp6eNGzYkBdffJHi4mLy8vKwt7fnt99%2B09e9fPkydevWJSkp6S79JYQQonLNmzePpk2bYmNjg4%2BPD%2BvXr9eXLV26lJYtW%2BrLjhw5ApT/PwJg7ty5jBo1St8%2BJiYGg8Gg/9jVrVs3Xn31VR588EGsrKw4f/48YWFh%2BjE8PT353//%2BV6p8GzZsIDAwEFtbW5o2bcqWLVv48ssvCQoKKrXee%2B%2B9x8CBAyvlGglx31JCiCpRWFio/P391bPPPqsyMzNVTk6O2rt3rwoLC1NmZmZq/vz5qqCgQGVnZ6tly5appk2bqnPnzqmMjAw1aNAgNWrUKKWUUosXL1Z9%2B/ZVWVlZqrCwUB06dEilp6erzMxMZWNjo06fPq2UUioxMVGdOHGi3LJkZmYqo9GoPv30U1VQUKAOHz6sHBwc9PXHjh2rGjRooPbv368KCgrUyJEj1bBhw/TtARUZGalP79y5U5mZmamZM2eq3NxclZ2drSIiIpSDg4M6fPiwys3NVdOnT1ddunQptY9u3bqplJQUFRsbq5o1a6aWLl2qlFLqySefVDNnztTX/eCDD1Tfvn3v0l9CCCEq39q1a1VCQoIqKipS4eHhysrKSiUmJqq1a9cqZ2dndeDAAVVcXKwiIyNVTExMhf8jlFJqzpw56oknntD3HR0drQBVUFCglFKqa9euysXFRZ04cUIVFBSo/Px89d1336moqChVXFysdu3aperWrasOHz6slFJq//79ytbWVm3btk0VFRWp%2BPh4derUKZWbm6saNGigTp48qR8rMDBQrVu3rgqvnBD3PgnAhKgiP//8s2rYsKH%2BD7NEWFiYcnFxKTXv4YcfVgsXLtSnT58%2BrczNzVVBQYFatmyZ6tixozp27FipbTIzM1X9%2BvXVunXrVHZ29g3LEh4erjp37lxq3pQpU9TcuXOVUloANnHiRH3Z999/r7y9vfXp8gIwCwsLlZOTo8%2BbMGGCevHFF/XpjIwMZW5urqKjo/V9bN68WV%2B%2BcOFC9fDDDyullNq3b58yGo2qqKhIKaVUUFCQWrNmzQ3PSQgharKAgAD1zTffqJ49e6oPPvigzPKK/kcodWsB2OzZs294/AEDBujHnTJlinr22WfLXW/q1KnqlVdeUUopdeLECWVnZ6dyc3Nv7SSFELdEmiAKUUXi4uJwc3PD3Ny8zDIXF5dS04mJibi5uenTbm5uFBYWcunSJUaPHk2vXr0YPnw4zs7OzJw5k4KCAqytrVmzZg2LFy/GycmJPn36cPr0aQB8fX2pV68e9erVY%2B/evcTGxrJ//37s7Oz0xxdffMEff/yhH/OBBx7QX1tZWZGZmXnD83N0dKROnToVnkO9evVwcHAgISGh3PN2c3PTmyi2b98ea2trdu/ezenTp4mKiqJ///43PL4QQtQkn332GYGBgfpn7IkTJ0hOTiYuLo6mTZuWWf9G/yNuxV//j2zevJkOHTpgb2%2BPnZ0dmzZtIjk5WT9WeWUAGDt2LKtWrUIpxcqVKxk6dCi1a9e%2BozIJIconAZgQVcTFxYULFy6Um6DCYDCUmnZ2diY2NlafvnDhAubm5jRu3BgLCwvmzJnDyZMn%2Bfnnn/nuu%2B/47LPPAOjVqxfbt2/n4sWLtGjRgsmTJwPw%2B%2B%2B/k5mZSWZmJl26dMHFxYWuXbuSlpamPzIzM1m0aNEdn9/NziErK4uUlBSaNGmiz4uLiyt1js7Ozvr02LFj%2Bfzzz1m5ciWhoaGlgjshhKjJYmNjmTx5MgsWLCAlJYW0tDRatWqFUgoXFxe9T%2B31bvQ/wtramuzsbH36%2Bh/LSlz/GZyXl8eQIUN44YUXuHTpEmlpafTu3RullH6s8soA0KFDBywtLdm7dy%2BrVq1i9OjRt33%2BQogbkwBMiCrSrl07nJycmDVrFllZWeTm5vLTTz%2BVu%2B6IESN4//33iY6OJjMzk1deeYVhw4Zhbm7Ozp07%2Be233ygqKsLW1hYLCwvMzMy4dOkSGzduJCsri9q1a1OvXj3MzMzK3X/fvn05e/YsK1eupKCggIKCAg4ePMipU6du6VwaN27M%2BfPnb7jOyJEjCQsL4%2BjRo%2BTl5fHKK6/Qvn173N3d9XXeeecdUlNTiYuL48MPP2TYsGH6stGjR7N%2B/Xo%2B//xzxowZc0vlEkKImiArKwuDwYCjoyMAYWFhnDhxAoBJkybx7rvvcvjwYZRSREVFERsbe8P/EYGBgezZs4cLFy6Qnp7OW2%2B9dcPj5%2Bfnk5eXh6OjI%2Bbm5mzevJlt27bpyydOnEhYWBgREREUFxeTkJCgt5gAGDNmDNOnT8fc3JzOnTvf7csjxH1PAjAhqoiZmRnffvstUVFRuLq6YjQaWbNmTbnrTpgwgdGjRxMSEoKHhwd16tTho48%2BArRfPkNDQ7G1taVly5Z07dqVUaNGUVxczHvvvYezszP29vbs3r2bjz/%2BuNz929jYsG3bNsLDw3F2duaBBx7gpZdeIi8v75bOZe7cuYwdOxY7O7tS2ROv1717d15//XWGDBmCk5MT586dIzw8vNQ6AwYMICgoiMDAQPr06cPEiRP1ZUajkTZt2mAwGOjSpcstlUsIIWoCHx8fnn/%2BeTp27Ejjxo357bffePDBBwF4/PHHefXVVxk5ciQ2NjYMHDiQK1eu3PB/RI8ePRg2bBj%2B/v4EBQXRt2/fGx7fxsaG%2BfPnM3ToUBo0aMCqVatKNeNu164dYWFhzJgxg/r169O1a9dSLRZGjx7NiRMnpPZLiEpiUCX10UIIUYUMBgORkZF4eXlVuM6ECRNwdnbmjTfeqMKSCSHE/S0nJ4dGjRpx5MgRmjVrVt3FEeKec2c9PYUQopLFxMTw9ddf8%2Buvv1Z3UYQQ4r6yaNEi2rZtK8GXEJVEAjAhRI0ze/Zs3n//fV5%2B%2BWU8PDyquzhCCHHfcHd3RynFN998U91FEeKeJU0QhRBCCCGEEKKKSBIOIYQQQgghhKgiEoAJIYQQQgghRBWRPmAmpmHDhqXGURJCCFMRExNDcnJydRejSslnthDClN2Pn9tVQQIwE%2BPu7s6hQ4equxhCCHHbgoODq7sIVU4%2Bs4UQpux%2B/NyuCtIEUQghxH1jwoQJNGrUiFatWpW7XCnFP//5T7y8vPD39%2BfIkSP6si1btuDt7Y2Xlxfz5s2rqiILIYS4x0gAJoQQ4r4xbtw4tmzZUuHyzZs3ExkZSWRkJEuWLOHJJ58EoKioiGnTprF582ZOnjzJ6tWrOXnyZFUVWwghxD1EAjAhhBD3jZCQEOzt7StcvmHDBsaMGYPBYKBDhw6kpaVx8eJFDhw4gJeXF56enlhaWjJ8%2BHA2bNhQhSUXQghxr5A%2BYEJUo4KCAuLj48nNza3uoghx19SpUwej0YiFhUV1F%2BW2JSQk4OLiok8bjUYSEhLKnb9///47Oobc9zWPKb9nhRCmRwIwIapRfHw8NjY2uLu7YzAYqrs4QvxtSilSUlKIj4/Hw8Ojuotz25RSZeYZDIYK55dnyZIlLFmyBICkpKQyy%2BW%2Br1lM/T0rhDA90gRRiGqUm5uLg4ODfAkT9wyDwYCDg4PJ1u4YjUbi4uL06fj4eJydnSucX54pU6Zw6NAhDh06hKOjY5nlct/XLKb%2BnhVCmB6pATM1130BEPcG%2BRIm7jWm/J7u378/CxYsYPjw4ezfv5/69evj5OSEo6MjkZGRREdH06RJE8LDw1m1atUdH8eUr9G9SP4e4r6hFBQVQWEhFBRARgakpkJamvZ8/eu0tOou7T1LasAqyc1SHX/xxRf4%2B/vj7%2B9Pp06dOHbs2K3t%2BPJl7cYR4i5IS0vj448/vqNte/fuTdrf%2BHB%2B66238PLywtvbm61bt5a7zpUrV%2BjRowfNmjWjR48epKamApCSksJDDz1EvXr1mD59eqltXn31VVxcXKhXr16Z/a1duxYfHx98fX0ZOXIkALGxsQQFBREYGIivry%2BLFy/W1584cSIBAQH4%2B/sTGhpKZmYmAOnp6fTr14%2BAgAB8fX0JCwvTt3F3d8fPz4/AwMBS46ccPXqUDh066PMPHDhw02uxevVq/Pz88Pf359FHHy0zGOa6deswGAylxpm6cOECPXv2pGXLlvj4%2BBATEwNAly5dCAwMJDAwEGdnZwYOHHjTc0lLSyM0NJQWLVrQsmVLfvnlFwDmzp1LkyZN9P1t2rSp3L9fTTRixAg6duzImTNnMBqNLFu2jMWLF%2Bt/9969e%2BPp6YmXlxeTJ0/W7w9zc3MWLFhAr169aNmyJUOHDsXX17c6T%2BWO1fT7/tixY3Ts2BE/Pz/69evH1atXAcjPz2f8%2BPH4%2BfkREBDArl27AMjIyNDfi4GBgTRs2JBnn30WgOXLl%2BPo6Kgv%2B%2BSTT%2B647EJUi8JCSE%2BHixfh3Dn47TfYtw927IDvvoNVq2D%2BfJgzB6ZNg2HD4JFHIDAQjEZo0ABsbKBuXTA3h1q1wMJCm7a1hSZNoFUr6NwZ%2BvWDMWPgn//U9vf%2B%2B9V99vcuJSrF7t271eHDh5Wvr2%2B5y3/66Sd15coVpZRSmzZtUu3atbul/QaBUqmpd62conqdPHmyWo8fHR1d4Xu0sLCw0o77%2B%2B%2B/K39/f5Wbm6vOnz%2BvPD09yz3eiy%2B%2BqN566y2llFJvvfWWmjlzplJKqczMTLV37161aNEiNW3atFLb/PLLLyoxMVFZW1uXmn/27FkVGBio33eXLl1SSimVl5encnNzlVJKZWRkKDc3N5WQkKCUUio9PV3ffsaMGXpZ/vvf/%2BpluXz5smrQoIHKy8tTSinl5uamkpKSypxLjx491KZNm5RSSn3//feqa9euN7wWBQUFytHRUd/Xiy%2B%2BqObMmaPv7%2BrVq6pLly6qffv26uDBg/r8rl27qm3btunnk5WVVaYsgwcPVitWrLjpuYwZM0YtXbpUv06pf372zJkzR73zzjtl9nu98t7bQUFBN9zmXlTeOct9f%2BP7Pjg4WO3atUsppdSyZcvUv/71L6WUUgsWLFDjxo1TSmn3b5s2bVRRUVGZ7du0aaN2796tlFIqLCyszGdERar77yLuUwUFSp0/r1REhFKffKLUq68qNWKEUh06KNW4sVJandXdfZiZKVW7tlJWVtoxWrRQqmNHpR57TKmRI5WaNk0rx7vv3pef21VBmiBWkpCQEP2X5/J06tRJf92hQwfi4%2BNvfefp6WBn9zdKJ4Rm1qxZnDt3jsDAQHr06EGfPn147bXXcHJy4ujRo5w8eZKBAwcSFxdHbm4uzzzzDFOmTAG0mp5Dhw6RmZnJY489RufOnfn5559p0qQJGzZsoG7duhUed8OGDQwfPpzatWvj4eGBl5cXBw4coGPHjmXWK/mVe%2BzYsXTr1o23334ba2trOnfuTFRUVJl9d%2BjQodxjLl26lGnTptGgQQMAGjVqBIClpaW%2BTl5eHsXFxfq0ra0toHXSz8nJ0ZspGQwGMjIyUEqRmZmJvb095uY3/jg1GAz6L/np6el6/6GKrkVwcDBKKbKysnBwcODq1at4eXnp%2B5s9ezYzZ87k3Xff1eedPHmSwsJCevToAVBuLWBGRgY7duzQa7oqOperV6%2ByZ88eli9frl%2Bn66%2BVMF01/b4/c%2BYMISEhAPTo0YNevXrx%2Buuvc/LkSbp37w5o96%2BdnR2HDh2iXbt2%2BraRkZFcvnyZLl263O3LJsStUQquXIH4%2BGuPpCRISdEeV65ce52SojX1KyfJj65WLbC2Biura88lD2trqFcPGja89nBwKD1tba3VeFlYaDVgZmZwO01uV6/%2B%2B9dElCEBWA2wbNkyHnvssVvfID298gojqk9l9UG4wQf7vHnzOHHiBEePHgVg165dHDhwgBMnTujZwD799FPs7e3Jycmhbdu2DBkyBAcHh1L7iYyMZPXq1SxdupShQ4fy1VdfMWrUKL1Z19SpU0utn5CQUCpQKkn1/VeXLl3CyckJACcnJy5fvnwHF0Bz9uxZAB588EGKioqYO3cujz76KABxcXH06dOHqKgo3nnnnVLJFcaPH8%2BmTZvw8fHhvffeA2D69On0798fZ2dnMjIyWLNmDbVqaS26DQYDPXv2xGAw8I9//EP/4vrBBx/Qq1cvXnjhBYqLi/n5559veC06duzIokWL8PPzw9rammbNmrFw4UIAfv31V%2BLi4ujbt2%2BpAOzs2bPY2dkxePBgoqOjeeSRR5g3bx5mZmb6OuvXr6d79%2B56cFnRuZw/fx5HR0fGjx/PsWPHCAoK4sMPP8Ta2hqABQsW8NlnnxEcHMx7772nB7biNsl9X6Z8rVq1YuPGjQwYMIAvv/xST34SEBCgB3FxcXEcPnyYuLi4UgHY6tWrGTZsWKk%2BXV999RV79uyhefPmvP/%2B%2B6WGExDitl29CrGxcOHCtcf1wVZ8PNxuQhdnZ/D0BA%2BPa4%2BSaWdnLWgS9xQJwKrZzp07WbZsGT/%2B%2BGOF61yf0hiQAExUqnbt2pVKxTx//nzWr18PaIFKZGRkmS9iHh4eBAYGAhAUFKTX/v71C1gJdRspve%2BWwsJCIiMj2bVrF/Hx8XTp0oUTJ05gZ2eHi4sLx48fJzExkYEDBxIaGkrjxo0BCAsLo6ioiKeffpo1a9Ywfvx4tm7dSmBgIDt27ODcuXP06NGDLl26YGtry08//YSzszOXL1%2BmR48etGjRgpCQEBYtWsT777/PkCFDWLt2LRMnTuSHH36o8FoUFBSwaNEifv31Vzw9PXn66ad56623eOWVV5gxY4ZeM/XXc9y7dy%2B//vorrq6uDBs2jOXLlzNx4kR9ndWrVzNp0iR9uqJzKSws5MiRI3z00Ue0b9%2BeZ555hnnz5vH666/z5JNPMnv2bAwGA7Nnz%2Bb555/n008/vft/NFFlatJ9/%2Bmnn/LPf/6T//znP/Tv31%2BveZ0wYQKnTp0iODgYNzc3OnXqVKbmOTw8nJUrV%2BrT/fr1Y8SIEdSuXZvFixczduxYduzYcbPLIe5naWkQHQ3nz2vP0dGlA65b%2BQ5Wv77W/8po1PpYNW6s1UzZ22vP179u0ECrnRL3FQnAqtHx48eZNGkSmzdvLvOP7XpTpkzRf0UPNhgkALtX3agJQhUqqeEA7ZfxH374gV9%2B%2BQUrKyu6detWbqrm2rVr66/NzMzIycm54TFuNaV348aNuXjxIk5OTly8eFFvNngnjEYjHTp0wMLCAg8PD7y9vYmMjKRt27b6Os7Ozvj6%2BrJ3715CQ0NLndOwYcN45513GD9%2BPGFhYcyaNQuDwYCXlxceHh6cPn2adu3a6efRqFEjBg0axIEDBwgJCWHFihV8%2BOGHADz%2B%2BON6EFTRtSipnWjatCkAQ4cOZd68eWRkZHDixAm6desGwB9//EH//v3ZuHEjRqOR1q1b4%2BnpCcDAgQPZt2%2BfHoClpKRw4MAB/Ys1UOG5uLq6YjQaad%2B%2BPQChoaHMmzdP/7uUmDx5Mn379r3jv8t9T%2B77Muu1aNGCbdu2AVqt7vfffw9oiVDevy4pQKdOnWjWrJk%2BfezYMQoLCwkKCtLnXf%2B/dfLkybz00ks3LKO4xykFycmla68uXICYmGvB1s2SzFhZgatr6YfRCC4u1wIuG5sqOR1huiQAqyYXLlxg8ODBrFy5kubNm9/exn/2IxHi77KxsSEjI6PC5enp6TRo0AArKytOnz7Nvn377spx%2B/fvz8iRI3nuuedITEwkMjKyVDOi69dbsWIFs2bNYsWKFQwYMOCOjzlw4EBWr17NuHHjSE5O5uzZs3h6ehIfH4%2BDgwN169YlNTWVn376ieeeew6lFOfOncPLywulFN9%2B%2By0tWrQAwNXVlYiICLp06cKlS5c4c%2BYMnp6eZGVlUVxcjI2NDVlZWWzbto1///vfgBbc7d69m27durFjxw79i2NF1%2BLSpUucPHmSpKQkHB0d2b59Oy1btqR%2B/fqlsiF269aNd999l%2BDgYIqKikhNTdW32bFjR6lMjF9%2B%2BSV9%2B/alTp06%2BryKzqVhw4a4uLhw5swZvL29iYiIwMfHB0APikFr0lhRtldRM9X0%2B/7y5cs0atSI4uJi3njjDb1GLTs7G6UU1tbWbN%2B%2BHXNzc/09CVrt7ogRI0rt6/r36saNG2nZsuVdORdRg%2BTmarVVly9r/amuXCn7nJKiDeNz4cLNmwdaWZVuAujhAe7u4OamBVv29pXXdFjcNyQAqyQjRoxg165dJCcnYzQaee211ygoKAC05hn/%2Bc9/SElJ4amnngK0X/auTyV9Q1IDJu4SBwcHHnzwQVq1asVjjz1Gnz59Si1/9NFHWbx4Mf7%2B/nh7e1eY4KIiFfUF8fX1ZejQofj4%2BGBubs7ChQv1fkqTJk1i6tSpBAcHM2vWLIYOHcqyZctwdXXlyy%2B/1Pfh7u7O1atXyc/P55tvvmHbtm34%2BPgwc%2BZMVq1aRXZ2NkajkUmTJjF37lx69eqlr2NmZsY777yDg4MD27dv5/nnn8dgMKCU4oUXXsDPz4/i4mLGjh3L1atXUUoREBDAokWLAC0Bxrhx4/Dz80Mpxdtvv03Dhg05f/48gwYNArTmgCNHjtT7mS1dupRnnnmGwsJC6tSpozcrruhaODs7M2fOHEJCQrCwsMDNza3cZofXMzMz491336V79%2B4opQgKCmLy5Mn68vDwcGbNmlVqm4rOBeCjjz7iiSeeID8/H09PTz1xx8yZMzl69CgGgwF3d3f%2B97//3fqbQlS7mn7fr169Wu/vOHjwYMaPHw9ogVmvXr2oVasWTZo0KdXUELRhJv46JML8%2BfPZuHEj5ubm2Nvb3/QeEjVUQYFWOxUZCWfPas8lr%2BPibq8m2c5OC6RKAqqSR0mw5egoAZaodAZVXqNsUWMFGwwceust%2BMuXKGGaTp06Jb/IintSee/t4ODgW/%2Bh6R5R3jnLfV8zyd%2BlmimljXV19qz2OHPm2vP58xWPgWpmptVQOTtr/ans7cs%2B29tfayb4ZwIicWvux8/tqiA1YKZIasCEEEIIYYquXtVqr0oCrOuDrT8Huy/DYNBqqZo3h2bNtEfJaw8PSWIhTI4EYKZIAjAhhBBC1GRpaXDiBPz2m/b8%2B%2B9akHXxYsXbODhogVXz5uDtfe21lxfcYIw5IUyNBGCmSJJwCCGEEKImuHLlWo3W9QFXfHz569eurdVclQRYJc/NmmkDBwtxH5AAzBRJDZgQQgghqkpRkRZUnTpVOgFGZKQWgJWnbl3w8QE/P%2B3h6wstWmj9sP4cuF6I%2B5UEYKZIAjAhhBBCVJaCAjh8GPbsgd274ccfK259Y219rQbL11cLtlq10tK4/5nlUghRmgRgpkgCMCGEEELcLTk5cOCAFmzt2QO//ALZ2aXXcXeH1q3LJsF44AFJ2y7EbZI6YFMkAZioRvXq1QMgMTGR0NDQctfp1q3bTdPW5uXlMWzYMLy8vGjfvj0xMTHlrnf48GH8/Pzw8vLin//8JyUjZ1y4cIGHHnqI1q1b4%2B/vr4//ExsbS1BQEIGBgfj6%2BupjEgEsWLAALy8vDAZDqcGMv/jiC/z9/fH396dTp04cO3YMgDNnzhAYGKg/bG1t%2BeCDDwA4duwYHTt2xM/Pj379%2BnH1z1%2BHDxw4oK8fEBDA%2BvXrb3ouM2bM0Ldp3rw5dnZ2%2BjYXLlygZ8%2BetGzZEh8fH/06RUdH0759e5o1a8awYcPIz88HYMOGDfj7%2BxMYGEhwcDA//vijvq/3338fX19fWrVqxYgRI8j9c0DS2bNn69v07NmTxMREfZvjx4/TsWNHfH198fPz07cR95eqvu/XrFmDv78/vr6%2BzJw5U59f0b2yc%2BfOUvdqnTp1%2BOabb0rt8%2Bmnn9bP476XkQHbtsGrr0KXLtrYWN26wZw5EBGhBV8tWsCUKfDFF9oAxtHR8PXX8PbbMGkShISAk5MEX0LcCSVMShAoZWdX3cUQd8nJkyeruwi3zdra%2BqbrdO3aVR08ePCG6yxcuFD94x//UEoptXr1ajV06NBy12vbtq36%2BeefVXFxsXr00UfVpk2blFJKTZ48WX388cdKKaV%2B//135ebmppRSKi8vT%2BXm5iqllMrIyFBubm4qISFBKaXUkSNHVHR0tHJzc1NJSUn6MX766Sd15coVpZRSmzZtUu3atStTjsLCQtW4cWMVExOjlFIqODhY7dq1Syml1LJly9S//vUvpZRSWVlZqqCgQCmlVGJionJ0dNSnKzqX682fP1%2BNHz%2B%2B1LXctm2bfpySd9kAACAASURBVD5ZWVlKKaUef/xxtXr1aqWUUv/4xz/0a5GRkaGKi4uVUkodO3ZMeXt7K6WUio%2BPV%2B7u7io7O1vfPiwsTCmlVHp6un68Dz/8UP%2B7FBQUKD8/P3X06FGllFLJycmqsLCwTJnLU957Oygo6Ja2vZeUd85y39/4vk9OTlYuLi7q8uXLSimlxowZo3744Ycy6/31XimRkpKiGjRooN8rSil18OBBNWrUqBuehyn%2BXW5JcbFSFy4o9fXXSj3/vFJt2yplZqaUNvKW9jAYlAoIUOrpp5Vat06pS5equ9SihrgfP7ergtSAmaKrV29v1HchKvDSSy/x8ccf69Nz587lvffeIzMzk%2B7du9OmTRv8/PzYsGFDmW1jYmJo1aoVADk5OQwfPhx/f3%2BGDRtGTk7OTY%2B9YcMGxo4dC0BoaCgRERF6jVCJixcvcvXqVTp27IjBYGDMmDH6r9oGg0GvdUpPT8fZ2RkAS0tLateuDWi/thcXF%2Bv7a926Ne7u7mXK0qlTJxo0aABAhw4diC8ne1dERARNmzbFzc0N0GrHQkJCAOjRowdfffUVAFZWVpiba627c3NzMfz56/CNzuV6q1evZsSIEQCcPHmSwsJCevToAWi1EFZWViil2LFjh14TMXbsWH1f9erV04%2BZlZWlvwYoLCwkJyeHwsJCsrOz9Wtme93ApNdvs23bNvz9/QkICADAwcEBM%2BnTYfJq%2Bn1//vx5mjdvjqOjIwCPPPKIfn9d7/p75Xrr1q3jsccew8rKCoCioiJefPFF/u///u%2Bm5bsnJCfD5s3wn/9Av35aLZWrKwweDO%2B9BwcPauu1awcvvADffgspKXD0KMyfD0OGQKNG1XsOQtzjpA%2BYqTEYoLgYsrJAmlLcUwyvVU4zDjWn4mB9%2BPDhPPvsszz11FMArF27li1btlCnTh3Wr1%2BPra0tycnJdOjQgf79%2B5f6Mn%2B9RYsWYWVlxfHjxzl%2B/Dht2rTRl02aNImpU6cSHBxcapuEhARcXFwAMDc3p379%2BqSkpNDwujTECQkJGI1GfdpoNJKQkABoXxp79uzJRx99RFZWFj/88IO%2BXlxcHH369CEqKop33nlHDzRuxbJly3jsscfKzA8PDy/1Za9Vq1Zs3LiRAQMG8OWXXxIXF6cv279/PxMmTCA2NpaVK1dibm5%2Bw3MpERsbS3R0NA8//DAAZ8%2Bexc7OjsGDBxMdHc0jjzzCvHnzSE1Nxc7OTg/0/rqv9evX8/LLL3P58mW%2B//57AJo0acILL7yAq6srdevWpWfPnvTs2VPf5tVXX%2BWzzz6jfv367Ny5Uz%2B%2BwWCgV69eJCUlMXz48FLNwcTfJ/d92fvey8uL06dPExMTg9Fo5JtvvtGb2Jb4671yvfDwcJ577jl9esGCBfTv3x8nJ6cKr4lJS0qCH37QmhTu2gXlNeu0s4PgYGjfXms62KmTfIcQohpJDZipKfn1WfqBibugdevWXL58mcTERI4dO0aDBg1wdXVFKcUrr7yCv78/jzzyCAkJCVy6dKnC/ezZs4dRo0YB6H2pSnzyySdlvoQBZX71Bsp80bvROqtXr2bcuHHEx8ezadMmRo8erdd2ubi4cPz4caKiolixYsUNy369nTt3smzZMt5%2B%2B%2B1S8/Pz89m4cSOPP/64Pu/TTz9l4cKFBAUFkZGRgaWlpb6sffv2/P777xw8eJC33nqL3NzcWzrf8PBwQkND9VqmwsJC9u7dy7vvvsvBgwc5f/48y5cvv%2Bm%2BBg0axOnTp/nmm2%2BYPXs2AKmpqWzYsIHo6GgSExPJysri888/17f573//S1xcHE888QQLFizQj//jjz/yxRdf8OOPP7J%2B/XoiIiJu6VqKmqum3/cNGjRg0aJFDBs2jC5duuDu7q7/2FDir/dKiYsXL/Lbb7/Rq1cvQOuz9uWXX/L000/f5KqYkPx8LVnGK69oQVXjxjByJCxfrgVfVlbQuTPMmAGrVl1LFb99O7zxBvTsKcGXENVMasBMjZkZFBZqAViTJtVdGnEX3egX68oUGhrKunXr%2BOOPPxg%2BfDigJaVISkri8OHDWFhY4O7uftPkCxX9Sl4Ro9FIXFwcRqORwsJC0tPTsbe3L7PO9c0B4%2BPj9dqsZcuWsWXLFgA6duxIbm4uycnJNLqu6YyzszO%2Bvr7s3bu3wsQBJY4fP86kSZPYvHkzDg4OpZZt3ryZNm3a0LhxY31eixYt2LZtG6DVFJXUNF2vZcuWWFtbc%2BLEiRueS4nw8HAWLlxY6vxbt26Np6cnAAMHDmTfvn1MmDCBtLQ0CgsLMTc3L3dfACEhIZw7d47k5GR27tyJh4eH3qxr8ODB/Pzzz/oX6BIjR46kT58%2BvPbaaxiNRrp27arXTvTu3ZsjR47QvXv3G15Lcevkvi973wP069ePfv36AbBkyZIygdZf75USa9euZdCgQVhYWADw66%2B/EhUVhZeXFwDZ2dl4eXkRFRV1W%2BWudlFRsHWr9ti5EzIzry2rXVtLpNGrFzzyiJYC3ly%2B3glRk0kNmKmRGjBxlw0fPpzw8HDWrVunBynp6ek0atQICwsLdu7cSWxs7A33ERISwhdffAHAiRMnOH78%2BE2P279/f1asWAFofTYefvjhMl/mnJycsLGxYd%2B%2BfSil%2BOyzzxgwYAAArq6uem3MqVOnyM3NxdHRkfj4eL0vSmpqKj/99BPe3t43LMuFCxcYPHgwK1eupHnz5mWWl9fX5PLlywAUFxfzxhtvMHXqVEDLTlhYWAhozaTOnDmDu7v7Dc8FtD5lqampdOzYUZ/Xtm1bUlNTSUpKAmDHjh34%2BPhgMBh46KGHWLduHQArVqzQ9xUVFaXXMhw5coT8/HwcHBxwdXVl3759ZGdno5QiIiKCli1bAhAZGakfc%2BPGjbRo0QKAXr16cfz4cbKzsyksLGT37t34%2BPjc8FoK01CT73u4dn%2Blpqby8ccfM2nSJH1ZefdKib/eq3369OGPP/4gJiaGmJgYrKysTCP4yszU%2BmZNnw5eXlq69%2BnTtXmZmdoAxzNmaH29Smq3XngBAgMl%2BBLCFFRH5g9x54JsbLSMRZs3V3dRxF1QU7JutWrVSnXr1k2fTkpKUh06dFBBQUFq4sSJqkWLFio6OlopdS0bWnR0tPL19VVKKZWdna2GDRum/Pz81OjRo1XHjh31bGgTJ04sNzNaTk6OCg0NVU2bNlVt27ZV586d05cFBATorw8ePKh8fX2Vp6enmjZtmp7h7/fff1edOnVS/v7%2BKiAgQG3dulUppdS2bduUn5%2Bf8vf3V35%2Bfup///ufvq8PP/xQNWnSRJmZmSknJyc1ceJEvYx2dnYqICBABQQElMr6lJWVpezt7VVaWlqp8n/wwQeqWbNmqlmzZuqll17Sy/XZZ58pHx8fFRAQoFq3bq3Wr19/03NRSqk5c%2Baol156qcx1KjmfVq1aqbFjx6q8vDyllFLnzp1Tbdu2VU2bNlWhoaF65sd58%2Bbpx%2B/QoYPau3evvq9///vfytvbW/n6%2BqpRo0bp2wwePFj5%2BvoqPz8/1bdvXxUfH69vs3LlSuXj46N8fX3Viy%2B%2BWKZ8FZEsiJqanAWxJt/3w4cPVy1btlQtW7bUs32WqOheiY6OVs7OzqqoqKjCc67RWRDPnlXq//5PqYceUsrConSWQjs7pR5/XKlPPlEqLq56yynuK/fj53ZVMCgl6fRMSbC9PYdSU2HNGhg6tLqLI/6mU6dO6bUQQtxLyntvBwcH33ScqHtNeecs933NVOV/F6Xg%2BHFtbK2vv4YTJ64tMxi0LIWPPqo1LWzbVmq2RLW4Hz%2B3q4Lczaam1p%2BtRqUJohBCCGFaioth//5rQdf589eW1a8PfftqqeMfeQT%2B0hdVCHHvkD5gpkb6gAkhxB3bsmUL3t7eeHl5MW/evDLLU1NTGTRoEP7%2B/rRr144T19VKvP/%2B%2B/j6%2BtKqVStGjBhx0wQVQgDasDEbNsDkyVryrE6d4N13teCrUSOYMgW2bIHLl%2BHzz2HYMAm%2BhLjHSQ2YqZEATAgh7khRURHTpk1j%2B/btGI1G2rZtS//%2B/UslFnnzzTcJDAxk/fr1nD59mmnTphEREUFCQgLz58/n5MmT1K1bl6FDhxIeHs64ceOq74REzRUXB999pz0iIiAv79oyNzdtUORBg7RgTAY3F%2BK%2BIwGYqZEA7J6jlLrtVM5C1GQ1tWvxgQMH8PLy0tP6Dx8%2BnA0bNpQKwE6ePMnLL78MaEMNxMTE6GNhFRYWkpOTg4WFBdnZ2bc1wPdfyX1fs9yV92xcHKxYAV99BUePXptvMGgDIPfrpzUx9PfX5gkh7lsSgJkaCcDuKXXq1CElJQUHBwf5MibuCUopUlJSqFOnTnUXpYyEhARcXFz0aaPRyP79%2B0utExAQwNdff03nzp05cOAAsbGxxMfHExQUxAsvvICrqyt169alZ8%2Be9OzZ847KIfd9zfK33rO5ufDNN/Dpp/DDD1piDQBra%2BjRQwu6%2BvTRBksWQog/SQBmakqyIF29Wr3lEHdFyeC8JeM8CXEvqFOnDkajsbqLUUZ5tRx/DYBmzZrFM888Q2BgIH5%2BfrRu3Rpzc3NSU1PZsGED0dHR2NnZ8fjjj/P555%2BXGcgatIGDlyxZAlDuvS33fc1zW%2B9ZpeDwYS3oWr0a0tK0%2BbVrw8CBMGYMPPww1MAfIYQQNYMEYKZGsiDeUywsLPDw8KjuYghxXzAajcTFxenT8fHxZZoR2traEhYWBmgBm4eHBx4eHmzduhUPDw8cHR0BGDx4MD///HO5AdiUKVOYMmUKoKVw/iu5703UH3/AqlWwfDn89tu1%2BUFBMH48jBgB9vbVVjxhGopVMSnZKSRmJJKYkcjlrMtYWVhRv0596teuj10dO%2BrX0Z7rmJcN4pVSFBYXUlBcQEFRAWa1zLC2sJbadBMjAZipkSaIQghxR9q2bUtkZCTR0dE0adKE8PBwVq1aVWqdtLQ0rKyssLS05JNPPiEkJARbW1tcXV3Zt28f2dnZ1K1bl4iIiHKDK3GPycmBjRvhs89g61YoKtLmN2wIo0ZpgZe/f/WWUdQ4SinirsbxS9wvHEg4QEx6jB5wXcy4SEFxwS3tx9LMknqW9bSAq6iAguICCosLy6xX26w2Da0a4mjtiKOVo/bayhFHa0dsLG2wNLPEwswCi1oWZZ6LVbEezJX3LCqHBGCmRgIwIYS4I%2Bbm5ixYsIBevXpRVFTEhAkT8PX1ZfHixQBMnTqVU6dOMWbMGMzMzPDx8WHZsmUAtG/fntDQUNq0aYO5uTmtW7fWa7nEPUYp%2BOknLehau/ba/1tzcxgwQGti2LcvWFpWbzlFjZFbmMuRi0f4Je4XfonXHokZiRWu36BOA5xtnHG2caaRdSNyC3NJz0snLTeNtNw00nO11/lF%2BVzJuVJmezODGRZmFliaWVJQVEBOYQ4JGQkkZCTc9XMLIuiu71OAQdXUdFUmbsKECXz33Xc0atSo1DgyJZRSPPPMM2zatAkrKyuWL19OmzZtbrrf4IAADh0/rv36Jv0HhBAmJDg4mEOHDlV3MarU/XjOJuviRQgL0/p2nTt3bX5wsBZ0DR8OfzZBFfcXpRTJ2cnEpscSmxZb6jkmLYZTyafIL8ovtY1dHTs6GDvQ0diRFg1b6AGXUz0n6lrUvaVj5hbmkpmfiXktcz3gMq9lTi1D6WF8swuyScpKIik7ieTsZP11UlYSmfmZpWu2/lLLVctQq2zt2HWvf5r9k3yGVQKpAask48aNY/r06YwZM6bc5Zs3byYyMpLIyEj279/Pk08%2BWSYbV7kkCYcQQghxdxQVwbZtsGQJfPvttSaGTZpoTQzHjIHrhikQ5csrzCMlJwUbSxvqWdartP5ISimKVFGpACK/KJ/C4sLyAwkzizLByo3kF%2BUTmRLJyaSTnEo%2BpT9HXYkiuyC7wu0MGGjVqBUdjR21h0tHmjs0v61jl9mnwUBdi7q3FKxZWVjhZueGm53bHR%2BvIsGzpal1ZZAArJKEhIQQExNT4fINGzYwZswYDAYDHTp0IC0tjYsXL%2BLk5HTjHRsMWrOH/Hwt/a1kWRJCCCFuT3y8VtO1bBlcuKDNMzfXBkiePFlLIX%2BfDJBcUFRAbHosUVeiyMzPrHC9YlVMcnbytb5MmRf118nZyfp6tc1q632RHK2v9UeqX7s%2BuYW5ZBVkkV2QTXZBdqnXOQU5pYKq62tq8ovy77hPUi1DLSzNLLGysMLKwgprC%2Btrry2118WqmDPJZ4i6EkWRKip3P/Vr19eCnPraw93OXZ9u7tCc%2BnXq33bZxP1LArBqUt54NAkJCTcPwABsbSE5WWuXLgGYEEIIcWt%2B/RXmzIHvv4fiYm2ep6cWdI0bBw88UK3FqyzZBdnEpsUSnRZN1JUoIlMiiUqNIupKFDFpMeUmdrgdZgYzHKwcuJp3ldzCXOKvxhN/Nf4ulb60WoZapWq5SprlVZRMolgVk1uYS25hbrn9qa5nwEDTBk1p6dgSn4Y%2B2rOjD80dmmNXx65SzkfcnyQAqya3Mh5NiTJjytSvfy0Ak8EdhRBCiBu7cAFefRU%2B/1ybtrCA0FCYMgUeeujaEC8mSilFTFoMv13%2BjZi0mGv9lP7sq5SUfeM%2B4y62LnjZe2Ff98Zp9B3qOuh9mfQ%2BTTZOOFo5YlbLDKWU1h/pz/5H1/dJupp3tUzN0/U1UnXM65Sbre%2Bv826nWV9Jyvb8onxyCnO0Wrf8sjVwxaqYZvbNaO7Q/Jaa/Anxd0kAVk1uZTyaEmXGlCkJ3iQTohBCCFGxtDR46y348EPIy9Oa8E%2BfDi%2B9BI0aVXfp7khJivNDiYf0x%2BGLh29Yu2NRywLX%2Bq6427nTzL4ZXvZe%2BsOzgeddCzoMBgPWltZYW1rjbud%2BV/b5d8tjYaYFbtaW1tVdHCF0EoBVk/79%2B7NgwQKGDx/O/v37qV%2B//q01PwStBgwkABNCCCHKk58PixbB669DSoo2b/hwePNNqKGDYCulyMzPLJPJ7vrXiRmJHLl4pNwaLUcrR1o7tcbTzvNaX6U/n51snP5WQgghxN0lAVglGTFiBLt27SI5ORmj0chrr71GQYHWeXTq1Kn07t2bTZs24eXlhZWVFWFhYbe%2B85IATDIhCiGEENcoBevWwcsvX0slHxIC774LbdtWa9EuZlxkZ8xOzqeeJykrieSc0unCk7OTySvKu6V9OdR1INg5mCCnIIKdgwl2DsZoa6y07INCiLtLArBKsnr16hsuNxgMLFy48M52bmurPUsNmBBCCKGJiIBZs6BkzKIWLeDtt6FfPy2DcBVLz01nd%2Bxufjj/AxHREZxMOnnTbeqa19UzCDa0angtm%2BCf043rNca/sT9u9d0k2BLChEkAZoqkCaIQQgihOXJEC7y2b9emH3hAy3Q4adK1sTOrQHZBNvvi97EjegcR0REcTDhYKqW5lYUVIW4hBDYOLJWe/fqAS/opCXF/kADMFEkAJoQQ4n4XFQX/%2BhesWaNN29pqyTWeeQasKz%2BQSc9N56e4n9gTu4c9sXs4mHiwVDp3M4MZD7o8SHeP7jzi%2BQjtje2xNLOs9HIJIWo%2BCcBMkQRgQggh7ld//AH/%2BQ8sXQqFhVC7Njz9tFYL5uBQKYcsKCrgTMoZjl86zsGEg%2By5sIejfxylWBXr69Qy1KKNUxtCXEN4xPMRQtxCsKltUynlEUKYNgnATJEEYEIIIe5Hq1fDU09p6eVr1YIJE2DuXHBxuWuHSMlO4dilYxz74xjHLh3j%2BKXj/J70O/lF%2BaXWM69lTvsm7enq1pUQtxA6uXSifp36d60cQoh7lwRgpkiyIAohhLifXLmiBV4lzQ0ffRTeew98fP72rkuSZUScj%2BCH6B8qTJbhYedBwAMBBDYOpItbFzoYO2BlYfW3jy%2BEuP9IAGaKJAuiEEKI%2B8XWrVpNV2Ki1rfrgw9g4sQ7zmyYV5jHL/G/6NkJ/5oso655XQIeCCCgcQD%2Bjf0JaByAX2M/bGvb3q0zEkLc5yQAM0XSBFEIIcS9LjsbZs6EkiFbOnWCzz6Dpk1ve1dX866yKXITX536ik2Rm8guyNaXSbIMIURVkwDMFEkAJoQQ4l524ACMHg1nz4KFBbz2mhaMmZnd8i6u5Fxh45mNfHXqK7af215qkGO/Rn56wCXJMoQQVU0CMFMkAZgQQoh7UX4%2BvPEGvPkmFBVpfbw%2B/xxat76lzS9lXuKb09/w1amv2BmzU08Lb8BAZ9fODGk5hMEtB%2BNa37Uyz0IIIW5IAjBTJAGYEEKIe82hQzB%2BPJw4oU0/9xz8979Qp84NN4u/Gs/Xp77mq1Nf8eOFH/XU8GYGM7p7dGdIyyEMajmIB%2Bo9UNlnIIQQt0QCMFNkba2l383JgYICrXmGEEIIYYpyc7Umhu%2B8o9V6NW0Kn34KISEVbnI%2B9TxfnfyKr059xf6E/fp8i1oWPOr1KENaDmGA9wAcrCpnXDAhhPg7JAAzRQaDlgkxLU1LRV9JA08KIYQQlWrfPi3D4alT2v%2B2GTO0JohWZdO7FxYX8vWpr/lg3wf8Ev%2BLPr%2BueV0ea/YYQ1oOoU%2BzPjIWlxCixpMAzFTVr68FYOnpEoAJIYQwLTk5MHs2vP8%2BFBeDt7dW69WpU5lVr%2BZdZdmRZXy4/0Ni02MBsLG0oW/zvgxpOYRHvR7F2tK6qs9ACCHumARgpkr6gQkhhDBFhw/DiBEQGak1p585E%2BbOhbp1S60WmxbL/P3zWXpkKRn5GQA0s2/GjA4zGBMwRoIuIYTJqlXdBRB3SAIwIYS4bVu2bMHb2xsvLy/mzZtXZnlqaiqDBg3C39%2Bfdu3acaIkIQSQlpZGaGgoLVq0oGXLlvzyyy9lthc38fnn0LmzFnz5%2BmpNEN9%2BWw%2B%2BilUxu2N2M2zdMDzne/L/9v0/MvIz6ObejY3DN3J6%2BmmebPukBF9CCJMmNWCmqiQAu3q1esshhBAmoqioiGnTprF9%2B3aMRiNt27alf//%2B%2BPj46Ou8%2BeabBAYGsn79ek6fPs20adOIiIgA4JlnnuHRRx9l3bp15Ofnk52dXdGhxF8VFsKsWfDee9r0lCkwfz7Urg3A6eTTrDy2ks9/%2B5wL6RcAMK9lzki/kczoMIM2Tm2qq%2BRCCHHXSQBmqqQGTAghbsuBAwfw8vLC09MTgOHDh7Nhw4ZSAdjJkyd5%2BeWXAWjRogUxMTFcunSJunXrsmfPHpYvXw6ApaUllpaWVX4OJunKFRg%2BHLZvB3Nz%2BOgjmDqVpKwkwo%2BGs/L4Sg4mHtRXd63vymj/0UwNnorR1liNBRdCiMohAZipsrXVniUAE0KIW5KQkICLi4s%2BbTQa2b9/f6l1AgIC%2BPrrr%2BncuTMHDhwgNjaW%2BPh4zMzMcHR0ZPz48Rw7doygoCA%2B/PBDrK2lKdwNnTgBAwfCuXPg6Ajr1nG0uS1zwgewKXKTPlCyjaUNj/s8zuiA0YS4hVDLID0khBD3LvmEM1VSAyaEELdFKVVmnsFgKDU9a9YsUlNTCQwM5KOPPqJ169aYm5tTWFjIkSNHePLJJ/n111%2BxtrYutw8ZwJIlSwgODiY4OJikpKRKOReTsH49dOigBV9t2lB4YB9vGn6k3dJ2bDyzEaUUvZv1JnxIOJdeuMSyAcvo5t5Ngi8hxD1PasBMlQRgQghxW4xGI3Fxcfp0fHw8zs7OpdaxtbUlLCwM0AI2Dw8PPDw8yM7Oxmg00r59ewBCQ0MrDMCmTJnClClTAAgODq6MU6nZiovh9de1zIYAI0YQ%2Bc4sxm4ZpY/f9VTwU/y7679pXK9x9ZVTCCGqiQRgpkoCMCGEuC1t27YlMjKS6OhomjRpQnh4OKtWrSq1TlpaGlZWVlhaWvLJJ58QEhKCra0ttra2uLi4cObMGby9vYmIiCjVd0z8KT9fG1j5iy/AYEDNm8fih%2BrxwoqOZBdk08SmCZ8O%2BJSeTXtWd0mFEKLaSABmqiQLohBC3BZzc3MWLFhAr169KCoqYsKECfj6%2BrJ48WIApk6dyqlTpxgzZgxmZmb4%2BPiwbNkyffuPPvqIJ554gvz8fDw9PfWaMvGnjAwIDYVt28DamoTPP2Zi5iq2btoKwBN%2BT/DRYx/RoG6Dai6oEEJULwnATJXUgAkhxG3r3bs3vXv3LjVv6tSp%2BuuOHTsSGRlZ7raBgYEcOnSoUstnsi5dgj594PBhlGNDwpc%2By7TTz5Kam4p9XXsW91nM476PV3cphRCiRpAAzFRJFkQhhBA1wblz0KsXnDvHjx2ceXm0Mz8e/RcAvZv15pN%2Bn%2BBk41TNhRRCiJpDUg1Voi1btuDt7Y2Xl1e5nbXT09Pp168fAQEB%2BPr63l5zFqkBE0IIUd0OH4ZOnTiadY7eT9rS5dFEfkw6hENdB5b0XcJ3I76T4EsIIf5CasAqSVFREdOmTWP79u0YjUbatm1L//79S3XaXrhwIT4%2BPnz77bckJSXh7e3NE088cWuDe0oAJoQQojpt387ZiQP5d0g2a1oBXKWeZT2e7/g8z3V8DtvattVdQiGEqJEkAKskBw4cwMvLC09PTwCGDx/Ohg0bSgVgBoOBjIwMlFJkZmZib2%2BPufkt/kkkABNCCFFN4ld8xGvrnyFsvKKoFtQ2q81TbZ/i5c4v42jtWN3FE0KIGk0CsEqSkJCAi4uLPm00Gtm/f3%2BpdaZPn07//v1xdnYmIyODNWvWUKvWLbYKtbHRnjMytDFXbnU7IYQQ4g7FpsXy9uJRLMv6kfzWYKYMTGo9gX93nYNLfZeb70AIIYQEYJVFKVVmnsFgKDW9detWAgMD2bFjB%2BfOnaNHjx506dIFW9vSzTaWLFnCkiVLAEhKStJmmplBvXqQmakFYSU1YkIIIcRdFnUlijf3/peVRz%2BjkGIMZjDUzJ//TF2Ld0Pv6i6eEEKYFKk2qSRGo5G4uDh9Oj4%2BHmdn51LrhIWFMXjwYAwGA15eXnh4eHD69Oky%2B5oyZQqHDh3i0KFDODpe17RDmiEKorsuVAAAIABJREFUIYSoRCeTTjLq61F4L/Am7OhyiouLeeI4nGg0lzX/OibBlxBC3AEJwCpJ27ZtiYyMJDo6mvz8fMLDw%2Bnfv3%2BpdVxdXYmIiADg0qVLnDlzRu8zdkskABNCCFEJTlw%2BQejaUFp93IovfvuCWsWKCUfgzCIzPh8ajs9Tc6q7iEIIYbKkCWIlMTc3Z8GCBfTq1YuioiImTJiAr68vixcvBrSBP2fPns24cePw8/NDKcXbb79Nw4YNb/0gEoAJIYS4y5YdWcZTm54ivygfSzNLJia78tLyKNzy6sC6ddqAy0IIIe6YBGCVqHfv3vTu3bvUvKlTp%2BqvnZ2d2bZt250foCQAu3r1zvchhBBCAHmFeTyz5Rn%2Bd/h/AEzwG8PrKxNw/iZCS/y05Vvo2rWaSymEEKZPAjBTJjVgQggh7oL4q/GErg1lf8J%2BapvVZlH39xn/ylrYtQvs7WHrVggOru5iCiHEPUECMFNWki1RAjAhhBB3aHfMboauG8rlrMu41nfl68eWEzRmFhw4AE5OsH07%2BPpWdzGFEOKeIQGYKZMaMCGEEHdIKcWH%2Bz/khW0vUKSK6O7RnfCHP6bhgBFw5Ai4u0NEBNxOcighhBA3JQGYKZMATAghxB34/%2B3de1xVVf7/8deBw00UFQUFDyZ0VC6KqOClKcfqqxTforzk8BsdK3MYy%2Bah09SMzUzTXPqW1fSdHK1h%2BNpYdpGmizFTylSmTmOThJM5ihYRKOANFbxyPezfH1suR1ARhXOA9/PxWI%2B999r77P05%2ByELP6y11z5dfZrUd1N57T%2BvAfDTb/2Ux0Yuwpp4M3zxBdjt8NFHEKaXK4uIXGlKwDozJWAiInKJahw13LLmFjYVbsLfy58Xb3%2BRmf0nwY03ws6dMGyYmXwNGuTqUEVEuiQlYJ2ZZkEUEZFL9NAHD7GpcBMDew5kw9wNRNf2hcmTYfduiI42hx0OHOjqMEVEuiwlYJ2ZesBEROQSvPzFyyzbugwvDy/emvUW0dW94YbJ8NVXMHIkfPghBAe7OkwRkS5NCVhnplkQRUSklf594N%2BkvpsKwPKbl3ONYTPf65WfD3Fx5myH/fu7OEoRka5PCVhnph4wERFphSNnjjD99elU1lYyf/R8UvtNNZOvwkIYOxbef99835eIiLQ7JWCdmRIwERG5iNq6WlLeTGHv8b2MHzSeFdc8huVbk8zka/x4yMqCPn1cHaaISLehBKwzUwImIiIX8fCHD7OhYAMD/Afw1oy/4DP7bvOZr9hYs%2Berfji7iIh0CA9XByCXoeksiIbh2lhERMTtZOzM4Hf/%2Bh1WDytv3PEGg576I6xfD/36wTvvKPkSEXEBJWCdmZcX%2BPmBwwFnzrg6GhERcSNfHPyCeZnzAPh94u%2B57pNiWLoUPD3hjTcgPNzFEYqIdE9KwDo7zYQoItJqWVlZDB8%2BHLvdztKlS5vtLysrY9q0acTGxjJu3Dh27tzptN/hcDB69GhuueWWjgq5TY5VHGPa69OoqK3gzlF3stBzItxzj7nz2Wfh%2ButdG6CISDemBKyz03NgIiKt4nA4WLhwIevXryc3N5c1a9aQm5vrdMzjjz9OXFwcO3bsYPXq1SxatMhp/7Jly4iKiurIsC%2BZYRjM/%2Bt8CsoLGBsylj%2BO%2BzWWadOgosJMwhYudHWIIiLdmhKwzk4JmIhIq2RnZ2O324mIiMDb25uUlBQyMzOdjsnNzeXGG28EIDIyksLCQg4dOgRAcXEx7733HvPnz%2B/w2C/FKzteYe2etfTy7sWbt7%2BGX8r3oKgIJk6E554Di8XVIYqIdGtKwDo7JWAiIq1SUlJCWFhYw7bNZqOkpMTpmFGjRvH2228DZsK2d%2B9eiouLAVi8eDFPPfUUHh7u%2B6uz6HgR96%2B/H4BlNy1jyKO/h48/htBQeOst8PFxcYQiIuK%2Bv0WkdZrOhCgiIudltDBbrOWc3qAlS5ZQVlZGXFwcy5cvZ/To0VitVt59912Cg4MZO3bsRa%2BTnp5OfHw88fHxlJaWXrH4L6bOqOPuzLs5UXWC5OHJ3LW1CtLSzKRr7VoICemwWERE5Pz0HrDOTj1gIiKtYrPZKCoqatguLi4mNDTU6ZiAgABWrVoFmAlbeHg44eHhZGRk8Ne//pV169ZRWVnJiRMnmDNnDq%2B88kqz66SmppKamgpAfHx8O34jZ89/9jwbCjbQv0d/0oPnY/nedHNHejqMG9dhcYiIyIWpB6yz0yyIIiKtkpCQQF5eHgUFBVRXV5ORkUFycrLTMeXl5VRXVwOwcuVKJk2aREBAAE888QTFxcUUFhaSkZHBDTfc0GLy5SpfHf2Kn3zwEwDS/utZBnx/MdTWwo9%2BBHPnujg6ERFpSj1gnZ16wEREWsVqtbJixQoSExNxOBzMmzePmJgY0tLSAFiwYAG7d%2B9m7ty5eHp6Eh0dzQsvvODiqC%2Butq6WuWvnUlFbwfdiv8eMVVvhm29g1CjzvV8iIuJWlIB1dkrARERaLSkpiaSkJKe6BQsWNKxPnDiRvLy8C55j8uTJTJ48uT3Ca5OntjzF1pKt2AJs/KHXLFh%2BK1it8OKL4O3t6vBEROQcSsA6O03CISLSbW0/uJ1fbfoVAH%2Be%2Bjx9ks%2B%2Bt%2BxnP4O4ONcFJiIi56VnwNpRVlYWw4cPx263s/Q8w0A2bdpEXFwcMTExfPvb3770i6gHTESkW6qqreJ7a79HTV0NCxMWMiX9Q3PoYWws/Pznrg5PRETOQz1g7cThcLBw4UI%2B%2BOADbDYbCQkJJCcnEx0d3XBMeXk59913H1lZWQwePJjDhw9f%2BoU0CYeISLf0y42/ZOfhnQwNHMqTfrfCH24CT08NPRQRcXPqAWsn2dnZ2O12IiIi8Pb2JiUlhczMTKdjXnvtNaZPn87gwYMBCA4OvvQLqQdMRKTb%2Bee%2Bf/L0J0/jYfFg9U1/wv/7C80dP/sZjB7t2uBEROSClIC1k5KSEsLCwhq2bTYbJSUlTsd89dVXlJWVMXnyZMaOHcvq1asv/UJKwEREupXjlceZ8/YcDAyWfGsJE57LhPx8GDkSfvELV4cnIiIXoSGI7cQwjGZ1FovFabu2tpZt27axYcMGKioqmDhxIhMmTGDYsGFOx6Wnp5Oeng5AaWmp80mVgImIdCs/XP9D9h7fy9iQsTxqvRH%2B8F8aeigi0okoAWsnNpuNoqKihu3i4mJCQ0ObHdO/f3/8/f3x9/dn0qRJfPHFF80SsNTUVFJTUwGIj493vpBmQRQR6TZe3/k6L%2B94mR5ePXg1aSXek2eCYcDDD8OYMa4OT0REWkFDENtJQkICeXl5FBQUUF1dTUZGBsnJyU7H3HbbbXz88cfU1tZy5swZtm7dSlRU1KVdyNcXvLygqsosIiLSJRUdL2LBe%2BY7y/536v8y/JmXzKGHI0Zo6KGISCeiHrB2YrVaWbFiBYmJiTgcDubNm0dMTAxpaWmA%2BeLPqKgobrrpJmJjY/Hw8GD%2B/PmMGDHi0i5ksZgzIR49ag5DbMtEHiIi4tbqjDrufOdOyivLuXXYraTWxMKyexuHHvr4uDpEERFpJSVg7SgpKYmkpCSnugULFjhtP/TQQzz00EOXd6HevZWAiYh0Yf/7r/9lY%2BFGgv2DWXnr/2GZcrs59PDBB2HsWFeHJyIil0BDELsCTcQhItJlbT%2B4nZ9t%2BBkAq25bRfC6zfDppzBggF64LCLSCakHrCtQAiYi0iVV1FQw%2B%2B3Z1NTVcF/8fSQNvhESzz4r/JvfQK9erg1QREQumXrAugLNhCgi0iX99MOfkluaS2T/SJ6e%2BjQsXw4FBRAdDfPmuTo8ERFpAyVgXYF6wEREupysr7NYnr0cq4eVV6e/So8TFfDYY%2BbO3/0OrBrEIiLSGan17goCAsylEjARkS7hZNVJ7s68G4DfXv9bxoSMgUWLzHZ%2ByhS46SYXRygiIm2lHrCuQD1gIiJdyss7XubgqYOMGzSOh655CPLy4PnnzVePPP20uRQRkU5JCVhXoARMRKTLMAyD5z97HoAfT/wxnh6e8NOfQm0t3H03jBrl4ghFRORyKAHrCjQJh4hIl/HPff9kV%2BkuBvgP4PbI2%2BEf/4C1a6FHD/jtb10dnoiIXCYlYF2BesBERLqMP%2Bb8EYDvj/k%2B3har%2BbJlgIcegtBQF0YmIiJXghKwrkAJmIhIl3Do1CHezH0TD4sHqWNTISMDPvsMQkLMBExERDo9JWBdgWZBFBHpEv78%2BZ%2BpqavhlmG3EOYTBA8/bO547DHw93dtcCIickUoAesK1AMmItLpOeocpG1LA%2BC%2B%2BPtg2TLYtw9iY%2BHOO10cnYiIXClKwLoCJWAiIq2SlZXF8OHDsdvtLF26tNn%2BsrIypk2bRmxsLOPGjWPnzp0AFBUVcf311xMVFUVMTAzLli274rGt/3o9%2B47v4%2Bq%2BVzMlMB4ef9zc8bvfgafnFb%2BeiIi4hhKwrkCzIIqIXJTD4WDhwoWsX7%2Be3Nxc1qxZQ25urtMxjz/%2BOHFxcezYsYPVq1ezaNEiAKxWK8888wy7d%2B/m008/5bnnnmv22ctVP/nGD8b%2BAI9XXzPb9OuvN1%2B8LCIiXYYSsK6gZ0/zpZynT5vviRERkWays7Ox2%2B1ERETg7e1NSkoKmZmZTsfk5uZy4403AhAZGUlhYSGHDh0iJCSEMWPGANCrVy%2BioqIoKSm5YrEVlBWwPm89Pp4%2B3D36bvjzn80dP/jBFbuGiIi4ByVgnUx%2BWX7zSoulcSIO9YKJiLSopKSEsLCwhm2bzdYsiRo1ahRvv/02YCZse/fupbi42OmYwsJCPv/8c8aPH3/FYvvTtj9hYDArZhb99%2ByD7dshMBBuv/2KXUNERNyDErBOpryinAMnDzTfoefAREQuyDCMZnUWi8Vpe8mSJZSVlREXF8fy5csZPXo0Vqu1Yf%2BpU6eYMWMGzz77LAH1f/g6R3p6OvHx8cTHx1NaWnrRuKpqq3jh8xcAuDf%2B3sber9mzwcentV9PREQ6CevFDxF3k/V1ljlEpSklYCIiF2Sz2SgqKmrYLi4uJvScFxsHBASwatUqwEzYwsPDCQ8PB6CmpoYZM2Ywe/Zspk%2Bfft7rpKamkpqaCkB8fPxF43oz902OnDlC3MA4JvQbBa8mmTvuueeSvp%2BIiHQO6gHrhN7Le695pRIwEZELSkhIIC8vj4KCAqqrq8nIyCA5OdnpmPLycqqrqwFYuXIlkyZNIiAgAMMwuOeee4iKiuKBBx64onHVT75xb/y9WDIzobwcxo6FUaOu6HVERMQ9KAHrhN7Pf58aR41zpWZCFBG5IKvVyooVK0hMTCQqKopZs2YRExNDWloaaWnm%2B7d2795NTEwMkZGRrF%2B/vmG6%2BS1btvDyyy/z0UcfERcXR1xcHOvWrbvsmHYc2sGWoi308u7Fd0d%2BF14whyIyb95ln1tERNyThiB2Mr5WX05Wn2RL0RYmD5ncuEM9YCIiF5WUlERSUpJT3YIFCxrWJ06cSF5eXrPPXXvttS0%2BQ3a5/viZ2ft156g76VlSChs2gK8vfPe7V/xaIiLiHtQD1sn09jUTrXV55/zltf5hcCVgIiKdwsmqk7zyn1cAWBC/AF580dwxfTr06eO6wEREpF0pAetkevucJwFTD5iISKfyyo5XOFV9iklXTSKmXyScnfxDk2%2BIiHRtSsA6mZ4%2BPenl3YtdpbvYW763cYcSMBGRTiVtm/nc2X3x95lDD4uKIDwcJk92bWAiItKulIC1o6ysLIYPH47dbmfp0qXnPe6zzz7D09OTN99886LntGBhytVTgHN6wZSAiYh0Gscrj7Pj0A58rb5Mi5rWOPnG3XeDh341i4h0ZWrl24nD4WDhwoWsX7%2Be3Nxc1qxZQ25ubovH/fSnPyUxMbHV506ymw%2BQr/u6hQRMsyCKiLi93FLz90Fk/0i8y0/CO%2B%2BAxQJ33eXawEREpN0pAWsn2dnZ2O12IiIi8Pb2JiUlhczMzGbHLV%2B%2BnBkzZhAcHNzqc9889GYANnyzgcraSrNSPWAiIp3GrtJdAMQExcCrr0J1NUydCmFhLo5MRETamxKwdlJSUkJYk1%2BkNpuNkpKSZsesXbvWaQrk1gjtFcrogaOpqK1gc%2BFms7J%2BFsTy8suKW0RE2l99D1hMUHTj8ENNviEi0i0oAWsnLb0vxmKxOG0vXryYJ598Ek9PzwueKz09nfj4eOLj4yktLQUgaejZYYj1z4FFRJjDVz77zHyQW0RE3FZ9D1j0CR/YsQP69YPkZBdHJSIiHUEJWDux2WwUNUmEiouLCQ0NdTomJyeHlJQUhgwZwptvvsl9993HO%2B%2B80%2Bxcqamp5OTkkJOTQ1BQENCYgL2X956Z7NlskJICNTXwxBPt%2BM1ERORy7Tp8dghi1r/NijlzwMfHhRGJiEhHUQLWThISEsjLy6OgoIDq6moyMjJIPuevmwUFBRQWFlJYWMjMmTN5/vnnuf3221t1/vGDxhPoF0h%2BWT55x/LMykceMXvBVq5UL5iIiJsqryyn5GQJvlZfwl9516zU8EMRkW5DCVg7sVqtrFixgsTERKKiopg1axYxMTGkpaWRlpZ22ef39PDkJvtNQJNhiFFR6gUTEXFz9c9/RXkOwLP8BMTHw8iRLo5KREQ6itXVAXRlSUlJJCUlOdWdb8KNF1988dLPb0/itf%2B8xrq8dSyesNisfOQRyMgwe8EeflgzaomIuJmG4Yf7zs5iq94vEZFuRT1gnViiPRELFjbv3cyp6lNmZVQUfOc7Zi/YBV7%2BLCIirtEwBf3Ow%2Baw8ZQUF0ckIiIdSQlYJ9a/R3/G28ZT7ajmo4KPGnfoWTAREbdVPwQx%2BvDZCZT69HFxRCIi0pGUgHVySfazsyF%2B9V5jZXS02QtWXa1eMBERN9PQA3YYuPpq1wYjIiIdTglYJ/ffw/4bgHVfr3N%2B95h6wURE3E55ZTn7T%2B7HDy/CyzHf4SgiIt2KErBOLm5gHAN7DqT4RDE7D%2B9s3BEdDbNmqRdMRMSN1E/AEeUIxMNAPWAiIt2QErBOzsPiwc32m4Em09HXa9oLVlzsguhERKSphuGHJ86%2BdFk9YCIi3Y4SsC4gaaj5HNi6r89JwGJi1AsmIuJGGqagL6kxK9QDJiLS7SgB6wKmREzB6mFly74tlFWUOe%2Bs7wX7v/9TL5iIiIs19IDllZsV6gETEel2lIB1Ab19e3Pt4GtxGA4%2B%2BOYD553qBRMRcRsNU9Dvq4DevSEw0MURiYhIR1MC1kXUT0e/ds/a5jvVCyYi4nJlFWUcOHWAHp6%2BDKmfAdFicXVYIiLSwZSAdRG3Rd6Gh8WDjJ0ZLPt0mfPOmBi44w6zF%2BzOO%2BHECdcEKSLSjdUPP4yyhmgGRBGRbkwJWBcxrN8w/nTLnwBY/PfFpOWkOR/wP/8DwcHw0UcwaRLs3%2B%2BCKEVEXCsrK4vhw4djt9tZ2sKw7LKyMqZNm0ZsbCzjxo1j586drf7sxTRMwFHd26xQAiYi0i0pAetC5o%2BZz4qbVwBw73v3surzVY077Xb4179g6FD44guYMAF27XJRpCIiHc/hcLBw4ULWr19Pbm4ua9asITc31%2BmYxx9/nLi4OHbs2MHq1atZtGhRqz97MQ0TcBz1NCs0AYeISLekBKyLWThuIc9MfQaAe/56D6/957XGnRER8MknMHEiFBXBtdfC5s0uilREpGNlZ2djt9uJiIjA29ublJQUMjMznY7Jzc3lxhtvBCAyMpLCwkIOHTrUqs9eTEMCtq/SrFAPmIhIt6QErAt6YOIDPHb9YxgYzF07l7dy32rc2b8/bNgA06ZBeTlMnQqvv%2B66YEVEOkhJSQlhYWEN2zabjZKSEqdjRo0axdtvvw2YCdvevXspLi5u1WcvpmEGxD1HzAr1gImIdEtKwLqon0/6Ob%2B47hc4DAcpb6Xwty//1rjTzw/eeAPuv9%2BcmCMlBZ55BgzDdQGLiLQzo4U2znLOLIRLliyhrKyMuLg4li9fzujRo7Fara36bL309HTi4%2BOJj4%2BntLQUgGMVxzh46iA9vHpw1ZeHwGqFJgmdiIh0H0rAurDfXP8bHpz4ILV1tcx8Yybv57/fuNPTE/7wB3j6aXP7wQdh8WKorXVNsCIi7cxms1FUVNSwXVxcTGhoqNMxAQEBrFq1iu3bt7N69WpKS0sJDw9v1WfrpaamkpOTQ05ODkFBQUDjBBzRPSPMGRCvuspMwkREpNtRAtaFWSwWnpryFPcn3E%2B1o5rbMm7jzdw3G/%2BSa7GYideaNeDtbSZk48bB1q2uDVxEpB0kJCSQl5dHQUEB1dXVZGRkkJyc7HRMeXk51dXVAKxcuZJJkyYREBDQqs9eSMPzXx7BZoWe/xIR6baUgHVxFouFZTcv4/tjvk9lbSV3vHEHt6y5hW/Kvmk8KCUF3n8fBg%2BGzz83J%2BlYsADKylwXuIjIFWa1WlmxYgWJiYlERUUxa9YsYmJiSEtLIy3NfHXH7t27iYmJITIykvXr17Ns2bILfra1GqagP9PTrNDzXyIi3ZbFaGlgu7it%2BPh4cnJyLvlzdUYdf/zsj/z8o59zvOo4Pp4%2B/Oy6n/GTb/0EX6uvedDp0/DYY/C735lDEYOCzCGKc%2BeavWUiIpehre1XZ1b/nW946QY2Fm7kvZPJJD3zV7NtffBBV4cnInJB3bHd7gjqAesmPCweLBy3kC/v/5LvxX6PKkcVj256lBHPjyDr6yzzIH9/eOIJ8z1h3/42lJbCXXfB5Ml6Z5iIyGWoH4IYXXDKrFAPmIhIt6UErJsZ0HMAq6etZtOdm4gOiia/LJ%2BbX72ZmX%2BZSdHxsw%2BYR0fDxo3w0ktmL9g//gFxcfCTn8DRo679AiIincyRM0c4fPow/l7%2BDN6936zUM2AiIt2WErBu6ttDvs32H2zn6SlP4%2B/lz1u73yLyuUh%2BlPUjCssLzSGHc%2BfCl1%2Baz4M5HOaQmSFD4OGHzd4xERG5qIb3fwVF41FQaFaqB0xEpNtSAtaOsrKyGD58OHa7naVLlzbb/%2BqrrxIbG0tsbCzXXHMNX3zxRYfG5%2BXpxYPXPMjuhbuZETWDMzVneHbrs9j/YOc7b36H7JJs6NsX/vhHc2bExEQ4dQqWLjUTsYcegkOHOjRmEZHOpmECDv9wqKw0Rxb06uXiqERExFWUgLUTh8PBwoULWb9%2BPbm5uaxZs4bc3FynY8LDw9m8eTM7duzgkUceITU11SWxhvUO481Zb7ItdRuzR87GYrHwl11/YfzK8Vy36jre2fMOjrFjICvLTMRuuQXOnDEn6xgyxHx/2P79LoldRMTdNUxBb/QzK9T7JSLSrSkBayfZ2dnY7XYiIiLw9vYmJSWFzMxMp2OuueYa%2BvbtC8CECRMoLi52RagNxoSM4ZXpr1CwqICHrnmI3j69%2Bee%2BfzLt9WlEPhfJiuwVHB1xNfztb5CTA7ffbv41d9ky8z8U994LO3e69DuIiLibhgTsxNkZZ/X8l4hIt6YErJ2UlJQQFhbWsG2z2SgpKTnv8S%2B88AI333xzR4R2UbYAG09NeYqiHxXxbOKzDOkzhK%2BPfc0P1/%2BQkGdCuD3jdt70K6DyjTWwfTvMnAlVVZCWBiNHmjMo/uUvcPZlpiIi3Vn9EMTo/TVmhRIwEZFuTQlYO2np9WqW87xLa%2BPGjbzwwgs8%2BeSTLe5PT08nPj6e%2BPh4Sjtw8otePr1YNGEReT/M4y8z/0Li1Yk4DAeZX2Zyxxt3MPB3A5m/dzmbnl5I3c7/wH33Qc%2Be5qyJ3/kOXHUV/PKX4OKePRERV6mtq6X0TCk9vXsy%2BJuzs8hqCKKISLemBKyd2Gw2ioqKGraLi4sJDQ1tdtyOHTuYP38%2BmZmZ9OvXr8VzpaamkpOTQ05ODkFBQe0W8/lYPazcEXMHWXOyKHmghN8n/p6xIWM5XnWcFz5/getfup4h7yfx4G1%2BbN76OrUr/mBOZX/wIPz2t%2BZzYtOnm8%2BQ1dZ2ePwiIq5SUVsBmDMgWvK/MSvVAyYi0q0pAWsnCQkJ5OXlUVBQQHV1NRkZGSQnJzsds2/fPqZPn87LL7/MsGHDXBTppRnYcyCLJywmJzWH3Pty%2Bfl1P2dInyEUnSjimX89w%2BQ3/pugU7/k//06ltde/wXHUm4zp7RfuxZuvhkGDTIn7cjJgRZ6CUVEupLKmkoAYoJi4JuzCZh6wEREujWrqwPoqqxWKytWrCAxMRGHw8G8efOIiYkhLS0NgAULFvCb3/yGo0ePct999zV8Jicnx5VhX5KooCgeu%2BExfnv9b/mk6BPe2fMO7%2Ba9y54je8jYlUEG4BHlwbdWJHDLod4kvvclIz/bi8eyZebEHcOHw5w5MHs2hIe7%2BuuIiFxx9T1gMQF28/2Jvr4QEuLiqERExJUsRksPK4nbio%2BPd/sk7etjX/PuV%2B/y7lfvsnnvZmrrGocdBnoF8O3TQUzeepDr/3OamFLwMIBvfQtmzTJnVhw82HXBi0i76Qzt15XWK7wXp%2B46xfqJz3FT4kKIioJzXkkiIuKuumO73RHUAyZXnD3QzuIJi1k8YTHHK4/zwTcf8O5X7/JRwUcUnShirfcJ1l4HXAf9a334dn4tk/O38K0ntjDyR4uwxo2BadPMEh1tDmEUEemE6ocgRh/zNCv0/JeISLenBEzaVW/f3syMnsnM6JkYhkFBeQGbCjexsXAjGws2UnKyhLeGw1vDzeP9aiB%2B/78Z/49/M%2BG1RxjvNQRb4h1mz9j48eDp6dovJCJyCWrraunl3YuwohNmhZ7/EhHp9pSASYexWCxE9I0gom8E80bPwzAMvin7ho2FG9m8dzOfFn/K18e%2B5uOr4OOr6j9VSOiJpxn/h6cZU%2B5HnC2e0ROmEZr0HSwtzCopIuJuooOisWzTDIgiImJSAiYuY7FYuDrwaq4OvJr5Y%2BYDcOTMEbJLstlavJWtxZ%2Bydd8n7A84xdoAWEsF8DGUfEz/Zx8g7nRP4vpGMXrkVGKvncGwgTF4e3q79ktgRXU5AAAUfUlEQVSJiJxDMyCKiEhTSsDErfTv0Z%2BkoUkkDU0CoM6oI%2B9oHtklW9m%2BZxPbv97C55UFHPGv4UP/U3zIZ7DnM9jzP1jrLAz1DCI6OIboodcQPWAE0UHRDOs3DF%2Brr4u/mYh0VzHBMZC/2dxQD5iISLenBEzcmofFg%2BH9hzO8/3C%2BN2ouAIZhUFSax/aNGWz/4u9sL/0PX/Q4SUFfg93GYXYfOsxbhzY2ngMPwvuGM7TfUIYFDmNov6EMDRzK0H5Duar3VXh66LkyEWk/MYGRsHevuTFkiEtjERER11MCJp2OxWJhcPAwBn/nlyR/55dm5YEDVGz8gC%2B3ZLLr60/IrT1IbhDkBsHXgXXkl%2BWTX5ZPFllO5/Ly8CKibwRXB15NeJ9whvQZQnifcML7mut9ffti0SyMItJGAb4BjKjtC7W15ovo/fxcHZKIiLiYEjDpGkJC8PvuXOK%2BO5c4gJIS2LQJNm2ics0G8ssLyOsHeYE0LgdYKelRw5dHv%2BTLo1%2B2eNoAnwCG9BnC4N6DCQsIM0vvxuWgXoPwsfp05DcVkU5kaOBQBh04bW7o%2BS8REUEJmHRVgwbB7Nkweza%2BQMyBA8R88gnUl6xtUFPDaS/ID4Rv%2BkJhiC8FQ4MoHOBLgX81BY4jnKg6wY5DO9hxaMd5LxXsH0xor1Cz9AwlpFdIw3ZIzxBCeoUQ7B%2BsCUJEuqtvNAOiiIg0UgIm3UNICMyYYRaAigrYtg3/LVuI/eQTYrOzYc9B2FjU8BEDOHZVMAUThlMUGULRoF4U9fWgiBMUnSii6HgR%2B0/u5/Dpwxw%2BfZjtB7dfMIS%2Bvn0Z0HMAwf7BDPAfYJaeAwjqEUSQfxD9e/RvKIF%2BgVg99OMp0iXk55tLJWAiIoISMOmu/Pzg2mvNAmAY5rDFzz5rKJacHPrtPUy/vYeJb/rZPn0gLg7iZuAYFcvByEEcGNiT/VVH2H9yPwdOHmD/yf3sP7W/YfvImSOUVZZRVlnGniN7WhViX9%2B%2BDclYS6Wvb18C/QLp49uHPr596O3bmz6%2BffD38tdzayLuRFPQi4hIE0rARAAsFrDZzDJtmllnGOZfrj/7DLZvN8vnn0NpacPzZZ7AIGCQpycMHQojRpwtN8HYEeZfvK1W6ow6jp45yuHThzl0%2BhCHTh1qWC89XcqRiiMcOdNYjp452pCwXSpPiye9fXvT28dMyAJ8Aujl04sAnwACvAOctnt596Knd8/zFn9vfzwsHlfyTou4VFZWFosWLcLhcDB//nyWLFnitP/48ePMmTOHffv2UVtby4MPPsjdd98NwO9//3tWrlyJxWJh5MiRrFq1Cl/fVrziQj1gIiLShMUwDMPVQUjrxcfHk5OT4%2Bowui/DgAMHGhOy%2BpKfD3V1zY/39obIyOZl2DDw9z/vZRx1Dsoqyzhy5gjHKo45lbKKMnO90twuryzneOVxyivLKa8sp6K24op%2BZR9PH/y9/enh1aNZ8bP64eflh6/VFz%2BruWy67mP1wcfT57xLL08vvD298fI4u/T0clq3elidiqfFU717nZir2y%2BHw8GwYcP44IMPsNlsJCQksGbNGqKjoxuOefzxxzl%2B/DhPPvkkpaWlDB8%2BnIMHD1JaWsq1115Lbm4ufn5%2BzJo1i6SkJO66664LXjM%2BPp6cvDw4cQIOH4agoHb%2BliIiV46r2%2B2uSj1gIpfCYoHQULMkJTXWV1TAnj2wcyfs2mUud%2B403/2zY4dZzhUWZiZjw4eD3W72oNntMGQInt7eDc%2BDXapqRzXHK49zvMpMyk5WneRE1YmGcrLaeft0zWlOV5/mVPWphnK6xtw%2BXX2aKkcVVRVVHKs4dhk37srxtHiayZiHJ54WTzw9PPGweDRb97B44GHxwGKxmEsszbYtFgsWzISufv3c5bn7AKdz1dc3PWfTGFqKrz6ZPDfBPLd4eZhJaH1iWr9%2Boc/UX7elmOq/T51RR51Rh8NwmMs6R8N2bV0t1Y7qhlLjqHHarnZUU%2BWoalyvraK6rnGfo86Bw3A4nbN%2B3dWys7Ox2%2B1EnB0KmJKSQmZmplMCZrFYOHnyJIZhcOrUKQIDA7FazV%2BVtbW1VFRU4OXlxZkzZwgNDb34RWtrzeSrVy/of%2Bk/zyIi0vUoARO5Evz8YPRoszR18iTs3g1ffmkmaPUlLw%2BKiszywQfOn/HwMF/Wareb5eqrITy8sfTufcFQvD29CfI3J/a4XIZhUOWo4kzNGU5Xn%2BZMzZmGcrrmNJW1lVTUVFBRW9GwXllbSUVtBRU1FWbyVlvV8B/2pttVtVXU1NU0/Ce/6Xq1o5qauhocdWZCUF8cxtn/3Dsc4LjsrycdbCxjXXr9kpISwsLCGrZtNhtbt251Oub%2B%2B%2B8nOTmZ0NBQTp48yeuvv46HhweDBg3iwQcfZPDgwfj5%2BTF16lSmTp168YtWVZnLiAjzDzgiItLtKQETaU%2B9esG4cWZpqrYWCgvN5CwvD77%2BunG5d6/50P4338D77zc/Z2Cgc0I2ZAgMHgxXXWUuL5KgXQqLxdIwrDDQL/CKnbetDMNo6KWprattsZel6bqBYS4Nw2m7vs7AaDivgdFsee4%2BwGl/0/Ocu35uz9K5602TyqZJZo2jBofhaEhK6%2Btq62qpqatp2N/0M%2BeWlr53/TrQ0BPXUk%2Bdl4dXw9BQbw9vc3m2eHl64ePp07DtY22yfnZIqdXD2mKPpKeHJw/87QHX/MM5q6UR9%2BcOaf373/9OXFwcH330Efn5%2BUyZMoXrrrsOh8NBZmYmBQUF9OnThzvuuINXXnmFOXPmNDtneno66enpAJw8csSs1PNfIiJylhIwEVewWht7uM5VVQUFBY1JWUGBmYwVFJjl2DGzbNvW8rl793ZOyMLCGicYqS%2BtmTjADVksFqwWq6bolzax2WwUFTW%2BaqK4uLjZMMJVq1axZMkSLBYLdrud8PBw9uzZw969ewkPDyfo7DNc06dP55NPPmkxAUtNTSU1NRWA%2BEGDzErNgCgiImfpfzEi7sbHp3GyjnMZBhw61JiMFRSYPWZ798K%2Bfeby%2BHH4z3/Mcj79%2B5uJ2KBBjc%2B01ZeQEHMZHAyenu33PUU6WEJCAnl5eRQUFDBo0CAyMjJ47bXXnI4ZPHgwGzZs4LrrruPQoUN8%2BeWXREREYBgGn376KWfOnMHPz48NGzYQHx9/nis1UT8EUT1gIiJylhIwkc7EYoGBA80ycWLz/YYBR486J2QlJVBcbJaiInP7yBGzbL/Ay6M9PGDAAPNa9cv60rQ%2BOBj69jWPF3FjVquVFStWkJiYiMPhYN68ecTExJCWlgbAggULeOSRR7jrrrsYOXIkhmHw5JNP0r9/f/r378/MmTMZM2YMVquV0aNHN/RyXVDTZ8BERETQNPSdjqYDlctWV2dOh12flB04YJb9%2BxvLgQPmMa3l6Wn2qgUHN5agILP0799Y6rcDA8HLq/2%2Bo7il7th%2BxXt7k1NTYw4pVi%2BYiHQy3bHd7gjqARPpbjw8GnuyLjSEqrraTMIOHjSHPR482LwcPmyW8nLzmEOHWh9Hnz5mItavX8vLwECzZ%2B3c4uNz%2BfdApKPU1Jh/oBg82NWRiIiIm1ACJiIt8/ZunLTjYqqrzSGN9QlZaamZjB09aq7XD3msL0ePmklbebk5wcil8PMzE7E%2BfczSu/f5lwEBzqV3b3NmSvW%2BSUcaPFj/5kREpIESMBG5fN7ejZN4tEZdnZl8HT1qzuh49Kjzev2yvBzKypxLRYVZ9u9ve7x%2BfmYi1rOnuWxa6ut69mws/v7N13v0MNf9/c11Hx%2B950lapue/RESkCSVgItLxPDwahxleCsOA06fNRKy83JzxsaVleTmcOHH%2BUp/EXcpzbq35Tk2TMj8/c7u%2BNN328zt/6dHDfE2An9%2BFl1Y1352Gnv0SEZEm9Bu8HWVlZbFo0SIcDgfz589nyZIlTvsNw2DRokWsW7eOHj168OKLLzJmzBgXRSvSCVgsjT1RYWFtO4dhwJkzcPIknDplLpuW%2BrpTp8xk79SpltdPnzbPU79eXd24vyN4eJiJmK%2Bv2fvWdL2%2BnLvdtHh7N1%2BvX3p5mestlfp9F1p6eWlWzKaUgImISBNKwNqJw%2BFg4cKFfPDBB9hsNhISEkhOTiY6OrrhmPXr15OXl0deXh5bt27l3nvvZevWrS6MWqQbsFgae6mupNpa54SsvpftzJnmpX7f%2BUpl5YWXVVWN1ztz5sp%2BjyvFw8M5IfP2Nt871x1pCKKIiDShBKydZGdnY7fbiTj7izclJYXMzEynBCwzM5O5c%2BdisViYMGEC5eXlHDhwgJCQEFeFLSJtZbU2TvbREWprzUSsstIsLa1XVTUvlZVmb111tbnd0vLcUlPTuL%2BmpnG7ftl0vX5/XV1jPPW6awKmHjAREWlCCVg7KSkpIazJECmbzdasd6ulY0pKSpSAicjFWa1mudI9eVeCYYDD4ZyQ1dTArbe6OrKOFxMDTf7wJiIiogSsnbT0fmvLOTOkteYYgPT0dNLT0wEoLS29QhGKiLQTi6UxQezu6p/DExEROUtPSbcTm81GUVFRw3ZxcTGh50zR3ZpjAFJTU8nJySEnJ4egoKD2C1pERERERNqVErB2kpCQQF5eHgUFBVRXV5ORkUFycrLTMcnJyaxevRrDMPj000/p3bu3hh%2BKiIiIiHRhGh/STqxWKytWrCAxMRGHw8G8efOIiYkhLS0NgAULFpCUlMS6deuw2%2B306NGDVatWuThqERERERFpT0rA2lFSUhJJSUlOdQsWLGhYt1gsPPfccx0dloiIiIiIuIiGIIqIiIiIiHQQJWAiIiIiIiIdRAmYiIiIiIhIB7EYLb2MStxWz549iYyMdHUYLSotLXXbafIVW9sotrZRbC0rLCzkyJEjLrm2q6jNbhvF1jaKrW0U2/l1x3a7I2gSjk4mMjKSnJwcV4fRovj4eMXWBoqtbRRb27hzbF2R2uy2UWxto9jaRrFJR9MQRBERERERkQ6iBExERERERKSDeP7qV7/6lauDkEszduxYV4dwXoqtbRRb2yi2tnHn2Loid77fiq1tFFvbKLa2cefYpG00CYeIiIiIiEgH0RBEERERERGRDqIErJPIyspi%2BPDh2O12li5d6upwmhkyZAgjR44kLi6O%2BPh4l8Yyb948goODGTFiREPdsWPHmDJlCkOHDmXKlCmUlZW5TWy/%2BtWvGDRoEHFxccTFxbFu3boOj6uoqIjrr7%2BeqKgoYmJiWLZsGeAe9%2B18sbnDfausrGTcuHGMGjWKmJgYHn30UcA97tuF4nOHe9cduHO7rTa77bG5y8%2BP2u22ced2W212N2KI26utrTUiIiKM/Px8o6qqyoiNjTV27drl6rCcXHXVVUZpaamrwzAMwzA2b95sbNu2zYiJiWmoe%2Bihh4wnnnjCMAzDeOKJJ4yf/OQnbhPbo48%2Bajz99NMuiafe/v37jW3bthmGYRgnTpwwhg4dauzatcst7tv5YnOH%2B1ZXV2ecPHnSMAzDqK6uNsaNG2f861//cov7dqH43OHedXXu3m6rzW57bO7y86N2u23cud1Wm919qAesE8jOzsZutxMREYG3tzcpKSlkZma6Oiy3NWnSJAIDA53qMjMzufPOOwG48847eeedd1wRWouxuYOQkBDGjBkDQK9evYiKiqKkpMQt7tv5YnMHFouFnj17AlBTU0NNTQ0Wi8Ut7tuF4pP2p3a79dRmt43a7bZx53ZbbXb3oQSsEygpKSEsLKxh22azuU1DVs9isTB16lTGjh1Lenq6q8Np5tChQ4SEhADmL4bDhw%2B7OCJnK1asIDY2lnnz5rlsqE29wsJCPv/8c8aPH%2B92961pbOAe983hcBAXF0dwcDBTpkxxu/vWUnzgHveuK3P3dltt9uVxt58ftduXxp3bbbXZ3YMSsE7AaGGiSnf7i8iWLVv497//zfr163nuuef4xz/%2B4eqQOo17772X/Px8tm/fTkhICD/%2B8Y9dFsupU6eYMWMGzz77LAEBAS6LoyXnxuYu983T05Pt27dTXFxMdnY2O3fudEkc59NSfO5y77oyd2%2B31Wa3nbv9/KjdvnTu3G6rze4elIB1AjabjaKioobt4uJiQkNDXRhRc/XxBAcHM23aNLKzs10ckbMBAwZw4MABAA4cOEBwcLCLI2o0YMAAPD098fDw4Pvf/77L7l1NTQ0zZsxg9uzZTJ8%2BvSE2d7hv54vNHe5bvT59%2BjB58mSysrLc5r41dW587nTvuiJ3b7fVZredO/38qN2%2BPO7cbqvN7tqUgHUCCQkJ5OXlUVBQQHV1NRkZGSQnJ7s6rAanT5/m5MmTDevvv/%2B%2B04xR7iA5OZmXXnoJgJdeeonbbrvNxRE1qm/wAdauXeuSe2cYBvfccw9RUVE88MADDfXucN/OF5s73LfS0lLKy8sBqKio4MMPPyQyMtIt7tuF4nOHe9fVuXO7rTb78rjLz4/a7bZx53ZbbXY34soZQKT13nvvPWPo0KFGRESE8dhjj7k6HCf5%2BflGbGysERsba0RHR7s8vpSUFGPgwIGG1Wo1Bg0aZKxcudI4cuSIccMNNxh2u9244YYbjKNHj7pNbHPmzDFGjBhhjBw50rj11luN/fv3d3hcH3/8sQEYI0eONEaNGmWMGjXKeO%2B999zivp0vNne4b1988YURFxdnjBw50oiJiTF%2B/etfG4ZhuMV9u1B87nDvugN3bbfVZl9ebO7y86N2u23cud1Wm919WAyjhYHqIiIiIiIicsVpCKKIiIiIiEgHUQImIiIiIiLSQZSAiYiIiIiIdBAlYCIiIiIiIh1ECZiIiIiIiEgHUQImIiIiIiLSQZSAiYiIiIiIdBAlYCIiIiIiIh1ECZiIiIiIiEgHUQImIiIiIiLSQZSAiYiIiIiIdBAlYCIiIiIiIh1ECZiIiIiIiEgHUQImIiIiIiLSQZSAiYiIiIiIdBAlYCIiIiIiIh1ECZiIiIiIiEgHUQImIiIiIiLSQZSAiYiIiIiIdBAlYCIiIiIiIh3k/wM/t2PfgUZyqAAAAABJRU5ErkJggg%3D%3D\">"
      ]
     },
     "metadata": {},
     "output_type": "display_data"
    }
   ],
   "source": [
    "# write the code here to get a new `step` operation and then run the cell with training loop above.\n",
    "# name your variables in the same way (e.g. logits, probas, classes, etc) for safety.\n",
    "### YOUR CODE HERE ###\n",
    "# define a two layer MLP\n",
    "hidden1 = tf.layers.dense(input_X, 256, activation=tf.nn.sigmoid) # layer 1 after input layer\n",
    "hidden2 = tf.layers.dense(hidden1, 256, activation=tf.nn.sigmoid) # layer 2 adjacent to layer 1\n",
    "logits = tf.layers.dense(hidden2, 10) # as we have 10 classes as output\n",
    "\n",
    "# define the prediction probabilities and calsses layer\n",
    "probas = tf.nn.softmax(logits) # as we have multiple classes here\n",
    "classes = tf.argmax(probas, 1) # 1 is axis i.e column vector containing 10 values of probabilities\n",
    "\n",
    "# define the loss function\n",
    "loss = tf.reduce_mean(tf.nn.softmax_cross_entropy_with_logits(logits=logits, labels=input_y))\n",
    "\n",
    "# define our gradient descent step\n",
    "step = tf.train.AdamOptimizer().minimize(loss)\n",
    "\n",
    "# Now let's moveforward to train our network\n",
    "\n",
    "#sess = reset_tf_session()\n",
    "s.run(tf.global_variables_initializer())\n",
    "# define the batchsize and no of epochs\n",
    "BATCH_SIZE_MLP = 512\n",
    "EPOCHS_MLP = 40\n",
    "\n",
    "# for logging the progress right here\n",
    "simpleTrainingCurvesMLP = matplotlib_utils.SimpleTrainingCurves('cross-entropy', 'accuracy')\n",
    "\n",
    "# iterate for no of epochs\n",
    "for epoch in range(EPOCHS_MLP):\n",
    "    \n",
    "    batch_losses_MLP = []\n",
    "    for start in range(0, X_train_flat.shape[0], BATCH_SIZE_MLP):\n",
    "        _, batch_loss = s.run([step, loss],\n",
    "                                {input_X:X_train_flat[start : start + BATCH_SIZE_MLP],\n",
    "                                input_y : y_train_oh[start : start + BATCH_SIZE_MLP]})\n",
    "        batch_losses_MLP.append(batch_loss)\n",
    "        \n",
    "    train_loss = np.mean(batch_losses_MLP)\n",
    "    val_loss = s.run(loss, {input_X: X_val_flat, input_y: y_val_oh})\n",
    "    training_accuracy = accuracy_score(y_train, s.run(classes, {input_X: X_train_flat}))\n",
    "    val_accuracy = accuracy_score(y_val, s.run(classes, {input_X: X_val_flat}))\n",
    "    simpleTrainingCurvesMLP.add(train_loss, val_loss, training_accuracy, val_accuracy)"
   ]
  },
  {
   "cell_type": "markdown",
   "metadata": {
    "collapsed": true
   },
   "source": [
    "## MNIST Digit classidfication usign keras"
   ]
  },
  {
   "cell_type": "code",
   "execution_count": 16,
   "metadata": {},
   "outputs": [
    {
     "name": "stdout",
     "output_type": "stream",
     "text": [
      "WARNING:tensorflow:From C:\\ProgramData\\Anaconda3\\lib\\site-packages\\tensorflow_core\\python\\ops\\resource_variable_ops.py:1635: calling BaseResourceVariable.__init__ (from tensorflow.python.ops.resource_variable_ops) with constraint is deprecated and will be removed in a future version.\n",
      "Instructions for updating:\n",
      "If using Keras pass *_constraint arguments to layers.\n"
     ]
    }
   ],
   "source": [
    "# building a model with keras\n",
    "from keras.layers import Dense, Activation\n",
    "from keras.models import Sequential\n",
    "\n",
    "# we still need to clear a graph though\n",
    "s = reset_tf_session()\n",
    "\n",
    "model = Sequential()  # it is a feed-forward network without loops like in RNN\n",
    "model.add(Dense(256, input_shape=(784,)))  # the first layer must specify the input shape (replacing placeholders)\n",
    "model.add(Activation('sigmoid'))\n",
    "model.add(Dense(256))\n",
    "model.add(Activation('sigmoid'))\n",
    "model.add(Dense(10))\n",
    "model.add(Activation('softmax'))"
   ]
  },
  {
   "cell_type": "code",
   "execution_count": 17,
   "metadata": {},
   "outputs": [
    {
     "name": "stdout",
     "output_type": "stream",
     "text": [
      "Model: \"sequential_1\"\n",
      "_________________________________________________________________\n",
      "Layer (type)                 Output Shape              Param #   \n",
      "=================================================================\n",
      "dense_1 (Dense)              (None, 256)               200960    \n",
      "_________________________________________________________________\n",
      "activation_1 (Activation)    (None, 256)               0         \n",
      "_________________________________________________________________\n",
      "dense_2 (Dense)              (None, 256)               65792     \n",
      "_________________________________________________________________\n",
      "activation_2 (Activation)    (None, 256)               0         \n",
      "_________________________________________________________________\n",
      "dense_3 (Dense)              (None, 10)                2570      \n",
      "_________________________________________________________________\n",
      "activation_3 (Activation)    (None, 10)                0         \n",
      "=================================================================\n",
      "Total params: 269,322\n",
      "Trainable params: 269,322\n",
      "Non-trainable params: 0\n",
      "_________________________________________________________________\n"
     ]
    }
   ],
   "source": [
    "# spectate the params\n",
    "model.summary()"
   ]
  },
  {
   "cell_type": "code",
   "execution_count": 18,
   "metadata": {},
   "outputs": [],
   "source": [
    "# now we \"compile\" the model specifying the loss and optimizer\n",
    "model.compile(\n",
    "    loss='categorical_crossentropy', # this is our cross-entropy\n",
    "    optimizer='adam',\n",
    "    metrics=['accuracy']  # report accuracy during training\n",
    ")"
   ]
  },
  {
   "cell_type": "code",
   "execution_count": 20,
   "metadata": {},
   "outputs": [
    {
     "data": {
      "text/plain": [
       "<keras.callbacks.callbacks.History at 0x1e07d35ffc8>"
      ]
     },
     "execution_count": 20,
     "metadata": {},
     "output_type": "execute_result"
    }
   ],
   "source": [
    "# and now we can fit the model with model.fit()\n",
    "# and we don't have to write loops and batching manually as in TensorFlow\n",
    "model.fit(\n",
    "    X_train_flat, \n",
    "    y_train_oh,\n",
    "    batch_size=512, \n",
    "    epochs=40,\n",
    "    validation_data=(X_val_flat, y_val_oh),\n",
    "    verbose=0\n",
    ") # call backs can be added later"
   ]
  },
  {
   "cell_type": "markdown",
   "metadata": {},
   "source": [
    "# Here're the notes for those who want to play around here\n",
    "\n",
    "Here are some tips on what you could do:\n",
    "\n",
    " * __Network size__\n",
    "   * More neurons, \n",
    "   * More layers, ([docs](https://keras.io/))\n",
    "\n",
    "   * Other nonlinearities in the hidden layers\n",
    "     * tanh, relu, leaky relu, etc\n",
    "   * Larger networks may take more epochs to train, so don't discard your net just because it could didn't beat the baseline in 5 epochs.\n",
    "\n",
    "\n",
    " * __Early Stopping__\n",
    "   * Training for 100 epochs regardless of anything is probably a bad idea.\n",
    "   * Some networks converge over 5 epochs, others - over 500.\n",
    "   * Way to go: stop when validation score is 10 iterations past maximum\n",
    "     \n",
    "\n",
    " * __Faster optimization__\n",
    "   * rmsprop, nesterov_momentum, adam, adagrad and so on.\n",
    "     * Converge faster and sometimes reach better optima\n",
    "     * It might make sense to tweak learning rate/momentum, other learning parameters, batch size and number of epochs\n",
    "\n",
    "\n",
    " * __Regularize__ to prevent overfitting\n",
    "   * Add some L2 weight norm to the loss function, theano will do the rest\n",
    "     * Can be done manually or via - https://keras.io/regularizers/\n",
    "   \n",
    "   \n",
    " * __Data augmemntation__ - getting 5x as large dataset for free is a great deal\n",
    "   * https://keras.io/preprocessing/image/\n",
    "   * Zoom-in+slice = move\n",
    "   * Rotate+zoom(to remove black stripes)\n",
    "   * any other perturbations\n",
    "   * Simple way to do that (if you have PIL/Image): \n",
    "     * ```from scipy.misc import imrotate,imresize```\n",
    "     * and a few slicing\n",
    "   * Stay realistic. There's usually no point in flipping dogs upside down as that is not the way you usually see them."
   ]
  },
  {
   "cell_type": "code",
   "execution_count": null,
   "metadata": {},
   "outputs": [],
   "source": []
  }
 ],
 "metadata": {
  "kernelspec": {
   "display_name": "Python 3",
   "language": "python",
   "name": "python3"
  },
  "language_info": {
   "codemirror_mode": {
    "name": "ipython",
    "version": 3
   },
   "file_extension": ".py",
   "mimetype": "text/x-python",
   "name": "python",
   "nbconvert_exporter": "python",
   "pygments_lexer": "ipython3",
   "version": "3.7.4"
  }
 },
 "nbformat": 4,
 "nbformat_minor": 1
}
