{
 "cells": [
  {
   "cell_type": "markdown",
   "metadata": {
    "slideshow": {
     "slide_type": "slide"
    }
   },
   "source": [
    "# MNIST digits classification with TensorFlow"
   ]
  },
  {
   "cell_type": "markdown",
   "metadata": {},
   "source": [
    "<img src=\"images/mnist_sample.png\" style=\"width:30%\">"
   ]
  },
  {
   "cell_type": "code",
   "execution_count": 1,
   "metadata": {},
   "outputs": [
    {
     "name": "stdout",
     "output_type": "stream",
     "text": [
      "WARNING:tensorflow:From C:\\ProgramData\\Anaconda3\\lib\\site-packages\\tensorflow_core\\python\\compat\\v2_compat.py:88: disable_resource_variables (from tensorflow.python.ops.variable_scope) is deprecated and will be removed in a future version.\n",
      "Instructions for updating:\n",
      "non-resource variables are not supported in the long term\n",
      "We're using TF 2.1.0\n"
     ]
    }
   ],
   "source": [
    "import numpy as np\n",
    "from sklearn.metrics import accuracy_score\n",
    "from matplotlib import pyplot as plt\n",
    "%matplotlib inline\n",
    "import tensorflow.compat.v1 as tf\n",
    "tf.disable_v2_behavior()\n",
    "print(\"We're using TF\", tf.__version__)"
   ]
  },
  {
   "cell_type": "code",
   "execution_count": 2,
   "metadata": {},
   "outputs": [],
   "source": [
    "from Utils import matplotlib_utils\n",
    "from importlib import reload\n",
    "reload(matplotlib_utils)\n",
    "from Utils import keras_utils\n",
    "from Utils.keras_utils import reset_tf_session"
   ]
  },
  {
   "cell_type": "markdown",
   "metadata": {},
   "source": [
    "# Look at the data\n",
    "\n",
    "In this task we have 50000 28x28 images of digits from 0 to 9.\n",
    "We will train a classifier on this data."
   ]
  },
  {
   "cell_type": "code",
   "execution_count": 3,
   "metadata": {},
   "outputs": [
    {
     "name": "stderr",
     "output_type": "stream",
     "text": [
      "Using TensorFlow backend.\n"
     ]
    },
    {
     "name": "stdout",
     "output_type": "stream",
     "text": [
      "(60000, 28, 28) (10000, 28, 28) (60000,) (10000,)\n"
     ]
    }
   ],
   "source": [
    "from Utils import preprocessed_mnist\n",
    "X_train, y_train, X_val, y_val, X_test, y_test = preprocessed_mnist.laod_dataset()"
   ]
  },
  {
   "cell_type": "code",
   "execution_count": 4,
   "metadata": {},
   "outputs": [
    {
     "name": "stdout",
     "output_type": "stream",
     "text": [
      "X_train [shape (50000, 28, 28)] sample patch:\n",
      " [[0.         0.29803922 0.96470588 0.98823529 0.43921569]\n",
      " [0.         0.33333333 0.98823529 0.90196078 0.09803922]\n",
      " [0.         0.33333333 0.98823529 0.8745098  0.        ]\n",
      " [0.         0.33333333 0.98823529 0.56862745 0.        ]\n",
      " [0.         0.3372549  0.99215686 0.88235294 0.        ]]\n",
      "A closeup of a sample patch:\n"
     ]
    },
    {
     "data": {
      "image/png": "[encoded data removed]",
      "text/plain": [
       "<Figure size 432x288 with 1 Axes>"
      ]
     },
     "metadata": {
      "needs_background": "light"
     },
     "output_type": "display_data"
    },
    {
     "name": "stdout",
     "output_type": "stream",
     "text": [
      "And the whole sample:\n"
     ]
    },
    {
     "data": {
      "image/png": "[encoded data removed]",
      "text/plain": [
       "<Figure size 432x288 with 1 Axes>"
      ]
     },
     "metadata": {
      "needs_background": "light"
     },
     "output_type": "display_data"
    },
    {
     "name": "stdout",
     "output_type": "stream",
     "text": [
      "y_train [shape (50000,)] 10 samples:\n",
      " [5 0 4 1 9 2 1 3 1 4]\n"
     ]
    }
   ],
   "source": [
    "# X contains rgb values divided by 255\n",
    "print(\"X_train [shape %s] sample patch:\\n\" % (str(X_train.shape)), X_train[1, 15:20, 5:10])\n",
    "print(\"A closeup of a sample patch:\")\n",
    "plt.imshow(X_train[1, 15:20, 5:10], cmap=\"Greys\")\n",
    "plt.show()\n",
    "print(\"And the whole sample:\")\n",
    "plt.imshow(X_train[1], cmap=\"Greys\")\n",
    "plt.show()\n",
    "print(\"y_train [shape %s] 10 samples:\\n\" % (str(y_train.shape)), y_train[:10])"
   ]
  },
  {
   "cell_type": "markdown",
   "metadata": {},
   "source": [
    "# Linear model\n",
    "\n",
    "Our task is to train a linear classifier $\\vec{x} \\rightarrow y$ with SGD using TensorFlow.\n",
    "\n",
    "We will need to calculate a logit (a linear transformation) $z_k$ for each class: \n",
    "$$z_k = \\vec{x} \\cdot \\vec{w_k} + b_k \\quad k = 0..9$$\n",
    "\n",
    "And transform logits $z_k$ to valid probabilities $p_k$ with softmax: \n",
    "$$p_k = \\frac{e^{z_k}}{\\sum_{i=0}^{9}{e^{z_i}}} \\quad k = 0..9$$\n",
    "\n",
    "We will use a cross-entropy loss to train our multi-class classifier:\n",
    "$$\\text{cross-entropy}(y, p) = -\\sum_{k=0}^{9}{\\log(p_k)[y = k]}$$ \n",
    "\n",
    "where \n",
    "$$\n",
    "[x]=\\begin{cases}\n",
    "       1, \\quad \\text{if $x$ is true} \\\\\n",
    "       0, \\quad \\text{otherwise}\n",
    "    \\end{cases}\n",
    "$$\n",
    "\n",
    "Cross-entropy minimization pushes $p_k$ close to 1 when $y = k$, which is what we want.\n",
    "\n",
    "Here's the plan:\n",
    "* Flatten the images (28x28 -> 784) with `X_train.reshape((X_train.shape[0], -1))` to simplify our linear model implementation\n",
    "* Use a matrix placeholder for flattened `X_train`\n",
    "* Convert `y_train` to one-hot encoded vectors that are needed for cross-entropy\n",
    "* Use a shared variable `W` for all weights (a column $\\vec{w_k}$ per class) and `b` for all biases.\n",
    "* Aim for ~0.93 validation accuracy"
   ]
  },
  {
   "cell_type": "code",
   "execution_count": 5,
   "metadata": {},
   "outputs": [
    {
     "name": "stdout",
     "output_type": "stream",
     "text": [
      "(50000, 784)\n",
      "(10000, 784)\n"
     ]
    }
   ],
   "source": [
    "X_train_flat = X_train.reshape((X_train.shape[0], -1))\n",
    "print(X_train_flat.shape)\n",
    "\n",
    "X_val_flat = X_val.reshape((X_val.shape[0], -1))\n",
    "print(X_val_flat.shape)"
   ]
  },
  {
   "cell_type": "code",
   "execution_count": 6,
   "metadata": {},
   "outputs": [
    {
     "name": "stdout",
     "output_type": "stream",
     "text": [
      "(50000, 10)\n",
      "[[0. 0. 0. 0. 0. 1. 0. 0. 0. 0.]\n",
      " [1. 0. 0. 0. 0. 0. 0. 0. 0. 0.]\n",
      " [0. 0. 0. 0. 1. 0. 0. 0. 0. 0.]] [5 0 4]\n"
     ]
    }
   ],
   "source": [
    "import keras\n",
    "\n",
    "y_train_oh = keras.utils.to_categorical(y_train, 10)\n",
    "y_val_oh = keras.utils.to_categorical(y_val, 10)\n",
    "\n",
    "print(y_train_oh.shape)\n",
    "print(y_train_oh[:3], y_train[:3])"
   ]
  },
  {
   "cell_type": "code",
   "execution_count": 7,
   "metadata": {},
   "outputs": [
    {
     "name": "stdout",
     "output_type": "stream",
     "text": [
      "WARNING:tensorflow:From C:\\Users\\MRUTYUNJAY BISWAL\\Desktop\\ML Opensource\\machine-learning-projects\\MNIST digit classification\\Utils\\keras_utils.py:65: The name tf.keras.backend.set_session is deprecated. Please use tf.compat.v1.keras.backend.set_session instead.\n",
      "\n"
     ]
    }
   ],
   "source": [
    "# run this again if you remake your graph\n",
    "s = reset_tf_session()"
   ]
  },
  {
   "cell_type": "code",
   "execution_count": 8,
   "metadata": {},
   "outputs": [],
   "source": [
    "# Model parameters: W and b\n",
    "W = tf.get_variable(name='W', shape=(X_train_flat.shape[1], y_train_oh.shape[1]), dtype=tf.float32)### YOUR CODE HERE ### tf.get_variable(...) with shape[0] = 784\n",
    "b = tf.get_variable(name='b', shape=(y_train_oh.shape[1], ), dtype=tf.float32)### YOUR CODE HERE ### tf.get_variable(...)"
   ]
  },
  {
   "cell_type": "code",
   "execution_count": 9,
   "metadata": {},
   "outputs": [],
   "source": [
    "# Placeholders for the input data\n",
    "input_X = tf.placeholder('float32', shape=(None, X_train_flat.shape[1]), name='input_x')### YOUR CODE HERE ### tf.placeholder(...) for flat X with shape[0] = None for any batch size\n",
    "input_y = tf.placeholder('float32', shape=(None, y_train_oh.shape[1]), name='input_y')### YOUR CODE HERE ### tf.placeholder(...) for one-hot encoded true labels"
   ]
  },
  {
   "cell_type": "code",
   "execution_count": 10,
   "metadata": {},
   "outputs": [
    {
     "name": "stdout",
     "output_type": "stream",
     "text": [
      "WARNING:tensorflow:From <ipython-input-10-3c1e0d9d706a>:9: softmax_cross_entropy_with_logits (from tensorflow.python.ops.nn_ops) is deprecated and will be removed in a future version.\n",
      "Instructions for updating:\n",
      "\n",
      "Future major versions of TensorFlow will allow gradients to flow\n",
      "into the labels input on backprop by default.\n",
      "\n",
      "See `tf.nn.softmax_cross_entropy_with_logits_v2`.\n",
      "\n"
     ]
    }
   ],
   "source": [
    "# Compute predictions\n",
    "logits = input_X @ W + b### YOUR CODE HERE ### logits for input_X, resulting shape should be [input_X.shape[0], 10]\n",
    "probas = tf.nn.softmax(logits)### YOUR CODE HERE ### apply tf.nn.softmax to logits\n",
    "classes = tf.argmax(probas, 1)### YOUR CODE HERE ### apply tf.argmax to find a class index with highest probability\n",
    "\n",
    "# Loss should be a scalar number: average loss over all the objects with tf.reduce_mean().\n",
    "# Use tf.nn.softmax_cross_entropy_with_logits on top of one-hot encoded input_y and logits.\n",
    "# It is identical to calculating cross-entropy on top of probas, but is more numerically friendly (read the docs).\n",
    "loss = tf.reduce_mean(tf.nn.softmax_cross_entropy_with_logits(labels=input_y, logits=logits))### YOUR CODE HERE ### cross-entropy loss\n",
    "\n",
    "# Use a default tf.train.AdamOptimizer to get an SGD step\n",
    "step = tf.train.AdamOptimizer(learning_rate=0.01).minimize(loss)### YOUR CODE HERE ### optimizer step that minimizes the loss"
   ]
  },
  {
   "cell_type": "code",
   "execution_count": 11,
   "metadata": {},
   "outputs": [
    {
     "name": "stdout",
     "output_type": "stream",
     "text": [
      "(?, 10)\n"
     ]
    }
   ],
   "source": [
    "print(logits.shape)"
   ]
  },
  {
   "cell_type": "code",
   "execution_count": 12,
   "metadata": {
    "scrolled": false
   },
   "outputs": [
    {
     "data": {
      "text/html": [
       "<img src=\"data:image/png;base64,iVBORw0KGgoAAAANSUhEUgAAA2AAAAEgCAYAAADSVRDhAAAABHNCSVQICAgIfAhkiAAAAAlwSFlzAAALEgAACxIB0t1%2B/AAAADh0RVh0U29mdHdhcmUAbWF0cGxvdGxpYiB2ZXJzaW9uMy4xLjIsIGh0dHA6Ly9tYXRwbG90bGliLm9yZy8li6FKAAAgAElEQVR4nOzdeXxM1/vA8c/IRCKykAgSYwlRISsJodZS%2B1JLiqqldt8v36ILWl10pS3VFqV2WkSrVUtV7dWfLZaiEUuQRDYRqUQWiWRyfn/cuqQSjSIRnvfrdV%2BZuffce8%2BZxIxnzjnPMSilFEIIIYQQQgghHrhSxV0BIYQQQgghhHhcSAAmhBBCCCGEEEVEAjAhhBBCCCGEKCISgAkhhBBCCCFEEZEATAghhBBCCCGKiARgQgghhBBCCFFEJAATQgghhBBCiCIiAZgQQgghhBBCFBEJwIQQQgghhBCiiEgAJoQQQgghhBBFRAIwIYQQQgghhCgiEoAJIYQQQgghRBGRAEwIIYQQQgghiogEYEIIIYQQQghRRCQAE0IIIYQQQogiIgGYEEIIIYQQQhQRCcCEEEIIIYQQoohIACaEEEIIIYQQRUQCMCGEEEIIIYQoIhKACSHumsFg4OzZs8VdDSGEEEKIEkcCMCEeMjk5OcVdhXv2KLRBCCFKIqUUubm5xV0NIcQdSAAmRBGKjo6mZ8%2BeODs74%2BTkxJgxY1i6dClNmzZl/PjxODo6MmXKFHJzc3n//fepXr06FStWZODAgaSkpACQmZlJ//79cXJyoly5cjRs2JCEhAQAli5dSs2aNbGzs8PNzY0VK1YUWJdTp07Rtm1bHB0dqVOnDt9%2B%2B61%2B7IUXXmD06NF07twZOzs7AgMDOXfuHAAtWrQAwNfXF1tbW1avXs2uXbswmUx89NFHVK5cmcGDBwOwYMEC3N3dcXR0pFu3bsTFxen3MBgMfPHFF9SsWZMKFSrw6quvkpubS1ZWFo6Ojvzxxx962UuXLlGmTBkSExPv029CCCEerGnTplGrVi3s7OyoV68ea9eu1Y8tWLCAunXr6seOHDkC5P8ZATBlyhT69%2B%2Bvnx8ZGYnBYNC/7GrVqhWTJ0%2BmadOm2NjYcP78eZYsWaLfo2bNmnz11Vd56rdu3Tr8/Pywt7enVq1abN68me%2B%2B%2Bw5/f/885WbMmEH37t0fyGskxGNLCSGKRE5OjvLx8VHjxo1TaWlp6tq1a%2Bq3335TS5YsURYWFuqLL75Q2dnZKiMjQy1atEjVqlVLnTt3TqWmpqoePXqo/v37K6WUmjdvnurSpYtKT09XOTk56tChQyolJUWlpaUpOzs7derUKaWUUnFxcSo0NDTfuqSlpSmTyaQWL16ssrOz1eHDh5WTk5NeftCgQap8%2BfLqwIEDKjs7W/Xr10/16dNHPx9Q4eHh%2BvOdO3cqCwsLNWHCBJWZmakyMjLU9u3blZOTkzp8%2BLDKzMxUY8aMUc2bN89zjVatWqmkpCQVFRWlateurRYsWKCUUuo///mPmjBhgl72s88%2BU126dLlPvwkhhHjwvv32WxUbG6vMZrMKDg5WNjY2Ki4uTn377bfK1dVVhYSEqNzcXBUeHq4iIyML/IxQSqm3335bPf/88/q1IyIiFKCys7OVUkq1bNlSVa1aVYWGhqrs7Gx1/fp1tXHjRnX27FmVm5urdu3apcqUKaMOHz6slFLqwIEDyt7eXm3ZskWZzWYVExOjTp48qTIzM1X58uVVWFiYfi8/Pz%2B1Zs2aInzlhHj0SQAmRBHZu3evqlChgv6BecOSJUtU1apV8%2Bxr3bq1mjNnjv781KlTymg0quzsbLVo0SLVpEkTdezYsTznpKWlKQcHB7VmzRqVkZFxx7oEBwerZs2a5dk3YsQINWXKFKWUFoANHTpUP/bTTz%2BpOnXq6M/zC8AsLS3VtWvX9H1DhgxRr776qv48NTVVGY1GFRERoV/j559/1o/PmTNHtW7dWiml1P79%2B5XJZFJms1kppZS/v79avXr1HdskhBAPM19fX/Xjjz%2Bqdu3aqc8%2B%2B%2By24wV9RihVuADszTffvOP9n3nmGf2%2BI0aMUOPGjcu33KhRo9Trr7%2BulFIqNDRUlStXTmVmZhaukUKIQpEhiEIUkejoaKpXr47RaLztWNWqVfM8j4uLo3r16vrz6tWrk5OTQ0JCAgMGDKB9%2B/b07dsXV1dXJkyYQHZ2NmXLlmX16tXMmzcPFxcXOnfuzKlTpwDw9PTE1tYWW1tbfvvtN6Kiojhw4ADlypXTtxUrVnDx4kX9npUrV9Yf29jYkJaWdsf2OTs7Y21tXWAbbG1tcXJyIjY2Nt92V69eXR%2BiGBgYSNmyZfn11185deoUZ8%2BepVu3bne8vxBCPEyWL1%2BOn5%2Bf/h4bGhrK5cuXiY6OplatWreVv9NnRGH8/XPk559/pnHjxjg6OlKuXDk2bdrE5cuX9XvlVweAQYMGsXLlSpRSfP311/Tu3RsrK6t/VSchRP4kABOiiFStWpULFy7km6DCYDDkee7q6kpUVJT%2B/MKFCxiNRipVqoSlpSVvv/02YWFh7N27l40bN7J8%2BXIA2rdvz9atW4mPj8fDw4Phw4cDcOLECdLS0khLS6N58%2BZUrVqVli1bkpycrG9paWnMnTv3X7fvn9qQnp5OUlISVapU0fdFR0fnaaOrq6v%2BfNCgQXzzzTd8/fXXBAUF5QnuhBDiYRYVFcXw4cOZPXs2SUlJJCcn4%2BXlhVKKqlWr6nNqb3Wnz4iyZcuSkZGhP7/1y7Ibbn0PzsrKolevXrzyyiskJCSQnJxMp06dUErp98qvDgCNGzemdOnS/Pbbb6xcuZIBAwbcdfuFEHcmAZgQRaRRo0a4uLgwadIk0tPTyczMZM%2BePfmWfe6555g5cyYRERGkpaXx%2Buuv06dPH4xGIzt37uSPP/7AbDZjb2%2BPpaUlFhYWJCQksH79etLT07GyssLW1hYLC4t8r9%2BlSxfOnDnD119/TXZ2NtnZ2Rw8eJCTJ08Wqi2VKlXi/PnzdyzTr18/lixZwtGjR8nKyuL1118nMDCQGjVq6GU%2B%2BeQTrly5QnR0NJ9//jl9%2BvTRjw0YMIC1a9fyzTffMHDgwELVSwghHgbp6ekYDAacnZ0BWLJkCaGhoQAMGzaM6dOnc/jwYZRSnD17lqioqDt%2BRvj5%2BbF7924uXLhASkoKU6dOveP9r1%2B/TlZWFs7OzhiNRn7%2B%2BWe2bNmiHx86dChLlixh%2B/bt5ObmEhsbq4%2BYABg4cCBjxozBaDTSrFmz%2B/3yCPHYkwBMiCJiYWHBhg0bOHv2LNWqVcNkMrF69ep8yw4ZMoQBAwbQokUL3NzcsLa2ZtasWYD2zWdQUBD29vbUrVuXli1b0r9/f3Jzc5kxYwaurq44Ojry66%2B/8uWXX%2BZ7fTs7O7Zs2UJwcDCurq5UrlyZiRMnkpWVVai2TJkyhUGDBlGuXLk82RNv1aZNG9577z169eqFi4sL586dIzg4OE%2BZZ555Bn9/f/z8/OjcuTNDhw7Vj5lMJho0aIDBYKB58%2BaFqpcQQjwM6tWrx8svv0yTJk2oVKkSf/zxB02bNgXg2WefZfLkyfTr1w87Ozu6d%2B/On3/%2BecfPiLZt29KnTx98fHzw9/enS5cud7y/nZ0dX3zxBb1796Z8%2BfKsXLkyzzDuRo0asWTJEsaPH4%2BDgwMtW7bMM2JhwIABhIaGSu%2BXEA%2BIQd3ojxZCiCJkMBgIDw/H3d29wDJDhgzB1dWV999/vwhrJoQQj7dr165RsWJFjhw5Qu3atYu7OkI8cv7dTE8hhHjAIiMj%2BeGHH/j999%2BLuypCCPFYmTt3Lg0bNpTgS4gHRAIwIcRD580332TmzJm89tpruLm5FXd1hBDisVGjRg2UUvz444/FXRUhHlkyBFEIIYQQQgghiogk4RBCCCGEEEKIIiIBmBBCCCGEEEIUEZkDVsJUqFAhzzpKQghRUkRGRnL58uXirkaRkvdsIURJ9ji%2BbxcFCcBKmBo1anDo0KHiroYQQty1gICA4q5CkZP3bCFESfY4vm8XBRmCKIQQQgghhBBFRAIwIYQQQgghhCgiEoAJIYQQQgghRBGROWD3aPPmzYwdOxaz2cywYcOYNGlSnuO7du3imWee0ReT7dmzJ2%2B99VahzhWPp%2BzsbGJiYsjMzCzuqgjxr1hbW2MymbC0tCzuqgghhBAPHQnA7oHZbGb06NFs3boVk8lEw4YN6datG/Xq1ctTrnnz5mzcuPFfnSsePzExMdjZ2VGjRg0MBkNxV0eIu6KUIikpiZiYGP2LJyGEEELcJEMQ70FISAju7u7UrFmT0qVL07dvX9atW/fAzxWPtszMTJycnCT4EiWSwWDAyclJenCFEEKIAkgAdg9iY2OpWrWq/txkMhEbG3tbuX379uHr60vHjh05ceLEXZ17m%2Bjoe6%2B4eOhJ8CVKMvn7FUKIEiozE44cgaVL4aWXirs2jywJwO6BUuq2fX//j0eDBg2Iiori2LFj/O9//6N79%2B6FPveG%2BfPnExAQoK3FcOkSmM33ofZC5C85OZkvv/zyX53bqVMnkpOT//W9p06diru7O3Xq1OGXX37Jt8yrr76Kh4cHPj4%2B9OjRQ79fSEgIfn5%2B%2BPn54evry9q1a/VzVq1ahbe3Nz4%2BPnTo0EFfVDIrK4s%2Bffrg7u5OYGAgkZGR%2BjkTJ07Ey8sLLy8vVq9ere9/4YUXcHNz0%2B919OhRAK5cuUKPHj3w8fGhUaNGhIaG6ufMnDkTT09PvLy8eO655/TeoTfffBMfHx/8/Pxo164dcXFxgDYPcNCgQXh7e1O3bl2mTp2qX%2Bv69euMGDGCJ554Ag8PD77//nsAPv30U%2BrVq4ePjw9t2rQhKipKP2fChAl4enpSt25dXnzxRf39p3nz5no7XF1d9fcn0Oav%2Bvn54enpScuWLfX9n3/%2BOV5eXnh6evLZZ5/94%2B9UCCHEQ0gpiImBn36CqVPhuefA0xNsbcHfHwYPhpkzi7uWjy4l/rW9e/eqdu3a6c8//PBD9eGHH97xnOrVq6vExMR/da5SSvmDUsnJ/77S4qEXFhZWrPePiIhQnp6e%2BR7Lycl5YPc9ceKE8vHxUZmZmer8%2BfOqZs2a%2Bd7vl19%2BUdnZ2UoppSZMmKAmTJiglFIqPT1d3x8XF6ecnZ1Vdna2ys7OVs7OzioxMVEppdSrr76q3n77baWUUnPmzFEjR45USim1atUq1bt3b6WUUhs3blRPP/20ys7OVmlpacrf31%2BlpKQopZQaNGiQ%2Bu67726r1yuvvKKmTJmilFLq5MmTqnXr1koppWJiYlSNGjVURkaGUkqpZ599Vi1ZskQppfRrKqXU559/rtdlxYoVqk%2BfPnq7qlevriIiIpRSSr311ltq8uTJSimlzGaz3q4dO3ao9PR0pZRSX375pd6WPXv2qCeffFLl5OSonJwc1bhxY7Vz587b6t%2BzZ0%2B1bNkypZRSV65cUXXr1lVRUVFKKaUSEhKUUkr98ccfytPTU3%2Bt27Rpo86cOXPbtZTK/%2B/Y398/37KPssexzUKIh0x6ulIhIUotXKjUiy8q1bKlUuXLK6WFYXm3UqWUqltXqT59lPrgA3kPe0AkCcc9aNiwIeHh4URERFClShWCg4NZuXJlnjIXL16kUqVKGAwGQkJCyM3NxcnJiXLlyv3juQW6ehUcHB5Ai4SASZMmce7cOfz8/Gjbti2dO3fmnXfewcXFhaNHjxIWFkb37t2Jjo4mMzOTsWPHMmLECABq1KjBoUOHSEtLo2PHjjRr1oy9e/dSpUoV1q1bR5kyZQq877p16%2Bjbty9WVla4ubnh7u5OSEgITZo0yVOuXbt2%2BuPGjRuzZs0aAGxsbPT9mZmZeo%2ByUgqlFOnp6Tg5OXH16lXc3d31e06ZMgWAoKAgxowZg1KKsLAwWrZsidFoxGg04uvry%2BbNm%2Bndu3eB9Q8LC%2BO1114DwMPDg8jISBISEgDIycnh2rVrWFpakpGRgaurKwD29vb6%2Benp6XqdDQYD6enp%2BnmlS5fWyy5evJhTp04BUKpUKSpUqADAU089led1%2Beabb/RrZWZmcv36dZRSZGdnU6lSpTx1T01NZceOHSxZsgSAlStX0rNnT6pVqwZAxYoVATh58iSNGzfWX%2BuWLVuydu1aJkyYUODrIoQQohAyMuDCBYiK0rYbjy9ehKwsyM7WtuvXbz7OzobcXLC0zLuVLn3zcXw8hIdr5f7O0RF8fcHH5%2BbPevXg1s/qH34outfgMSIB2D0wGo3Mnj2b9u3bYzabGTJkCJ6ensybNw%2BAUaNGsWbNGubOnYvRaKRMmTIEBwdjMBgKPLdQUlLglvlj4hH2oObS5DME9oZp06YRGhqqD63btWsXISEhhIaG6lntFi9ejKOjI9euXaNhw4b06tULJyenPNcJDw9n1apVLFiwgN69e/P999/Tv3//PP8%2BbhUbG0vjxo3154WZF7l48WL69OmjPz9w4ABDhgwhKiqKr7/%2BGqNRe4ubO3cu3t7elC1bltq1azNnzhz9njfmYhqNRhwcHEhKSsLX15d33nmHl156iYyMDHbu3JknQ%2BnkyZN59913adOmDdOmTcPKygpfX19%2B%2BOEHmjVrRkhICFFRUcTExODv788rr7xCtWrVKFOmDO3atcsTRE6ePJnly5fj4ODAzp07AS0YXLduHS4uLmRkZDBz5kwcHR314ZZvvvkmu3btolatWsyePfu2gGrRokV07NgRgCZNmvDUU0/h4uKCUooxY8ZQt27dPOXXrl1LmzZt9CDvzJkzZGdn06pVK1JTUxk7diwDBw7Ey8uLyZMnk5SURJkyZdi0aZM2NFoIIUqi3Fy4fBmSku74uYiVFbi4wC1f9N1RRgacPw9nz8K5c5CcrO27saWn33ycmqrN709MvD9tyo%2BFhTa88EaQdWNzdX1w/88QdyQB2D3q1KkTnTp1yrPv1v9YjhkzhjFjxhT63EK5evXuzxHiHjRq1ChPSvEvvvhCn2MVHR1NeHj4bQHYjXlSAP7%2B/vr8qr8HXjeou5gXCfDBBx9gNBp5/vnn9X2BgYGcOHGCkydPMmjQIDp27IiFhQVz587l999/p2bNmvzvf/9j6tSpvPHGGwXes127dhw8eJAnn3wSZ2dnmjRpogdzU6dOpXLlyvpcrI8%2B%2Boi33nqLSZMmMXbsWPz8/PD29qZ%2B/foYjUauXLnCunXriIiIoFy5cjz77LN888039O/fX2/HBx98wNSpU5k9ezbvvPMOISEhWFhYEBcXx5UrV2jevDlPP/009vb2xMTE0LRpUz799FM%2B/fRTXnnlFb7%2B%2Bmu9/t988w2HDh3i119/BeDs2bOcPHmSmJgYANq2bcvu3btp0aKFfs6qVasYNmyY/jwnJ4fDhw%2Bzfft2rl27RpMmTWjcuDF169Zl4sSJtG3bFltbW3x9ffXXRQghilRmphbYpKRoW2Zm3p6hW3uKsrIgIQHi4vJuFy9CTk7h7%2BngoAUtrq5aQHbjcWamFmydPav1NhUmqdrfWVpqX65Xr553c3UFa%2Bu8vVq39nQZDHnb/ffXoHx5rVfLyuru6yQeGPnkLIlSUoq7BqKo3OkbuSJUtmxZ/fGuXbvYtm0b%2B/btw8bGhlatWuWbctzqljd7CwsLrl27dsd7mEwmom/J8hkTE6MP1fu7ZcuWsXHjRrZv355vkFa3bl3Kli1LaGioHmTVqlULgN69ezNt2rQ89zSZTOTk5JCSkoKjoyOg9UxNnjwZgH79%2BlG7dm0AXFxc9PYNHjyY6dOnA9pwwhtD%2BJRSuLm54ebmxi%2B//IKbmxvOzs6Athj73r179QDshn79%2BunDPVeuXEmHDh2wtLSkYsWKNG3alEOHDvHss89iY2NDjx49AHj22WdZtGiRfo1t27bxwQcf8Ouvv%2Bqv/9q1a2ncuDG2trYAdOzYkf379%2BsBWFJSEiEhIXmSlphMJipUqEDZsmUpW7YsLVq04NixYzzxxBMMHTqUoUOHAvD6669jMpny/R0JIcQ/ys6%2B2SN09arWC5SYqPVK/f3xlSs3A67kZC24uB8cHaFCBa2XqCAZGdpQvhvB3smTd76m0Qg1a0KtWtrm7Kz1ntnYQNmyNx/feF6lClSufOc6iEeKBGAlkfSAiQfIzs6O1NTUAo%2BnpKRQvnx5bGxsOHXqFPv3778v9%2B3WrRv9%2BvXjpZdeIi4ujvDwcBo1anRbuc2bN/PRRx/x66%2B/5pn3FRERQdWqVTEajURFRXH69Glq1KjB9evXCQsLIzExEWdnZ7Zu3aoPwevWrRvLli2jSZMmrFmzhtatW2MwGDCbzSQnJ%2BPk5MTx48c5fvy4PmwwPj5eH873448/4uXlBWjZI21sbChdujQLFy6kRYsW2NvbU61aNfbv309GRgZlypRh%2B/bt%2BrC98PBwPbBbv349Hh4eAFSrVo0dO3bQv39/MjIy2L9/P%2BPGjcNgMNC1a1d27dpF69at2b59uz408vfff2fkyJFs3rxZn7N141oLFizgtddeQynFr7/%2Byrhx4/Tj3333HV26dMHa2lrf98wzzzBmzBhycnK4fv06Bw4cYPz48QBcunSJihUrcuHCBX744Qf27dt3j795IcQjJzcXIiPh2DE4flzbzp69OfTuxs%2B76X36O0tLKFdO65VycNDmLf29h%2BjWnqJKlW72WN3owXJx0XqXCkMp%2BPPPm71n8fE3H5cuDbVrg7u7tlWtqgVhQhRA/jpKIukBEw%2BQk5MTTZs2xcvLi44dO9K5c%2Bc8xzt06MC8efPw8fGhTp06eeZtFUZBc8A8PT3p3bs39erVw2g0MmfOHCz%2B%2BjZw2LBhjBo1ioCAAMaMGUNWVhZt27YFtIQT8%2BbN4//%2B7/%2BYNm0alpaWlCpVii%2B//FJPUPH222/TokULLC0tqV69OkuXLgVg6NChDBgwAHd3dxwdHQkODga0NPDNmzcHtJ6tb775Rh9q9/zzz5OYmIhSCj8/P709J0%2BeZODAgVhYWFCvXj29ZyowMJCgoCAaNGiA0Wikfv36etKSSZMmcfr0aUqVKkX16tX1a40ePZrBgwfj5eWFUorBgwfj4%2BMDwEcffcSAAQMYN24czs7Oeq/bq6%2B%2BSlpaGs8%2B%2ByygBV7r168nKCiIHTt24O3tjcFgoEOHDnTt2lV/3YODg5k0aVKe30XdunXp0KEDPj4%2BlCpVimHDhumBZq9evUhKSsLS0pI5c%2BZQvnz5u/r9CyFKoKws%2BOMP7f8fBSWDSE%2BHEye0YOuPPyAt7Z%2Bva2Fxs0fIzk7rKapQQft56%2BMKFbSeqnLlbgZd1tZFO3/JYAAnJ23z9i66%2B4pHkkHlNwlCPLQCDAYOffIJvPJKcVdFPCAnT568LUmCECVNfn/HAQEBHDp0qJhqVDwexzaLR0B0NOzfD/v2aduRI3c/5M/FJW/Ch7p1wd4%2B7zA8S0tJAvGQk/ewB0N6wEoiGYIohBBCiHuVmqpl6buRPOLIES3gyi%2BJhIeHNk%2BpoGQQVlZQp87NgOuvea9CiNtJAFYSyRBEIYQQQtwqLQ1CQvJmA/z7MMGkpJvZ%2Bs6e1TID5qdcOQgMhCZNoHFj7XG5ckXbHiEeYRKAlUTSAyaEEEII0AKrBQvgnXfg0qW7O7d0aS1L340EEp6eWtBVpw6UKvVg6iuEkACsRJIeMCGEEOLxphR8/z28/ro2fBDAywtMpvyHCFpaanOwbmTqc3fX0p9L6nMhipwEYCWR9IAJIYQQj69ff4UJE7QhhwBPPAFTp0KPHpLUQogSQPqXSyIJwIQQQojHT2godOkCrVppwVelSjB3rra/Z08JvoQoISQAK4lkCKJ4yNja2gIQFxdHUFBQvmVatWr1j6lss7Ky6NOnD%2B7u7gQGBhIZGXlbmYyMDDp37oyHhweenp551rC6cOECTz31FPXr18fHx4dNmzbpxyZOnIiXlxdeXl6sXr1a39%2B8eXP8/Pzw8/PD1dWV7t27A7Br1y4cHBz0Y%2B%2B%2B%2B65%2BTnJyMkFBQXh4eFC3bt08ixHPmjWLOnXq4OnpyYQJEwCIjIykTJky%2BrVuXQOtVatW1KlTRz926ZY5HN9%2B%2By316tXD09OTfv36/WNbhg4diq%2BvLz4%2BPgQFBZH21zo8SilefPFF3N3d8fHx4ciRI/o5NWrUwNvbGz8/P32B6FtNnz4dg8HA5cuXAdi6dSv%2B/v54e3vj7%2B/Pjh07bjtHCHGPkpLg//5Pm9v10kvQoQNUr66tP/XTT2Brq835OnsWRo3ShhcKIUoOJUoUf1CqcuXiroZ4gMLCwoq7CnetbNmy/1imZcuW6uDBg3csM2fOHDVy5EillFKrVq1SvXv3vq1Menq62rFjh1JKqaysLNWsWTO1adMmpZRSw4cPV19%2B%2BaVSSqkTJ06o6tWrK6WU2rhxo3r66adVdna2SktLU/7%2B/iolJeW2a/fs2VMtW7ZMKaXUzp07VefOnfOt58CBA9WCBQv0Oly5ckUppdSOHTtUmzZtVGZmplJKqYSEBKWUUhEREcrT0/OuXpczZ84oPz8/9eeff%2Ba51p3acmubxo8fr6ZOnaqUUuqnn35SHTp0ULm5uWrfvn2qUaNGernq1aurxMTEfOt24cIF1a5dO1WtWjW9zJEjR1RsbKxSSqk//vhDubq65ntufn/H/v7%2B%2BZZ9lD2ObRZ3yWxW6sgRpT78UKnWrZVydlZKm%2BF1%2B2ZlpdTo0UpdvFjctRaPCXkPezCkB6wkkh4w8QBNnDiRL7/8Un8%2BZcoUZsyYQVpaGm3atKFBgwZ4e3uzbt26286NjIzEy8sLgGvXrtG3b198fHzo06cP165d%2B8d7r1u3jkGDBgEQFBTE9u3bUX9bK97GxoannnoKgNKlS9OgQQNiYmIAMBgMXP1riG5KSgqurq4AhIWF0bJlS4xGI2XLlsXX15fNmzfnuW5qaio7duzQe8AKcvXqVXbv3s3QoUP1OpT7Kz3z3LlzmTRpElZWVgBUrFjxH9tckAULFjB69GjKly%2Bf51p3aou9vT2g9Xhdu3YNw1/DkdatW8fAgQMxGAw0btyY5ORk4uPj/7EO48eP5%2BOPP9avA1C/fn39dfX09CQzM5OsrKx/3U4hHktJSRAcDIMGgasrNGigJdPYsQMSE7UeroAAGDAAPvwQfvwRTrwqHp0AACAASURBVJ/WUs3Pnq0NPRRClFiShKMkunZNSzsrQw4eeYZ3Hsx4fvW2KvBY3759GTduHP/9738BbRjc5s2bsba2Zu3atdjb23P58mUaN25Mt27d8vzn/FZz587FxsaG48ePc/z4cRo0aKAfGzZsGKNGjbptyFtsbCxVq1YFwGg04uDgQFJSEhUqVMj3HsnJyWzYsIGxY8cCWrDYrl07Zs2aRXp6Otu2bQPA19eXd955h5deeomMjAx27txJvXr18lxr7dq1tGnTRg9iAPbt24evry%2Burq5Mnz4dT09Pzp8/j7OzM4MHD%2BbYsWP4%2B/vz%2BeefU7ZsWc6cOcNvv/3G5MmTsba2Zvr06TRs2BCAiIgI6tevj729Pe%2B//z7NmzfX7zN48GAsLCzo1asXb7zxBgaDgTNnzgDQtGlTzGYzU6ZMoUOHDv/YlsGDB7Np0ybq1avHjBkzbntdAUwmE7Gxsbi4uGAwGGjXrh0Gg4GRI0cyYsQIANavX0%2BVKlXw9fXN97UH%2BP7776lfv74ecAoh/iY3F%2BLjb667deaMlkAjJETr07qhShXo2BHat9fW3DKZZD6XEI8wCcBKGgsLMJu11esdHYu7NuIRVL9%2BfS5dukRcXByJiYmUL1%2BeatWqkZ2dzeuvv87u3bspVaoUsbGxJCQkULly5Xyvs3v3bl588UUAfHx88PHx0Y8tXLgw33P%2B3tsFFBjg5eTk8Nxzz/Hiiy9Ss2ZNAFatWsULL7zAyy%2B/zL59%2BxgwYAChoaG0a9eOgwcP8uSTT%2BLs7EyTJk0wGvO%2B/a1atYphw4bpzxs0aEBUVBS2trZs2rSJ7t27Ex4eTk5ODkeOHGHWrFkEBgYyduxYpk2bxnvvvUdOTg5Xrlxh//79HDx4kN69e3P%2B/HlcXFy4cOECTk5OHD58mO7du3PixAns7e1ZsWIFVapUITU1lV69evH1118zcOBAcnJyCA8PZ9euXcTExNC8efNCtWXJkiWYzWb%2B97//sXr1agYPHnzH13XPnj24urpy6dIl2rZti4eHBwEBAXzwwQds2bIl39ce4MSJE0ycOPGOZYR4rFy8qPVg/f77zYDr3DntS9O/K10amjfX5nZ16KCtvyUBlxCPDQnASpobAVhKigRgj4E79VQ9SEFBQaxZs4aLFy/St29fAFasWEFiYiKHDx/G0tKSGjVqkJmZecfrFBQ8FcRkMhEdHY3JZCInJ4eUlBQcC/g7HzFiBLVr12bcuHH6vkWLFunD8Zo0aUJmZiaXL1%2BmYsWKTJ48mcmTJwPQr18/ateurZ%2BXlJRESEgIa9eu1ffd2hPWqVMn/vvf/3L58mVMJhMmk4nAwEBAe62mTZum179nz54YDAYaNWpEqVKluHz5Ms7Oznovkb%2B/P7Vq1eLMmTMEBARQpUoVAOzs7OjXrx8hISEMHDgQk8lE48aNsbS0xM3NjTp16hAeHk7Dhg3v2BYACwsL%2BvTpwyeffMLgwYP11/WGmJgYfRjhjZ8VK1akR48ehISEUL58eSIiIvTer5iYGBo0aEBISAiVK1cmJiaGHj16sHz5cmrVqlWI36wQj6CUFNi1C7Zv17awsPzLOTvnXXurfn146iltmKEQ4rEkc8BKmhsLJkoqevEA9e3bl%2BDgYNasWaNnNUxJSaFixYpYWlqyc%2BdOoqKi7niNFi1asGLFCgBCQ0M5fvz4P963W7duLFu2DIA1a9bQunXrfIO4N954g5SUFD777LM8%2B6tVq8b27dsBOHnyJJmZmTg7O2M2m0lKSgLQh0S2a9dOP%2B%2B7776jS5cuWFtb6/suXryo9xyFhISQm5uLk5MTlStXpmrVqpw%2BfRqA7du360MAu3fvrmcFPHPmDNevX6dChQokJiZiNpsBOH/%2BPOHh4dSsWZOcnBw9u2B2djYbN27U59B1796dnTt3AnD58mXOnDlDzZo1C2yLUoqzZ88CWk/ihg0b8PDw0F/X5cuXo5Ri//79ODg44OLiQnp6OqmpqQCkp6ezZcsWvLy88Pb25tKlS0RGRhIZGYnJZOLIkSNUrlyZ5ORkOnfuzNSpU2natOk//k6FeGT8%2BSf8/LM2VyswUPsStHt3mDVLC75sbLTerPfeg9Wr4fBhSE6GS5dg715Yvhzeegu6dpXgS4jHnPSAlTSl/oqZJRGHeIA8PT1JTU2lSpUquLi4APD888/TtWtXAgIC8PPz0/9zX5D//Oc/DB48GB8fH/z8/GjUqJF%2BrKA5YEOHDmXAgAG4u7vj6OhIcHCwfszPz4%2BjR48SExPDBx98gIeHhz6vbMyYMQwbNowZM2YwfPhwZs6cicFgYOnSpRgMBrKzs/U5V/b29nzzzTd5hu0FBwfnSWcPWgA4d%2B5cjEYjZcqUITg4WA8GZ82axfPPP8/169epWbMmS5YsAWDIkCEMGTIELy8vSpcuzbJlyzAYDOzevZu33noLo9GIhYUF8%2BbNw9HRkfT0dNq3b092djZms5mnn36a4cOHA9C%2BfXu2bNlCvXr1sLCw4JNPPsHJyYnMzMx825Kbm8ugQYO4evUqSil8fX2ZO3cuoPXgbdq0CXd3d2xsbPT6JiQk0KNHD0Ab0tmvXz86dOhwx9/r7NmzOXv2LO%2B99x7vvfceAFu2bLmnhCNCPHTMZjhxAvbtg/37tZ9/femiMxrhySehTRttCwzUhhYKIcQ/MKj8JgeIh1aAgwOHrl6FDRu0xRjFI%2BfkyZPUrVu3uKshxD3J7%2B84ICDgH9eCe9Q8jm1%2B6Fy9CkeOaD1Shw7B8eNw/bqWyKp0ae3nrdv169o8rr/W0dNZW2uZCZs0gdatoVkz6ckSjzx5D3swpAespJEhiEIIIUT%2BsrLg4EFtO3RIC7r%2B3nNVWG5u0LixFnA1aQI%2BPtLDJYS4LyQAK2luBGAyBFEIIQq0efNmxo4di9lsZtiwYbcNMb1y5QpDhgzh3LlzWFtbs3jxYry8vMjMzKRFixZkZWWRk5NDUFAQ77zzDgB//vknffr0ITIykho1avDtt9/q67SJYpKaqg0P/O032L0bDhzQgrBbWVpqwVNAAPj7a2tu2dpqy7nktwF4e0MBGV6FEOJeSQBW0kgPmBBC3JHZbGb06NFs3boVk8lEw4YN6datW5710j788EP8/PxYu3Ytp06dYvTo0Wzfvh0rKyt27NiBra0t2dnZNGvWjI4dO9K4cWOmTZtGmzZtmDRpEtOmTWPatGl89NFHxdjSx1Bmppbqfft2Leg6ckSbr3UrLy%2BtxyogQNu8vKTnSgjxUJEArKSRHrDHglLqrlO4C/GwKO6pxSEhIbi7u%2Bvrw/Xt25d169blCcDCwsJ47bXXAPDw8CAyMpKEhAQqVaqE7V/zerKzs8nOztb/La5bt45du3YBMGjQIFq1aiUBWFFISICNG7W5z1u3QkbGzWMWFtCwIbRooW1Nm4KTU/HVVQghCkECsJJGesAeedbW1iQlJeHk5CRBmChxlFIkJSXlSelf1GJjY6latar%2B3GQyceDAgTxlfH19%2BeGHH2jWrBkhISFERUURExNDpUqVMJvN%2BPv7c/bsWUaPHq2v%2BZaQkKBnBXVxceHSpUtF16jHiVIQGgrr12tBV0iItu%2BG%2BvWhY0do1Urr6ZJEGEKIEkYCsJJGArBHnslkIiYmhsTExOKuihD/irW1NSaTqdjun18P3N%2B/zJg0aRJjx47Fz88Pb29v6tevry9NYGFhwdGjR0lOTqZHjx6Ehobq67MVxvz585k/fz6A/Du%2BW/HxMGiQ1tN1g5WVlua9a1ct%2B28x/m0JIcT9IAFYSSNDEB95lpaWuLm5FXc1hCixTCYT0dHR%2BvOYmBhcXV3zlLG3t9fXQ1NK4ebmdtu/u3LlytGqVSs2b96Ml5cXlSpVIj4%2BHhcXF%2BLj4wtc%2B2zEiBGMGDEC4La17sQd/PQTvPACXL4M5cpBz55a0NW2LZQtW9y1E0KI%2B6ZUcVdA3CXpARNCiDtq2LAh4eHhREREcP36dYKDg%2BnWrVueMsnJyVy/fh2AhQsX0qJFC%2Bzt7UlMTCQ5ORmAa9eusW3bNn3R8W7durFs2TIAli1bxjPPPFOErXqEZWbC2LFa79bly/D00xAWBosWQffuEnwJIR450gNW0kgPmBBC3JHRaGT27Nm0b98es9nMkCFD8PT0ZN68eQCMGjWKkydPMnDgQCwsLKhXrx6LFi0CID4%2BnkGDBmE2m8nNzaV37950%2BWvR%2B0mTJtG7d28WLVpEtWrV%2BO6774qtjY%2BMkyfhuefg2DEwGuHDD%2BHll6GUfD8shHh0GVRxp6sSdyXA25tDoaFQqxacPVvc1RFCiEILCAjg0KFDxV2NIvU4trlQlIKFC7Wer2vXwN0dVq3S0sYLIR4a8h72YMhXTPdo8%2BbN1KlTB3d3d6ZNm1ZguYMHD2JhYcGaNWv0fTVq1MDb2xs/P7/CzxO48a2gDEEUQghREsXFwbPPwogRWvA1aJC2npcEX0KIx4QMQbwHhVns80a5iRMn0r59%2B9uusXPnTipUqFD4m/6VpUuGIAohhChRDh%2BGmTNh9WrIyQE7O5g3D/r1K%2B6aCSFEkZIesHtw62KfpUuX1hf7/LtZs2bRq1evAjNm3RWDASwt4fp1yMq69%2BsJIYQQD4rZDD/%2BCC1baj1cK1ZAbi4EBcHRoxJ8CSEeSxKA3YP8FvuMjY29rczatWsZNWrUbecbDAbatWuHv7%2B/vmZModjbaz%2BlF0wIIcTDKDUVvvgC6tSBHj1g927ts%2Bull%2BDcOfjuO6hZs7hrKYQQxUKGIN6Dwiz2OW7cOD766CMsbmQvvMWePXtwdXXl0qVLtG3bFg8PD1q0aHFbudsW9XRwgKQkbR7Y/ehVE0IIIe6XDRu0eV1XrmjP3dzgxRdhyJCbXyAKIcRjTAKwe1CYxT4PHTpE3759Abh8%2BTKbNm3CaDTSvXt3vWzFihXp0aMHISEh%2BQZgty3qaTZrByQRhxBCiIeFUtocr1de0R43aaI9fuaZm0uoCCGEkCGI96Iwi31GREQQGRlJZGQkQUFBfPnll3Tv3p309HRSU1MBSE9PZ8uWLXh5eRXuxg4O2k8ZgiiEEOJhkJ0No0Zpa3gpBe%2B%2BC3v2QM%2BeEnwJIcTfSA/YPSjMYp8FSUhIoEePHgDk5OTQr18/OnToULgb3xjCIT1gQgghituVK1pSjR07wNoali6FPn2Ku1ZCCPHQkgDsHnXq1IlOnTrl2VdQ4LV06VL9cc2aNTl27Ni/u6kk4RBCCPEwCA%2BHLl3gzBmoVAnWrYPAwOKulRBCPNRkCGJJdGMIovSACSGEKC6//gqNG2vBl48PhIRI8CWEEIUgAVhJJEMQhRBCFBelYOFCaNsW/vxT6wH7v/%2BDatWKu2ZCCFEiSABWEkkSDiGEEMXh8GFo1QqGD9cSb4wfry20bGdX3DUTQogSQwKwkkh6wIQQQhSlmBhtba%2BAAG1R5QoVtGQbn34qWQ6FEOIuSRKOkkiScAghhCgKaWnwySfadu0alC4NY8fC669DuXLFXTshhCiRJAAriSQJhxBCiAfJbIbly2HyZIiP1/YFBcFHH0HNmsVbNyGEKOEkACuJZAiiEEKIB%2BXSJejRA/bu1Z43bKgNNWzWrHjrJYQQjwgJwEoiScIhhBDiQTh7Fjp0gHPnwNUVPv4YnnsOSsmUcSGEuF8kACuJpAdMCCHE/XbggJZS/vJlqF8fNm2CypWLu1ZCCPHIka%2B0SiJJwiGEEOJ%2B2rABnnpKC77at9cWWZbg676JTI7kjR1vUPPzmjRb3Iz9MfuLu0pCiGIkPWAl0a09YEqBwVC89RFCCPFQU0qRkpVCfGo8calxxKXGcd18Hd/Kvniv34/V6LGQmwuDB8NXX4GlZXFXucTLyc3hpzM/Me/wPH45%2BwsKBUBEcgRNFjVhWP1hTH16KhVsKhRzTYUQRU0CsJKodGmwtobMTC0tsI1NcddICCHEQyQ8KZz3f3ufiCsResB1LedavmUtzeA9DPxdGhDQJRD/xON4V/KmtEXpIq71oyE6JZqFRxay6PdFxKbGAmBlYUVQvSCG1B/CtvPbmL53Ogt/X8gPp35gapupDK0/FItSsp6aEI8LCcBKKgcHLQBLSZEATAghhC45M5mOKzpy7sq5PPvLWpalin0VXGxdcC1bGcOBEH7PjOBUBTjiCkc4woKfRgFgWcqSTrU78U3Pb7AtbXvf6nb68mnmH57PwbiD9PXqy0j/kY9M4BGdEs2rW1/lu7DvyFW5ADzh9AQj/UcyyHcQTjZOALR2a81A34H87%2Bf/se38NkZuHMnCIwuZ02kODas0LPD6uSqXjOyM%2B/r7EEIUDwnASip7e0hI0IYhurgUd22EEEI8BJRSDF43mHNXzlG/cn0%2Bbf%2BpFnDZuWJnZXezYP/%2BsCICbGxIDV7GUZ9KHIo7xOH4wxyOP8zpy6dZd3odvb7txYbnNtxTb1hWThY/nPyB%2BUfmsytyl77/twu/sej3RXzZ6UsCTYH30Oridd18nZn7ZvLu7nfJyM7AspQlvT17M9J/JC2rt8SQzzQBjwoebOm/he/CvmP8L%2BM5GHeQwIWBjPAfQaMqjYhLjdOGi6bF6Y/j0%2BLJyc3B09mTrk90pWudrgRWCXxkAlghHicGpZQq7kqIwgsICODQoUMQEACHD2tZqxo1Ku5qCSHEP9Lfvx4jRd3mGXtn8MrWV3CwcuDIyCPULJ/Posk//aRlO7Sx0ZJtBATcVuRM0hmaLW5GYkYiz3s/z/IeyylluLu8XeFJ4cw/PJ%2Blx5ZyOeMyoPXCPef1HI2qNOK93e8RfTUaoMTOh9oRsYPRm0Zz6vIpAILqBfFpu0%2Bp6lC10NdIzUrlvd3vMXP/THJyc%2B5Y1rKUJdm52fpzZxtnOtXuRLc63WhXq530jon77nF83y4K0gNWUt1YC0xS0QshhAD%2B78L/MXHbRACW91ief/CVlgb//a/2%2BL338g2%2BQBs69/PzP9NqWStW/LGCyraVmd5ueqHqEZYYxtjNY9l2fpu%2Bz7eSLyP9R/K8z/PYW2mJpPp59%2BP93e8zY9%2BMPPOhhjUYdtfBXlGLvRrLK1tfITg0GNBer1kdZ9GuVru7vpadlR0ft/2YF/xeYPre6ZiVGVdbV1zstJ5LVztXXGxdcLFzoZShFL9F/cb60%2BvZcGYDEckRLDu2jGXHllHaojRNqzbFrZzbbee62rlS2bYylhaSXEWIh4H0gJUw%2BjcRPXrAjz/CmjXQq1dxV0sIIf7R4/hNalG1OSEtgfpf1Sc%2BLZ5Xn3yVj9t%2BnH/Bl1%2BGTz%2BFBg20ERTGO38Pu/XcVjqv7Ex2bjaftP2EV558pcCySilmh8xmwrYJZOZkUsZYRp/n1ahKo3yH4gGcunyKMZvGsD1iOwCNqjTi8w6fE1glsMBzikOuyiUpI4nlx5Yz5dcppF1Po4yxDG%2B0eIOXm7yMldGqSOujlCIsMYwNZzaw4cwG9kXv0zMt5seAAbfybnRy70TXOl1pWb1lkddZlDyP4/t2UZAArITR/yG88AIsWwaLF2tpg4UQ4iH3OH6QF0Wbzblm2n3Tjh0RO2herTnbB27Pv6fjyBFo%2BFeSh5AQ8Pcv1PVX/bGKfj/0A2B59%2BUM8B1wW5n41HgGrxvML%2Bd%2BAWCw32BmtJtB%2BTLlC3UPpZQ%2BHyouNQ6A8tbl8Xf1x9/FnwDXAPxd/KlRrsYDC8qum68TeimU4wnHib0aq2WPTIvTU/ffmIN1Qw%2BPHsxsP5Pq5ao/kPrcrcT0RA7EHrg5f%2Bxv9U9IT9CTgwDYlralfa32dKvTjU61O5W44Z%2BiaDyO79tFQYYgllS3rgUmhBDisTVl1xR2ROygYtmKBAcF5x985eTA8OHaWl/jxxc6%2BAJ4zvs5EtITGP/LeIasH0IFmwp0rN1RP7725FqGbxhO0rUkHMs4Mr/LfHrVu7uRGQaDgd6eveno3pH3d7/P0mNLuZR%2BiW3nt%2BUZyuhYxhF/F39qla91x0DM3speH3qnD8Wzc8HaaA1Atjmb0EuhWtKRuMMcij/E8YTjXDdfv2M9y1uXp7ZTbaa0nJLnNXgYOJd1pssTXQo8npObw%2BG4w2w4s4H1p9fzx6U/%2BP7k93x/8ntKGUrRxNSEJ6s%2BedvQRRc7F2wsJduyEPeTBGAl1Y0ALCWleOshhBCi2Pwc/jPv//Y%2BpQylCO4VjKuda/4FZ83SesCqVYN3373r%2B4xrPI741Hg%2B3vsxQd8FsWPgDjwrejL257EsProYgLY127K0%2B9KC61AIdlZ2fNT2I6Y9PY3Y1FgtOPorO%2BOhuEMkZiSy9fxWtrL1X12/vHV5nMs6E5UcRZY567bjTzg9QQOXBlR3qJ7vHKoylmX%2BdduKm7GUkUBTIIGmQN5v/T6RyZFsPLOR9afXsytyF3ui97Anek%2B%2B5zpYOeBi50IZY8Htt7SwpJN7J4Y2GIrJ3vSgmiHEI0ECsJJKknAIIcRjLSo5iv5r%2BwPw3lPv8ZTbU/kXvHAB3nxTezxnDtj%2Bu0x5056eRkJ6AsuOLaPzys6Usy7HuSvnsLKw4uO2HzOm0Zj7ljzDYDBgsjdhsjfxjMczgDZMMeZqDIfiDhGfFl/guUopkjOTiU%2BL1xehjk%2BLJz41niuZV7iSeQWA2o619aGNAa4B1HeprycIeRzUKFeDMY3GMKbRGK5mXWXb%2BW2cvnxaf71uvHZxqXGkZKWQkvXPX/iGxIbw7u536fJEF0b6j6R9rfaSJl%2BIfEgAVlJJD5gQQhRo8%2BbNjB07FrPZzLBhw5g0aVKe41euXGHIkCGcO3cOa2trFi9ejJeXF9HR0QwcOJCLFy9SqlQpRowYwdixYwGYMmUKCxYswNnZGYAPP/yQTp06FXnbQJuv1HtNb/689iedandiUrNJ%2BRdUSst6mJ4OQUFa%2Bvl/yWAwsKDrAhIzEtkUvomka0n4VvJlRc8VeFb0/NfXvZv7V3Woelcp3m91I4nGpfRLmOxNOFg73Ocallz2Vvb0rNsz32NKKZKuJXEx7eIdh2heSr/EkqNLWHtyLetPr2f96fVUc6jG8AbDGVJ/yD31jArxqJEArKSSHjAhhMiX2Wxm9OjRbN26FZPJRMOGDenWrRv16tXTy3z44Yf4%2Bfmxdu1aTp06xejRo9m%2BfTtGo5EZM2bQoEEDUlNT8ff3p23btvq548eP55VXCs4EWFTmH55PSGwI1R2q83WPrwvueVqzRlv3y8EBvvjinu9raWHJt0HfMv6X8VSxq8KkZpNKTCa9UoZSOJd1xrmsc3FXpUQxGAxUsKlQqCQdHdw7aIHY70uYf2Q%2B56%2Bc582dbzJl1xTa1GyDg1XBQa9TGSc61u7I0zWfljln4pEnAVhJJUk4hBAiXyEhIbi7u1OzprYOVt%2B%2BfVm3bl2eACwsLIzXXnsNAA8PDyIjI0lISMDFxQUXFxcA7OzsqFu3LrGxsXnOLW65KpcvDmjB1PR203Es45h/weRkePFF7fG0afBXu%2B5V2dJlmd91/n25lnj0VCxbkYnNJvJq01fZfn47Xx3%2BinWn17Hl3JZ/PHfe4XlYG615uubTdH2iK12e6CI9Z%2BKRJAFYSSVDEIUQIl%2BxsbFUrXpzmJrJZOLAgQN5yvj6%2BvLDDz/QrFkzQkJCiIqKIiYmhkqVKullIiMj%2Bf333wkMDNT3zZ49m%2BXLlxMQEMCMGTMoX75wadbvp81nNxP%2BZzjVHKrR3aN7wQVfew0uXoQnn4QRI4qugkKg9Ti2rdWWtrXacjHtInsu7MGszAWWP335NBvObOBg3EE2ntnIxjMbAfB38afrE11pWq2pnhjFwcrhoVojToi7JQFYSSVDEIUQIl/5LW/59/%2BsTZo0ibFjx%2BLn54e3tzf169fHeMuixGlpafTq1YvPPvsM%2B7%2B%2B8PrPf/7Dm2%2B%2BicFg4M033%2BTll19m8eLFt91r/vz5zJ%2Bv9RAlJibez6YB8PmBzwEY3XA0xlIFfIzv2QPz5mkLLX/1FZS6P8kxhPg3KttWLtTSBG%2B2fJP41Hh%2BCv%2BJDWc2sPXcVm2pgPjDecqVMZbBxe6WZQZsXanrXBd/F3%2B8K3lT2qL0g2qKEPeFBGAllfSACSFEvkwmE9HR0frzmJgYXF3zDmOyt7dnyZIlgBawubm54ebmBkB2dja9evXi%2Beefp2fPm4kJbu0dGz58OF0KSGgxYsQIRvzV4xQQEHB/GvWXk4kn2XJuC2WMZRjWYFj%2BhVJTYeBA7fGECeDldV/rIMSD5GLnwrAGwxjWYBjXsq%2BxPWI7P535iVNJp/SsjGnX0zh/5Tznr5y/7fzSFqXxruidJ8OlZ0VPCcrEQ0UCsJJKesCEECJfDRs2JDw8nIiICKpUqUJwcDArV67MUyY5ORkbGxtKly7NwoULadGiBfb29iilGDp0KHXr1uWll17Kc058fLw%2BP2zt2rV4FUNgMytkFgADfAYUPPdr7Fg4fx58feGtt4qwdkLcX2Usy9DliS63LTCdmpWqp8qPT40n%2Bmo0xxOOczj%2BMKcvn76t18zKwopnPJ5hpP9InqrxlAxfFMVOArCSys5O%2B5maCrm5MrxECCH%2BYjQamT17Nu3bt8dsNjNkyBA8PT2ZN28eAKNGjeLkyZMMHDgQCwsL6tWrx6JFiwDYs2cPX3/9Nd7e3vj5%2BQE3081PmDCBo0ePYjAYqFGjBl999VWRtuvKtSssO7YMgBcDX8y/0HffwZIlYG0NK1eCVcnIUCjE3bCzssPOyo4nnJ647djVrKv8Hv%2B7vnj34fjDnEk6w7cnvuXbE99S27E2I/xH8ILfC4XK7CjEg2BQ%2BQ2WF4X2T2vN3HDw4EEaN27M6tWrCQoKuqtzbxUQEMChQ4e0J7a22touKSk3hyQKIcRDKs/712PifrZ5%2Bt7pvLr1VZ6u%2BTRbB2y9vUB0NPj4aNkP58zR1v8SQhCdEs2i3xex8MhCYlNjAW2oYs%2B6PRnpP5KW1VtKr1gBHsf37aIg3Sb34MZaMz///DNhYWGsWrWKsLCwfMtNenHiqwAAIABJREFUnDiR9u3b3/W5dyTDEIUQ4rFgzjUzO2Q2AC82yqf3y2zW5n0lJ0PnzvCf/xRxDYV4eFV1qMqUVlOIHBfJur7r6Fy7M9nmbIJDg3lq2VN4zPHgtW2vsTd6L%2BbcgjM1Fka2OZujF4%2By6Mgi/vvTf2m2uBn9vu/Hqj9WceXalfvUIlHSyRDEe1CYtWYAZs2aRa9evTh48OBdn3tH9vYQF6f1gJlM994gIYQQD6X1p9cTlRJFrfK16PxE59sLzJgBu3ZBxYqweDHIt/lC3MZYyki3Ot3oVqcbF1IusPDIQhb9vogzSWeYtmca0/ZMw/n/27v3uKjq/I/jr%2BF%2BV0AhFE0JDQSREjV3yywzUxMzy6y2NCuzbauttnJ/u%2B3ablu2tW21XVxXTbuplSld1O7mdmWx0ExNNDFB4g4Cyv38/jjOwMhFBGVm4P18PM7jnDmXmc%2Bc8sCH7/f7%2Bfr1ZvLgyUwZPIWLz7iYAK%2BAZt%2Brpq6Gn8t/5mDZQb7P/54tB7eQlpPG1p%2B3UlVXZXfu5wc%2BZ%2BX2lbhb3Dnv9PNIHpzMlDOnEB0S3RlfW5yQErAOaMtcM9nZ2axdu5aPP/7YLgFry7XHpRYwEZFuwVp6/vaRt%2BNmOabzypYt8Mc/mtvLl5tJmIi0qn%2BP/vzlgr/wp/P/xKbMTbz9w9u8vftt9pXsY3n6cpanL8fL3YsLBlzA2RFnk1eRZ6vCmFOeQ35FPgbNj%2BKJDom2VWFMCE/g%2B7zveXv322zev5lNmZvYlLmJu9%2B/m5heMVw66FJie8faSupHBEQQ6hfa9N85UFtfS255rl0cR2qOEBEYQURAQ1l%2Bfy//U337pIOUgHVAW%2Baa%2Be1vf8ujjz6Ku7v7CV9r1eKcMtZxX0rARES6rK0/b%2BXT/Z8S4BXADWfdYH%2BwogKuvRZqauD222HiRMcEKeKiPNw8uCjqIi6KuognL3mSHfk7eHv327z1w1t8lfUV7%2B19j/f2vtfkOjeLG6f5n0afwD6cEXIGSRFJDO8znLMjzqanT0%2B7cy8%2B42LuGn0XxUeK2bhnI2/vfpsNezawq2AXuwp2NXlvTzdP2zxnPX162pK/3PLcFpO%2BxoK8g2zJXJB3kMa3OSElYB3Qlrlm0tLSmDlzJgAFBQWsX78eDw%2BPNl1r1eKcMpoLTESky3v666cBuCHxBoK8jym4dM898MMPEBcHjz7qgOhEug6LxUJcWBxxYXHMP3c%2BeRV5rM9YT2ZJpl0LU5/APvT2793yROgtCPYN5uqhV3P10Kupqavh8wOf8%2BGPH3Lg0AFbSf2DZQcprizmp9Kf%2BKn0J/v4sBDuH24Xh4%2BHj60rpHU5VHWIQ1WHmk3uTtRwhnf4PaQpJWAd0Ja5Zvbt22fbnj17NpdeeimXXXYZtbW1x732uNQFUUSkS8uvyOeV717BgoXbR95ufzAlBf79b/DyMkvO%2B/o6JkiRLirMP4zZibNPyXt7unsydsBYxg4Y2%2BTYkZoj5JTnkFOWQ3FlsS3pCvMPw9Pds9X3NQyD4spiWzJWUV3RoTj/9vbfOnS9NE8JWAe0Za6ZE732hKgFTESkS1u8ZTFVdVVMHjSZQaGDGg7k5sKNN5rbjz5qlp8XkS7B19OXqOAoooKjTvhai8VCiG8IIb4hxId1fLL4v6EE7FRQAtZBkyZNYtKkSXb7Wkq8li9fftxrT4jGgImIdFk1dTU8l/YcAHeOutP%2B4HPPQWEhjBsHd7QwKbOIiDglzQPmytQFUUSky1qzcw0Hyw4S2yuWi6IuajhQV2eWmgez%2BqGbfpSLiLgSPbVdmbogioh0WdbS83eMusO%2BitkHH0BWFpxxBpx/voOiExGR9lIC5srUAiYi0iV9l/sdX2V9RU%2BfnlyXcJ39wSVLzPWNN2rCZRERF6QEzJWpBUxEpEt6c%2BebAFw55Er7SVXz8uCtt8xuh7NmOSg6ERHpCCVgrkxFOEREuqQ1O9cAcHns5fYHXnrJnHR50iRoYe5IERFxbkrAXJm6IIqIdDkZhRl8l/cdQd5BXDjwwoYDhgFLl5rbN93kmOBERKTDlIC5MnVBFBHpctbuWgvAlMFT8HL3ajjw5ZewcyeEh5stYCIi4pKUgLkytYCJiHQ51vFf02On2x%2Bwtn7Nng2enp0blIiInDRKwFyZv79ZAauiAmprHR2NiIh0UNahLL7O/hpfD18mRE9oOFBWBqtXm9tz5jgmOBEROSmUgLkyNzcIDDS3y8ocG4uIiHTYul3rAJg4aCJ%2Bnn4NB1avNv/YNmYMDB7soOhERORkUALm6tQNUUSky7BVP4w5pvph47m/RETEpSkBc3UqxCEi0iXkV%2BSzef9mPN08mTx4csOB7dvh66/N5/0VVzguQBEROSmUgLk6tYCJiHQJb/3wFvVGPeOixtHTp2fDAWvxjWuuAT%2B/5i8WERGXoQTM1akFTESkS3hzl1n90K77YVWVOfkyaO4vEZEuQgmYq7MmYGoBExFxWaWVpXz444e4WdyYGjO14cBbb0FhIQwbBmef7bgARUTkpFEC5urUBVFExOWtz1hPdV015/U/jzD/sIYD1uIbN91kTjsiIiIuTwmYq1MXRBERl2erfhjbqPvh/v3wwQfg7Q3XXuugyERE5GRTAubq1AImIuLSDtccZsOeDQBMi5nWcOCFF8AwYPp0CA52UHQiInKyKQFzdWoBExFxae/vfZ/DNYcZ0WcE/Xr0M3fW1ZkJGGjuLxGRLkYJmKtTEQ4REZf25s6j1Q8bdz/86iv46ScYMADGjnVIXCIicmooAXN16oIoIuKyquuqeXv328AxCdgGs0siU6eCm35Ui4h0JXqquzp1QRQRcVmbMjdRUllCfFg8g0MHNxzYuNFcX3KJYwITEZFTRgmYq1MLmIhIExs3buTMM88kOjqahQsXNjleXFzMtGnTSEhIYOTIkWzfvh2AAwcOcMEFFxAbG0tcXBxPPfWU7ZqioiLGjx/PoEGDGD9%2BPMXFxR2Oc82Oo9UPG0%2B%2BnJcHW7aAjw%2Bcf36HP0NERJyLEjBXpxYwERE7dXV13HbbbWzYsIEdO3awcuVKduzYYXfOww8/TGJiItu2bePFF1/kzjvvBMDDw4N//OMf7Ny5k6%2B%2B%2Bopnn33Wdu3ChQsZN24cGRkZjBs3rtnE7oTirK9j3Q/rgGO6H773nrkeOxZ8fTv0GSIi4nyUgLk6FeEQEbGTmppKdHQ0UVFReHl5MXPmTFJSUuzO2bFjB%2BPGjQMgJiaGzMxMcnNziYiI4OyzzwYgMDCQ2NhYsrOzAUhJSWHWrFkAzJo1i3Xr1nUozi8OfEFeRR5RwVEkhCc0HFD3QxGRLk0JmKtTF0QRETvZ2dn069fP9joyMtKWRFkNGzaMN980qw%2Bmpqayf/9%2BsrKy7M7JzMzk22%2B/ZdSoUQC2BA0gIiKCvLy8DsVpq34YczkWi8XcWVfX0AKmBExEpEtSAubqfH3B3R0qK6G62tHRiIg4nGEYTfbZEpyj5s%2BfT3FxMYmJifzrX//irLPOwsPDw3a8vLyc6dOn8%2BSTTxJk7WnQRosXLyYpKYmkpCTy8/NbPK/Z7odbtkBhIQwcCIMHt3CliIi4Mo/jnyJOzWIxW8GKisxWsF69HB2RiIhDRUZGcuDAAdvrrKws%2BvTpY3dOUFAQLxyd6NgwDAYOHMjAgQMBqKmpYfr06Vx77bVcfnlDchQeHk5OTg4RERHk5OQQFhbW7OfPnTuXuXPnApCUlNTsOaWVpWSWZOLj4cOoyFENBxp3PzwmaRQRka5BLWAddLxKWykpKSQkJJCYmEhSUhKfffaZ7diAAQMYOnSo7Vi7qRCHiIjNiBEjyMjIYN%2B%2BfVRXV7Nq1SqSk5PtzikpKaH6aK%2BBJUuWMGbMGIKCgjAMgxtvvJHY2Fjuvvtuu2uSk5NZsWIFACtWrGDq1KntjnFv8V4Azgg%2BAzdLox/FGv8lItLlqQWsA6yVtj744AMiIyMZMWIEycnJDBkyxHbOuHHjSE5OxmKxsG3bNmbMmMGuXbtsxz/55BN6dbTVSoU4RERsPDw8eOaZZ5gwYQJ1dXXMmTOHuLg4Fi1aBMC8efPYuXMn119/Pe7u7gwZMoSlS5cC8Pnnn/PSSy/Z/jgGZsXESZMmMX/%2BfGbMmMHSpUvp378/r7/%2Bertj3FO0B4DokOiGnUVF8PXX4OkJF17Y7vcWERHnpgSsAxpX2gJslbYaJ2ABAQG27YqKiibjEE4KFeIQEbEzadIkJk2aZLdv3rx5tu3Ro0eTkZHR5Lpzzz232TFkAKGhoXz00UcnJb69RWYLmF0C9sEHUF9vlp9v9LNDRES6FnVB7IC2VNoCWLt2LTExMUyePJlly5bZ9lssFi6%2B%2BGKGDx/O4sWL2x%2BIuiCKiLiUZlvANmww1%2Bp%2BKCLSpSkB64C2VNoCmDZtGrt27WLdunU88MADtv2ff/4533zzDRs2bODZZ59l8%2BbNzX7OcStqqQVMRMSl7Ck%2BJgGrr28Y/zVxooOiEhGRzqAErAPaUmmrsTFjxrB3714KCgoAbOeGhYUxbdo0UlNTm71u7ty5pKWlkZaWRu/evZueoBYwERGX0qQFbNs2yM2Fvn0hLs6BkYmIyKmmBKwD2lJpa8%2BePbaWsm%2B%2B%2BYbq6mpCQ0OpqKigrKwMMMeGvf/%2B%2B8THx7cvEBXhEBFxGRXVFRwsO4inmyf9go52Y7d2P5w4UeXnRUS6OBXh6IC2VNpas2YNL774Ip6envj6%2BrJ69WosFgu5ublMmzYNgNraWq655houaW%2B/f2sXRLWAiYg4vR%2BLfwQgKjgKdzd3c6fKz4uIdBtKwDroeJW27r//fu6///4m10VFRbF169aTE4RawEREXIa1%2B%2BEZIWeYO0pL4YsvwN0dxo1zYGQiItIZ1AWxK1ARDhERl2Eb/xV8dPzXRx9BbS384hfQs6cDIxMRkc6gBKwrUBEOERGXsbf4mDnA1P1QRKRbUQLWFagLooiIy7CrgGgYSsBERLoZJWBdgYpwiIi4DLsEbMcOOHAAwsMhMdHBkYmISGdQAtYVqAVMRMQlVNVW8VPpT7hb3Dm95%2BkNrV8TJoCbfiSLiHQHetp3BSrCISLiEvaV7MPA4PSep%2BPl7qXuhyIi3ZASsK6gcRGOo5M%2Bi4iI87GVoA8%2BA8rLYfNmc%2BLliy92cGQiItJZlIB1Bd7e4OVlljGurHR0NCIi0gK78V%2BbNkF1NYwcCaGhjg1MREQ6jRKwrkKFOEREnJ5dAqbuhyIi3ZISsK5ChThERJye3Rxg1gRs4kQHRiQiIp1NCVhXoUIcIiJOz9YC5t8P9u4FDw9ISnJwVCIi0pmUgHUVjQtxiIiI06mpqyGzJBMLFqIOe5s7%2B/YFd3fHBiYiIp1KCVhXoS6IIiJO7afSn6itryUyKBKfnHxzZ2SkY4MSEZFOpwSsq1ARDhERp2ZXgOPAAXNnv34OjEhERBxBCVhXoRYwERGnZjcHWFaWuVMtYCIi3Y4SsK5CRThERJyaWsBERASUgHUdKsIhIuLU9hQ3SsDUAiYi0m0pAesq1AVRRMSp7S1qNAeYWsBERLotJWBdhYpwiIg4rbr6OtskzGeEaAyYiEh3pgSsq1ALmIiI08ouy6a6rprTAk4joN4D8vPNSZjDwx0dmoiIdDIlYF2FWsBERJyWXQGO7GxzZ9%2B%2B4KYfwyIi3Y2e/F3F6aeb6y1bICfHsbGIiIgduxL0Gv8lItKtKQHrKvr3h8svh6oqePxxR0cjIiKN2LWAafyXiEi3pgSsK/njH831okXm%2BAIREXEKzc4BpgRMRKRbUgLWlZx1Flx6KRw%2BDE884ehoREQcZuPGjZx55plER0ezcOHCJseLi4uZNm0aCQkJjBw5ku3bt9uOzZkzh7CwMOLj4%2B2uWbBgAX379iUxMZHExETWr1/f5niabQFTF0QRkW5JCZiLyavIa/0EayvYM89AUdGpD0hExMnU1dVx2223sWHDBnbs2MHKlSvZsWOH3TkPP/wwiYmJbNu2jRdffJE777zTdmz27Nls3Lix2fe%2B6667SE9PJz09nUmTJrUpHsMwGkrQNx4DphYwEZFuSQmYi8k6lEXh4cKWTxg1CsaPh/JyePrpzgtMRMRJpKamEh0dTVRUFF5eXsycOZOUlBS7c3bs2MG4ceMAiImJITMzk9zcXADGjBlDSEjISYvn5/KfOVxzmFDfUIJ9g9UCJiLSzSkBczGGYbA8fXnrJ1lbwZ56SvOCiUi3k52dTb9GyU1kZCTZ1tLvRw0bNow333wTMBO2/fv3k2VNjFrxzDPPkJCQwJw5cyguLm5TPHbdD0EtYCIi3ZwSMBf07y3/pt6ob/mEMWPMpaQEnn228wITEXEChmE02WexWOxez58/n%2BLiYhITE/nXv/7FWWedhYeHR6vve%2Butt7J3717S09OJiIjgnnvuafa8xYsXk5SURFJSEvn5%2BfYJWGUlFBRoEmYRkW5MCVgHHW%2Bgd0pKCgkJCSQmJpKUlMRnn33W5mub4%2BnuSUZRBh/v%2B7j1Ex94wFw/8QRUVLT5%2B4iIuLrIyEgOWFuZgKysLPr06WN3TlBQEC%2B88ALp6em8%2BOKL5OfnM3DgwFbfNzw8HHd3d9zc3Lj55ptJTU1t9ry5c%2BeSlpZGWloavXv3tp8DzNrKpkmYRUS6LT39O6AtA73HjRvH1q1bSU9PZ9myZdx0001tvrY5vf16A7AobVHrJ44bZ44HKyiAf/%2B7fV9QRMQFjRgxgoyMDPbt20d1dTWrVq0iOTnZ7pySkhKqq6sBWLJkCWPGjCEoKKjV981pNMn92rVrm1RJbMmeYlVAFBGRBkrAOqAtA70DAgJsXV8qKips2225tjm9/HvhbnFn3a51HCw72PKJFktDK9hjj5ndXkREugEPDw%2BeeeYZJkyYQGxsLDNmzCAuLo5FixaxaJH5x6udO3cSFxdHTEwMGzZs4KmnnrJdf/XVVzN69Gh%2B%2BOEHIiMjWbp0KQD33XcfQ4cOJSEhgU8%2B%2BYR//vOfbYpHc4CJiEhjrXd4l1Y1N9D766%2B/bnLe2rVr%2Bf3vf09eXh7vvvvuCV17LE83Ty6LuYw1O9ew9JulPHD%2BAy2fPGmSOTfYt9/C0qVw220n8O1ERFzXpEmTmpSJnzdvnm179OjRZGRkNHvtypUrm93/0ksvtSsW%2BznANpk71QImItJtqQWsA9oy0Btg2rRp7Nq1i3Xr1vHA0Vaptl4LTQd0z0syf4lY/M1iautrWw7QYmmoiPjoo3C0u42IiHSO2vpaDlUdIsg7iF5%2BvdQCJiIiSsA6oi0DvRsbM2YMe/fupaCg4ISuPXZA94UDL2RQyCCyDmWxPmN960FedhnExZk/9F988cS%2BoIiIdEhVbRVgtn5ZLBaNARMRESVgHdGWgd579uyxtXZ98803VFdXExoa2qZrW%2BJmceOW4bcA8Hza88c52Q3%2B8Adz%2B5FHoLaVFjMRETmpquoaEjBALWAiIqIErCPaMtB7zZo1xMfHk5iYyG233cbq1auxWCwtXttWsxNn4%2B3uzXt73uPH4h9bP3nGDBg8GH78EV54oSNfWURETkBlrVkA6YzgM8wdagETEen2LEZzg5HEaSUlJZGWlgbArHWzeHHri9z/y/tZeNFx5hF7%2BWW47jrw8oK33oIJEzohWhGRBo2fX91FaHQoRdcVsTR5KXNirgY/P/D0NCvTah4wEXFy3fG53Rn09Hdh84abxTiWfrvUNs6gRddeC7/9rVmI47LL4NNPOyFCEZHurfEYMLKzzZ2ahFlEpFtTGXoXdk7kOQwLH8bW3K28ufNNrh56dcsnWyzwxBNw%2BDAsXgyXXgoffmhO1iwi0k6GYVBRU0FZVRmHqg41WcqqG/Z3R9YuiNEh0ZD2g7lT479ERLo1JWAuzGKxMC9pHre%2BeyvPpz3fegJmXgDPPQcVFfDKK3DJJbBpEwwb1inxiojzqDfqKa8utyVHpZWlzSZQh6oOUVrV8rGy6jLqjfo2feZwhp/ib%2BV86urr8PXwJSIgArI%2BMndq/JeISLemBMzFXTv0Wu794F7%2B%2B9N/%2BT7ve%2BLCjlPIw90dli83W8LWroXx483uiLGxnRKviHRcZW2lLWEqrSqltLLUliQ13m%2B3PmZ/WVUZBidnCLCfpx9B3kEEegUS5B1kWwK9Awnyath%2B8%2B03T8rnuRpbCXpVQBQREZSAubxA70B%2BNfRXLNqyiEVpi/jXpH8d/yIPD1i5EqZOhffeg4sugv/%2BF6KiTn3AIt2cNXkqqSyxS55KKkts27Z1M8lVaVUp1XUnZ1L1AK8AW7LUw7uHLVHq4d3D9vrYhOrY/YHegXi4te1HyZt03wQMUAVEEREBlIB1CfOS5rFoyyJe3PYiCy9aiL%2BX//Ev8vaGN9%2BEiRNh82YYN85c6xcDkRZZu%2B2VVJbYLdaEyva6qtR%2B3SjJOhnJk6ebJz18zCSph08PWwLVw6cHQV5BtmNB3kF2x23Jlk8PAr0CcXdzPwl3RY5Hc4CJiEhjSsC6gGGnDWN05Gi%2BzPqSldtXctPZN7XtQj8/eOcdswUsNdVcv/ceDBhwSuMVcRRrwQhrolR8pLhhu7K4SWLVJNGqKm3zeKeWeLp50tOnp10CZV339G5%2Bf%2BN1kHcQPh4%2BZpc2cQlN5gBTAiYi0q0pAesibk26lS%2BzvuSPH/%2BRhPAERvYd2bYLAwNhwwa44ALYtg2GDoV//ANuvtks2iHiZOqNekorSymuLKb4SLEtcbJu29aN9jdOsGrrazv0%2BQFeAfTw7kGwbzA9fXqayZR3D9u29XUPnx52x6wJlJKn7qdJC5h6GoiIdGtKwLqIq%2BKvYsXWFXy07yPOX34%2BKy5bwYy4GW27OCQEPv4YbrkF1qwx12%2B8AUuX6hcFOSUMw%2BBwzWGKjhRRXFlsro8UN31dWWRLqKz7SipLOlQ8wtfDl54%2BPW0JVLBPsF3yFOwTTA%2BfHk32W5Ooto53EgEI8Q0hplcMHDkChYXmJMxhYY4OS0REHEi/SXQRXu5ebLh2A7etv43/fPMfrnrjKnYX7uYP5/2hbX9tDw2F11%2BH1avhttvggw8gPh6efBJmz1ZrmDTLMAzKqssoOlJkWwoPF9q9Lqossn99dOnIWKgg7yCCfYLtkijr68Zra6LVOJny9vA%2BiXdApHUDgwfSN6gvZGSYOzQJs4hIt6cErAvxdPfk35f%2Bm9hesdzz/j088MkD7CrYxZLkJfh4%2BBz/DSwWmDkTxo41W8HeegvmzDGLdfz739Cnzyn/DuI4VbVVFB4ppPBwYZN10ZEic/uY10VHitrdpc/b3ZtQv1BCfEMI9gkmxDfEbjvYN9j2unFi1dOnp1qhxPVo/JeIiByl32K6GIvFwl2j7yI6JJpr3ryGV757hR%2BLf2TdzHWE%2Bbex28tpp8G6dfDyy3D77Wahjvh4eOopuPZa/fXWBRyuOUzB4QIKDhdQeLjQXB8pbHh9xH5/4eFCKmoq2vVZ/p7%2BtuTJmlCF%2BBzz%2BpjkKsQ3BF9P35P8rUWcmMZ/iYjIUUrAuqgpZ07h8zmfc%2Bmrl/Jl1peM/M9I3rnmHeLD4tv2BhYLXHcdXHihWZBjwwa4/nr4%2B9/hD3%2BAK680J3WWU66qtsqWTDVe8g/nNyRZR5Mra4J1pPbICX%2BOh5sHob6hhPqF2tYhPiH2r31D7LZDfEPa1roq0t2pBUxERI5SAtaFJYQnkHpzKlNXTSU1O5VfLP0FD4x5gF8l/IqIwIi2vUnfvvDuu7B8OTzwAGzfDldfDX/%2BM/zf/8E115iDyqVN6o16SipLyK/It0uirK8LjjTaPnq8vLr8hD/H292b3v69CfUNpZdfL0L9Qunle3Tt18tuvzWhCvQKVHU%2BkVNFLWAiInKUErAu7rSA09g0axM3pNzA6u9Xc9%2BH9/H7j37PhOgJzB42mylnTjl%2BC4bFAjfcYCZbK1bAI4/A7t1mcY4HH4T582HWLHNy526muq7alkA1TqZs28fsKzxcSJ1Rd0Kf4enmSS%2B/Xm1arImVn6efkikRZ9KoBaympoasrCwqKysdG5O0ysfHh8jISDz1R0YROckshmG0v56zdLqkpCTS0tJO%2BDrDMHh799u8kP4C7%2Bx%2Bx1Y4IdgnmJnxM5mdOJsRfUa07Zf2mhp49VV4%2BGEzEQOzW81dd5ndFnv3PuH4nIG1darZ7n4V%2BXatU9bE6lDVoRP%2BnB7ePejt35tefr3o7XfM%2Buj%2BxvuCvIOUTEmX0N7nlyuzfefERNi6Ff73P/aFhhIYGEhoaKj%2BbTspwzAoLCykrKyMgQMHOjocEYfpjs/tzqAEzMWcjH8I%2BRX5rNy%2BkuXpy/n2529t%2BweHDmZ05GiGhg0lITyBoeFDCfcPb/kXhLo6s3T9Qw/B99%2Bb%2Bzw84NJLzdaxSZMc1j2xqrbKbk4pa0W/Y4tSNN5XeKSQeqP%2BhD7HOm6qt39vu2SqSYJ19HioXyhe7l6n6FuLOLfu%2BIPc9p179TLnAcvJYWdxMTExMUq%2BnJxhGOzatYvY2FhHhyLiMN3xud0Z1AWxG%2Brt35s7Rt3BHaPuYFvuNlakr%2BDl715md%2BFudhfutju3l18vMxkLG0pMrxhbNzfb2KErLsNnxgx4%2B21YssQs1rFunbn07m1WTZw9G4YNa1NshmFQWVtJRU0F5dXllFeXU1FdQVl1GaWVpZRWlVJSWUJp5dF1lbmv8WS9RUeKOFxzuF33pod3jyYtUaG%2BoS0mVT28e%2BiXKBFp3bGTMBcX67nhAvTfSEROFSVg3VxCeAL/mPAPFl60kNTsVLblbuO7vO/4Lu87tuVuo%2BBwAR/v%2B5iP933c4nv4efoR6htK4MRAPC4%2BE/eSUjwKivCoyMej9Enc//kkHv4B1J0WTk1ID6q9PKiur6a6rpqauhqq66qpqqvicM1hyqvLT7gVqjmebp4Npc%2BPzidlSx6PJpCNk0nrtqe7%2BvqLyElmHf/lJJMwl5SU8Oqrr/LrX//6hK%2BdNGkSr776Kj179mzXZz9Xm9pdAAAawElEQVTyyCMsXboUd3d3nn76aSZMmNDknK1btzJv3jzKy8sZMGAAr7zyCkFBQaSmpjJ37lzA/GPdggULmDZtGgCXXHIJOTk51NbWct555/Hss8/i3qhS7xtvvMGVV17J//73P5KSkkhPT%2BfWW2/l0KFDuLu784c//IGrrrqqXd9JROREKQETwJzE%2BZf9f8kv%2B//Sts8wDA4cOsB3uWZCtqdoT7MT9R6uOdy0xSnk6GJTDvXlUHD8WLzdvfH38ifAK8C2%2BHv609OnJz18etDT%2B%2Bjapyc9vHvY9of6htoSLn9Pf/31UkScgzUBc5IKiCUlJTz33HPNJmB1dXV2icux1q9f3%2B7P3bFjB6tWreL777/n4MGDXHTRRezevbvJ59100008/vjjnH/%2B%2BSxbtozHHnuMv/71r8THx5OWloaHhwc5OTkMGzaMKVOm4OHhwWuvvUZQUBCGYXDFFVfw%2BuuvM3PmTADKysp4%2BumnGTVqlO0z/Pz8ePHFFxk0aBAHDx5k%2BPDhTJgwod2JpYjIiVACJi2yWCz079Gf/j36M3nw5GbPMQyDsuoy20S%2BdfV11NbXUltfS51xdLvyMLVffYH7F1/h9eXXeBUdwrMevOrAyy8Qr/POx/OiS/C/cAL%2BEaerFUpEuhZrCXonmQNs/vz57N27l8TERMaPH8/kyZN58MEHiYiIID09nR07dnDZZZdx4MABKisrufPOO20tTwMGDCAtLY3y8nImTpzIueeeyxdffEHfvn1JSUnB17flCdZTUlKYOXMm3t7eDBw4kOjoaFJTUxk9erTdeT/88ANjxowBYPz48UyYMIG//vWv%2BPn52c6prKy0%2ByNbUFAQALW1tVRXV9sde%2BCBB7jvvvt4/PHHbfsGDx5s2%2B7Tpw9hYWHk5%2BcrARORTqEETDrEYrEQ5B1EkHdQ6yeeeQnMwizc8eWX5pixt9%2BGnTsh8x146R3zvPh4GDvWXMaMcdmKiiIiNk7WArZw4UK2b99Oeno6AJs2bSI1NZXt27fbKv4tW7aMkJAQjhw5wogRI5g%2BfTqhoaF275ORkcHKlSv5z3/%2Bw4wZM1izZg2/%2BtWvWLRoEQDz5s2zOz87O5tzzjnH9joyMpLs7Owm8cXHx/PWW28xdepUXn/9dQ5YE1jg66%2B/Zs6cOezfv5%2BXXnoJD4%2BGX2MmTJhAamoqEydO5IorrgDg22%2B/5cCBA1x66aV2CVhjqampVFdXc8YZZ7T5HoqIdITjO6NL9%2BLuDueeC48%2BCjt2QEYGPPEEjBsHPj7mRM/PPANXXGEOVh86FG6/Hd54A5r5QS0i4vRaawGzWE7NcoJGjhxpV2796aefZtiwYZxzzjkcOHCAjIyMJtcMHDiQxMREAIYPH05mZiZgJl7HJl9g9pho%2BvWbxrps2TKeffZZhg8fTllZGV5eDZVjR40axffff8///vc/HnnkEbu51N577z1ycnKoqqri448/pr6%2Bnrvuuot//OMfLX7vnJwcrrvuOl544QXcnGB8noh0D2oBE8eKjjbnD7vrLqiqgtRU2LTJXL74wkzIrEkZmIPYR46EUaPMdVISBAY68huIiLTOyVrAmuPv72/b3rRpEx9%2B%2BCFffvklfn5%2BjB07ttlJo729vW3b7u7uHDlypNXPiIyMtGvNysrKok%2BfPk3Oi4mJ4f333wdg9%2B7dvPvuu03OiY2Nxd/fn%2B3bt5OUlGTb7%2BPjQ3JyMikpKYwcOZLt27czduxYAH7%2B%2BWeSk5N56623SEpK4tChQ0yePJmHHnrIrmVORORUUwImzsPbG847z1weeMA%2BIdu82dzOzoa1a80FzL/0DhliJmPDhpmTnSYkQHCwQ7%2BKiIhNay1gDpiKMzAwkLKyshaPl5aWEhwcjJ%2BfH7t27eKrr746KZ%2BbnJzMNddcw913383BgwfJyMhg5MiRTc7Ly8sjLCyM%2Bvp6HnroIVtr2r59%2B%2BjXrx8eHh7s37%2BfH374gQEDBlBeXk5ZWRkRERHU1tayfv16zjvvPHr06EFBQUPlp7Fjx/L444%2BTlJREdXU106ZN4/rrr%2BfKK688Kd9PRKStlICJ82qckAHU18Pu3fD112Yy9vXXsHWrOQm0dSJoq/79zYTMmpQNHQpRUeZE0SIincnJWsBCQ0P55S9/SXx8PBMnTmTyZPsiS5dccgmLFi0iISGBM88884Rbh1oaAxYXF8eMGTMYMmQIHh4edqXib7rpJubNm0dSUhIrV67k2WefBeDyyy/nhhtuAOCzzz5j4cKFeHp64ubmxnPPPUevXr3Izc0lOTmZqqoq6urquPDCC5vtAtnYa6%2B9xubNmyksLGT58uUALF%2B%2B3NalUkTkVLIYzXXKFqelGcmPceQIpKdDWpqZjG3danZZbKa7DF5eMHgwxMaarWaxseYyeLA5/kxETqnOfH5t3LiRO%2B%2B8k7q6Om666Sbmz59vd7y4uJg5c%2Bawd%2B9efHx8WLZsGfHx8QDMmTOHd955h7CwMLZv3267pqioiKuuuorMzEwGDBjAa6%2B9RvBxWtuTzj6btG%2B/NSdhrqwENzd27txJbGzsyf/SctLpv5V0d/q989RQc4C4Nl9fGD3aXKxqa83iHtaELD3dbCE7cKBhTFljbm4wYIA5Hm3QoIYlOhoGDjR/cRIRl1FXV8dtt93GBx98QGRkJCNGjCA5OZkhQ4bYznn44YdJTExk7dq17Nq1i9tuu42PPvoIgNmzZ/Ob3/yG66%2B/3u59Fy5cyLhx45g/fz4LFy5k4cKFPProo60HU1NjriMjnWISZhERcTwlYNL1eHg0tG4dnYgTgPJy2LXLrL64c6e57NgBe/fCjz%2Bay9GB3zbu7mZyFhVlJmPHLr16tavimIicOqmpqURHRxMVFQXAzJkzSUlJsUvAduzYwe9//3vALPqQmZlJbm4u4eHhjBkzxlbRr7GUlBQ2bdoEwKxZsxg7duzxE7DqanPtJHOAiYiI4ykB66DjdXN55ZVXbD%2BgAwICeP755xk2bBhgTmgZGBiIu7s7Hh4eauI91QICzKqJjSpmAWaxj337zFazjAzYs6dh%2B6efzARt797m39Pf30zQTj/dHHfWr5%2B5ti59%2B6oFTaSTZWdn06/ReKvIyEi%2B/vpru3OGDRvGm2%2B%2Bybnnnktqair79%2B8nKyuL8PDwFt83NzeXiIgIACIiIsjLyzt%2BMErARETkGErAOqAt3VwGDhzIp59%2BSnBwMBs2bGDu3Ll2vwh88skn9OrVyxHhi5W3N8TEmMuxKivN5GzfPrOFzLptXUpLmy8CYmWxQESEmYg1XiIj7V8HBJza7yjSjbRlvqn58%2Bdz5513kpiYyNChQznrrLPsJvXtiMWLF7N48WIAKoqLzZ1OUoBDREQcTwlYB7Slm8svfvEL2/Y555xDlrUalrgGH5%2BG7ozNKS6GzExzfNlPPzVdcnLg4EFz%2Bd//Wv4cf38zUWtuOe00cwkPN7s8Hq0aJiLNa8t8U0FBQbzwwguAmbANHDjQbiLi5oSHh5OTk0NERAQ5OTmEhYU1e97cuXOZO3cuAEnWc9QCJiIiRykB64C2dHNpbOnSpUycONH22mKxcPHFF2OxWLjllltsP7DFhQQHm8tZZzV/vKbGTL6ys5tfsrLMJK2iwuz6uGdP65/n5mYmYeHhDUtYmLn07m0u1u2wMLNlTWPUpJsZMWIEGRkZ7Nu3j759%2B7Jq1SpeffVVu3NKSkrw8/PDy8uLJUuWMGbMGIKCglp93%2BTkZFasWMH8%2BfNZsWIFU6dOPX4w1i6IagETEZGjlIB1QFu6uVh98sknLF26lM8%2B%2B8y27/PPP6dPnz7k5eUxfvx4YmJiGDNmTJNrG3dnyc/PP0nRS6fw9DTHh51%2BesvnGAYcOmQmYs0tP/8MubnmUlAAeXnm8t13x/98b28zYWttCQ01l5AQc62kTVych4cHzzzzDBMmTKCuro45c%2BYQFxdnNz/Vzp07uf7663F3d2fIkCEsXbrUdv3VV1/Npk2bKCgoIDIykgcffJAbb7yR%2BfPnM2PGDJYuXUr//v15/fXXjx9MFxkDFhAQQHl5OQcPHuSOO%2B7gjTfeaHJO44mOW1JVVcX111/Pli1bCA0NZfXq1QwYMKDJeatXr%2BZvf/sbdXV1TJ48mb///e8APPHEEyxZsgQPDw969%2B7NsmXLOP3009m/fz%2BXX345dXV11NTUcPvtt9vmAvvoo4%2B49957qa%2BvJyAggOXLlxMdHX1yboyISDtoHrAO%2BPLLL1mwYAHvvfceAI888giArbKW1bZt25g2bRobNmxg8ODBzb7XggULCAgI4He/%2B12rn6n5GLq52lrIz7dPyvLzzYSs8dq6ffjwiX%2BGp6d9UhYSYrbyHbttbf2zLj16qOCItKo7Pr%2BSPDxIq6sz/80eLfDhinNLWROw1rQlAXvuuefYtm0bixYtYtWqVaxdu5bVq1fbnVNYWMhZZ53Fli1b6N27N7NmzeL6669n3LhxfPLJJ4waNQo/Pz%2Bef/55Nm3axOrVq6mursYwDLy9vSkvLyc%2BPp4vvviCPn36MHjwYFJSUoiNjeW5554jNTXVNvny8bjifyuRk6k7Prc7g1rAOqAt3Vx%2B%2BuknLr/8cl566SW75KuiooL6%2BnoCAwOpqKjg/fff509/%2BlNnfwVxNR4eDWPD2uLwYbPVrKUlPx%2BKiqCw0FyKisxrfv7ZXE5UQICZjPXs2bC2Lj16NH197OLtfeKfKeLM6urMP0z07u3oSGzuv/9%2BTj/9dH79618D5h8AAwMDueWWW5g6dSrFxcXU1NTw0EMPNelmmZmZyaWXXsr27ds5cuQIN9xwAzt27CA2NpYjR44c97NTUlJYsGABAFdccQW/%2Bc1vMAzDrvfIjz/%2ByODBg%2Bl99J5ddNFFrFmzhnHjxnHBBRfYzjvnnHN4%2BeWXAfDy8rLtr6qqor6%2B3vbaYrFw6NAhAEpLS5uMBxQR6WxKwDqgLd1c/vKXv1BYWGj7QWctN5%2Bbm8u0adMAqK2t5ZprruGSSy5x2HeRLsrPr6EkfltVVjYkY4WFZqGRoqKGtXW7sBBKSsztkhJzKS83l0YFEE6It3fTpCwoqGE59nVQEAQGNl17e6sbpTgPJ5uEeebMmfz2t7%2B1/Vx67bXX2LhxIz4%2BPqxdu5agoCAKCgo455xzSE5ObrFr/fPPP4%2Bfnx/btm1j27ZtnH322bZjN910E/PmzWvSGtZ47LSHhwc9evSgsLDQrhpwdHQ0u3btIjMzk8jISNatW0e1tStnI8eOqz5w4ACTJ09mz549PPbYY7ZEa8mSJUyaNAlfX1%2BCgoL46quv2nnnRERODiVgHTRp0iQmTZpkt8/a7xzMB/%2BSJUuaXBcVFcXWrVtPeXwiJ8zHp6E8/omor4eysoakrLjYLNNvTc6aW0pLzeXQIXNdVdUwxq0jPD3NRKy1JSCg5XXjbX9/M5FVQift1cr4L8uDp%2Bb/K%2BPPLY8uOOuss8jLy%2BPgwYPk5%2BcTHBxM//79qamp4f/%2B7//YvHkzbm5uZGdnk5uby2mnndbs%2B2zevJk77rgDgISEBBISEmzHmvu5B20bOx0cHMzzzz/PVVddhZubG7/4xS/48ccf7c55%2BeWXSUtL49NPP7Xt69evH9u2bePgwYNcdtllXHHFFYSHh/PPf/6T9evXM2rUKB577DHuvvvuFuMTEekMSsBE5ORwc2totWqt6EhLDAOOHGlIyqyJmXVp/Nq6XVbWsK/xdk1NQ2vdyWCxmImYNTmzJmbWpfHrY4%2B1tPj5mWu11nV9TlgB8YorruCNN97g559/ZubMmQC88sor5Ofns2XLFjw9PRkwYACVlZWtvk9LrWMtsU4REBkZSW1tLaWlpYSEhDQ5b8qUKUyZMgUwC1G5N5p%2B48MPP%2BRvf/sbn376Kd7NdFvu06cPcXFx/Pe//%2BX8889n69atjBo1CoCrrrpKvU1ExOGUgImIc7BYzKTEz6/tY9yaYxhmS1pZWetLeXnDuvG29XhFhfm6osJMDK3nnWxubg3fu3FiZt3X3OLr2/Jr67avr/22l5cSPUdppQWstZaqU2nmzJncfPPNFBQU2FqRSktLCQsLw9PTk08%2B%2BYT9%2B/e3%2Bh5jxozhlVde4YILLmD79u1s27btuJ9rLeU/evRo3njjDS688MJmk7i8vDzCwsIoLi7mueee47XXXgPg22%2B/5ZZbbmHjxo1287BlZWURGhqKr68vxcXFfP7559x9990EBwdTWlrK7t27GTx4MB988IGKaoiIwykBE5GuxWIxu1H6%2BJy8wgd1dfYJmTVBa7yv8XZ5uVnMxLr/2MV67PBhM1k8VcldY9YE15qYtbb4%2BDS/3fh1a%2BvGixONfXIYJ2wBi4uLo6ysjL59%2BxJx9A8e1157LVOmTCEpKYnExERiYmJafY9bb72VG264gYSEBBITExk5cqTtWEtjwG688Uauu%2B46oqOjCQkJYdWqVbZjiYmJpKenA3DnnXfauun/6U9/shWxuvfeeykvL%2BfKK68EoH///rz11lvs3LmTe%2B65B4vFgmEY/O53v2Po0KEA/Oc//2H69Om4ubkRHBzMsmXLOnLrREQ6TGXoXYzKgYp0MbW1ZgvbsYlZS4u1Ra7xvuZeW/dZt2tqHPP9PD1tyVhS//7d7vmVZLGQtnYtXHaZbZ9Km7sO/beS7k6/d54aagETEXEkD4%2BGwiCnkjXRO3zYrHRpTcxaWhqfc%2By29fWx2433WZeaGnMpKzuxapxdiRO2gImIiOMoARMR6Q46K9FrzDDM5MuanE2e3Hmf7Szi4sxFRETkKCVgIiJyalgsZvEPLy9zjrbuyDoWTkRE5CiNjhYREelkGn7t/PTfSEROFSVgIiIincjHx4fCwkL9gu/EDMOgsLAQH7VeisgpoC6IIiIinSgyMpKsrCzy8/MdHYq0wsfHh8hW5nATEWkvJWAiIiKdyNPTk4EDBzo6DBERcRB1QRQREREREekkSsBEREREREQ6iRIwERERERGRTmIxVIbJpQQEBBATE%2BPoMJqVn59P7969HR1GsxRb%2Byi29lFszcvMzKSgoMAhn%2B0oema3j2JrH8XWPoqtZd3xud0ZVITDxcTExJCWluboMJqVlJSk2NpBsbWPYmsfZ46tK9Izu30UW/sotvZRbNLZ1AVRRERERESkkygBExERERER6STuCxYsWODoIOTEDB8%2B3NEhtEixtY9iax/F1j7OHFtX5Mz3W7G1j2JrH8XWPs4cm7SPinCIiIiIiIh0EnVBFBERERER6SRKwFzExo0bOfPMM4mOjmbhwoWODqeJAQMGMHToUBITE0lKSnJoLHPmzCEsLIz4%2BHjbvqKiIsaPH8%2BgQYMYP348xcXFThPbggUL6Nu3L4mJiSQmJrJ%2B/fpOj%2BvAgQNccMEFxMbGEhcXx1NPPQU4x31rKTZnuG%2BVlZWMHDmSYcOGERcXx5///GfAOe5ba/E5w73rDpz5ua1ndvtjc5Z/P3put48zP7f1zO5GDHF6tbW1RlRUlLF3716jqqrKSEhIML7//ntHh2Xn9NNPN/Lz8x0dhmEYhvHpp58aW7ZsMeLi4mz77r33XuORRx4xDMMwHnnkEeO%2B%2B%2B5zmtj%2B/Oc/G4899phD4rE6ePCgsWXLFsMwDOPQoUPGoEGDjO%2B//94p7ltLsTnDfauvrzfKysoMwzCM6upqY%2BTIkcaXX37pFPettfic4d51dc7%2B3NYzu/2xOcu/Hz2328eZn9t6ZncfagFzAampqURHRxMVFYWXlxczZ84kJSXF0WE5rTFjxhASEmK3LyUlhVmzZgEwa9Ys1q1b54jQmo3NGURERHD22WcDEBgYSGxsLNnZ2U5x31qKzRlYLBYCAgIAqKmpoaamBovF4hT3rbX45NTTc7vt9MxuHz2328eZn9t6ZncfSsBcQHZ2Nv369bO9joyMdJoHmZXFYuHiiy9m%2BPDhLF682NHhNJGbm0tERARg/mDIy8tzcET2nnnmGRISEpgzZ47DutpYZWZm8u233zJq1Cinu2%2BNYwPnuG91dXUkJiYSFhbG%2BPHjne6%2BNRcfOMe968qc/bmtZ3bHONu/Hz23T4wzP7f1zO4elIC5AKOZQpXO9heRzz//nG%2B%2B%2BYYNGzbw7LPPsnnzZkeH5DJuvfVW9u7dS3p6OhEREdxzzz0Oi6W8vJzp06fz5JNPEhQU5LA4mnNsbM5y39zd3UlPTycrK4vU1FS2b9/ukDha0lx8znLvujJnf27rmd1%2BzvbvR8/tE%2BfMz209s7sHJWAuIDIykgMHDtheZ2Vl0adPHwdG1JQ1nrCwMKZNm0ZqaqqDI7IXHh5OTk4OADk5OYSFhTk4ogbh4eG4u7vj5ubGzTff7LB7V1NTw/Tp07n22mu5/PLLbbE5w31rKTZnuG9WPXv2ZOzYsWzcuNFp7ltjx8bnTPeuK3L257ae2e3nTP9%2B9NzuGGd%2BbuuZ3bUpAXMBI0aMICMjg3379lFdXc2qVatITk52dFg2FRUVlJWV2bbff/99u4pRziA5OZkVK1YAsGLFCqZOnergiBpYH/gAa9eudci9MwyDG2%2B8kdjYWO6%2B%2B27bfme4by3F5gz3LT8/n5KSEgCOHDnChx9%2BSExMjFPct9bic4Z719U583Nbz%2ByOcZZ/P3put48zP7f1zO5GHFkBRNru3XffNQYNGmRERUUZDz30kKPDsbN3714jISHBSEhIMIYMGeLw%2BGbOnGmcdtpphoeHh9G3b19jyZIlRkFBgXHhhRca0dHRxoUXXmgUFhY6TWy/%2BtWvjPj4eGPo0KHGlClTjIMHD3Z6XP/9738NwBg6dKgxbNgwY9iwYca7777rFPetpdic4b5t3brVSExMNIYOHWrExcUZDz74oGEYhlPct9bic4Z71x0463Nbz%2ByOxeYs/3703G4fZ35u65ndfVgMo5mO6iIiIiIiInLSqQuiiIiIiIhIJ1ECJiIiIiIi0kmUgImIiIiIiHQSJWAiIiIiIiKdRAmYiIiIiIhIJ1ECJiIiIiIi0kmUgImIiIiIiHQSJWAiIiIiIiKdRAmYiIiIiIhIJ1ECJiIiIiIi0kmUgImIiIiIiHQSJWAiIiIiIiKdRAmYiIiIiIhIJ1ECJiIiIiIi0kmUgImIiIiIiHQSJWAiIiIiIiKdRAmYiIiIiIhIJ1ECJiIiIiIi0kmUgImIiIiIiHQSJWAiIiIiIiKd5P8BHU5Kg2uiFcwAAAAASUVORK5CYII%3D\">"
      ]
     },
     "metadata": {},
     "output_type": "display_data"
    }
   ],
   "source": [
    "s.run(tf.global_variables_initializer())\n",
    "\n",
    "BATCH_SIZE = 512\n",
    "EPOCHS = 40\n",
    "\n",
    "# for logging the progress right here in Jupyter (for those who don't have TensorBoard)\n",
    "simpleTrainingCurves = matplotlib_utils.SimpleTrainingCurves(\"cross-entropy\", \"accuracy\")\n",
    "\n",
    "for epoch in range(EPOCHS):  # we finish an epoch when we've looked at all training samples\n",
    "    \n",
    "    batch_losses = []\n",
    "    for batch_start in range(0, X_train_flat.shape[0], BATCH_SIZE):  # data is already shuffled\n",
    "        _, batch_loss = s.run([step, loss], {input_X: X_train_flat[batch_start:batch_start+BATCH_SIZE], \n",
    "                                             input_y: y_train_oh[batch_start:batch_start+BATCH_SIZE]})\n",
    "        # collect batch losses, this is almost free as we need a forward pass for backprop anyway\n",
    "        batch_losses.append(batch_loss)\n",
    "\n",
    "    train_loss = np.mean(batch_losses)\n",
    "    val_loss = s.run(loss, {input_X: X_val_flat, input_y: y_val_oh})  # this part is usually small\n",
    "    train_accuracy = accuracy_score(y_train, s.run(classes, {input_X: X_train_flat}))  # this is slow and usually skipped\n",
    "    valid_accuracy = accuracy_score(y_val, s.run(classes, {input_X: X_val_flat}))  \n",
    "    simpleTrainingCurves.add(train_loss, val_loss, train_accuracy, valid_accuracy)"
   ]
  },
  {
   "cell_type": "markdown",
   "metadata": {},
   "source": [
    "# MLP with hidden layers"
   ]
  },
  {
   "cell_type": "markdown",
   "metadata": {},
   "source": [
    "Previously we've coded a dense layer with matrix multiplication by hand. \n",
    "But this is not convenient, you have to create a lot of variables and your code becomes a mess. \n",
    "In TensorFlow there's an easier way to make a dense layer:\n",
    "```python\n",
    "hidden1 = tf.layers.dense(inputs, 256, activation=tf.nn.sigmoid)\n",
    "```\n",
    "\n",
    "That will create all the necessary variables automatically.\n",
    "Here you can also choose an activation function (remember that we need it for a hidden layer!).\n",
    "\n",
    "Now define the MLP with 2 hidden layers and restart training with the cell above.\n",
    "\n"
   ]
  },
  {
   "cell_type": "code",
   "execution_count": 13,
   "metadata": {},
   "outputs": [
    {
     "data": {
      "text/html": [
       "<img src=\"data:image/png;base64,iVBORw0KGgoAAAANSUhEUgAAA2AAAAEgCAYAAADSVRDhAAAABHNCSVQICAgIfAhkiAAAAAlwSFlzAAALEgAACxIB0t1%2B/AAAADh0RVh0U29mdHdhcmUAbWF0cGxvdGxpYiB2ZXJzaW9uMy4xLjIsIGh0dHA6Ly9tYXRwbG90bGliLm9yZy8li6FKAAAgAElEQVR4nOzdeViU9f7/8efAsCuyiCkOIoipgIiKe6JpuJWkZmruW2Zp2nIy01O2HvVb/Sr3o5naopia2in33TL3yghQXFBQQ0BA9vXz%2B%2BOOOwlwS5bR9%2BO65mJm7u1zD9zDvOazGZRSCiGEEEIIIYQQ5c6isgsghBBCCCGEEPcLCWBCCCGEEEIIUUEkgAkhhBBCCCFEBZEAJoQQQgghhBAVRAKYEEIIIYQQQlQQCWBCCCGEEEIIUUEkgAkhhBBCCCFEBZEAJoQQQgghhBAVRAKYEEIIIYQQQlQQCWBCCCGEEEIIUUEkgAkhhBBCCCFEBZEAJoQQQgghhBAVRAKYEEIIIYQQQlQQCWBCCCGEEEIIUUEkgAkhhBBCCCFEBZEAJoQQQgghhBAVRAKYEEIIIYQQQlQQCWBCCCGEEEIIUUEkgAkhhBBCCCFEBZEAJoS4bQaDgdOnT1d2MYQQQgghzI4EMCGqmPz8/Mouwj92L5yDEEKYI6UUhYWFlV0MIcQNSAATogLFxsbSr18/3NzccHV1ZeLEiSxfvpwOHTrw4osv4uLiwptvvklhYSHvvvsunp6e1KpVi%2BHDh5OamgpAdnY2Q4cOxdXVFScnJ1q1akV8fDwAy5cvx9vbm%2BrVq%2BPl5cVXX31VZlmioqIICQnBxcWFRo0a8fXXX%2BvLRo4cyYQJE3j00UepXr06bdq04cyZMwAEBwcD0KxZM6pVq8bq1avZs2cPJpOJ2bNnU7t2bUaNGgXAkiVL8PHxwcXFhdDQUC5duqQfw2AwMGfOHLy9valZsyavvPIKhYWF5OTk4OLiwm%2B//aave%2BXKFezs7EhISLhLvwkhhChfs2bNokGDBlSvXh1fX1/Wr1%2BvL1uyZAlNmjTRlx0/fhwo/X8EwJtvvsnQoUP17WNiYjAYDPqXXZ07d2b69Ol06NABe3t7zp49y7Jly/RjeHt789///rdY%2BTZu3EhgYCCOjo40aNCALVu2sGbNGlq2bFlsvQ8//JA%2BffqUy2skxH1LCSEqRH5%2BvgoICFAvvPCCSk9PV1lZWWr//v1q2bJlytLSUs2ZM0fl5eWpzMxMtXTpUtWgQQN15swZlZaWpvr27auGDh2qlFJq0aJF6rHHHlMZGRkqPz9fHT16VKWmpqr09HRVvXp1FRUVpZRS6tKlSyo8PLzUsqSnpyuTyaQ%2B%2B%2BwzlZeXp44dO6ZcXV319UeMGKGcnZ3VoUOHVF5enho8eLAaOHCgvj2goqOj9ce7d%2B9WlpaWasqUKSo7O1tlZmaqnTt3KldXV3Xs2DGVnZ2tJk6cqDp27FhsH507d1ZJSUnq/PnzqmHDhmrJkiVKKaWeffZZNWXKFH3djz/%2BWD322GN36TchhBDl7%2Buvv1YXL15UBQUFKiwsTNnb26tLly6pr7/%2BWrm7u6vDhw%2BrwsJCFR0drWJiYsr8H6GUUjNmzFBDhgzR933u3DkFqLy8PKWUUp06dVIeHh4qPDxc5eXlqdzcXPXdd9%2Bp06dPq8LCQrVnzx5lZ2enjh07ppRS6tChQ8rR0VFt27ZNFRQUqLi4OBUZGamys7OVs7OzioiI0I8VGBio1q5dW4GvnBD3PglgQlSQAwcOqJo1a%2Br/MIssW7ZMeXh4FHuuS5cuav78%2BfrjqKgoZTQaVV5enlq6dKlq166d%2BvXXX4ttk56ermrUqKHWrl2rMjMzb1iWsLAw9dBDDxV7bty4cerNN99USmkBbMyYMfqy77//XjVq1Eh/XFoAs7KyUllZWfpzo0ePVq%2B88or%2BOC0tTRmNRnXu3Dl9H5s3b9aXz58/X3Xp0kUppdTBgweVyWRSBQUFSimlWrZsqVavXn3DcxJCiKqsWbNmasOGDapbt27q448/LrG8rP8RSt1aAHv99ddvePzHH39cP%2B64cePUCy%2B8UOp648ePV9OmTVNKKRUeHq6cnJxUdnb2rZ2kEOKWSBNEISpIbGwsnp6eGI3GEss8PDyKPb506RKenp76Y09PT/Lz84mPj2fYsGF0796dQYMG4e7uzpQpU8jLy8PBwYHVq1ezaNEi6tSpw6OPPkpUVBQAfn5%2BVKtWjWrVqrF//37Onz/PoUOHcHJy0m9fffUVf/zxh37M2rVr6/ft7e1JT0%2B/4fm5ublha2tb5jlUq1YNV1dXLl68WOp5e3p66k0U27Rpg4ODA3v37iUqKorTp08TGhp6w%2BMLIURV8vnnnxMYGKi/x4aHh5OYmEhsbCwNGjQosf6N/kfcir//H9m8eTNt27bFxcUFJycnNm3aRGJion6s0soAMGLECFauXIlSii%2B%2B%2BIIBAwZgY2NzR2USQpROApgQFcTDw4MLFy6UOkCFwWAo9tjd3Z3z58/rjy9cuIDRaOSBBx7AysqKGTNmEBERwYEDB/juu%2B/4/PPPAejevTvbt2/n8uXLNG7cmKeffhqA33//nfT0dNLT0%2BnYsSMeHh506tSJlJQU/Zaens7ChQvv%2BPxudg4ZGRkkJSVRt25d/bnY2Nhi5%2Bju7q4/HjFiBF9%2B%2BSVffPEF/fv3LxbuhBCiKjt//jxPP/008%2BbNIykpiZSUFPz9/VFK4eHhofepvd6N/kc4ODiQmZmpP77%2By7Ii178H5%2BTk8MQTT/Cvf/2L%2BPh4UlJS6NWrF0op/VillQGgbdu2WFtbs3//flauXMmwYcNu%2B/yFEDcmAUyICtK6dWvq1KnD1KlTycjIIDs7mx9//LHUdZ966ik%2B%2Bugjzp07R3p6OtOmTWPgwIEYjUZ2797Nb7/9RkFBAY6OjlhZWWFpaUl8fDzffvstGRkZ2NjYUK1aNSwtLUvd/2OPPcapU6f44osvyMvLIy8vjyNHjhAZGXlL5/LAAw9w9uzZG64zePBgli1bxi%2B//EJOTg7Tpk2jTZs21K9fX1/n/fffJzk5mdjYWD755BMGDhyoLxs2bBjr16/nyy%2B/ZPjw4bdULiGEqAoyMjIwGAy4ubkBsGzZMsLDwwEYO3YsH3zwAceOHUMpxenTpzl//vwN/0cEBgayb98%2BLly4QGpqKjNnzrzh8XNzc8nJycHNzQ2j0cjmzZvZtm2bvnzMmDEsW7aMnTt3UlhYyMWLF/UWEwDDhw9n4sSJGI1GHnroobv98ghx35MAJkQFsbS05H//%2Bx%2BnT5%2BmXr16mEwmVq9eXeq6o0ePZtiwYQQHB%2BPl5YWtrS1z584FtG8%2B%2B/fvj6OjI02aNKFTp04MHTqUwsJCPvzwQ9zd3XFxcWHv3r0sWLCg1P1Xr16dbdu2ERYWhru7O7Vr1%2BbVV18lJyfnls7lzTffZMSIETg5ORUbPfF6Xbt25Z133uGJJ56gTp06nDlzhrCwsGLrPP7447Rs2ZLAwEAeffRRxowZoy8zmUy0aNECg8FAx44db6lcQghRFfj6%2BvLyyy/Trl07HnjgAX777Tc6dOgAwJNPPsn06dMZPHgw1atXp0%2BfPly9evWG/yNCQkIYOHAgAQEBtGzZkscee%2ByGx69evTpz5sxhwIABODs7s3LlymLNuFu3bs2yZct48cUXqVGjBp06dSrWYmHYsGGEh4dL7ZcQ5cSgiuqjhRCiAhkMBqKjo/Hx8SlzndGjR%2BPu7s67775bgSUTQoj7W1ZWFrVq1eL48eM0bNiwsosjxD3nznp6CiFEOYuJieGbb77h559/ruyiCCHEfWXhwoW0atVKwpcQ5UQCmBCiynn99df56KOPeO211/Dy8qrs4gghxH2jfv36KKXYsGFDZRdFiHuWNEEUQgghhBBCiAoig3AIIYQQQgghRAWRACaEEEIIIYQQFUT6gJmZmjVrFptHSQghzEVMTAyJiYmVXYwKJe/ZQghzdj%2B%2Bb1cECWBmpn79%2Bhw9erSyiyGEELctKCiosotQ4eQ9Wwhhzu7H9%2B2KIE0QhRBCCCGEEKKCSAArJ6NHj6ZWrVr4%2B/uXuvyrr74iICCAgIAA2rdvz6%2B//lrBJRRCiPvPzd6blVJMmjQJHx8fAgICOH78uL5sy5YtNGrUCB8fH2bNmlVRRRZCCHGPkQBWTkaOHMmWLVvKXO7l5cXevXs5ceIEr7/%2BOuPGjavA0gkhxP3pZu/NmzdvJjo6mujoaBYvXsyzzz4LQEFBARMmTGDz5s1ERESwatUqIiIiKqrYQggh7iHSB6ycBAcHExMTU%2Bby9u3b6/fbtm1LXFxcBZRKVCV5eXnExcWRnZ1d2UUR4q6ytbXFZDJhZWVV2UUp4WbvzRs3bmT48OEYDAbatm1LSkoKly9fJiYmBh8fH7y9vQEYNGgQGzduxNfX97bLINe%2BeajKf8dCCPMmAawKWLp0KT179qzsYogKFhcXR/Xq1alfvz4Gg6GyiyPEXaGUIikpibi4OLy8vCq7OLft4sWLeHh46I9NJhMXL14s9flDhw7d0THk2q/6zP3vWAhRtUkAq2S7d%2B9m6dKl/PDDD2Wus3jxYhYvXgxAQkJCRRVNlLPs7Gz5ACbuOQaDAVdXV7N9r1JKlXjOYDCU%2BXxpbvaeLdd%2B1Wfuf8dCiKpNAlglOnHiBGPHjmXz5s24urqWud64ceP0PmJBDzxQUcUTFUA%2BgIl7kTn/XZtMJmJjY/XHcXFxuLu7k5ubW%2BrzpSn2nl3GEM7m/BrdL%2BR3JO4JeXmQng5padrPv9/PzobcXMjJ0X7%2B/SbKhQzCUUkuXLhAv379%2BOKLL3jwwQdvfcMrV6CgoPwKJu4bKSkpLFiw4I627dWrFykpKXd87JkzZ%2BLj40OjRo3YunVrqetcvXqVkJAQGjZsSEhICMnJyTfdfvXq1QQEBODn58eUKVP058%2BfP0/Xrl0JCAigc%2BfOxfpcvvrqq/j7%2B%2BPv78/q1atLlOP555%2BnWrVq%2BuONGzcSEBBAYGAgQUFBxWqvP/nkE/z9/fHz8%2BPjjz8utp%2B5c%2BfSqFGjEmUr61yOHTtG06ZN8fHxYdKkSXoNzIULF3j44Ydp3rw5AQEBbNq0Sd/G0tKSwMBAAgMDCQ0N1Z8fOXIkXl5e%2BrJffvkFgKioKNq1a4eNjQ0ffPBBsfKWNVrgK6%2B8QuPGjQkICKBv377/6O%2BgKgoNDeXzzz9HKcXBgwepUaMGderUoVWrVkRHR3Pu3Dlyc3MJCwsr9hqbk6p%2B7f/666%2B0a9eOpk2b0rt3b65duwZAbm4uo0aNomnTpjRr1ow9e/bo26xatYqmTZsSEBBAjx499IljFy1aRNOmTQkMDOShhx4qMXDKtWvXqFu3LhMnTrzjcxKiQhUUQFwc/PgjrFwJH34I06bBM8/Ak09Cly7QrBl4eIC9PVhbg4sLeHqCnx%2B0aQOPPAJ9%2BsDQoTB2LDz3HLz4Irz6Krz%2BOrzzDsyeDR99VNlne%2B9SolwMGjRI1a5dWxmNRlW3bl316aefqoULF6qFCxcqpZQaM2aMcnJyUs2aNVPNmjVTLVu2vKX9tgSlrl4tz6KLChIREVGpxz937pzy8/MrdVl%2Bfn65Hff3339XAQEBKjs7W509e1Z5e3uXerxXXnlFzZw5Uyml1MyZM9WUKVNuuH1iYqLy8PBQV65cUUopNXz4cLVjxw6llFL9%2B/dXy5cvV0optXPnTjV06FCllFLfffedeuSRR1ReXp5KT09XLVu2VKmpqXoZjhw5ooYOHaocHBz059LS0lRhYaFSSqlff/1VNWrUSCml1G%2B//ab8/PxURkaGysvLU127dlWnTp1SSim1a9cu1bVrV5Wdna2UUio%2BPv6mr0WrVq3UgQMHVGFhoerRo4fatGmTUkqpp59%2BWi1YsEDf3tPTUy/b9eW83ogRI9SaNWtKPB8fH68OHz6spk2bpt5///1iy/bu3auOHTtW4m9k69atKi8vTyml1JQpU/Tfy9%2BV9vd9q%2B9z5elm782FhYXqueeeU97e3srf318dOXJE3/b7779XDRs2VN7e3urdd9%2B9peOVds5y7d/42g8KClJ79uxRSim1dOlS9e9//1sppdS8efPUyJEjlVLa326LFi1UQUGBysvLU25ubiohIUEppb13zJgxQymlil3PGzduVN27dy92rEmTJqmnnnpKTZgwodQyV/bvStzj8vOVSk5W6vx5pcLDlTpwQKmtW5Vas0apzz5T6uOPlXrjDaVGjlTq4YeV8vJSyspKKbj1m4WFUjVqKGUyKdW4sVJBQdq%2BevdW6qmnlBo9Wqnx45WaNEmpf/1LqenTlXrrLaVmzlTqww%2BrxPv2vUiaIJaTVatW3XD5p59%2ByqeffnpnO09NBWfnO9tWiD9NnTqVM2fOEBgYSEhICI8%2B%2BihvvfUWderU4ZdffiEiIoI%2BffoQGxtLdnY2kydP1ptV1a9fn6NHj5Kenk7Pnj156KGHOHDgAHXr1mXjxo3Y2dmVedyNGzcyaNAgbGxs8PLywsfHh8OHD9OuXbsS6xV9wz1ixAg6d%2B7M7Nmzy9zeaDTy4IMP4ubmBsAjjzzCunXr6Nq1KxEREXz05zd5Dz/8MH369AEgIiKCTp06YTQaMRqNNGvWjC1btjBgwAAKCgp45ZVXWLlyJevXr9fLdX1tWEZGht5MKTIykrZt22Jvbw9Ap06dWL9%2BPVOmTGHhwoVMnToVGxsbAGrVqnXD16J%2B/fpcu3ZNf02GDx/Ohg0b6NmzJwaDQa8RSE1NLbMZ3K2oVasWtWrV4vvvvy%2BxrKzRArt166bfb9u2LWvXrr3j41eGm703GwwG5s%2BfX%2BqyXr160atXr/IoVoWq6tf%2ByZMnCQ4OBiAkJITu3bvzzjvvEBERQdeuXQHtb9fJyYmjR4/SvHlzlFJkZGTg6urKtWvX8PHxAcDR0VHf7/XXK2i1zPHx8fTo0YOjR4/enRdX3H9ycyExEZKS4OrV0n%2Bmpmq3a9eK/8zIuLNj1qql1Wh5ekLdulCzJri6ajVdrq7F7zs4wD9pTrty5Z1vK8okAcwcpaZWdgnE3VZefQ1KGTigyKxZswgPD9ebo%2B3Zs4fDhw8THh6uj/r12Wef4eLiQlZWFq1ateKJJ54o0V8xOjqaVatWsWTJEgYMGMC6desYOnQoixYtAmD8%2BPHF1r948SJt27bVHxeNMvd38fHx1KlTB4A6depw5cqVG27ftWtXoqKiiImJwWQysWHDBnL/bL/erFkz1q1bx%2BTJk1m/fj1paWkkJSXRrFkz3nrrLV566SUyMzPZvXu3Pqz4vHnzCA0N1ctwvfXr1/Paa69x5coVPbz4%2B/szffp0kpKSsLOzY9OmTXr/n1OnTrF//36mT5%2BOra0tH3zwAa1atSrzXKysrDCZTKW%2BRm%2B%2B%2BSbdunVj7ty5ZGRksGPHDn297OxsgoKCMBqNTJ06VQ%2BaANOnT%2Bftt9%2Bma9euzJo1Sw%2BD/8Rnn33GwIED//F%2B7mty7Zcon7%2B/P99%2B%2By2PP/44a9as0fveNWvWTA9xsbGxHDt2jNjYWFq3bs3ChQtp2rQpDg4ONGzYsFiInj9/Pv/v//0/cnNz2bVrFwCFhYW8/PLLfPHFF%2BzcufOWX1ZxD1MKsrK0/lFpaVpIKvqZnAx//FH67brm8bfNYIDq1cHRUbsV3b/%2Bp5OT1pywKHDVqwc3%2BKJDmAcJYOZIApgoJ61bty425PKcOXP02p/Y2Fiio6NLfAgr6lsE0LJlS73W5O8fvoqo2xhN7na2d3Z2ZuHChQwcOBALCwvat2/P2bNnAfjggw%2BYOHEiy5cvJzg4mLp162I0GunWrRtHjhyhffv2uLm50a5dO4xGI5cuXWLNmjXF%2Bphcr2/fvvTt25d9%2B/bx%2Buuvs2PHDpo0acKrr75KSEgI1apVo1mzZhiN2ltsfn4%2BycnJHDx4kCNHjjBgwADOnj17RyPurVq1ipEjR/Lyyy/z008/MWzYMMLDw7GwsODChQu4u7tz9uxZunTpQtOmTWnQoAEzZ86kdu3a5ObmMm7cOGbPns0bb7xxy695ad577z2MRiNDhgz5R/sRVUNVuvY/%2B%2BwzJk2axNtvv01oaCjW1taA1i8xMjKSoKAgPD09ad%2B%2BPUajkby8PBYuXMjPP/%2BMt7c3zz//PDNnzuTf//43ABMmTGDChAmsXLmSd999lxUrVrBgwQJ69epVbGoBcQ9SSqudio0tGZzi4/%2B6n5CgBa076WNvaflXrVNptVAuLlqrJUdHqFGj%2BM9q1cBChmO4H0kAM0cSwO49N/i2uiI5ODjo9/fs2cOOHTv46aefsLe3p3PnzqVOHHt9TYqlpSVZWVk3PEZZo8z93QMPPMDly5epU6cOly9f1pvt3Wj73r1707t3b0AbCtzS0hIAd3d3vvnmGwDS09NZt24dNWrUALSaoenTpwMwePBgGjZsyM8//8zp06f1ZkyZmZn4%2BPhw%2BvTpYmUMDg7mzJkzJCYmUrNmTcaMGcOYMWMAmDZtml6LZTKZ6NevHwaDgdatW2NhYUFiYmKZ52IymYoNFHL9OS5dupQtW7YA0K5dO7Kzs0lMTKRWrVr6Ot7e3nTu3Jmff/6ZBg0a6LV4NjY2jBo1qsSAG7drxYoVfPfdd%2BzcuVNGivun5NovsV7jxo3Ztm0boNUeF9UyG41GvSkxQPv27WnYsKFek9egQQMABgwYwKxZs0rsd9CgQTz77LMA/PTTT%2Bzfv58FCxaQnp5Obm4u1apVK3U7UYWlp2sDUsTFaSHrwoWSt9uZ8NzWtuxaqNq1/7o98MBf911dJUSJ2yYBzBxJABN3QfXq1UlLSytzeWpqKs7Oztjb2xMVFcXBgwfvynFDQ0MZPHgwL730EpcuXSI6OprWrVuXut6KFSuYOnUqK1as4PHHH7/p9leuXKFWrVokJyezYMECvv76awASExNxcXHBwsKCmTNnMnr0aAAKCgpISUnB1dWVEydOcOLECbp164bRaOSPP/7Qy1KtWjU9fJ0%2BfZoGDRpgMBg4fvw4ubm5es1A0fEvXLjAN998w08//QRAnz592LVrF507d%2BbUqVPk5uZSs2bNMs/F0tKS6tWrc/DgQdq0acPnn3/O888/D0C9evXYuXMnI0eOJDIykuzsbNzc3EhOTsbe3h4bGxsSExP58ccf9dEWi4KsUooNGzaUGNnwdmzZsoXZs2ezd%2B9evb%2BbMC9V/dovuo4KCwt599139Rq1zMxMlFI4ODiwfft2jEYjvr6%2BXLp0iYiICBISEnBzc2P79u00adIE0JpJNmzYEIDvv/9ev//VV1/px1u%2BfDlHjx6V8FUV5eRAZCScOAFnz/4Vtoput/J5yNlZa8JXp07xEHV9kKpVSwtbVlblf05CIAHMPEkAE3eBq6srHTp0wN/fn549e/Loo48WW96jRw8WLVpEQEAAjRo1KtZ341aU1Q/Ez8%2BPAQMG4Ovri9FoZP78%2BXpN1dixYxk/fjxBQUFMnTqVAQMGsHTpUurVq8eaNWtuuv3kyZP59ddfAXjjjTf0KR727NnDa6%2B9hsFgIDg4WO8fkpeXR8eOHQGts/6XX36pNxssy7p16/j888%2BxsrLCzs6O1atX67VATzzxBElJSVhZWTF//nyc/xwsZ/To0YwePRp/f3%2Bsra1ZsWIFBoPhhueycOFCRo4cSVZWFj179qRnz54AfPjhhzz99NN89NFHGAwGli9fjsFgIDIykmeeeQYLCwsKCwuZOnWq3p9tyJAhJCQkoJQiMDBQ/9388ccfBAUFce3aNSwsLPj444%2BJiIjA0dGRp556ij179ug1dW%2B99RZjxoxh4sSJ5OTkEBISAmgDcRTtT5iHqn7tr1q1Sr9G%2B/Xrx6hRowAtmHXv3h0LCwvq1q3LF198AWg13DNmzCA4OBgrKys8PT1Zvnw5oPXl3LFjB1ZWVjg7O7NixYrbe7FExVBKawr4669a2Cr6GRUF%2Bfllb2djAyaTNhBFvXp/9ZEqunl4aDVYQlQxBlVao2xRZQUZDBx97z1tzgdh1iIjI/VvaYW415T29x0UFHTfjTZX2jnLtW8%2B5HdVDpTSmgseOwbHj2s/jx3T5jn9O4MBGjbU5rV68EEtUJlMf91cXMpvIBsB3J/v2xVBasDM0Z9DUAshhBBCVGlXr2qTBv/001%2BB68%2BJsoupUUMLWgEBf/3099cmExbiHiMBzBxJE0QhhBBCVEVxcbB//1%2B38PCS67i4QMuWf91atAAvL6nNEvcNCWDmSAKYEEIIIaqCxETYuhW2b4d9%2B%2BDcueLLbWygdWvo0AFatdICV716ErbEfU0CmDmSACaEEEKIylBYqDUj3LwZNm2Cw4eLT6fg6KiFrY4dtVtQkDa8uxBCJwHMHEkAE0IIIURFuXIFdu7UQteWLdrExUWsraFTJ%2BjRA7p0gaZNtcmJhRBlkgBmjiSACSGEEKK8ZGZq/bd27NCaFv45vYfO0xN69oReveDhh6FatcoppxBmSqbuNkcSwEQlqfbnP9lLly7Rv3//Utfp3LnzTYeszcnJYeDAgfj4%2BNCmTRtiYmJKXe/YsWM0bdoUHx8fJk2aRNGsGS%2B%2B%2BCKBgYEEBgby4IMP4uTkpG8zZcoU/Pz8aNKkSbFtijz//PP6eYA2IWtAQAABAQG0b99en0cMICUlhf79%2B9O4cWOaNGmiT6z866%2B/0q5dO5o2bUrv3r259reRSS9cuEC1atX44IMP9OdWr15NQEAAfn5%2B%2BgTJRb7%2B%2Bmt8fX3x8/Nj8ODBAOzevVs/x8DAQGxtbdmwYQMAu3btokWLFvj7%2BzNixAjy/5wnJzU1ld69e9OsWTP8/PxYtmyZfoz69evTtGlTAgMDCQoK0p9fs2YNfn5%2BWFhYFPu9xcTEYGdnpx//%2BjmdevTooR9j/PjxFBQUlPr7E/eOir72y7pe7uTaL%2Bt6EdcpKNCaEv7nP1qgcnbWarQ%2B%2BEALX7a2EBKiPY6I0Pp5LVwIvXtL%2BBLiTihhVlqCUo6OlV0McRdERERUdhFum4ODw03X6dSpkzpy5MgN15k/f7565plnlFJKrVq1Sg0YMKDU9Vq1aqUOHDigCgsLVY8ePdSmTZtKrDNnzhw1atQopZRSP/74o2rfvr3Kz89X%2Bfn5qm3btmr37t36ukeOHEucqh8AACAASURBVFFDhw4tdh4//vijunr1qlJKqU2bNqnWrVvry4YPH66WLFmilFIqJydHJScnK6WUCgoKUnv27FFKKbV06VL173//u1iZ%2BvXrp/r376/ef/99pZRSiYmJysPDQ125ckXf744dO5RSSp06dUoFBgbqZYiPjy9xjklJScrZ2VllZGSogoICZTKZ1MmTJ5VSSr3%2B%2Buvq008/VUop9d5776kpU6YopZS6cuWKcnZ2Vjk5OUoppTw9PVVCQkKJfUdERKioqKgSv7dz584pPz%2B/EusrpVRqaqpSSqnCwkLVr18/tWrVqlL3%2B3ctW7YsdX/3stLOWa79G1/7N7perncr1/6NrpdbYY6/q1t24YJSn36q1IABSrm4KKX15NJuBoNSQUFKvfaaUjt3KpWVVdmlFZXkfnzfrghSA2aO0tK0TrBC/AOvvvoqCxYs0B%2B/%2BeabfPjhh6Snp9O1a1datGhB06ZN2bhxY4ltY2Ji8Pf3ByArK4tBgwYREBDAwIEDycrKuumxN27cyIgRIwDo378/O3fuLFFTdfnyZa5du0a7du0wGAwMHz5crwG63qpVq3jqqacAMBgMZGdnk5ubS05ODnl5eTzwwAMAFBQU8Morr/B///d/xbZv3749zs7OALRt25a4uDgArl27xr59%2BxgzZgwA1tbW%2BrftJ0%2BeJDg4GICQkBDWrVun72/Dhg14e3vj5%2BenP3f27FkefPBB3NzcAHjkkUf0bZYsWcKECRP0MtSqVavEOa5du5aePXtib29PUlISNjY2PPjggyWObzAYSEtLQylFeno6Li4uGI03bmnepEkTGjVqdMN1/s7R0RGA/Px8cnNzMchoZmalql/7N7perncr1/6Nrpf7Tlqa1ofrhRfA11cbiXDsWPj6a22uLi8veOYZWLtWG9nwyBGtRqxLFxlEQ4i7TPqAmRsLCy18paVpkxaKe4LhrfL5AKtmqDKXDRo0iBdeeIHnnnsO0JrBbdmyBVtbW9avX4%2BjoyOJiYm0bduW0NDQMj9kL1y4EHt7e06cOMGJEydo0aKFvmzs2LGMHz%2B%2BWJM3gIsXL%2BLh4QGA0WikRo0aJCUlUbNmzWLrmEwm/bHJZOLixYvF9nP%2B/HnOnTtHly5dAGjXrh0PP/wwderUQSnFxIkTadKkCQDz5s0jNDSUOnXqlPmaLF26lJ49ewLah0A3NzdGjRrFr7/%2BSsuWLfnkk09wcHDA39%2Bfb7/9lscff5w1a9YQGxsLQEZGBrNnz2b79u3Fmh/6%2BPgQFRVFTEwMJpOJDRs2kJubC8CpU6cA6NChAwUFBbz55pv06NGjWLnCwsJ46aWXAKhZsyZ5eXkcPXqUoKAg1q5dqx9/4sSJhIaG4u7uTlpaGqtXr8bCQvuezWAw0K1bNwwGA8888wzjxo0r83Uocu7cOZo3b46joyPvvvsuHTt21Jd1796dw4cP07NnzzKbpImbk2u/5LV/o%2BulyK1e%2B0qpMq%2BXe1pqKvz8szZa4bFj2gTIp04VH62wenUtXHXrBt27Q4MGlVdeIe4zEsDMjaWlFsBSUyWAiX%2BkefPmXLlyhUuXLpGQkICzszP16tUjLy%2BPadOmsW/fPiwsLLh48SLx8fHUrl271P3s27ePSZMmAeh9qYp8%2BumnpW7z92%2B8gRIf8m5lnbCwMPr374/lnyNunT59msjISL0WKyQkhH379uHj48OaNWvYs2dPGa%2BG1udq6dKl/PDDD4BWu3P8%2BHHmzp1LmzZtmDx5MrNmzeKdd97hs88%2BY9KkSbz99tuEhoZibW0NwIwZM3jxxReL9TEDcHZ2ZuHChQwcOBALCwvat2/P2bNn9eNER0ezZ88e4uLi6NixI%2BHh4Xpt2%2BXLl/ntt9/o3r27/hqEhYXx4osvkpOTQ7du3fRarq1btxIYGMiuXbs4c%2BYMISEhdOzYEUdHR3788Ufc3d25cuUKISEhNG7cWK/FK02dOnW4cOECrq6uHDt2jD59%2BvD777/rtV9bt24lOzubIUOGsGvXLkJCQsrcl6haqvq1f6PrpcitXvvBwcFlXi/3jLw8LWz9%2BCMcPKiFrdOnS65nZQXNm2uBq1s3aNtWe04IUeHusXeh%2B4ClpfZmKwNx3FNu9G11eerfvz9r167ljz/%2BYNCgQYA2KEVCQgLHjh3DysqK%2BvXrk52dfcP93G4TNJPJRGxsLCaTifz8fFJTU3FxcSmxTtGHKYC4uDjc3d2LrRMWFsb8%2BfP1x%2BvXr6dt27Z6AOrZsycHDx4kLS2N06dP4%2BPjA0BmZiY%2BPj6c/vNDyokTJxg7diybN2/G1dVVP77JZKJNmzb6azVr1iwAGjduzLZt2wCtBuv7778H4NChQ6xdu5YpU6aQkpKChYUFtra2TJw4kd69e9O7d28AFi9erH9wNJlMtG3bFisrK7y8vGjUqBHR0dG0atUK0Gon%2Bvbti9V1H5TatWvH/v37Adi2bZtei7Zs2TKmTp2KwWDAx8cHLy8voqKiaN26tf7a1apVi759%2B3L48OEbBjAbGxtsbGwAaNmyJQ0aNODUqVPFajRsbW0JDQ1l48aNEsDukFz7Ja99oMzrpcitXvvBwcFlXi9mKzkZfvpJC1w//qgNnvH35p82NhAQoE163KKF9tPfXxsyXghR6aQPmLkp%2BickAUzcBYMGDSIsLIy1a9fqzchSU1OpVasWVlZW7N69m/Pnz99wH8HBwXz11VcAhIeHc%2BLEiZseNzQ0lBUrVgBa/6YuXbqU%2BCBXp04dqlevzsGDB1FK8fnnn/P444/ry0%2BePElycjLt2rXTn6tXrx579%2B4lPz%2BfvLw89u7dS5MmTXj00Uf5448/iImJISYmBnt7ez18XbhwgX79%2BvHFF1/o/UQAateujYeHBydPngRg586d%2BPr6AnDlyhUACgsLeffdd/URAvfv368f44UXXmDatGlMnDix2DbJycksWLCAsWPHAtCnTx92794NQGJiIqdOncLb21svx/X9XIoU7SsnJ4fZs2frx69Xrx47d%2B4EID4%2BnpMnT%2BLt7U1GRgZpaWmA1kxy27Ztej%2BesiQkJOijG549e5bo6Gi8vb1JT0/n8uXLgFZ7t2nTJho3bnzDfYmqpypf%2B1D29QK3d%2B1fv6%2B/Xy9m4%2BpVWL8enn9eC1EuLvDoo1r/rL17tfDVqBGMGgVLlmi1YWlpWjBbuBCefloLYRK%2BhKgypAbM3EgAE3eRn58faWlp1K1bV%2B8bNWTIEHr37k1QUBCBgYE3/XD97LPPMmrUKAICAggMDKR169b6srL6gYwZM4Zhw4bh4%2BODi4sLYWFh%2BrLAwEB%2B%2BeUXQOtjMnLkSLKysujZs6fePwu0YDJo0KBiH9769%2B/Prl27aNq0KQaDgR49eujfopfl7bffJikpSe8PYzQa9aG0586dy5AhQ8jNzcXb21sf1n3VqlX6t%2B/9%2BvVj1KhRNzwGwOTJk/Uh7t944w097HXv3p1t27bh6%2BuLpaUl77//vl4LFxMTQ2xsLJ06dSq2r/fff5/vvvuOwsJCnn32Wb0fzOuvv87IkSNp2rQpSilmz55NzZo1OXv2LH379gW00DR48GC9n9n69et5/vnnSUhI4NFHHyUwMJCtW7eyb98%2B3njjDYxGI5aWlixatAgXFxfi4%2BMJDQ0lJyeHgoICunTpYn4faEWVv/bLul7g9q/9sq6XKis9XZuDa9cu7fbzz8X7btnYQFAQdOig3dq3h%2Bv60Akhqj6DKq1BtqiyglxcOJqcDF99BX/OFyTMU2RkpP4NrRD3mtL%2BvoOCgm46T9S9prRzlmvffFTI7yovDw4d0iY93rFDu3/9XGXW1tCunTZgRpcu0KqVFsKEqAD34/t2RZAaMHMjNWBCCCGE%2BVJKm8x4xw7Yvl1rRpie/tdyCwto3Rq6dtUCV/v2YG9feeUVQtx1EsDMjQQwIYQQwrzk58Pu3bBqFWzZAn/2o9Q1aQKPPKKFrs6dZZRjIe5xMgiHuZEAJoQQd2zLli00atQIHx8ffVTL6yUnJ9O3b18CAgJo3bo14eHh%2BrKPPvoIPz8//P39eeqpp246QqC4zymlNSecPBlMJm3o92XLtPBVuzYMHQrLl0NsrFYjNmcOPP64hC8h7gNSA2ZuJIDdU5RStz2MsxBVXVXtWlxQUMCECRPYvn07JpOJVq1aERoaqo9uCfCf//yHwMBA1q9fT1RUFBMmTGDnzp1cvHiROXPmEBERgZ2dHQMGDCAsLIyRI0feUVnk2q/67vjvOCICVq7Uaruun7/swQe1vttPPAF%2BfiC/fyHuW1IDVk5Gjx5NrVq1yhzqWSnFpEmT8PHxISAggOPHj9/ajiWA3TNsbW1JSkqqsh9WhbgTSimSkpKwtbWt7KKUcPjwYXx8fPD29sba2ppBgwaxcePGYutERETQtWtXQJvvLSYmhvj4eEAbQTIrK4v8/HwyMzNLzEt3q%2BTar/pu%2B%2B84JQUWLNDm2/Lzg/fe08KXuzu89BIcPQpRUTBjhjaUvIQvIe5rUgNWTkaOHMnEiRMZPnx4qcs3b95MdHQ00dHRHDp0iGeffZZDhw7dfMcSwO4ZRRMNJyQkVHZRhLirbG1tMZlMlV2MEi5evIiHh4f%2B2GQylXjfbdasGd988w0PPfQQhw8f5vz588TFxdGyZUv%2B9a9/Ua9ePezs7OjWrRvdunW7o3LItW8ebvp3XFioDaCxdCmsWwdFTVKdnKB/f622Kzj4r//bQgjxJwlg5SQ4OJiYmJgyl2/cuJHhw4djMBho27YtKSkpXL58WZ%2BPpUwSwO4ZVlZWeHl5VXYxhLhvlFbj9PdmgFOnTmXy5MkEBgbStGlTmjdvjtFoJDk5mY0bN3Lu3DmcnJx48skn%2BfLLLxk6dGiJfS5evJjFixcDlBqy5No3cxcvan23PvuseBPDRx6BMWOgTx%2BogjXA4t6RX5jPmatniEyMJO5aHBm5GWTmZZKZl0lGXvH7%2BYX5N9xXdevquNm7UdO%2BJm4ObiXui/IhAaySlPZN7MWLFyWACSFEOTGZTMTGxuqP4%2BLiSjQjdHR01CfcVkrh5eWFl5cXW7duxcvLCzc37QNJv379OHDgQKkBbNy4cYwbNw6gxETEwkwppU2KPHcu/O9/Wu0XaINrjBql3SRUi7tEKUV2fjYp2SlcybhCZGIkkQmRRCZGEpEQQfTVaHILciukLC1pWSHHud9IAKskt/JNbJHrv029WhS8JIAJIcRtadWqFdHR0Zw7d466desSFhbGypUri62TkpKCvb091tbWfPrppwQHB%2BPo6Ei9evU4ePAgmZmZ2NnZsXPnTglX94P0dPj8c5g3DyIjteesrKBvXxg7FkJCpInhPa5QFZKem05eQR55hXnkFuTq94t%2BAlhZWGFlaYW1pXWx%2B0YLI9dyrpGYmUhCRgIJmQkl7qdkp5CSnUJqTiqp2amkZKfo%2By1LvRr18HXzxcvJi2rW1bC3ssfBygF7K3vtvrV238rCqsx9KBTXcq6RkPFnmTJLlk%2BUDwlgleRWvoktUuzb1MBAuHRJApgQQtwmo9HIvHnz6N69OwUFBYwePRo/Pz8WLVoEwPjx44mMjGT48OFYWlri6%2BvL0qVLAWjTpg39%2B/enRYsWGI1Gmjdvrr8vi3vQqVMwf77W1PDaNe05d3cYPx6eflobRl7cVUop0nLT9A/%2B14eCxMzEkiHougCUV5CHtaX1X8HDWDyE2FvZY2Eoe9y53IJckjKTSgSQxMxEkrKSKFSFFfhKaGwsbXCydcLFzoVGNRvRpGYTmtRsgq%2BbL41qNqKadbUKKUfQKvmiqTxIAKskoaGhzJs3j0GDBnHo0CFq1Khx8%2BaH8Nc3bdeuaU0gLGQgSyGEuFW9evWiV69exZ4bP368fr9du3ZER0eXuu1bb73FW2%2B9Va7lE5WosFCbJHnuXO1nkYceguef12q9rMquTRDF5RbkEnctjpiUGM6nnOdS2qXiNT05Wk1PUY1PcnZyhTWru10OVg5azZallV67df1PoEQgLPqZW5BLdRutn5Wbw5/9q%2Bz/6mtV074mznbOONk64WTrRA2bGtSwrYGtUfoR3sskgJWTp556ij179pCYmIjJZOKtt94iL0%2BrTh4/fjy9evVi06ZN%2BPj4YG9vr/c5uCmDARwcICNDaxrh6FiOZyGEEELc41JTtZquefPg9GntOVtbGDIEJkyA5s0rtXhVVaEq5HLaZU5fPc3pq6c5k3xGC1up5/XApbi9qRYcrBxKDgbxZ3Cpbl291ABU1MwvryCv2AAUmXmZxQanuFFZLA2Wehj6%2B0AUrnauWFlK8BZ3lwSwcrJq1aobLjcYDMyfP//Odl6jhhbAUlMlgAkhhBB3IipKC10rVmhfaALUqwfPPaf173J1rdzyVaKCwgKuZl3VmwIW/TyXco7TV08TfTWaM1fPkJWfVeY%2BLAwWmKqb8HTyxLOGJyZHEy52LnoNT1Ftj5OtEzVsa%2BBs64ydlV0FnqUQlUcCmDmqUeOvfmDXjaQohBBCiBsoamY4Zw5s3frX8507w6RJ0Ls3GM3jo1FOfo7enK%2BoKV9GXgZGC2OxgSCsLKz05nN5BXkl%2BlclZCSQmJVYLGhdzbp6S7VXNe1r0tClIT4uPjRwboCXsxeeNTzxdPKkbvW6UnMkRBnM411GFFejhvZTBuIQQgghbi4/H8LCYPZsCA/XnrOzg6FDtf5dTZtWbvlKkZaTVmL48dNXT3M16yop2SnkFOSU6/Fd7FyKNQGsaVcTTyfPvwKXSwOcbJ3KtQxC3KskgJkjCWBCCCHEzWVlwbJl8P77EBOjPVe3rlbbNXYsuLhUavGKJGQk8MOFH/jhwg/8duU3fYLdGzFaGEs043OwciC/ML/YQBDXD5tutDAWC1RF/Z2KDQ7h4IaLnQtGC/mIKER5kavLHEkAE0IIIcqWmgoLF8LHH0N8vPbcgw/Cq69qtV7W1pVavIvXLrLv/D7tdmEfEQkRJdaxtrSmkWsjfN18iw0/7mbvRg3bGtgZ7cqcP1QIUbVJADNHEsCEEEKIkrKyYOZM%2BOSTv%2Bbvat4cXnsN%2BvWrlEmTlVKcTT6rh6195/dxNvlssXVsjba0M7WjY72OtHRvSZOaTfBy9pJaKCHuUXJlmyMJYEIIIURxBw7AqFHaJMqgDazx2msQEqJN4VJBlFJEJEQUC1yX0i4VW8fRxpGH6j1Ex3odCfYMJsg9CGvLyq2VE0JUHAlg5kgCmBBCCKHJzIR//1trbqgU%2BPrCf/%2BrTaBczq5mXS02SEZkYiRHLx0lMTOx2Hqudq4Eewbrt2YPNMPSouJr44QQVYMEMHMkAUwIIYSA/fth9GhtAmVLS62P1xtvgI3NXTtEbkEu55LP6RMOn0o6RURiBJEJkcRnxJe6jXt1dzp5dtIDV5OaTaS/lhBCJwHMHEkAE0IIcT/LyIBp02DuXK3Wy98fli%2BHli3vaHfZ%2BdmcTT6rh6zrb%2BdTz1OoCkvdzsHKgcY1G9PErQm%2BNX1p4taEgAcC8HLyksAlhCiTBDBzJAFMCCHE/Ugp2LEDxo%2BHs2e1Wq9p02D69Fuq9crKy2LXuV36nFqnk7WQFZsaW%2BbEwxYGC7ycvPBx8dFvRSMTetTwwMJgcbfPUghxj5MAZo4kgAkhhLifFAWvt9%2BGH37QngsI0Ob4atHihpvmFuSy/cx2wn4PY2PURtJy00qsY2mwpL5TfT1gFU027OPiQ32n%2BtgY716TRiGEkABmjiSACSGEuB8oBVu2aMHr4EHtOWdneOUVePnlMufzyi/MZ2/MXsLCw1gXuY7k7GR9Wcs6Leng0UELWq5a0PKs4YmVpVVFnJEQQkgAM0sSwIQQQtzLlILvv9eC15Ej2nM1a2qha8IEqF691M3Cr4Sz5NgSwn4P40rGFf15/1r%2BDPIbxED/gfi4%2BFTEGQghRJkkgJkjCWBCCCHuVXv2aEHr%2BHHtca1aWo3X%2BPFQrVqJ1bPyslgbsZZFxxZxIPaA/ryPiw9P%2BT/FQL%2BB%2BNXyq6DCCyHEzUkAM0eOjtrPa9e0bwllpCUhhBDmLi8PZsyAWbO0/221a8OUKfDMM2BvX2L1qMQo/nv0v6z4dYXexLC6dXWGBgxlTPMxtKjTQkYiFEJUSRLAzJGVlfbPKDMT0tPLbIohhBBCmIVz5%2BCpp%2BDQIbCw0ObyevVVsLMrtlpeQR7fRH7DwqML2Xt%2Br/58yzotGR80nkH%2Bg6hmXbKWTAghqhIJYOaqRg0tgKWmSgATQghhvsLCtFqua9fAwwNWroSHHiq2yh/pf7D42GIWHV3E5fTLgDYH1%2BCmg3mm5TO0dL%2Bz%2Bb%2BEEKIySAAzVzVqwOXLWgAzmSq7NEIIIcTtyciA55/XhpIH6NcPliwBFxcAlFIcuniIuYfnsub3NeQV5gHg6%2BbLhFYTGBowFEcbx8oqvRBC3DEJYOZKBuIQQghhrn7%2BWWtyePIk2NrCxx/DuHFgMJCTn0NYeBjzjszj6KWjgDYZcp/GfXi%2B9fM8XP9h6dslhDBrEsDMlQQwIYQQ5mjpUnjuOcjNBX9/rQminx/5hfl8/svnvLnnTWKvxQLgYufC0y2e5tmgZ/F08qzkggshxN1hUdkFEHdIApgQQty2LVu20KhRI3x8fJg1a1aJ5cnJyfTt25eAgABat25NeHi4viwlJYX%2B/fvTuHFjmjRpwk8//VSRRTd/hYXw2mswdqwWvp59Fg4fptC3CV///jV%2BC/wY8%2B0YYq/F4l/Ln6WhS4l7MY5Zj8yS8CWEuKdIDZi5kgAmhBC3paCggAkTJrB9%2B3ZMJhOtWrUiNDQUX19ffZ3//Oc/BAYGsn79eqKiopgwYQI7d%2B4EYPLkyfTo0YO1a9eSm5tLZmZmZZ2K%2BcnKghEjYM0asLSEhQtRY8ey5fQWpu%2Bazs9//AxAA%2BcGvPPwOwz0H4iFQb4jFkLcmySAmauiucAkgAkhxC05fPgwPj4%2BeHt7AzBo0CA2btxYLIBFRETw2muvAdC4cWNiYmKIj4/Hzs6Offv2sXz5cgCsra2xtrau8HMwSwkJ8Pjj8NNP2v%2ButWvZ/6At05YH88OFHwBwr%2B7OjE4zGBU4CitLq0ousBBClC/5eslcSQ2YEELclosXL%2BLh4aE/NplMXLx4sdg6zZo145tvvgG0wHb%2B/Hni4uI4e/Ysbm5ujBo1iubNmzN27FgyMjIqtPxmKSoK2rbVwle9esRuX0f/5P8S/Gf4crVz5YOQDzj9/GnGtRwn4UsIcV%2BQAFaObtbXIDU1ld69e9OsWTP8/PxYVjQU760oCmDXrt2l0gohxL1NKVXiub%2BPpjd16lSSk5MJDAxk7ty5NG/eHKPRSH5%2BPsePH%2BfZZ5/l559/xsHBodT3dYDFixcTFBREUFAQCQkJ5XIuZmHPHmjXDs6eJTeoOf%2B3aBhNdvRhXeQ6HKwcmNFpBmcnn%2BXl9i9jZ2V3090JIcS9QpoglpNb6Wswf/58fH19%2Bd///kdCQgKNGjViyJAht9asRWrAhBDitphMJmJjY/XHcXFxuLu7F1vH0dFR/zJMKYWXlxdeXl5kZmZiMplo06YNAP379y8zgI0bN45x48YBEBQUVB6nUvV9/rk22EZeHnuGdOC5NolEHn4PgP6%2B/fmo%2B0eYHGUOSyHE/UlqwMrJ9X0NrK2t9b4G1zMYDKSlpaGUIj09HRcXF4zGW8zEEsCEEOK2tGrViujoaM6dO0dubi5hYWGEhoYWWyclJYXc3FwAPv30U4KDg3F0dKR27dp4eHhw8uRJAHbu3FnsCzXxJ6XgP/%2BBESP4wyaPodMa83DDH4m8ehIfFx%2B2DNnCmifXSPgSQtzXpAasnJTW1%2BDQoUPF1pk4cSKhoaG4u7uTlpbG6tWrsbC4xUwsAUwIIW6L0Whk3rx5dO/enYKCAkaPHo2fnx%2BLFi0CYPz48URGRjJ8%2BHAsLS3x9fVl6dKl%2BvZz585lyJAh5Obm4u3tfXvNxu8HhYXw8svkzP2Y/7aB13vZck1FYWu0ZdpD03ilwyvYGm0ru5RCCFHpJICVk1vpa7B161YCAwPZtWsXZ86cISQkhI4dO%2BJYNMLhnxYvXszixYsB/upPIAFMCCFuW69evejVq1ex58aPH6/fb9euHdHR0aVuGxgYyNGjR8u1fGYrL4%2BEsYNZeH4tC16E%2BGqAyuaxBx9jTo85eDl7VXYJhRCiypAmiOXkVvoaLFu2jH79%2BmEwGPDx8cHLy4uoqKgS%2Bxo3bhxHjx7l6NGjuLm5aU9KABNCCFEFRFw4xrgXGuBRby0zHtbCV2DtQDYO2sj/nvqfhC8hhPgbCWDl5Fb6GtSrV0%2Bf4DM%2BPp6TJ0/q89PclAQwIYQQlUQpxfYz2%2Bm57BH8lgWxpFYsOUboXasju4bv4vi444Q2Cr35joQQ4j4kTRDLya30NXj99dcZOXIkTZs2RSnF7NmzqVmz5q0d4PoAphT8rXmjEEIIUR7Cr4QzYsMIjl8%2BDoBdHow87cDkl9bQqHXPSi6dEEJUfRLAytHN%2Bhq4u7uzbdu2O9u5tTXY2kJ2NmRmgoPDPymqEEIIcUNKKRYdXcRL214iOz%2BbOpmWPH%2BggHFpDXH9bheYZGRDIYS4FRLAzFmNGloAS02VACaEEKLcXM26yphvx7AhagMAYyJs%2BWR9Ng4t2sDO78HVtZJLKIQQ5kP6gJkz6QcmhBCinO07v49mi5qxIWoDjpb2hH1rw6dfZ%2BPwcDfYsUPClxBC3CYJYOZMApgQQohykl%2BYz4zdM3h4xcPEXYujrXUDfvk4m4HHc2DYMPjf/6BatcouphBCmB1pgmjOJIAJIYQoBxdSLzDkmyH8cOEHDBiYZujEm//ei1Uh8Npr8N57MviTEELcIQlg5kwCmBBCiLtsT8we%2Bn/dn6SsJOpUq8OXsa3o8sm3WuCaOwcmTqzsIgohhFmTAGbOJIAJIYS4ixYfW8yETRPIL8ynh1cIX3xrpOa6b8HGBr76Cp54orKLKIQQZk8CmDmTACaEEOIuyC/MjzxTdQAAIABJREFU56WtLzH38FwAXm4%2Bgdmzj2N54CdwcoJvv4WOHSu5lEIIcW%2BQAGbOJIAJIYT4h5Kzkhm4diDbz27HysKK/3b5iFHjF0F4uDa315Yt4OdX2cUUQoh7hgQwcyYBTAghxD9wKukUvVf15lTSKWo51OKbPqvoMPZtLXw1bgzbt8sEy0IIcZfJMPTmTAKYEEKIO7T9zHbafNqGU0mnaPZAMw6PPkiH6f%2BFvXvB3R22bpXwJYQQ5UACmDmTACaEEOIOfPbzZ/T8qicp2Sn0bdyXH0b/gOe7c%2BHrr8HRETZvhnr1KruYQghxT5IAZs4kgAkhhLhNP1z4gWe%2Be4YCVcD0jtNZO2At1eYvgY8%2BAisrWL8eAgIqu5hCCHHPkgBmziSACSGEuA2X0i7x5JonyS/M51/t/sW7Xd7FYs1aeOklbYXly6FLl0otoxBC3OskgJkzCWBCCCFuUW5BLk%2BueZI/0v/g4foPM/ORmVp/r2HDtBVmz4bBgyu3kEIIcR%2BQAGbOJIAJIYS4RS9vfZkDsQcwOZoI6x%2BGMfIk9OkDubkwcSK88kplF1EIIe4LEsDM2fUBTKnKLYsQQogq68sTXzLvyDysLa1Z%2B%2BRaaqXkQY8ekJICffvCxx/z/9u797iq6nz/468Nm5sXvIPgxgRRQRBRwaxJxy5esqLSajjlZJmRaf2s5uacaR7TTPPoMnOaNLUxxo5lTlpzsqhUSpumuxJeU7RQQQEVUUBR7pv1%2B2PJhi1oRMDewPv5eHwf68reH1ax5M33u78Li8XVZYqIdAp6Dlh75uNjtooKKCuDLl1cXZGIiLiZncd3kvReEgBLrl/C5X1i4KqrIDcXfvIT%2BOc/wdPTxVWKiHQe6gFr7zQMUURELqKwrJDpb0ynrLqM2bGzuX/UHJg7F7Zvh8GDISUF/PxcXaaISKeiANbeKYCJiEgjaowaZq6bSVZxFmOCxrDshmVY/v53WLXKHDHx9tvQp4%2BryxQR6XQUwNo7BTARkSZLTU1l2LBhhIeH88wzzzQ4XlRUxK233kpMTAxjx45lz549TsftdjujRo3ixhtvbKuSm%2B2P//kjGw9spI9fH9664y18t26DRx4xD778MowY4doCRUQ6KQWw9k4BTESkSex2O/Pnz2fjxo1kZGSwZs0aMjIynM556qmniI2NZffu3axatYoFCxY4HV%2B8eDGRkZFtWXazbMjcwJ8%2B/RMeFg/WzFjDZaVecNttUF1tPvMrMdHVJYqIdFoKYO2dApiISJOkpaURHh5OWFgY3t7eJCYmkpKS4nRORkYG1157LQARERFkZ2eTn58PQG5uLuvXr2fOnDltXvsPkX82n3veuQeAJ69%2BkkkhP4Xbb4fjx2HiRPN5XyIi4jIKYO2dApiISJPk5eUREhLi2LbZbOTl5TmdM3LkSNatWweYge3w4cPk5uYC8Mgjj/CXv/wFDw/3/afTMAxmvzubgtICrg29loVXLYRHH4UvvwSbDd54A6yaAFlExJXc918RaRoFMBGRJjEaeV6i5YJnXy1cuJCioiJiY2NZsmQJo0aNwmq18v777xMQEMCYMWO%2B932Sk5OJi4sjLi6OgoKCFqu/KV78%2BkU2ZG6gl28vXrnlFTxeXQUvvgje3rBuHQQEtGk9IiLSkP4M1t4pgImINInNZiMnJ8exnZubS3BwsNM5/v7%2BrFy5EjADW2hoKKGhoaxdu5Z3332XDRs2UF5ezpkzZ5g5cyarV69u8D5JSUkkJZnP3YqLi2vF78hZRkEGv9z0SwCSb0rGlplvTjkPZgiLj2%2BzWkRE5OLUA9aKvm%2B2LYD//Oc/xMbGEhUVxU9/%2BtMf/iYKYCIiTRIfH09mZiZZWVlUVlaydu1aEhISnM4pLi6msrISgBUrVjBhwgT8/f15%2Bumnyc3NJTs7m7Vr13LNNdc0Gr5cpaK6grvW3UV5dTn3xN7DbQETYfp0qKiABx6A%2B%2B5zdYkiInKeesBaSe1sW5s2bcJmsxEfH09CQgLDhw93nFNcXMy8efNITU1l4MCBnDhx4oe/kQKYiEiTWK1Wli5dypQpU7Db7cyePZuoqCiWL18OwNy5c9m3bx933303np6eDB8%2BnJdfftnFVTfN7z/%2BPTuP7ySsVxgvTFkM/zULjhyBceNg8WJXlyciIvUogLWS%2BrNtAY7ZtuoHsNdff53p06czcOBAAAKaMzZfAUxEpMmmTZvGtGnTnPbNrR2mB1xxxRVkZmZe8jUmTpzIxIkTW6O8Zvk462P%2B58v/wdPiyepbV9N93fvwzjvg729OuuHj4%2BoSRUSkHg1BbCVNmW3ru%2B%2B%2Bo6ioiIkTJzJmzBhWrVr1w99IAUxEpNMqKivi7nfuxsDg8QmPc4VXKDz8sHnwb3%2BD83/gExER96EesFbSlNm2qqur2bZtGx999BFlZWVcccUVjBs3jqFDhzqdl5ycTHJyMkDDGbUUwEREOiXDMJi7fi65Z3IZZxvH4%2BN/BzNuh8JCmDoVZs92dYkiItII9YC1kqbMtmWz2Zg6dSpdu3alb9%2B%2BTJgwgV27djV4raSkJNLT00lPT6dfv37OBxXAREQ6pdd2v8abe9%2Bkm3c3Vt%2B6GuvaNyElxRx6mJwMF/zRT0RE3IMCWCtpymxbN998M5999hnV1dWUlpaydetWIiMjf9gbKYCJiHQ62cXZPLThIQBemPoCgyu6OA89rDcEXkRE3IuGILaSpsy2FRkZydSpU4mJicHDw4M5c%2BYQHR39w96ofgAzDP3FU0SkgzMMg/vevY%2BSyhJmRM7gnpGz4NZboahIQw9FRNoBi9HYh5XEbcXFxZGenu6808cHKiuhtBT8/FxTmIjI92j0/tXBtcb3/FL6S8xdP5e%2BXfqSMS%2BDfu98CDNnmkMP9%2B4Fm61F309EOq/OeN9uCxqC2BFoGKKISKdw5PQRfrXpVwAsvX4p/c5U1w09fP55hS8RkXZAAawjUAATEenwDMPg/vfup6SyhFsjbuWO4bfD3Ll1Qw/vvdfVJYqISBMogHUECmAiIh3eyp0r%2BfDgh/T2682LN7yI5fXX4d13zaGH//iHPgMsItJOKIB1BApgIiIdWt6ZPB774DHAnPWw/1ng//0/86CGHoqItCuaBbEjUAATEemwDMPggfcf4HTFaW4aehN3jrjTHG6ooYciIu2SesA6AgUwEZEOa/Xu1azPXE9P354sv3E5lvR0ePVV8PKCJUs09FBEpJ1RD1hHoAAmItIhHSs5xoLUBQA8P%2BV5grsFwSO3mwcfeQTCw11YnYiINId6wDoCBTARkQ7HMAzmbZhHUXkR14dfz6yRs%2BCNN%2BDLLyEgAB5/3NUliohIMyiAdQQKYCIiHc4be9/gnf3v0N27Oy/d%2BBKWsjL49a/Ng3/%2Bszn7oYiItDsKYB1BbQA7c8a1dYiISIsoLi/m4Y3mA5afm/wcIT1C4LnnICcHRo6E2bNdXKGIiDSXAlhHoB4wEZEOJXlbMidLTzJ%2B4HjmjJ4DeXnwzDPmwUWLwNPTtQWKiEizKYB1BApgIiIdRpW9ihe2vgDAf4//bywWCyxcCKWlMH06TJzo2gJFRORHUQDrCBTAREQ6jH9l/Iu8kjyG9xvOlMFTYOtWWL0avL3hr391dXkiIvIjKYB1BApgIiIdgmEYPPfVcwA8Ou5RLGBONw/w2GMQFuay2kREpGUogHUECmAiIh3Cp4c/Zfux7fTr0o%2B7RtwFr78OW7ZAYCD893%2B7ujwREWkBCmAdQe1UxApgIiLt2t%2B2/A2AefHz8Kusgd/8xjzw1FPQvbsLKxMRkZaiANYR%2BPmB1QoVFWYTEZFGpaamMmzYMMLDw3mmdlbBeoqKirj11luJiYlh7Nix7NmzB4CcnByuvvpqIiMjiYqKYvHixS1e23envuO9b9/Dx9OHefHzzM975eXBqFFwzz0t/n4iIuIaCmDtzKnSUw13Wiwahigi8j3sdjvz589n48aNZGRksGbNGjIyMpzOeeqpp4iNjWX37t2sWrWKBQsWAGC1WnnuuefYt28fW7ZsYdmyZQ2%2B9sdavGUxBgY/j/k5AWcN%2BMtfzh9YDB7651pEpKPQHb2dOXz6MGVVZQ0PKICJiFxSWloa4eHhhIWF4e3tTWJiIikpKU7nZGRkcO211wIQERFBdnY2%2Bfn5BAUFMXr0aAC6d%2B9OZGQkeXl5LVZbYVkhK3euBOCRcY/AK69AWRnccAOMH99i7yMiIq6nANbOGIbBx9kfNzygACYickl5eXmEhIQ4tm02W4MQNXLkSNatWweYge3w4cPk5uY6nZOdnc2OHTu4/PLLW6y2l9Jfoqy6jKnhU4nqNxxWrDAPzJ3bYu8hIiLuQQGsHXr/u/cb7lQAExG5JMMwGuyzWCxO2wsXLqSoqIjY2FiWLFnCqFGjsFqtjuNnz55lxowZLFq0CP/aCZAukJycTFxcHHFxcRQUFHxvXZX2SpakLQHgsXGPwX/%2BAwcOwIABMHXqD/gORUSkPbB%2B/ynibtZnrscwDOdfHBTAREQuyWazkZOT49jOzc0lODjY6Rx/f39WrjSHAhqGQWhoKKGhoQBUVVUxY8YM7rrrLqZPn37R90lKSiIpKQmAuLi4761r7Z61HDt7jOiAaK4Luw5%2Bf5d5YPZsc4IlERHpUNQD1s5YPa0cOX2EPSf2OB9QABMRuaT4%2BHgyMzPJysqisrKStWvXkpCQ4HROcXExlZWVAKxYsYIJEybg7%2B%2BPYRjcd999REZG8thjj7VYTYZh8LevzKnnHxv3GJbCQnjrLXNypfvua7H3ERER96EA1s708DGDVoNhiApgIiKXZLVaWbp0KVOmTCEyMpI77riDqKgoli9fzvLlywHYt28fUVFRREREsHHjRsd081988QWvvfYa//73v4mNjSU2NpYNGzb86Jo%2Bzv6YXfm7COwayJ0j7oTVq6GyEiZPhssu%2B9GvLyIi7kdjG1pRamoqCxYswG63M2fOHBYuXNjoeV9//TXjxo3jjTfe4Lbbbrvka/b07ckpTvF%2B5vv8dvxv6w4ogImIfK9p06Yxbdo0p31z6010ccUVV5CZmdng66666qpGP0P2Y9X2fj009iF8PL3hH/8wD9x/f4u/l4iIuAf1gLWSpjxvpva83/zmN0yZMqVJr%2Bvv44%2BXhxdbcrdwsvRk3QEFMBGRdmX/yf2sz1yPr9WXuXFzYcsW2LsXAgLgpptcXZ6IiLQSBbBW0pTnzQAsWbKEGTNmEBAQ0KTX9bB4MHHQRGqMGlIPpNYdUAATEWlXFm1ZBMCskbPo26VvXe/XrFng7e3CykREpDUpgLWSpjxvJi8vj7fffttp%2BEtT3Dj0RuCCz4EpgImItBvVNdWs3r0aOP/g5TNn4I03zINz5riwMhERaW0KYK2kKc%2BbeeSRR3j22Wfx9PS85Gtd%2BEyZG4bcAEDqgVSq7FXmSQpgIiLtxoHCA5yrOkeIfwgRfSPg9dehtBR%2B%2BlMYOtTV5YmISCvSJBytpCnPm0lPTycxMRGAkydPsmHDBqxWK7fccovTeRc%2BU2Zw78FE9I1g/8n9fJHzBRMHTYSePc2TjxwBwzCnMBYREbe0O383ACP7jzR3aPINEZFOQz1graQpz5vJysoiOzub7OxsbrvtNl588cUG4etibhxiDkNc/916c0dMjPnB7e%2B%2BgxaYGllERFrPruO7AIgJiIHt283WqxfMmOHiykREpLUpgLWSpjxv5sdwfA4s8/znwPz84De/MdefeMLsBRMREbe0%2B0S9HrDa3q%2Bf/xx8fV1YlYiItAWL0RoPNpFWExcXR3p6OlX2Kvr9tR%2BnK06T%2BXAm4b3Dzc8PhIVBfj689x7ceKOryxURcai9f3UmF/ueBz4/kJwzOey7dxsR0ROhpAS%2B%2BQaio9u%2BSBGRi%2BiM9%2B22oB6wdsrL04up4VOBesMQu3RRL5iIiJsrKisi50wOvlZfhmzeYYavceMUvkREOgkFsHaswTBEgAcegMBA2LYN1q93UWUiInIx35z4BoDogGg8V7xs7tTkGyIinYYCWDs2NXwqHhYPPsn%2BhJKKEnNnly6wcKG5rl4wERG345iAwzsEvvoKuneHn/3MxVWJiEhbUQBrx/p26cs42ziqaqrYdGhT3YEHHoD%2B/c1esPffv/gLiIhIm3NMQZ9RaO64807o2tWFFYmISFtSAGvnaqejf/%2B7ekFLMyKKiLitXfnne8A%2B2Gnu0PBDEZFORQGsnav9HNj6zPXUGDV1B2p7wbZvN2dEFBERl7PX2NlzYg8AMd%2BdBn9/GD3axVWJiEhbUgBr56IDohnYYyAnzp1g29FtdQf8/PRZMBERN3Og8ABl1WXYfAPoXQYMHgwWi6vLEhGRNqQA1s5ZLBZuGHIDcMEwRICkJAgKgh071AsmIuIGHJ//8gg2d4SHu7AaERFxBQWwDqDR6ehBvWAiIm6mNoDFlHYzdwwe7MJqRETEFRTAOoCrB12Nn9WP7ce2k3cmz/ng/ffX9YK9%2B65rChQREaDeBBz553eoB0xEpNNRAOsA/Lz8uC7sOgA2ZG644KAf/Pa35rp6wUREXMoxBDHz/LMb1QMmItLpKIB1ELXDEFftXkWVvcr5YG0v2M6d8OabLqhORESKy4s5fPowPp4%2BDPnmqLlTPWAiIp2OAlgHcUvELfT07cnnRz7nv976L%2BcQ5usLv/uduX733bBmjWuKFBHpxL7J/waA6L7DseYXgI8PBAe7uCoREWlrCmAdREDXAD6Y%2BQE9fHrw1r63GoawBx%2BEBQugshLuvBOefVbDEUVE2pBjAg6fgeaOsDDw0D/DIiKdje78HcjYAWPZ9PNNjYcwDw9YtAj%2B9jdze%2BFCmD8fqqtdV7CISCdSOwHHyMre5g4NPxQR6ZQUwDqY%2BAHxTiEs8a1E556wRx81Pwfm4wN//ztMnw7nzrmuYBGRNpSamsqwYcMIDw/nmWeeaXC8qKiIW2%2B9lZiYGMaOHcuePXua/LXfx9EDdspq7tAEHCIinZICWAdUP4St27euYQi7/XbYvBl69zYf0Hz11ZCff/EXFBHpAOx2O/Pnz2fjxo1kZGSwZs0aMjIynM556qmniI2NZffu3axatYoFCxY0%2BWsv%2Bd41dr45YX4GLOZIublTPWAiIp2SAlgHFT8gns13b3aEsJ/938%2BcQ9hVV8GXX8KgQfD113DFFfDddy6rV0SktaWlpREeHk5YWBje3t4kJiaSkpLidE5GRgbXXnstABEREWRnZ5Ofn9%2Bkr72UQ0WHKK0qZUD3AfT5LtfcqR4wEZFOSQGsA4sLjmPz3Zvp6duTt/e/3TCEDRsGX30FY8ZAVpYZwtat0%2BQcItIh5eXlERIS4ti22Wzk5Tk/vH7kyJGsW7cOMAPb4cOHyc3NbdLXXopj%2BGFgDBw8aO5UD5iISKekANbBxQXHsennmxwh7PIVl/NVzld1J/TvD//5D9xwAxQWwowZkJAA2dmuKllEpFUYjfxxyWKxOG0vXLiQoqIiYmNjWbJkCaNGjcJqtTbpa2slJycTFxdHXFwcBQUFQL0JOPpGQU4OeHrCZZf92G9JRETaIQWwTiAuOI7NP99MiH8IO47v4Mr/vZJ73rmH/LPnP/fVrRukpMCyZeDvD%2B%2B/D8OHm1PVV1Vd%2BsVFRNoJm81GTk6OYzs3N5fgC57D5e/vz8qVK9m5cyerVq2ioKCA0NDQJn1traSkJNLT00lPT6dfv35AvR4w%2BpujDAYOBC%2Bvlv4WRUSkHVAA6yTGBI9h3/x9/G787/D29ObVXa8ydOlQFm1ZZA5L9PSEefNg/35ITISyMnOq%2BtGj4YsvXF2%2BiMiPFh8fT2ZmJllZWVRWVrJ27VoSEhKczikuLqayshKAFStWMGHCBPz9/Zv0tZfi6AEr6WLu0PBDEZFOSwGsE%2Bnq3ZU/X/Nn9s7byw1DbuBMxRke/eBRRr00io%2BzPjZPCgqCNWsgNdV8SOiePeaEHfffbw5RFBFpp6xWK0uXLmXKlClERkZyxx13EBUVxfLly1m%2BfDkA%2B/btIyoqioiICDZu3MjixYsv%2BbVNcbr8NNnF2Xh7ejM0t8zcqQk4REQ6LYvR2MB2cVtxcXGkp6e3yGu9/937LEhdwKGiQwDcEXUHf5z4RyL6RpgnlJXBU0/VDUXs08fsFZs3D7p0aZEaRKTzaMn7V3sRFxfH4nWLuWrlVYzqP4rte6%2BCJUvgf/4HfvELV5cnInJJnfG%2B3RbUA9aJ3Tj0RvbO28uTVz%2BJn9WPN/e%2BSeSySG5eezOfH/kcw9cXnnwSdu2CiRPh1Cn41a/MnrFFi8yAJiIil%2BQYfth/JBw4YO5UD5iISKelANaKUlNTGTZsGOHh4TzzzDMNjv/zn/8kJiaGmJgYrrzySnbt2tXmNfpafXl8wuPsm7%2BPpNFJ%2BHj68O637zJ%2B5Xiu/N8rWbdvHfZhQ%2BHf/4aNGyE%2B3nxo86OPmr9ALF0KFRVtXreISHvhmIAjQFPQi4iIAlirsdvtzJ8/n40bN5KRkcGaNWvIyMhwOic0NJRPPvmE3bt38/vf/56kpCQXVQuX9byMl256icOPHObx8Y/Ty7cXW3K3MOPNGUQui2T5tpcou/ansHUrvPcejBoFx47Bww%2Bbv0i89BKc/%2BC6iIjUcfSA9Ys2n7kI5kgCERHplBTAWklaWhrh4eGEhYXh7e1NYmIiKSkpTudceeWV9OrVC4Bx48aRm5vrilKdBHYL5MlrniTn0RxemPoCg3oOIrMwkwfXP0jI8yE8%2BsFj7I4fCNu2wdtvQ0wM5ObC3Llmj9gzz5hDFUVEBIBv8r8BIKa6j/l52qAgfY5WRKQTUwBrJXl5eYSEhDi2bTYbeXl5Fz3/5Zdf5vrrr2%2BL0pqkq3dXHr78YTIfzmTtjLWMCRrDqbJTLNq6iJHLRzLmH3EsC86j8MuP4F//gqgoM4j99rcQEgIPPAB797r62xARcamK6grOVZ0juHswffOKzJ0afigi0qkpgLWSxiaXtFgsjZ778ccf8/LLL/Pss882ejw5OZm4uDji4uIoKCho0Tq/j9XDys%2Bif8bX93/N1/d/zby4efT07cn2Y9t5aONDBD0/gJ/xL1LX/QX7hvdh6lRzco7kZIiOhsmTYf16qKlp07pFRNxBWbU5WVFMYIwm4BAREUABrNXYbDZycnIc27m5uQQHBzc4b/fu3cyZM4eUlBT69OnT6GslJSWRnp5Oeno6/fr1a7WaL8VisRAXHMeyG5Zx7BfHWDNjDZMHT6bKXsWbe9/k%2BjU3YMuYw7yHQtn88ctUPZhkDrHZtAluvBEiIuD55%2BHECZfULyLiCqVVpYAm4BARkToKYK0kPj6ezMxMsrKyqKysZO3atSQkJDidc%2BTIEaZPn85rr73G0KFDXVTpD%2Bdr9SUxOpEPZn5A9iPZPHn1kwzuNZjjZ4/z9/S/M%2BmT%2B%2Bg/6P%2B4d%2BXNvPf0vZSHhkBmJjz2GAwYALfcAikp5mchREQ6sNoeME1BLyIitayuLqCjslqtLF26lClTpmC325k9ezZRUVEsX74cgLlz5/KnP/2JU6dOMW/ePMfXtLeH3Q3sMZDHJzzO78b/jh3Hd7Bu3zre2vcW%2B0/u55V9a3gF6HZ/N6b5XUnCjlKue2c3gSkpZgDr1w9mzoR774URI1z9rYiItDhHD1hgDBw8P8xcPWAiIp2axWjsw0rittrLE8n3Fexj3b51rNu/ju3Htjsdi/UIZnJGBZO3nuInOeBbDYweDXfeCbfdBpdd5pqiRaRVtZf7V0uyBFvwnufN2YUlePXsDefOQWEhnJ8BV0TEnXXG%2B3ZbUABrZ9rjD0J2cTZv73ubDw5%2BwCeHP6G8utxxzM%2Bw8tPDMHl/NROzISYfPOPHwu23m2Fs0CCX1S0iLas93r9%2BLEuwhdg/xLLj5o3m9PO9epkBTESkHeiM9%2B22oCGI0uoG9RzEo1c8yqNXPEp5dTmfH/mcDw9%2ByIcHP2RX/i5SB0HqIPPc7hVwRU4aV72XxlXLfsXY/qPpOj3RDGOhoa78NkREmsUcfqgJOERExKQAJm3K1%2BrLdWHXcV3Ydfxl0l84fvY4mw9tZtOhTXx%2B5HMOFR3iw3D48PzvKFb7dkZ/t52fPPhr4j1sxI28nsHX34XHlT8Bq/73FRH3NzJwJHynCThERMSk32DFpfp368/MmJnMjJkJwNGSo3xx5As%2BP/I5nx/%2BlJ35u0mz1ZBmA8gF/kGPjf9g9CorcV3DGRN5HXGTZxEWOuaiz1kTEXGlmMAY2PipuaEeMBGRTk8BTNxKcPdgbo%2B6ndujbgegpKKELblb%2BCL7U7bt3Uz6qd0c9y3l45BqPmY/5O%2BH15bSo8qTaGswIwaMIjrqGnMZEE1vv94u/o5EpDPr06UPsf1j4cD/mjvUAyYi0ukpgIlb6%2B7TnUmDJzFp8CS49knA7CXblv4e6VvXkX5sG%2BnepzjRzc4X5PDF0Rw4%2Bq7j64N9%2BhE9IJbh/aIY1ncYw/oMY1jfYQR1C1KPmYi0ukE9B9G3S199BkxERBwUwKTdCe4eTPDVD3DT1Q8AYJw5w/HNb7Pny3fYc2gr39QcY08A7O0HRyng6KFNfHhok9NrdPPuxtA%2BQxnWZxhD%2BwxlSO8hhPYKJaxXGIFdAxXORKRl1QYw9YCJiHR6CmDS7ln8/QmaPoug6bOYBJCfDx9/TM1Hm8lK%2B4BvKnPZ1xe%2B6wPf9jVbIWfZfmx7g2eUAfhZ/RxhLKxnGKG9Qrmsx2WE9AhhYI%2BB9OvSTwFNRJquuBhOnYIuXaB/f1dXIyIiLqYAJh1PYCAkJuKRmMhgYHBWFrd8%2Bil8/rnZ9u/nlJ8ZxGpD2aFBPTgU4MUhnzIKq8%2BRUZBBRkFGoy/v4%2BlDSI8QQvzNQBbiH8IA/wEEdQsye%2Be6BxPYLRCrh368RATn3i/98UZEpNPTb4jS8YWGmm3WLHO7oIA%2BX37JlZ9/zpWffw6fbIPNpx2nn/aBrCBfDo0OJWtoAIeCfMjpUs2R6lMcOX2EovIiDhQe4EAZr/w4AAASMElEQVThgYu%2BpQULgd0CCeoWRFD3IAK7BpqtWyABXQMc64FdA%2Bnt1xtPD8/Wvgoi4ioHNAW9iIjUUQCTzqdfP7j5ZrMBlJXBjh2QlgZpafRISyP24EFis/cB%2B%2Bq%2Brnt3iI3l7KgocqJDyBnUiyM9Pcg5e5RjZ49xtOSoo504d4LjZ49z/OxxdhzfcclyPCwe9PLtRd8ufRttvf1608u3l7n06%2BXY7uLVRUMhRdoDTcAhIiL1KICJ%2BPnBlVeardbJk/D1145Qxo4dcOwYfPYZ3T77jEggEsDbG6KjISYGoq%2BGESMgOpqqgL7kl57gWMkxRyDLP5fvWOafrVsvLCvkVNkpTpWd4ttT3za5bG9Pb3r59qKnb096%2Bvakh28Pc%2BnjvPT38ae7T3f8ffwdrbu3ua0QJ9IG1AMmIiL1KICJNKZvX7j%2BerPVys83g1j9duAAbN9utnq8evfGFh2NLTraDGiRkRCZAAEBDT4DUl1TTWFZISdLTzbaCssKKSwrpKi8iKKyIsd2hb3CDHPn8pv9bXpYPOjm3Y1u3t3o7t2d7j7dHeu1y67eXenm3Y2uXueX9ba7end1Wnbx6kJX7674ePoo2IlbSk1NZcGCBdjtdubMmcPChQudjp8%2BfZqZM2dy5MgRqqur%2BeUvf8m9994LwPPPP8%2BKFSuwWCyMGDGClStX4uvr%2B/1vqh4wERGpRwFMpKkCA2HqVLPVOnMGdu%2BGPXvgm2/qloWF8OmnZquvZ08zjEVEOJbWiAgCBg0ioGvADyqnrKqMovIiisuLOV1%2B2lxWnG6wfabiDCWVJZypONOglVeXO9ZbkofFwxHI6jc/Lz/nbauf2bwaX/pafRs0H6tP3bqnD96e3vhYfRT65HvZ7Xbmz5/Ppk2bsNlsxMfHk5CQwPDhwx3nLFu2jOHDh/Pee%2B9RUFDAsGHDuOuuuygoKOCFF14gIyMDPz8/7rjjDtauXcs999zz/W%2BsKehFRKQeBTCRH8PfH666ymy1DMMcrlgbyPbsgf37Yd8%2Bczrqr74yW32enuZEIUOG1LXwcHN52WVgbfij6udlBpXg7sHNLr/KXsXZyrOcrTxLSWWJuawocVo/V3WOc5XnOFt5lnNVFywrz1FaVeo4p3a90l5JSaX5Om3Jy8PLEcZ8rGY48/b0xsvDy7Hu2OfphZeHF1YPq/O6hxdenua6p8UTq4fVXPfwdNrnYfHA08MTD4uHuW7xdNpnwYLFYsGCxdy%2BYL0%2BCw2Do4GBYRiOZWP7apc1Rs1F99UYNY79F1tvbFn//RpbBxrdrv/aF9bgamlpaYSHhxMWFgZAYmIiKSkpTgHMYrFQUlKCYRicPXuW3r17Yz3/81ddXU1ZWRleXl6UlpYSHNyEn72aGsjLM3%2BGQ0Ja5fsSEZH2RQFMpKVZLBAcbLYpU%2Br2G4Y5jLE2jNUuv/0WcnLM4YwHDsDGjc6v5%2BlphrCwsIYtNBR69Wr21NZenl708utFL79eP%2BIbbqi6pppzlecoqy6jtKrU0cqqLtiuLqOsqqzxZXUZFdUVlFWXUV5d3mirqK6gwl5BRXUFVTVVZqus4ixnW/T7kZYxhjEuff%2B8vDxC6oUgm83G1q1bnc556KGHSEhIIDg4mJKSEt544w08PDwYMGAAv/zlLxk4cCB%2Bfn5MnjyZyZMnf/%2BbVlSYy9DQRv%2BQIiIinY/%2BNRBpKxaL%2BRDW/v1h4kTnY%2BXl5jClzMyGLS8PDh0yW2O6dzcD2qBB5vLC9X79wMOjlb85Z1YPKz18e9CDHm32njVGDVX2Kkcgq7RXXrJV1VRRXVNNlf18cLOf3z6/bjfsVNdUY68xl9U11Y591TXV1Bg1jmavsZtLw%2B7YdupRuqBXqL7a3iPHtmE4esjq96I1uu%2BC3rULe9nq98RdbP3CpYfFw/E%2BgONYY%2BsXngc4XruxGla/t7rF/7v/EI31wl3YG/nBBx8QGxvLv//9bw4ePMikSZMYP348drudlJQUsrKy6NmzJ7fffjurV69m5syZDV4zOTmZ5ORkAM4UFJg7NfxQRETOUwATcQe%2BvhAVZbYLlZdDdjZkZdUFsfqtpKRuqGNjvL3BZjOHP9Uua5vNBgMGmJOOtHFIa2keFg9z%2BKHVB3xcXY00ZjWuDWA2m42cnBzHdm5uboNhhCtXrmThwoVYLBbCw8MJDQ1l//79HD58mNDQUPr16wfA9OnT%2BfLLLxsNYElJSSQlJQEQV9vjpgk4RETkPAUwEXfn62tO2hER0fCYYZgTfhw%2BXNeys523Cwsv3YMG4OUFQUFmGBswwBw%2BWbsMCjJ77YKCftRwRxFXi4%2BPJzMzk6ysLAYMGMDatWt5/fXXnc4ZOHAgH330EePHjyc/P59vv/2WsLAwDMNgy5YtlJaW4ufnx0cffURcXNz3v2ntEET1gImIyHkKYCLtmcUCffqYbfToxs85dw5yc82Wk%2BPccnPh6FEzpB05YrZL8fauC2O1wykDA80WEFC3HhhoTlCisCZuxGq1snTpUqZMmYLdbmf27NlERUWxfPlyAObOncvvf/977rnnHkaMGIFhGDz77LP07duXvn37cttttzF69GisViujRo1y9HJdUm0AUw%2BYiIicZzHcYWoqabK4uDjS09NdXYZ0NGVl5syNeXlmO3q0bnn8uHns2DFz2v2m8vExP392qda3r9n69IHevc0JR6TD6oz3rzhfX9IrKiAjw3z0hIhIO9IZ79ttQT1gIgJ%2BfnUzK15KaalzIMvPr2snTjhv1%2B95awqLxXxOWm0gq229ezu3Xr3q1nv2NJtmlxN3VVFh/r8dGurqSkRExE3otxYRabouXZoW1MAMYAUFjbcTJ8zlqVNmO3kSiorqWmbmD6urWzczmPXsWbesbT16mK12vf4%2Bf3%2Bz%2BflpuKS0HpvN/CyniIgICmAi0lq6djXboEFNO7%2B62gxftYHs1Clzu7Dw4q242Gxnz5qt3gx3P4inZ10Yq23du1%2B6devWeOva1fxlW4FOamkCDhERqUcBTETcg9Va99mwH6KmxpyKv7jYuRft9GmzFRc3XC8uNr/m9Gnzc23l5XVf1xI8POoC6MValy4NW%2B1%2BP7%2B6duF2bfP11dDL9kITcIiISD3617sVpaamsmDBAux2O3PmzGHhwoVOxw3DYMGCBWzYsIEuXbrwyiuvMPpiM9mJSOM8POqGFF52WfNeo7LSDGRnztS1kpJLt3Pn6nre6reSkrrXKylp2e/1QlarGcR8fetCWf3m49Nw3cfHuXl7N77vwla738vLbLXrF%2B6zWs0eRfUA1lEPmIiI1KMA1krsdjvz589n06ZN2Gw24uPjSUhIYPjw4Y5zNm7cSGZmJpmZmWzdupUHH3yQrVu3urBqkU7K27tu0o%2BWUFVlBrSLtdLSi7dz58xZKUtLzWX9VruvvNxcVlfXBT93UxvKrNa69QEDXF2VayiAiYhIPQpgrSQtLY3w8HDCzk9WkJiYSEpKilMAS0lJ4e6778ZisTBu3DiKi4s5duwYQUFBripbRFqCl1fdJCCtxTDMoFdeXhfIapcVFWYrL2%2B4rF2vrKw7r36rrLx4q6gw37OqytyuXdZfr642h4XWnldfZw1gGoIoIiL1KIC1kry8PEJCQhzbNputQe9WY%2Bfk5eUpgInI97NY6oYH%2Bvu7uhpntQGsurouiFVVQUKCqytre1FRUO8PbyIiIgpgraSx51tbLvhMRFPOAUhOTiY5ORmAgoKCFqpQRKSVeHjUfZ6ss6v93J2IiMh5Hq4uoKOy2Wzk1JsSOzc3l%2BDg4B98DkBSUhLp6emkp6fT74fOECciIiIiIm5DAayVxMfHk5mZSVZWFpWVlaxdu5aEC4bfJCQksGrVKgzDYMuWLfTo0UPDD0VEREREOjANQWwlVquVpUuXMmXKFOx2O7NnzyYqKorly5cDMHfuXKZNm8aGDRsIDw%2BnS5curFy50sVVi4iIiIhIa1IAa0XTpk1j2rRpTvvmzp3rWLdYLCxbtqytyxIRERERERfREEQREREREZE2ogAmIiIiIiLSRhTARERERERE2ojFaOxhVOK2unXrRkREhKvLaFRBQYHbTpOv2ppHtTWPamtcdnY2J0%2BedMl7u4ru2c2j2ppHtTWParu4znjfbguahKOdiYiIID093dVlNCouLk61NYNqax7V1jzuXFtHpHt286i25lFtzaPapK1pCKKIiIiIiEgbUQATERERERFpI55PPPHEE64uQn6YMWPGuLqEi1JtzaPamke1NY8719YRufP1Vm3No9qaR7U1jzvXJs2jSThERERERETaiIYgioiIiIiItBEFsHYiNTWVYcOGER4ezjPPPOPqchoYNGgQI0aMIDY2lri4OJfWMnv2bAICAoiOjnbsKywsZNKkSQwZMoRJkyZRVFTkNrU98cQTDBgwgNjYWGJjY9mwYUOb15WTk8PVV19NZGQkUVFRLF68GHCP63ax2tzhupWXlzN27FhGjhxJVFQUf/jDHwD3uG6Xqs8drl1n4M73bd2zm1%2Bbu/z86L7dPO5839Y9uxMxxO1VV1cbYWFhxsGDB42KigojJibG2Lt3r6vLcnLZZZcZBQUFri7DMAzD%2BOSTT4xt27YZUVFRjn2/%2BtWvjKefftowDMN4%2BumnjV//%2BtduU9sf/vAH469//atL6ql19OhRY9u2bYZhGMaZM2eMIUOGGHv37nWL63ax2tzhutXU1BglJSWGYRhGZWWlMXbsWOOrr75yi%2Bt2qfrc4dp1dO5%2B39Y9u/m1ucvPj%2B7bzePO923dszsP9YC1A2lpaYSHhxMWFoa3tzeJiYmkpKS4uiy3NWHCBHr37u20LyUlhVmzZgEwa9Ys3nnnHVeU1mht7iAoKIjRo0cD0L17dyIjI8nLy3OL63ax2tyBxWKhW7duAFRVVVFVVYXFYnGL63ap%2BqT16b7ddLpnN4/u283jzvdt3bM7DwWwdiAvL4%2BQkBDHts1mc5sbWS2LxcLkyZMZM2YMycnJri6ngfz8fIKCggDzH4YTJ064uCJnS5cuJSYmhtmzZ7tsqE2t7OxsduzYweWXX%2B52161%2BbeAe181utxMbG0tAQACTJk1yu%2BvWWH3gHteuI3P3%2B7bu2T%2BOu/386L79w7jzfVv37M5BAawdMBqZqNLd/iLyxRdfsH37djZu3MiyZcv49NNPXV1Su/Hggw9y8OBBdu7cSVBQEL/4xS9cVsvZs2eZMWMGixYtwt/f32V1NObC2tzlunl6erJz505yc3NJS0tjz549LqnjYhqrz12uXUfm7vdt3bObz91%2BfnTf/uHc%2Bb6te3bnoADWDthsNnJychzbubm5BAcHu7CihmrrCQgI4NZbbyUtLc3FFTkLDAzk2LFjABw7doyAgAAXV1QnMDAQT09PPDw8uP/%2B%2B1127aqqqpgxYwZ33XUX06dPd9TmDtftYrW5w3Wr1bNnTyZOnEhqaqrbXLf6LqzPna5dR%2BTu923ds5vPnX5%2BdN/%2Bcdz5vq17dsemANYOxMfHk5mZSVZWFpWVlaxdu5aEhARXl%2BVw7tw5SkpKHOsffvih04xR7iAhIYFXX30VgFdffZWbb77ZxRXVqb3hA7z99tsuuXaGYXDfffcRGRnJY4895tjvDtftYrW5w3UrKCiguLgYgLKyMjZv3kxERIRbXLdL1ecO166jc%2Bf7tu7ZP467/Pzovt087nzf1j27E3HlDCDSdOvXrzeGDBlihIWFGX/%2B859dXY6TgwcPGjExMUZMTIwxfPhwl9eXmJho9O/f37BarcaAAQOMFStWGCdPnjSuueYaIzw83LjmmmuMU6dOuU1tM2fONKKjo40RI0YYN910k3H06NE2r%2Buzzz4zAGPEiBHGyJEjjZEjRxrr1693i%2Bt2sdrc4brt2rXLiI2NNUaMGGFERUUZf/zjHw3DMNziul2qPne4dp2Bu963dc/%2BcbW5y8%2BP7tvN4873bd2zOw%2BLYTQyUF1ERERERERanIYgioiIiIiItBEFMBERERERkTaiACYiIiIiItJGFMBERERERETaiAKYiIiIiIhIG1EAExERERERaSMKYCIiIiIiIm1EAUxERERERKSNKICJiIiIiIi0EQUwERERERGRNqIAJiIiIiIi0kYUwERERERERNqIApiIiIiIiEgbUQATERERERFpIwpgIiIiIiIibUQBTEREREREpI0ogImIiIiIiLQRBTAREREREZE2ogAmIiIiIiLSRhTARERERERE2sj/BxIhig8HfIs7AAAAAElFTkSuQmCC\">"
      ]
     },
     "metadata": {},
     "output_type": "display_data"
    }
   ],
   "source": [
    "# write the code here to get a new `step` operation and then run the cell with training loop above.\n",
    "# name your variables in the same way (e.g. logits, probas, classes, etc) for safety.\n",
    "### YOUR CODE HERE ###\n",
    "# define a two layer MLP\n",
    "hidden1 = tf.layers.dense(input_X, 256, activation=tf.nn.sigmoid) # layer 1 after input layer\n",
    "hidden2 = tf.layers.dense(hidden1, 256, activation=tf.nn.sigmoid) # layer 2 adjacent to layer 1\n",
    "logits = tf.layers.dense(hidden2, 10) # as we have 10 classes as output\n",
    "\n",
    "# define the prediction probabilities and calsses layer\n",
    "probas = tf.nn.softmax(logits) # as we have multiple classes here\n",
    "classes = tf.argmax(probas, 1) # 1 is axis i.e column vector containing 10 values of probabilities\n",
    "\n",
    "# define the loss function\n",
    "loss = tf.reduce_mean(tf.nn.softmax_cross_entropy_with_logits(logits=logits, labels=input_y))\n",
    "\n",
    "# define our gradient descent step\n",
    "step = tf.train.AdamOptimizer().minimize(loss)\n",
    "\n",
    "# Now let's moveforward to train our network\n",
    "\n",
    "#sess = reset_tf_session()\n",
    "s.run(tf.global_variables_initializer())\n",
    "# define the batchsize and no of epochs\n",
    "BATCH_SIZE_MLP = 512\n",
    "EPOCHS_MLP = 40\n",
    "\n",
    "# for logging the progress right here\n",
    "simpleTrainingCurvesMLP = matplotlib_utils.SimpleTrainingCurves('cross-entropy', 'accuracy')\n",
    "\n",
    "# iterate for no of epochs\n",
    "for epoch in range(EPOCHS_MLP):\n",
    "    \n",
    "    batch_losses_MLP = []\n",
    "    for start in range(0, X_train_flat.shape[0], BATCH_SIZE_MLP):\n",
    "        _, batch_loss = s.run([step, loss],\n",
    "                                {input_X:X_train_flat[start : start + BATCH_SIZE_MLP],\n",
    "                                input_y : y_train_oh[start : start + BATCH_SIZE_MLP]})\n",
    "        batch_losses_MLP.append(batch_loss)\n",
    "        \n",
    "    train_loss = np.mean(batch_losses_MLP)\n",
    "    val_loss = s.run(loss, {input_X: X_val_flat, input_y: y_val_oh})\n",
    "    training_accuracy = accuracy_score(y_train, s.run(classes, {input_X: X_train_flat}))\n",
    "    val_accuracy = accuracy_score(y_val, s.run(classes, {input_X: X_val_flat}))\n",
    "    simpleTrainingCurvesMLP.add(train_loss, val_loss, training_accuracy, val_accuracy)"
   ]
  },
  {
   "cell_type": "markdown",
   "metadata": {
    "collapsed": true
   },
   "source": [
    "## MNIST Digit classidfication usign keras"
   ]
  },
  {
   "cell_type": "code",
   "execution_count": 14,
   "metadata": {},
   "outputs": [
    {
     "name": "stdout",
     "output_type": "stream",
     "text": [
      "WARNING:tensorflow:From C:\\ProgramData\\Anaconda3\\lib\\site-packages\\tensorflow_core\\python\\ops\\resource_variable_ops.py:1635: calling BaseResourceVariable.__init__ (from tensorflow.python.ops.resource_variable_ops) with constraint is deprecated and will be removed in a future version.\n",
      "Instructions for updating:\n",
      "If using Keras pass *_constraint arguments to layers.\n"
     ]
    }
   ],
   "source": [
    "# building a model with keras\n",
    "from keras.layers import Dense, Activation\n",
    "from keras.models import Sequential\n",
    "\n",
    "# we still need to clear a graph though\n",
    "s = reset_tf_session()\n",
    "\n",
    "model = Sequential()  # it is a feed-forward network without loops like in RNN\n",
    "model.add(Dense(256, input_shape=(784,)))  # the first layer must specify the input shape (replacing placeholders)\n",
    "model.add(Activation('sigmoid'))\n",
    "model.add(Dense(256))\n",
    "model.add(Activation('sigmoid'))\n",
    "model.add(Dense(10))\n",
    "model.add(Activation('softmax'))"
   ]
  },
  {
   "cell_type": "code",
   "execution_count": 15,
   "metadata": {},
   "outputs": [
    {
     "name": "stdout",
     "output_type": "stream",
     "text": [
      "Model: \"sequential_1\"\n",
      "_________________________________________________________________\n",
      "Layer (type)                 Output Shape              Param #   \n",
      "=================================================================\n",
      "dense_1 (Dense)              (None, 256)               200960    \n",
      "_________________________________________________________________\n",
      "activation_1 (Activation)    (None, 256)               0         \n",
      "_________________________________________________________________\n",
      "dense_2 (Dense)              (None, 256)               65792     \n",
      "_________________________________________________________________\n",
      "activation_2 (Activation)    (None, 256)               0         \n",
      "_________________________________________________________________\n",
      "dense_3 (Dense)              (None, 10)                2570      \n",
      "_________________________________________________________________\n",
      "activation_3 (Activation)    (None, 10)                0         \n",
      "=================================================================\n",
      "Total params: 269,322\n",
      "Trainable params: 269,322\n",
      "Non-trainable params: 0\n",
      "_________________________________________________________________\n"
     ]
    }
   ],
   "source": [
    "# spectate the params\n",
    "model.summary()"
   ]
  },
  {
   "cell_type": "code",
   "execution_count": 16,
   "metadata": {},
   "outputs": [],
   "source": [
    "# now we \"compile\" the model specifying the loss and optimizer\n",
    "model.compile(\n",
    "    loss='categorical_crossentropy', # this is our cross-entropy\n",
    "    optimizer='adam',\n",
    "    metrics=['accuracy']  # report accuracy during training\n",
    ")"
   ]
  },
  {
   "cell_type": "code",
   "execution_count": 17,
   "metadata": {
    "collapsed": true
   },
   "outputs": [
    {
     "name": "stdout",
     "output_type": "stream",
     "text": [
      "\n",
      "Epoch 1/40\n"
     ]
    },
    {
     "data": {
      "application/vnd.jupyter.widget-view+json": {
       "model_id": "1ec65a293a7c46d0b23cb10f75426072",
       "version_major": 2,
       "version_minor": 0
      },
      "text/plain": [
       "HBox(children=(IntProgress(value=1, bar_style='info', max=1), HTML(value='')))"
      ]
     },
     "metadata": {},
     "output_type": "display_data"
    },
    {
     "name": "stdout",
     "output_type": "stream",
     "text": [
      "\n",
      "\n",
      "Epoch 2/40\n"
     ]
    },
    {
     "data": {
      "application/vnd.jupyter.widget-view+json": {
       "model_id": "441e582d95774b33893cfc30256a161d",
       "version_major": 2,
       "version_minor": 0
      },
      "text/plain": [
       "HBox(children=(IntProgress(value=1, bar_style='info', max=1), HTML(value='')))"
      ]
     },
     "metadata": {},
     "output_type": "display_data"
    },
    {
     "name": "stdout",
     "output_type": "stream",
     "text": [
      "\n",
      "\n",
      "Epoch 3/40\n"
     ]
    },
    {
     "data": {
      "application/vnd.jupyter.widget-view+json": {
       "model_id": "e968f4a4d85142908696608f0f940da7",
       "version_major": 2,
       "version_minor": 0
      },
      "text/plain": [
       "HBox(children=(IntProgress(value=1, bar_style='info', max=1), HTML(value='')))"
      ]
     },
     "metadata": {},
     "output_type": "display_data"
    },
    {
     "name": "stdout",
     "output_type": "stream",
     "text": [
      "\n",
      "\n",
      "Epoch 4/40\n"
     ]
    },
    {
     "data": {
      "application/vnd.jupyter.widget-view+json": {
       "model_id": "3a02d6a9e0c548d18f6bb09035e48e53",
       "version_major": 2,
       "version_minor": 0
      },
      "text/plain": [
       "HBox(children=(IntProgress(value=1, bar_style='info', max=1), HTML(value='')))"
      ]
     },
     "metadata": {},
     "output_type": "display_data"
    },
    {
     "name": "stdout",
     "output_type": "stream",
     "text": [
      "\n",
      "\n",
      "Epoch 5/40\n"
     ]
    },
    {
     "data": {
      "application/vnd.jupyter.widget-view+json": {
       "model_id": "85c14be63a5e4ba287a793817e0007f1",
       "version_major": 2,
       "version_minor": 0
      },
      "text/plain": [
       "HBox(children=(IntProgress(value=1, bar_style='info', max=1), HTML(value='')))"
      ]
     },
     "metadata": {},
     "output_type": "display_data"
    },
    {
     "name": "stdout",
     "output_type": "stream",
     "text": [
      "\n",
      "\n",
      "Epoch 6/40\n"
     ]
    },
    {
     "data": {
      "application/vnd.jupyter.widget-view+json": {
       "model_id": "f4cb0d5fe46d40f18df5d264e7755d73",
       "version_major": 2,
       "version_minor": 0
      },
      "text/plain": [
       "HBox(children=(IntProgress(value=1, bar_style='info', max=1), HTML(value='')))"
      ]
     },
     "metadata": {},
     "output_type": "display_data"
    },
    {
     "name": "stdout",
     "output_type": "stream",
     "text": [
      "\n",
      "\n",
      "Epoch 7/40\n"
     ]
    },
    {
     "data": {
      "application/vnd.jupyter.widget-view+json": {
       "model_id": "f61e68e2b4b148d5a9f5498b46fe97f7",
       "version_major": 2,
       "version_minor": 0
      },
      "text/plain": [
       "HBox(children=(IntProgress(value=1, bar_style='info', max=1), HTML(value='')))"
      ]
     },
     "metadata": {},
     "output_type": "display_data"
    },
    {
     "name": "stdout",
     "output_type": "stream",
     "text": [
      "\n",
      "\n",
      "Epoch 8/40\n"
     ]
    },
    {
     "data": {
      "application/vnd.jupyter.widget-view+json": {
       "model_id": "9a802af4c0cf490b833ad5fec806ab40",
       "version_major": 2,
       "version_minor": 0
      },
      "text/plain": [
       "HBox(children=(IntProgress(value=1, bar_style='info', max=1), HTML(value='')))"
      ]
     },
     "metadata": {},
     "output_type": "display_data"
    },
    {
     "name": "stdout",
     "output_type": "stream",
     "text": [
      "\n",
      "\n",
      "Epoch 9/40\n"
     ]
    },
    {
     "data": {
      "application/vnd.jupyter.widget-view+json": {
       "model_id": "203c2c73824144e0b7666dcab5ee863e",
       "version_major": 2,
       "version_minor": 0
      },
      "text/plain": [
       "HBox(children=(IntProgress(value=1, bar_style='info', max=1), HTML(value='')))"
      ]
     },
     "metadata": {},
     "output_type": "display_data"
    },
    {
     "name": "stdout",
     "output_type": "stream",
     "text": [
      "\n",
      "\n",
      "Epoch 10/40\n"
     ]
    },
    {
     "data": {
      "application/vnd.jupyter.widget-view+json": {
       "model_id": "70ee14df55b74252a530894510117427",
       "version_major": 2,
       "version_minor": 0
      },
      "text/plain": [
       "HBox(children=(IntProgress(value=1, bar_style='info', max=1), HTML(value='')))"
      ]
     },
     "metadata": {},
     "output_type": "display_data"
    },
    {
     "name": "stdout",
     "output_type": "stream",
     "text": [
      "\n",
      "\n",
      "Epoch 11/40\n"
     ]
    },
    {
     "data": {
      "application/vnd.jupyter.widget-view+json": {
       "model_id": "1cb57fd13fc7403580c8a7da6d4606d9",
       "version_major": 2,
       "version_minor": 0
      },
      "text/plain": [
       "HBox(children=(IntProgress(value=1, bar_style='info', max=1), HTML(value='')))"
      ]
     },
     "metadata": {},
     "output_type": "display_data"
    },
    {
     "name": "stdout",
     "output_type": "stream",
     "text": [
      "\n",
      "\n",
      "Epoch 12/40\n"
     ]
    },
    {
     "data": {
      "application/vnd.jupyter.widget-view+json": {
       "model_id": "b570bdbac36347d5942d8e8df8abf239",
       "version_major": 2,
       "version_minor": 0
      },
      "text/plain": [
       "HBox(children=(IntProgress(value=1, bar_style='info', max=1), HTML(value='')))"
      ]
     },
     "metadata": {},
     "output_type": "display_data"
    },
    {
     "name": "stdout",
     "output_type": "stream",
     "text": [
      "\n",
      "\n",
      "Epoch 13/40\n"
     ]
    },
    {
     "data": {
      "application/vnd.jupyter.widget-view+json": {
       "model_id": "fe06eadc12a54e5e83e90b993fd54c6f",
       "version_major": 2,
       "version_minor": 0
      },
      "text/plain": [
       "HBox(children=(IntProgress(value=1, bar_style='info', max=1), HTML(value='')))"
      ]
     },
     "metadata": {},
     "output_type": "display_data"
    },
    {
     "name": "stdout",
     "output_type": "stream",
     "text": [
      "\n",
      "\n",
      "Epoch 14/40\n"
     ]
    },
    {
     "data": {
      "application/vnd.jupyter.widget-view+json": {
       "model_id": "2a4f51dc41c245b69e57b74aab27a6ae",
       "version_major": 2,
       "version_minor": 0
      },
      "text/plain": [
       "HBox(children=(IntProgress(value=1, bar_style='info', max=1), HTML(value='')))"
      ]
     },
     "metadata": {},
     "output_type": "display_data"
    },
    {
     "name": "stdout",
     "output_type": "stream",
     "text": [
      "\n",
      "\n",
      "Epoch 15/40\n"
     ]
    },
    {
     "data": {
      "application/vnd.jupyter.widget-view+json": {
       "model_id": "c34bd8af47154f06b2f13b1e46aaaefe",
       "version_major": 2,
       "version_minor": 0
      },
      "text/plain": [
       "HBox(children=(IntProgress(value=1, bar_style='info', max=1), HTML(value='')))"
      ]
     },
     "metadata": {},
     "output_type": "display_data"
    },
    {
     "name": "stdout",
     "output_type": "stream",
     "text": [
      "\n",
      "\n",
      "Epoch 16/40\n"
     ]
    },
    {
     "data": {
      "application/vnd.jupyter.widget-view+json": {
       "model_id": "b682ab3b30de4449868d5bef5188f488",
       "version_major": 2,
       "version_minor": 0
      },
      "text/plain": [
       "HBox(children=(IntProgress(value=1, bar_style='info', max=1), HTML(value='')))"
      ]
     },
     "metadata": {},
     "output_type": "display_data"
    },
    {
     "name": "stdout",
     "output_type": "stream",
     "text": [
      "\n",
      "\n",
      "Epoch 17/40\n"
     ]
    },
    {
     "data": {
      "application/vnd.jupyter.widget-view+json": {
       "model_id": "e65f19cf8b3d4f6a947c82dc5a234046",
       "version_major": 2,
       "version_minor": 0
      },
      "text/plain": [
       "HBox(children=(IntProgress(value=1, bar_style='info', max=1), HTML(value='')))"
      ]
     },
     "metadata": {},
     "output_type": "display_data"
    },
    {
     "name": "stdout",
     "output_type": "stream",
     "text": [
      "\n",
      "\n",
      "Epoch 18/40\n"
     ]
    },
    {
     "data": {
      "application/vnd.jupyter.widget-view+json": {
       "model_id": "92496db6db1b42c6993e42f7208eb1e4",
       "version_major": 2,
       "version_minor": 0
      },
      "text/plain": [
       "HBox(children=(IntProgress(value=1, bar_style='info', max=1), HTML(value='')))"
      ]
     },
     "metadata": {},
     "output_type": "display_data"
    },
    {
     "name": "stdout",
     "output_type": "stream",
     "text": [
      "\n",
      "\n",
      "Epoch 19/40\n"
     ]
    },
    {
     "data": {
      "application/vnd.jupyter.widget-view+json": {
       "model_id": "984aec15dc2c4f9389efc875d7bd281a",
       "version_major": 2,
       "version_minor": 0
      },
      "text/plain": [
       "HBox(children=(IntProgress(value=1, bar_style='info', max=1), HTML(value='')))"
      ]
     },
     "metadata": {},
     "output_type": "display_data"
    },
    {
     "name": "stdout",
     "output_type": "stream",
     "text": [
      "\n",
      "\n",
      "Epoch 20/40\n"
     ]
    },
    {
     "data": {
      "application/vnd.jupyter.widget-view+json": {
       "model_id": "1e4ca2d919d74ab3925bf1d722203645",
       "version_major": 2,
       "version_minor": 0
      },
      "text/plain": [
       "HBox(children=(IntProgress(value=1, bar_style='info', max=1), HTML(value='')))"
      ]
     },
     "metadata": {},
     "output_type": "display_data"
    },
    {
     "name": "stdout",
     "output_type": "stream",
     "text": [
      "\n",
      "\n",
      "Epoch 21/40\n"
     ]
    },
    {
     "data": {
      "application/vnd.jupyter.widget-view+json": {
       "model_id": "27017a5bc6664758889e10ab5de6d3b9",
       "version_major": 2,
       "version_minor": 0
      },
      "text/plain": [
       "HBox(children=(IntProgress(value=1, bar_style='info', max=1), HTML(value='')))"
      ]
     },
     "metadata": {},
     "output_type": "display_data"
    },
    {
     "name": "stdout",
     "output_type": "stream",
     "text": [
      "\n",
      "\n",
      "Epoch 22/40\n"
     ]
    },
    {
     "data": {
      "application/vnd.jupyter.widget-view+json": {
       "model_id": "480c91b15cf6475ab20bec957724d871",
       "version_major": 2,
       "version_minor": 0
      },
      "text/plain": [
       "HBox(children=(IntProgress(value=1, bar_style='info', max=1), HTML(value='')))"
      ]
     },
     "metadata": {},
     "output_type": "display_data"
    },
    {
     "name": "stdout",
     "output_type": "stream",
     "text": [
      "\n",
      "\n",
      "Epoch 23/40\n"
     ]
    },
    {
     "data": {
      "application/vnd.jupyter.widget-view+json": {
       "model_id": "c59e3a087f974a18afd035519cb5b4cc",
       "version_major": 2,
       "version_minor": 0
      },
      "text/plain": [
       "HBox(children=(IntProgress(value=1, bar_style='info', max=1), HTML(value='')))"
      ]
     },
     "metadata": {},
     "output_type": "display_data"
    },
    {
     "name": "stdout",
     "output_type": "stream",
     "text": [
      "\n",
      "\n",
      "Epoch 24/40\n"
     ]
    },
    {
     "data": {
      "application/vnd.jupyter.widget-view+json": {
       "model_id": "34ee8d9fc65743eeb427e137a9ca7260",
       "version_major": 2,
       "version_minor": 0
      },
      "text/plain": [
       "HBox(children=(IntProgress(value=1, bar_style='info', max=1), HTML(value='')))"
      ]
     },
     "metadata": {},
     "output_type": "display_data"
    },
    {
     "name": "stdout",
     "output_type": "stream",
     "text": [
      "\n",
      "\n",
      "Epoch 25/40\n"
     ]
    },
    {
     "data": {
      "application/vnd.jupyter.widget-view+json": {
       "model_id": "d80bb7e06b9f4864a1540481fae89264",
       "version_major": 2,
       "version_minor": 0
      },
      "text/plain": [
       "HBox(children=(IntProgress(value=1, bar_style='info', max=1), HTML(value='')))"
      ]
     },
     "metadata": {},
     "output_type": "display_data"
    },
    {
     "name": "stdout",
     "output_type": "stream",
     "text": [
      "\n",
      "\n",
      "Epoch 26/40\n"
     ]
    },
    {
     "data": {
      "application/vnd.jupyter.widget-view+json": {
       "model_id": "fab94ed694764a668363e015967ecfc2",
       "version_major": 2,
       "version_minor": 0
      },
      "text/plain": [
       "HBox(children=(IntProgress(value=1, bar_style='info', max=1), HTML(value='')))"
      ]
     },
     "metadata": {},
     "output_type": "display_data"
    },
    {
     "name": "stdout",
     "output_type": "stream",
     "text": [
      "\n",
      "\n",
      "Epoch 27/40\n"
     ]
    },
    {
     "data": {
      "application/vnd.jupyter.widget-view+json": {
       "model_id": "6f2e336c60034bbaa31191a0f180277b",
       "version_major": 2,
       "version_minor": 0
      },
      "text/plain": [
       "HBox(children=(IntProgress(value=1, bar_style='info', max=1), HTML(value='')))"
      ]
     },
     "metadata": {},
     "output_type": "display_data"
    },
    {
     "name": "stdout",
     "output_type": "stream",
     "text": [
      "\n",
      "\n",
      "Epoch 28/40\n"
     ]
    },
    {
     "data": {
      "application/vnd.jupyter.widget-view+json": {
       "model_id": "37466e339cc74978903d551cb56e7992",
       "version_major": 2,
       "version_minor": 0
      },
      "text/plain": [
       "HBox(children=(IntProgress(value=1, bar_style='info', max=1), HTML(value='')))"
      ]
     },
     "metadata": {},
     "output_type": "display_data"
    },
    {
     "name": "stdout",
     "output_type": "stream",
     "text": [
      "\n",
      "\n",
      "Epoch 29/40\n"
     ]
    },
    {
     "data": {
      "application/vnd.jupyter.widget-view+json": {
       "model_id": "04848a49b17e474aa6a756d11e74d0be",
       "version_major": 2,
       "version_minor": 0
      },
      "text/plain": [
       "HBox(children=(IntProgress(value=1, bar_style='info', max=1), HTML(value='')))"
      ]
     },
     "metadata": {},
     "output_type": "display_data"
    },
    {
     "name": "stdout",
     "output_type": "stream",
     "text": [
      "\n",
      "\n",
      "Epoch 30/40\n"
     ]
    },
    {
     "data": {
      "application/vnd.jupyter.widget-view+json": {
       "model_id": "af9372f182544dff8f8e488247b392fc",
       "version_major": 2,
       "version_minor": 0
      },
      "text/plain": [
       "HBox(children=(IntProgress(value=1, bar_style='info', max=1), HTML(value='')))"
      ]
     },
     "metadata": {},
     "output_type": "display_data"
    },
    {
     "name": "stdout",
     "output_type": "stream",
     "text": [
      "\n",
      "\n",
      "Epoch 31/40\n"
     ]
    },
    {
     "data": {
      "application/vnd.jupyter.widget-view+json": {
       "model_id": "f28910f8bb234847a64428524a8ab064",
       "version_major": 2,
       "version_minor": 0
      },
      "text/plain": [
       "HBox(children=(IntProgress(value=1, bar_style='info', max=1), HTML(value='')))"
      ]
     },
     "metadata": {},
     "output_type": "display_data"
    },
    {
     "name": "stdout",
     "output_type": "stream",
     "text": [
      "\n",
      "\n",
      "Epoch 32/40\n"
     ]
    },
    {
     "data": {
      "application/vnd.jupyter.widget-view+json": {
       "model_id": "09a923a41d4a4fd4a0c92e91e94e3597",
       "version_major": 2,
       "version_minor": 0
      },
      "text/plain": [
       "HBox(children=(IntProgress(value=1, bar_style='info', max=1), HTML(value='')))"
      ]
     },
     "metadata": {},
     "output_type": "display_data"
    },
    {
     "name": "stdout",
     "output_type": "stream",
     "text": [
      "\n",
      "\n",
      "Epoch 33/40\n"
     ]
    },
    {
     "data": {
      "application/vnd.jupyter.widget-view+json": {
       "model_id": "7d8ac73c81ea4d66a607f9bd1699b14e",
       "version_major": 2,
       "version_minor": 0
      },
      "text/plain": [
       "HBox(children=(IntProgress(value=1, bar_style='info', max=1), HTML(value='')))"
      ]
     },
     "metadata": {},
     "output_type": "display_data"
    },
    {
     "name": "stdout",
     "output_type": "stream",
     "text": [
      "\n",
      "\n",
      "Epoch 34/40\n"
     ]
    },
    {
     "data": {
      "application/vnd.jupyter.widget-view+json": {
       "model_id": "657fb823eb2f494a8dd590aac0bb6249",
       "version_major": 2,
       "version_minor": 0
      },
      "text/plain": [
       "HBox(children=(IntProgress(value=1, bar_style='info', max=1), HTML(value='')))"
      ]
     },
     "metadata": {},
     "output_type": "display_data"
    },
    {
     "name": "stdout",
     "output_type": "stream",
     "text": [
      "\n",
      "\n",
      "Epoch 35/40\n"
     ]
    },
    {
     "data": {
      "application/vnd.jupyter.widget-view+json": {
       "model_id": "53dcfc8d495d46f1bec091dccd1a1159",
       "version_major": 2,
       "version_minor": 0
      },
      "text/plain": [
       "HBox(children=(IntProgress(value=1, bar_style='info', max=1), HTML(value='')))"
      ]
     },
     "metadata": {},
     "output_type": "display_data"
    },
    {
     "name": "stdout",
     "output_type": "stream",
     "text": [
      "\n",
      "\n",
      "Epoch 36/40\n"
     ]
    },
    {
     "data": {
      "application/vnd.jupyter.widget-view+json": {
       "model_id": "c7730321a3624579a017382655bd103c",
       "version_major": 2,
       "version_minor": 0
      },
      "text/plain": [
       "HBox(children=(IntProgress(value=1, bar_style='info', max=1), HTML(value='')))"
      ]
     },
     "metadata": {},
     "output_type": "display_data"
    },
    {
     "name": "stdout",
     "output_type": "stream",
     "text": [
      "\n",
      "\n",
      "Epoch 37/40\n"
     ]
    },
    {
     "data": {
      "application/vnd.jupyter.widget-view+json": {
       "model_id": "b7339807e91a48f9a1ef1364bb73b0f7",
       "version_major": 2,
       "version_minor": 0
      },
      "text/plain": [
       "HBox(children=(IntProgress(value=1, bar_style='info', max=1), HTML(value='')))"
      ]
     },
     "metadata": {},
     "output_type": "display_data"
    },
    {
     "name": "stdout",
     "output_type": "stream",
     "text": [
      "\n",
      "\n",
      "Epoch 38/40\n"
     ]
    },
    {
     "data": {
      "application/vnd.jupyter.widget-view+json": {
       "model_id": "b167fafb709541c1b7bed1b8dac0b972",
       "version_major": 2,
       "version_minor": 0
      },
      "text/plain": [
       "HBox(children=(IntProgress(value=1, bar_style='info', max=1), HTML(value='')))"
      ]
     },
     "metadata": {},
     "output_type": "display_data"
    },
    {
     "name": "stdout",
     "output_type": "stream",
     "text": [
      "\n",
      "\n",
      "Epoch 39/40\n"
     ]
    },
    {
     "data": {
      "application/vnd.jupyter.widget-view+json": {
       "model_id": "bb8447476c8f468ca92b4f1fa675d20b",
       "version_major": 2,
       "version_minor": 0
      },
      "text/plain": [
       "HBox(children=(IntProgress(value=1, bar_style='info', max=1), HTML(value='')))"
      ]
     },
     "metadata": {},
     "output_type": "display_data"
    },
    {
     "name": "stdout",
     "output_type": "stream",
     "text": [
      "\n",
      "\n",
      "Epoch 40/40\n"
     ]
    },
    {
     "data": {
      "application/vnd.jupyter.widget-view+json": {
       "model_id": "c14f49ebd4734584b3595c519c10d186",
       "version_major": 2,
       "version_minor": 0
      },
      "text/plain": [
       "HBox(children=(IntProgress(value=1, bar_style='info', max=1), HTML(value='')))"
      ]
     },
     "metadata": {},
     "output_type": "display_data"
    },
    {
     "name": "stdout",
     "output_type": "stream",
     "text": [
      "\n"
     ]
    },
    {
     "data": {
      "text/plain": [
       "<keras.callbacks.callbacks.History at 0x2a61201d748>"
      ]
     },
     "execution_count": 17,
     "metadata": {},
     "output_type": "execute_result"
    }
   ],
   "source": [
    "# and now we can fit the model with model.fit()\n",
    "# and we don't have to write loops and batching manually as in TensorFlow\n",
    "model.fit(\n",
    "    X_train_flat, \n",
    "    y_train_oh,\n",
    "    batch_size=512, \n",
    "    epochs=40,\n",
    "    validation_data=(X_val_flat, y_val_oh),\n",
    "    callbacks=[keras_utils.TqdmProgressCallback()],\n",
    "    verbose=0\n",
    ")"
   ]
  },
  {
   "cell_type": "markdown",
   "metadata": {},
   "source": [
    "# Here're the notes for those who want to play around here\n",
    "\n",
    "Here are some tips on what you could do:\n",
    "\n",
    " * __Network size__\n",
    "   * More neurons, \n",
    "   * More layers, ([docs](https://keras.io/))\n",
    "\n",
    "   * Other nonlinearities in the hidden layers\n",
    "     * tanh, relu, leaky relu, etc\n",
    "   * Larger networks may take more epochs to train, so don't discard your net just because it could didn't beat the baseline in 5 epochs.\n",
    "\n",
    "\n",
    " * __Early Stopping__\n",
    "   * Training for 100 epochs regardless of anything is probably a bad idea.\n",
    "   * Some networks converge over 5 epochs, others - over 500.\n",
    "   * Way to go: stop when validation score is 10 iterations past maximum\n",
    "     \n",
    "\n",
    " * __Faster optimization__\n",
    "   * rmsprop, nesterov_momentum, adam, adagrad and so on.\n",
    "     * Converge faster and sometimes reach better optima\n",
    "     * It might make sense to tweak learning rate/momentum, other learning parameters, batch size and number of epochs\n",
    "\n",
    "\n",
    " * __Regularize__ to prevent overfitting\n",
    "   * Add some L2 weight norm to the loss function, theano will do the rest\n",
    "     * Can be done manually or via - https://keras.io/regularizers/\n",
    "   \n",
    "   \n",
    " * __Data augmemntation__ - getting 5x as large dataset for free is a great deal\n",
    "   * https://keras.io/preprocessing/image/\n",
    "   * Zoom-in+slice = move\n",
    "   * Rotate+zoom(to remove black stripes)\n",
    "   * any other perturbations\n",
    "   * Simple way to do that (if you have PIL/Image): \n",
    "     * ```from scipy.misc import imrotate,imresize```\n",
    "     * and a few slicing\n",
    "   * Stay realistic. There's usually no point in flipping dogs upside down as that is not the way you usually see them."
   ]
  },
  {
   "cell_type": "code",
   "execution_count": null,
   "metadata": {},
   "outputs": [],
   "source": []
  }
 ],
 "metadata": {
  "kernelspec": {
   "display_name": "Python 3",
   "language": "python",
   "name": "python3"
  },
  "language_info": {
   "codemirror_mode": {
    "name": "ipython",
    "version": 3
   },
   "file_extension": ".py",
   "mimetype": "text/x-python",
   "name": "python",
   "nbconvert_exporter": "python",
   "pygments_lexer": "ipython3",
   "version": "3.7.4"
  }
 },
 "nbformat": 4,
 "nbformat_minor": 1
}
